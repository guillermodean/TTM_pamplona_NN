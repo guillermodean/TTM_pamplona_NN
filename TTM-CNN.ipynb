{
 "cells": [
  {
   "cell_type": "code",
   "execution_count": 489,
   "metadata": {},
   "outputs": [],
   "source": [
    "#to install with pip tensorflow i had to change the registry value for longpaths.\n",
    "import pandas as pd\n",
    "import matplotlib.pyplot as plt\n",
    "import re\n",
    "from sklearn.preprocessing import   LabelEncoder\n",
    "from sklearn.linear_model import LogisticRegression\n",
    "import numpy as np\n",
    "import sklearn"
   ]
  },
  {
   "cell_type": "markdown",
   "metadata": {},
   "source": [
    "## Procesamiento y exploracion de datos\n",
    "\n",
    "Leedmos el conjunto de datos que esta guardado en data"
   ]
  },
  {
   "cell_type": "code",
   "execution_count": 490,
   "metadata": {},
   "outputs": [
    {
     "name": "stderr",
     "output_type": "stream",
     "text": [
      "C:\\ProgramData\\Anaconda3\\lib\\site-packages\\IPython\\core\\interactiveshell.py:3165: DtypeWarning: Columns (45,46,63) have mixed types.Specify dtype option on import or set low_memory=False.\n",
      "  has_raised = await self.run_ast_nodes(code_ast.body, cell_name,\n"
     ]
    }
   ],
   "source": [
    "df=pd.read_csv('data/Results_TTM.csv',sep=\";\",header=0)\n",
    "df=df.drop(columns=[\"Step status\",\"Current trend\",\"Torque rate min\",\"Torque rate max\",\"Torque rate trend\",\"CVILOGIX\",\"Identifier6\",\"Identifier7\",\"Identifier8\",\"Identifier9\",\"Identifier10\",\"Second transducer torque deviation\",\"Second transducer angle deviation\",\"Result type\",\"Pulse counter\",\"Angle offset\",\"AO torque rate\"])"
   ]
  },
  {
   "cell_type": "code",
   "execution_count": 491,
   "metadata": {},
   "outputs": [
    {
     "name": "stdout",
     "output_type": "stream",
     "text": [
      "<bound method NDFrame.describe of        Result status Tool status  Result number            Time result  \\\n",
      "0                 OK          OK         613029  2020-12-10 23:59:12.0   \n",
      "1                 OK          OK         613028  2020-12-10 23:59:08.0   \n",
      "2                 OK          OK         613027  2020-12-10 23:58:56.0   \n",
      "3                 OK          OK         613026  2020-12-10 23:58:48.0   \n",
      "4                 OK          OK         613025  2020-12-10 23:58:41.0   \n",
      "...              ...         ...            ...                    ...   \n",
      "399995            OK          OK         286841  2020-09-29 18:51:08.0   \n",
      "399996            OK          OK         286840  2020-09-29 18:51:03.0   \n",
      "399997            OK          OK         760759  2020-09-29 18:50:45.0   \n",
      "399998            OK          OK         487287  2020-09-29 18:50:40.0   \n",
      "399999            OK          OK         356116  2020-09-29 18:50:37.0   \n",
      "\n",
      "        Pset ID  Step ID Error Code     Stop source  Torque min  Torque  ...  \\\n",
      "0          10.0      1.0        NaN  Target reached        18.0  20.126  ...   \n",
      "1           9.0      1.0        NaN  Target reached        18.0  20.090  ...   \n",
      "2           3.0      1.0        NaN  Target reached        20.0  22.219  ...   \n",
      "3           3.0      1.0        NaN  Target reached        20.0  22.138  ...   \n",
      "4           3.0      1.0        NaN  Target reached        20.0  22.073  ...   \n",
      "...         ...      ...        ...             ...         ...     ...  ...   \n",
      "399995      5.0      1.0        NaN  Target reached        20.0  22.422  ...   \n",
      "399996      5.0      1.0        NaN  Target reached        20.0  22.154  ...   \n",
      "399997     16.0      1.0        NaN  Target reached         8.0  10.049  ...   \n",
      "399998     21.0      1.0        NaN  Target reached         3.5   4.543  ...   \n",
      "399999     18.0      1.0        NaN  Target reached        35.0  37.966  ...   \n",
      "\n",
      "        Batch         Identifier1        Identifier2  Identifier3  \\\n",
      "0        1(0)                 NaN                NaN          NaN   \n",
      "1        1(0)                 NaN                NaN          NaN   \n",
      "2        1(0)                 NaN                NaN          NaN   \n",
      "3        1(0)                 NaN                NaN          NaN   \n",
      "4        1(0)                 NaN                NaN          NaN   \n",
      "...       ...                 ...                ...          ...   \n",
      "399995   2(2)  #######89161-05/00  552001922428000.0       2362.0   \n",
      "399996   1(2)  #######89161-05/00  552001922428000.0       2362.0   \n",
      "399997   1(0)                 NaN                NaN          NaN   \n",
      "399998   1(0)                 NaN                NaN          NaN   \n",
      "399999   1(0)                 NaN                NaN          NaN   \n",
      "\n",
      "        Identifier4 Identifier5  Torque (monitoring)  Angle (monitoring)  \\\n",
      "0               NaN         NaN                  ---                 ---   \n",
      "1               NaN         NaN                  ---                 ---   \n",
      "2               NaN         NaN                  ---                 ---   \n",
      "3               NaN         NaN                  ---                 ---   \n",
      "4               NaN         NaN                  ---                 ---   \n",
      "...             ...         ...                  ...                 ...   \n",
      "399995          NaN         NaN                  ---                 ---   \n",
      "399996          NaN         NaN                  ---                 ---   \n",
      "399997          NaN         NaN                  ---                 ---   \n",
      "399998          NaN         NaN                  ---                 ---   \n",
      "399999          NaN         NaN                  ---                 ---   \n",
      "\n",
      "        Controlling transducer  Angle Threshold   \n",
      "0                            0              10.0  \n",
      "1                            0              10.0  \n",
      "2                            0              11.0  \n",
      "3                            0              11.0  \n",
      "4                            0              11.0  \n",
      "...                        ...               ...  \n",
      "399995                       0               7.0  \n",
      "399996                       0               7.0  \n",
      "399997                       0               4.0  \n",
      "399998                       0               3.7  \n",
      "399999                       0              19.0  \n",
      "\n",
      "[400000 rows x 47 columns]>\n"
     ]
    }
   ],
   "source": [
    "print(df.describe)\n",
    "df=df[['Result status','Result number','Time result','Pset ID','Step ID','Error Code', 'Torque min','Torque','Torque max','Angle min','Angle','Angle max','Pset name','VIN','Identifier1','Identifier2','Identifier3','Identifier4','Identifier5']]"
   ]
  },
  {
   "cell_type": "markdown",
   "metadata": {},
   "source": [
    "Nos quedamos con las columnas que tienen valores interesante y eliminamos todas las columnas que contienen muchos nulos"
   ]
  },
  {
   "cell_type": "code",
   "execution_count": 492,
   "metadata": {},
   "outputs": [
    {
     "name": "stdout",
     "output_type": "stream",
     "text": [
      "<class 'pandas.core.frame.DataFrame'>\n",
      "RangeIndex: 400000 entries, 0 to 399999\n",
      "Data columns (total 19 columns):\n",
      " #   Column         Non-Null Count   Dtype  \n",
      "---  ------         --------------   -----  \n",
      " 0   Result status  400000 non-null  object \n",
      " 1   Result number  400000 non-null  int64  \n",
      " 2   Time result    400000 non-null  object \n",
      " 3   Pset ID        399901 non-null  float64\n",
      " 4   Step ID        399901 non-null  float64\n",
      " 5   Error Code     22688 non-null   object \n",
      " 6   Torque min     399901 non-null  float64\n",
      " 7   Torque         400000 non-null  float64\n",
      " 8   Torque max     399901 non-null  float64\n",
      " 9   Angle min      399901 non-null  float64\n",
      " 10  Angle          400000 non-null  float64\n",
      " 11  Angle max      399901 non-null  float64\n",
      " 12  Pset name      399901 non-null  object \n",
      " 13  VIN            172013 non-null  object \n",
      " 14  Identifier1    172013 non-null  object \n",
      " 15  Identifier2    170608 non-null  object \n",
      " 16  Identifier3    168406 non-null  object \n",
      " 17  Identifier4    13920 non-null   object \n",
      " 18  Identifier5    12363 non-null   object \n",
      "dtypes: float64(8), int64(1), object(10)\n",
      "memory usage: 58.0+ MB\n"
     ]
    }
   ],
   "source": [
    "df.info()"
   ]
  },
  {
   "cell_type": "markdown",
   "metadata": {},
   "source": [
    "Tenombramos las columnas para eliminar los espacios."
   ]
  },
  {
   "cell_type": "code",
   "execution_count": 493,
   "metadata": {},
   "outputs": [],
   "source": [
    "df=df.rename(columns={\"Result status\":\"Result_status\",\"Result number\":\"Result_number\",\"Pset ID\":\"Pset_ID\",\"Step ID\":\"Step_ID\",\"Torque min\":\"Torque_min\",\"Torque max\":\"Torque_max\",\"Angle min\":\"Angle_min\",\"Angle max\":\"Angle_max\",\"Pset name\":\"Pset_name\",'Error code':'Error_code','Result_status':'Result_status','Time result':'Time_result'})\n"
   ]
  },
  {
   "cell_type": "markdown",
   "metadata": {},
   "source": [
    "Vamos a mirar a ver cuales de los pares son NOK, filtramos la columna de resultado"
   ]
  },
  {
   "cell_type": "code",
   "execution_count": 494,
   "metadata": {},
   "outputs": [
    {
     "name": "stdout",
     "output_type": "stream",
     "text": [
      "<class 'pandas.core.frame.DataFrame'>\n",
      "Int64Index: 22568 entries, 34 to 399969\n",
      "Data columns (total 19 columns):\n",
      " #   Column         Non-Null Count  Dtype  \n",
      "---  ------         --------------  -----  \n",
      " 0   Result_status  22568 non-null  object \n",
      " 1   Result_number  22568 non-null  int64  \n",
      " 2   Time_result    22568 non-null  object \n",
      " 3   Pset_ID        22568 non-null  float64\n",
      " 4   Step_ID        22568 non-null  float64\n",
      " 5   Error Code     22568 non-null  object \n",
      " 6   Torque_min     22568 non-null  float64\n",
      " 7   Torque         22568 non-null  float64\n",
      " 8   Torque_max     22568 non-null  float64\n",
      " 9   Angle_min      22568 non-null  float64\n",
      " 10  Angle          22568 non-null  float64\n",
      " 11  Angle_max      22568 non-null  float64\n",
      " 12  Pset_name      22568 non-null  object \n",
      " 13  VIN            9477 non-null   object \n",
      " 14  Identifier1    9477 non-null   object \n",
      " 15  Identifier2    9289 non-null   object \n",
      " 16  Identifier3    9301 non-null   object \n",
      " 17  Identifier4    1431 non-null   object \n",
      " 18  Identifier5    1354 non-null   object \n",
      "dtypes: float64(8), int64(1), object(10)\n",
      "memory usage: 3.4+ MB\n"
     ]
    }
   ],
   "source": [
    "df_nok=df[df['Result_status'].str.contains(\"NOK\")]\n",
    "df_nok.info()"
   ]
  },
  {
   "cell_type": "code",
   "execution_count": 495,
   "metadata": {},
   "outputs": [
    {
     "data": {
      "text/html": [
       "<div>\n",
       "<style scoped>\n",
       "    .dataframe tbody tr th:only-of-type {\n",
       "        vertical-align: middle;\n",
       "    }\n",
       "\n",
       "    .dataframe tbody tr th {\n",
       "        vertical-align: top;\n",
       "    }\n",
       "\n",
       "    .dataframe thead th {\n",
       "        text-align: right;\n",
       "    }\n",
       "</style>\n",
       "<table border=\"1\" class=\"dataframe\">\n",
       "  <thead>\n",
       "    <tr style=\"text-align: right;\">\n",
       "      <th></th>\n",
       "      <th>Result_status</th>\n",
       "    </tr>\n",
       "    <tr>\n",
       "      <th>Pset_name</th>\n",
       "      <th></th>\n",
       "    </tr>\n",
       "  </thead>\n",
       "  <tbody>\n",
       "    <tr>\n",
       "      <th>Seat frame front_35Nm</th>\n",
       "      <td>1109</td>\n",
       "    </tr>\n",
       "    <tr>\n",
       "      <th>Armrests 28Nm</th>\n",
       "      <td>990</td>\n",
       "    </tr>\n",
       "    <tr>\n",
       "      <th>Slides 22Nm TX40 ISC</th>\n",
       "      <td>920</td>\n",
       "    </tr>\n",
       "    <tr>\n",
       "      <th>Cross angle back - Swivel_22Nm</th>\n",
       "      <td>885</td>\n",
       "    </tr>\n",
       "    <tr>\n",
       "      <th>Seat frame assy_35Nm_2x59-2_ISC</th>\n",
       "      <td>877</td>\n",
       "    </tr>\n",
       "    <tr>\n",
       "      <th>...</th>\n",
       "      <td>...</td>\n",
       "    </tr>\n",
       "    <tr>\n",
       "      <th>Backrest segment 22Nm ISC_A_BAU</th>\n",
       "      <td>1</td>\n",
       "    </tr>\n",
       "    <tr>\n",
       "      <th>Poka Yoke Check_6xxx</th>\n",
       "      <td>1</td>\n",
       "    </tr>\n",
       "    <tr>\n",
       "      <th>Torque_35Nm</th>\n",
       "      <td>1</td>\n",
       "    </tr>\n",
       "    <tr>\n",
       "      <th>Cross static support to slides 22Nm ISC</th>\n",
       "      <td>1</td>\n",
       "    </tr>\n",
       "    <tr>\n",
       "      <th>Cushion slides_WOOD_10Nm+-2</th>\n",
       "      <td>1</td>\n",
       "    </tr>\n",
       "  </tbody>\n",
       "</table>\n",
       "<p>208 rows × 1 columns</p>\n",
       "</div>"
      ],
      "text/plain": [
       "                                         Result_status\n",
       "Pset_name                                             \n",
       "Seat frame front_35Nm                             1109\n",
       "Armrests 28Nm                                      990\n",
       "Slides 22Nm TX40 ISC                               920\n",
       "Cross angle back - Swivel_22Nm                     885\n",
       "Seat frame assy_35Nm_2x59-2_ISC                    877\n",
       "...                                                ...\n",
       "Backrest segment 22Nm ISC_A_BAU                      1\n",
       "Poka Yoke Check_6xxx                                 1\n",
       "Torque_35Nm                                          1\n",
       "Cross static support to slides 22Nm ISC              1\n",
       "Cushion slides_WOOD_10Nm+-2                          1\n",
       "\n",
       "[208 rows x 1 columns]"
      ]
     },
     "execution_count": 495,
     "metadata": {},
     "output_type": "execute_result"
    }
   ],
   "source": [
    "df_nok['Pset_name'].head()\n",
    "df_nok[['Pset_name','Result_status']].groupby(by='Pset_name').count().sort_values(by=['Result_status'], ascending=False)"
   ]
  },
  {
   "cell_type": "markdown",
   "metadata": {},
   "source": [
    "Vemos que hay un resultado POKA YOKE, es un resultado NOK forzado que se hace para comprobar la herramientas. hay que quitarlos de la muestra."
   ]
  },
  {
   "cell_type": "code",
   "execution_count": 496,
   "metadata": {},
   "outputs": [],
   "source": [
    "df = df[~df[\"Pset_name\"].str.contains(\"Poka\",na=False)]"
   ]
  },
  {
   "cell_type": "markdown",
   "metadata": {},
   "source": [
    "Cambiamos el tipo de la columna fecha"
   ]
  },
  {
   "cell_type": "code",
   "execution_count": 497,
   "metadata": {},
   "outputs": [
    {
     "data": {
      "text/plain": [
       "Result_status                        object\n",
       "Result_number                         int64\n",
       "Time_result      datetime64[ns, US/Eastern]\n",
       "Pset_ID                             float64\n",
       "Step_ID                             float64\n",
       "Error Code                           object\n",
       "Torque_min                          float64\n",
       "Torque                              float64\n",
       "Torque_max                          float64\n",
       "Angle_min                           float64\n",
       "Angle                               float64\n",
       "Angle_max                           float64\n",
       "Pset_name                            object\n",
       "VIN                                  object\n",
       "Identifier1                          object\n",
       "Identifier2                          object\n",
       "Identifier3                          object\n",
       "Identifier4                          object\n",
       "Identifier5                          object\n",
       "dtype: object"
      ]
     },
     "execution_count": 497,
     "metadata": {},
     "output_type": "execute_result"
    }
   ],
   "source": [
    "df.astype({'Time_result': 'datetime64[ns, US/Eastern]'}).dtypes"
   ]
  },
  {
   "cell_type": "markdown",
   "metadata": {},
   "source": [
    "creamos una columna nueva la columna de resultado que contiene los tesxtos \"NOK\" y \"OK\" en valores numericos."
   ]
  },
  {
   "cell_type": "code",
   "execution_count": 498,
   "metadata": {},
   "outputs": [],
   "source": [
    "df['Resultbin']=df['Result_status']=='OK'"
   ]
  },
  {
   "cell_type": "code",
   "execution_count": 499,
   "metadata": {},
   "outputs": [
    {
     "data": {
      "text/html": [
       "<div>\n",
       "<style scoped>\n",
       "    .dataframe tbody tr th:only-of-type {\n",
       "        vertical-align: middle;\n",
       "    }\n",
       "\n",
       "    .dataframe tbody tr th {\n",
       "        vertical-align: top;\n",
       "    }\n",
       "\n",
       "    .dataframe thead th {\n",
       "        text-align: right;\n",
       "    }\n",
       "</style>\n",
       "<table border=\"1\" class=\"dataframe\">\n",
       "  <thead>\n",
       "    <tr style=\"text-align: right;\">\n",
       "      <th></th>\n",
       "      <th>Result_status</th>\n",
       "      <th>Result_number</th>\n",
       "      <th>Time_result</th>\n",
       "      <th>Pset_ID</th>\n",
       "      <th>Step_ID</th>\n",
       "      <th>Error Code</th>\n",
       "      <th>Torque_min</th>\n",
       "      <th>Torque</th>\n",
       "      <th>Torque_max</th>\n",
       "      <th>Angle_min</th>\n",
       "      <th>Angle</th>\n",
       "      <th>Angle_max</th>\n",
       "      <th>Pset_name</th>\n",
       "      <th>VIN</th>\n",
       "      <th>Identifier1</th>\n",
       "      <th>Identifier2</th>\n",
       "      <th>Identifier3</th>\n",
       "      <th>Identifier4</th>\n",
       "      <th>Identifier5</th>\n",
       "      <th>Resultbin</th>\n",
       "    </tr>\n",
       "  </thead>\n",
       "  <tbody>\n",
       "    <tr>\n",
       "      <th>0</th>\n",
       "      <td>OK</td>\n",
       "      <td>613029</td>\n",
       "      <td>2020-12-10 23:59:12.0</td>\n",
       "      <td>10.0</td>\n",
       "      <td>1.0</td>\n",
       "      <td>NaN</td>\n",
       "      <td>18.0</td>\n",
       "      <td>20.126</td>\n",
       "      <td>22.0</td>\n",
       "      <td>3.0</td>\n",
       "      <td>40.213</td>\n",
       "      <td>100.0</td>\n",
       "      <td>Fixation screw_(60895R01)_20Nm_1x64-5_IF</td>\n",
       "      <td>NaN</td>\n",
       "      <td>NaN</td>\n",
       "      <td>NaN</td>\n",
       "      <td>NaN</td>\n",
       "      <td>NaN</td>\n",
       "      <td>NaN</td>\n",
       "      <td>True</td>\n",
       "    </tr>\n",
       "    <tr>\n",
       "      <th>1</th>\n",
       "      <td>OK</td>\n",
       "      <td>613028</td>\n",
       "      <td>2020-12-10 23:59:08.0</td>\n",
       "      <td>9.0</td>\n",
       "      <td>1.0</td>\n",
       "      <td>NaN</td>\n",
       "      <td>18.0</td>\n",
       "      <td>20.090</td>\n",
       "      <td>22.0</td>\n",
       "      <td>5.0</td>\n",
       "      <td>40.369</td>\n",
       "      <td>100.0</td>\n",
       "      <td>Fixation screw_(318327B01)_20Nm_1x64-4_I</td>\n",
       "      <td>NaN</td>\n",
       "      <td>NaN</td>\n",
       "      <td>NaN</td>\n",
       "      <td>NaN</td>\n",
       "      <td>NaN</td>\n",
       "      <td>NaN</td>\n",
       "      <td>True</td>\n",
       "    </tr>\n",
       "    <tr>\n",
       "      <th>2</th>\n",
       "      <td>OK</td>\n",
       "      <td>613027</td>\n",
       "      <td>2020-12-10 23:58:56.0</td>\n",
       "      <td>3.0</td>\n",
       "      <td>1.0</td>\n",
       "      <td>NaN</td>\n",
       "      <td>20.0</td>\n",
       "      <td>22.219</td>\n",
       "      <td>24.0</td>\n",
       "      <td>5.0</td>\n",
       "      <td>40.389</td>\n",
       "      <td>110.0</td>\n",
       "      <td>Sliders 22Nm_4x65-4_ISC</td>\n",
       "      <td>NaN</td>\n",
       "      <td>NaN</td>\n",
       "      <td>NaN</td>\n",
       "      <td>NaN</td>\n",
       "      <td>NaN</td>\n",
       "      <td>NaN</td>\n",
       "      <td>True</td>\n",
       "    </tr>\n",
       "    <tr>\n",
       "      <th>3</th>\n",
       "      <td>OK</td>\n",
       "      <td>613026</td>\n",
       "      <td>2020-12-10 23:58:48.0</td>\n",
       "      <td>3.0</td>\n",
       "      <td>1.0</td>\n",
       "      <td>NaN</td>\n",
       "      <td>20.0</td>\n",
       "      <td>22.138</td>\n",
       "      <td>24.0</td>\n",
       "      <td>5.0</td>\n",
       "      <td>33.650</td>\n",
       "      <td>110.0</td>\n",
       "      <td>Sliders 22Nm_4x65-4_ISC</td>\n",
       "      <td>NaN</td>\n",
       "      <td>NaN</td>\n",
       "      <td>NaN</td>\n",
       "      <td>NaN</td>\n",
       "      <td>NaN</td>\n",
       "      <td>NaN</td>\n",
       "      <td>True</td>\n",
       "    </tr>\n",
       "    <tr>\n",
       "      <th>4</th>\n",
       "      <td>OK</td>\n",
       "      <td>613025</td>\n",
       "      <td>2020-12-10 23:58:41.0</td>\n",
       "      <td>3.0</td>\n",
       "      <td>1.0</td>\n",
       "      <td>NaN</td>\n",
       "      <td>20.0</td>\n",
       "      <td>22.073</td>\n",
       "      <td>24.0</td>\n",
       "      <td>5.0</td>\n",
       "      <td>43.830</td>\n",
       "      <td>110.0</td>\n",
       "      <td>Sliders 22Nm_4x65-4_ISC</td>\n",
       "      <td>NaN</td>\n",
       "      <td>NaN</td>\n",
       "      <td>NaN</td>\n",
       "      <td>NaN</td>\n",
       "      <td>NaN</td>\n",
       "      <td>NaN</td>\n",
       "      <td>True</td>\n",
       "    </tr>\n",
       "  </tbody>\n",
       "</table>\n",
       "</div>"
      ],
      "text/plain": [
       "  Result_status  Result_number            Time_result  Pset_ID  Step_ID  \\\n",
       "0            OK         613029  2020-12-10 23:59:12.0     10.0      1.0   \n",
       "1            OK         613028  2020-12-10 23:59:08.0      9.0      1.0   \n",
       "2            OK         613027  2020-12-10 23:58:56.0      3.0      1.0   \n",
       "3            OK         613026  2020-12-10 23:58:48.0      3.0      1.0   \n",
       "4            OK         613025  2020-12-10 23:58:41.0      3.0      1.0   \n",
       "\n",
       "  Error Code  Torque_min  Torque  Torque_max  Angle_min   Angle  Angle_max  \\\n",
       "0        NaN        18.0  20.126        22.0        3.0  40.213      100.0   \n",
       "1        NaN        18.0  20.090        22.0        5.0  40.369      100.0   \n",
       "2        NaN        20.0  22.219        24.0        5.0  40.389      110.0   \n",
       "3        NaN        20.0  22.138        24.0        5.0  33.650      110.0   \n",
       "4        NaN        20.0  22.073        24.0        5.0  43.830      110.0   \n",
       "\n",
       "                                  Pset_name  VIN Identifier1 Identifier2  \\\n",
       "0  Fixation screw_(60895R01)_20Nm_1x64-5_IF  NaN         NaN         NaN   \n",
       "1  Fixation screw_(318327B01)_20Nm_1x64-4_I  NaN         NaN         NaN   \n",
       "2                   Sliders 22Nm_4x65-4_ISC  NaN         NaN         NaN   \n",
       "3                   Sliders 22Nm_4x65-4_ISC  NaN         NaN         NaN   \n",
       "4                   Sliders 22Nm_4x65-4_ISC  NaN         NaN         NaN   \n",
       "\n",
       "  Identifier3 Identifier4 Identifier5  Resultbin  \n",
       "0         NaN         NaN         NaN       True  \n",
       "1         NaN         NaN         NaN       True  \n",
       "2         NaN         NaN         NaN       True  \n",
       "3         NaN         NaN         NaN       True  \n",
       "4         NaN         NaN         NaN       True  "
      ]
     },
     "execution_count": 499,
     "metadata": {},
     "output_type": "execute_result"
    }
   ],
   "source": [
    "df.head()\n"
   ]
  },
  {
   "cell_type": "markdown",
   "metadata": {},
   "source": [
    "Aun tenemos columnas que no van a aportar nada a nuestro modelo."
   ]
  },
  {
   "cell_type": "code",
   "execution_count": 500,
   "metadata": {},
   "outputs": [],
   "source": [
    "dfX=df.drop(columns={'Result_status','Result_number','Time_result','Pset_ID','Identifier4','Identifier5','Identifier2','Error Code','Torque','Angle'})"
   ]
  },
  {
   "cell_type": "markdown",
   "metadata": {},
   "source": [
    "con df.info() vamos a ver cuantas columnas contienen resultados nulos y vamos a hacer que toda la muestra tenga columnas con datos que podamos utilizar.\n",
    "Con esta accion podemos hacer que nuestro modelo posterior no sea tan bueno prediciendo los resultados de las columnas que tienen nulls."
   ]
  },
  {
   "cell_type": "code",
   "execution_count": 501,
   "metadata": {},
   "outputs": [
    {
     "name": "stdout",
     "output_type": "stream",
     "text": [
      "<class 'pandas.core.frame.DataFrame'>\n",
      "Int64Index: 398943 entries, 0 to 399999\n",
      "Data columns (total 10 columns):\n",
      " #   Column       Non-Null Count   Dtype  \n",
      "---  ------       --------------   -----  \n",
      " 0   Step_ID      398844 non-null  float64\n",
      " 1   Torque_min   398844 non-null  float64\n",
      " 2   Torque_max   398844 non-null  float64\n",
      " 3   Angle_min    398844 non-null  float64\n",
      " 4   Angle_max    398844 non-null  float64\n",
      " 5   Pset_name    398844 non-null  object \n",
      " 6   VIN          172013 non-null  object \n",
      " 7   Identifier1  172013 non-null  object \n",
      " 8   Identifier3  168406 non-null  object \n",
      " 9   Resultbin    398943 non-null  bool   \n",
      "dtypes: bool(1), float64(5), object(4)\n",
      "memory usage: 30.8+ MB\n"
     ]
    }
   ],
   "source": [
    "dfX.info()"
   ]
  },
  {
   "cell_type": "markdown",
   "metadata": {},
   "source": [
    "Vamos a echar un vistazo a los valores que vamos a quitar. porque se va a reducir mucho la muestra."
   ]
  },
  {
   "cell_type": "code",
   "execution_count": 502,
   "metadata": {},
   "outputs": [
    {
     "name": "stderr",
     "output_type": "stream",
     "text": [
      "C:\\ProgramData\\Anaconda3\\lib\\site-packages\\pandas\\core\\indexing.py:1599: SettingWithCopyWarning: \n",
      "A value is trying to be set on a copy of a slice from a DataFrame.\n",
      "Try using .loc[row_indexer,col_indexer] = value instead\n",
      "\n",
      "See the caveats in the documentation: https://pandas.pydata.org/pandas-docs/stable/user_guide/indexing.html#returning-a-view-versus-a-copy\n",
      "  self.obj[key] = infer_fill_value(value)\n",
      "C:\\ProgramData\\Anaconda3\\lib\\site-packages\\pandas\\core\\indexing.py:1720: SettingWithCopyWarning: \n",
      "A value is trying to be set on a copy of a slice from a DataFrame.\n",
      "Try using .loc[row_indexer,col_indexer] = value instead\n",
      "\n",
      "See the caveats in the documentation: https://pandas.pydata.org/pandas-docs/stable/user_guide/indexing.html#returning-a-view-versus-a-copy\n",
      "  self._setitem_single_column(loc, value, pi)\n"
     ]
    },
    {
     "data": {
      "text/html": [
       "<div>\n",
       "<style scoped>\n",
       "    .dataframe tbody tr th:only-of-type {\n",
       "        vertical-align: middle;\n",
       "    }\n",
       "\n",
       "    .dataframe tbody tr th {\n",
       "        vertical-align: top;\n",
       "    }\n",
       "\n",
       "    .dataframe thead th {\n",
       "        text-align: right;\n",
       "    }\n",
       "</style>\n",
       "<table border=\"1\" class=\"dataframe\">\n",
       "  <thead>\n",
       "    <tr style=\"text-align: right;\">\n",
       "      <th></th>\n",
       "      <th>Resultbin</th>\n",
       "    </tr>\n",
       "    <tr>\n",
       "      <th>Pset_name</th>\n",
       "      <th></th>\n",
       "    </tr>\n",
       "  </thead>\n",
       "  <tbody>\n",
       "    <tr>\n",
       "      <th>Sliders 22Nm_4x65-4_ISC</th>\n",
       "      <td>19342</td>\n",
       "    </tr>\n",
       "    <tr>\n",
       "      <th>Backrest_40Nm</th>\n",
       "      <td>10887</td>\n",
       "    </tr>\n",
       "    <tr>\n",
       "      <th>Seat frame assy_35Nm_2x59-2_ISC</th>\n",
       "      <td>10709</td>\n",
       "    </tr>\n",
       "    <tr>\n",
       "      <th>Bearing inclination cap_22Nm_2x59-1_ISC</th>\n",
       "      <td>10022</td>\n",
       "    </tr>\n",
       "    <tr>\n",
       "      <th>Inner carrier_22Nm_2x59-3_ISC</th>\n",
       "      <td>9927</td>\n",
       "    </tr>\n",
       "    <tr>\n",
       "      <th>...</th>\n",
       "      <td>...</td>\n",
       "    </tr>\n",
       "    <tr>\n",
       "      <th>Cushion slides_WOOD_10Nm+-2</th>\n",
       "      <td>80</td>\n",
       "    </tr>\n",
       "    <tr>\n",
       "      <th>Embocar Profiles 30Nm ISC</th>\n",
       "      <td>77</td>\n",
       "    </tr>\n",
       "    <tr>\n",
       "      <th>Slides 22Nm TX40 ISC</th>\n",
       "      <td>6</td>\n",
       "    </tr>\n",
       "    <tr>\n",
       "      <th>Torque 35Nm</th>\n",
       "      <td>4</td>\n",
       "    </tr>\n",
       "    <tr>\n",
       "      <th>Inner carrier 22Nm HEX8 ISC</th>\n",
       "      <td>1</td>\n",
       "    </tr>\n",
       "  </tbody>\n",
       "</table>\n",
       "<p>61 rows × 1 columns</p>\n",
       "</div>"
      ],
      "text/plain": [
       "                                         Resultbin\n",
       "Pset_name                                         \n",
       "Sliders 22Nm_4x65-4_ISC                      19342\n",
       "Backrest_40Nm                                10887\n",
       "Seat frame assy_35Nm_2x59-2_ISC              10709\n",
       "Bearing inclination cap_22Nm_2x59-1_ISC      10022\n",
       "Inner carrier_22Nm_2x59-3_ISC                 9927\n",
       "...                                            ...\n",
       "Cushion slides_WOOD_10Nm+-2                     80\n",
       "Embocar Profiles 30Nm ISC                       77\n",
       "Slides 22Nm TX40 ISC                             6\n",
       "Torque 35Nm                                      4\n",
       "Inner carrier 22Nm HEX8 ISC                      1\n",
       "\n",
       "[61 rows x 1 columns]"
      ]
     },
     "execution_count": 502,
     "metadata": {},
     "output_type": "execute_result"
    }
   ],
   "source": [
    "\n",
    "df_NANs=dfX[['Pset_name','Identifier1','Identifier3','Resultbin']]\n",
    "df_NANs.loc[df_NANs['Identifier1'].isnull(),'value_is_NaN'] = 'Yes'\n",
    "df_NANs.loc[df_NANs['Identifier1'].notnull(), 'value_is_NaN'] = 'No'\n",
    "df_NANs = df_NANs[df_NANs[\"value_is_NaN\"].str.contains(\"Yes\",na=False)]\n",
    "df_NANs[['Pset_name','Resultbin']].groupby(by='Pset_name').count().sort_values(by='Resultbin',ascending=False)\n",
    "\n"
   ]
  },
  {
   "cell_type": "markdown",
   "metadata": {},
   "source": [
    "Estamos perdiendo valores OK y NOK de las líneas NTS1 y NTS2 que no guardan valueIdentifiers. Es decir que el analisis se va a focalizar en las líneas:\n",
    "1. ALter BAU\n",
    "2. Alter BUS\n",
    "3. Tapizado NTS1\n",
    "4. Tapizado NTS2\n",
    "5. NTS1 BAU\n",
    "Vamos a proceder a eliminar los resultados nulos del Df"
   ]
  },
  {
   "cell_type": "code",
   "execution_count": 503,
   "metadata": {},
   "outputs": [
    {
     "name": "stdout",
     "output_type": "stream",
     "text": [
      "<class 'pandas.core.frame.DataFrame'>\n",
      "Int64Index: 168002 entries, 10 to 399996\n",
      "Data columns (total 10 columns):\n",
      " #   Column       Non-Null Count   Dtype  \n",
      "---  ------       --------------   -----  \n",
      " 0   Step_ID      168002 non-null  float64\n",
      " 1   Torque_min   168002 non-null  float64\n",
      " 2   Torque_max   168002 non-null  float64\n",
      " 3   Angle_min    168002 non-null  float64\n",
      " 4   Angle_max    168002 non-null  float64\n",
      " 5   Pset_name    168002 non-null  object \n",
      " 6   VIN          168002 non-null  object \n",
      " 7   Identifier1  168002 non-null  object \n",
      " 8   Identifier3  168002 non-null  object \n",
      " 9   Resultbin    168002 non-null  bool   \n",
      "dtypes: bool(1), float64(5), object(4)\n",
      "memory usage: 13.0+ MB\n"
     ]
    }
   ],
   "source": [
    "dfX=dfX.dropna()\n",
    "dfX = dfX[pd.to_numeric(dfX['Identifier3'],errors='coerce').notna()]\n",
    "dfX.info()"
   ]
  },
  {
   "cell_type": "markdown",
   "metadata": {},
   "source": [
    "Observamos ahora que tenemos 168.002 registros no nulos con los que podemos elaborar un modelo. vamos a ver el porcentaje de aprietes NOK totales.  "
   ]
  },
  {
   "cell_type": "code",
   "execution_count": 504,
   "metadata": {},
   "outputs": [
    {
     "data": {
      "text/html": [
       "<div>\n",
       "<style scoped>\n",
       "    .dataframe tbody tr th:only-of-type {\n",
       "        vertical-align: middle;\n",
       "    }\n",
       "\n",
       "    .dataframe tbody tr th {\n",
       "        vertical-align: top;\n",
       "    }\n",
       "\n",
       "    .dataframe thead th {\n",
       "        text-align: right;\n",
       "    }\n",
       "</style>\n",
       "<table border=\"1\" class=\"dataframe\">\n",
       "  <thead>\n",
       "    <tr style=\"text-align: right;\">\n",
       "      <th></th>\n",
       "      <th>Step_ID</th>\n",
       "    </tr>\n",
       "    <tr>\n",
       "      <th>Resultbin</th>\n",
       "      <th></th>\n",
       "    </tr>\n",
       "  </thead>\n",
       "  <tbody>\n",
       "    <tr>\n",
       "      <th>False</th>\n",
       "      <td>9236</td>\n",
       "    </tr>\n",
       "    <tr>\n",
       "      <th>True</th>\n",
       "      <td>158766</td>\n",
       "    </tr>\n",
       "  </tbody>\n",
       "</table>\n",
       "</div>"
      ],
      "text/plain": [
       "           Step_ID\n",
       "Resultbin         \n",
       "False         9236\n",
       "True        158766"
      ]
     },
     "execution_count": 504,
     "metadata": {},
     "output_type": "execute_result"
    }
   ],
   "source": [
    "dfX[['Resultbin','Step_ID']].groupby(by='Resultbin').count()"
   ]
  },
  {
   "cell_type": "code",
   "execution_count": 505,
   "metadata": {},
   "outputs": [
    {
     "data": {
      "text/plain": [
       "0.05391998355654818"
      ]
     },
     "execution_count": 505,
     "metadata": {},
     "output_type": "execute_result"
    }
   ],
   "source": [
    "OKS = len(df[df[\"Result_status\"].str.contains(\"OK\",na=False)])\n",
    "NOKS=len(df[df[\"Result_status\"].str.contains(\"NOK\",na=False)])\n",
    "NOKS/OKS"
   ]
  },
  {
   "cell_type": "markdown",
   "metadata": {},
   "source": [
    "Tenemos un 5% de pares malos en este conjunto de datos."
   ]
  },
  {
   "cell_type": "markdown",
   "metadata": {},
   "source": [
    "vamos a quitar algunos ok para que los modelos aprendan mejor:"
   ]
  },
  {
   "cell_type": "code",
   "execution_count": 506,
   "metadata": {},
   "outputs": [
    {
     "data": {
      "image/png": "[encoded data removed]",
      "text/plain": [
       "<Figure size 864x720 with 1 Axes>"
      ]
     },
     "metadata": {
      "needs_background": "light"
     },
     "output_type": "display_data"
    }
   ],
   "source": [
    "# dfX = dfX.drop(dfX[dfX['Resultbin'] == True].sample(frac=.6, random_state=101).index)\n",
    "#Quito el 40 % de los resultados OK  de DFX\n",
    "dfX_plot=dfX[['Resultbin','Step_ID']].groupby(by='Resultbin').count()\n",
    "ax = dfX_plot.plot.bar(y='Step_ID',rot=0)"
   ]
  },
  {
   "cell_type": "code",
   "execution_count": 507,
   "metadata": {},
   "outputs": [
    {
     "data": {
      "text/plain": [
       "0.05391998355654818"
      ]
     },
     "execution_count": 507,
     "metadata": {},
     "output_type": "execute_result"
    }
   ],
   "source": [
    "OKS = len(df[df[\"Result_status\"].str.contains(\"OK\",na=False)])\n",
    "NOKS=len(df[df[\"Result_status\"].str.contains(\"NOK\",na=False)])\n",
    "NOKS/OKS\n",
    "\n"
   ]
  },
  {
   "cell_type": "code",
   "execution_count": 508,
   "metadata": {},
   "outputs": [],
   "source": [
    "enc=LabelEncoder()\n",
    "dfX=df[['Torque_min','Torque_max','Angle_min','Angle_max','Pset_name',\t'Identifier1','Identifier3','Resultbin']].dropna()\n",
    "dfX = dfX.drop(dfX[dfX['Resultbin'] == True].sample(frac=.1, random_state=101).index)\n",
    "#Quito el 40 % de los resultados OK  de DFX\n",
    "\n",
    "dfX['Identifier3'] = df['Identifier3'].astype('string',copy=False)\n",
    "dfX['Pset_name_cat'] = enc.fit_transform(dfX['Pset_name'])\n",
    "dfX['Modelo'] = enc.fit_transform(dfX['Identifier1'])\n",
    "dfX[['Identifier3','Resultbin']].groupby(by=\"Identifier3\").count()\n",
    "dfX[dfX['Identifier3'].apply(lambda x: x.isnumeric())]\n",
    "dfX['Trabajador'] = enc.fit_transform(dfX['Identifier3'])\n"
   ]
  },
  {
   "cell_type": "code",
   "execution_count": 509,
   "metadata": {},
   "outputs": [
    {
     "data": {
      "text/html": [
       "<div>\n",
       "<style scoped>\n",
       "    .dataframe tbody tr th:only-of-type {\n",
       "        vertical-align: middle;\n",
       "    }\n",
       "\n",
       "    .dataframe tbody tr th {\n",
       "        vertical-align: top;\n",
       "    }\n",
       "\n",
       "    .dataframe thead th {\n",
       "        text-align: right;\n",
       "    }\n",
       "</style>\n",
       "<table border=\"1\" class=\"dataframe\">\n",
       "  <thead>\n",
       "    <tr style=\"text-align: right;\">\n",
       "      <th></th>\n",
       "      <th>Resultbin</th>\n",
       "    </tr>\n",
       "    <tr>\n",
       "      <th>Identifier3</th>\n",
       "      <th></th>\n",
       "    </tr>\n",
       "  </thead>\n",
       "  <tbody>\n",
       "    <tr>\n",
       "      <th>1234.0</th>\n",
       "      <td>2</td>\n",
       "    </tr>\n",
       "    <tr>\n",
       "      <th>1412.0</th>\n",
       "      <td>58</td>\n",
       "    </tr>\n",
       "    <tr>\n",
       "      <th>1505</th>\n",
       "      <td>28</td>\n",
       "    </tr>\n",
       "    <tr>\n",
       "      <th>1505.0</th>\n",
       "      <td>3242</td>\n",
       "    </tr>\n",
       "    <tr>\n",
       "      <th>2072.0</th>\n",
       "      <td>13</td>\n",
       "    </tr>\n",
       "    <tr>\n",
       "      <th>...</th>\n",
       "      <td>...</td>\n",
       "    </tr>\n",
       "    <tr>\n",
       "      <th>6000</th>\n",
       "      <td>178</td>\n",
       "    </tr>\n",
       "    <tr>\n",
       "      <th>6000.0</th>\n",
       "      <td>827</td>\n",
       "    </tr>\n",
       "    <tr>\n",
       "      <th>9385.0</th>\n",
       "      <td>3</td>\n",
       "    </tr>\n",
       "    <tr>\n",
       "      <th>9472.0</th>\n",
       "      <td>13</td>\n",
       "    </tr>\n",
       "    <tr>\n",
       "      <th>Y000</th>\n",
       "      <td>3</td>\n",
       "    </tr>\n",
       "  </tbody>\n",
       "</table>\n",
       "<p>115 rows × 1 columns</p>\n",
       "</div>"
      ],
      "text/plain": [
       "             Resultbin\n",
       "Identifier3           \n",
       "1234.0               2\n",
       "1412.0              58\n",
       "1505                28\n",
       "1505.0            3242\n",
       "2072.0              13\n",
       "...                ...\n",
       "6000               178\n",
       "6000.0             827\n",
       "9385.0               3\n",
       "9472.0              13\n",
       "Y000                 3\n",
       "\n",
       "[115 rows x 1 columns]"
      ]
     },
     "execution_count": 509,
     "metadata": {},
     "output_type": "execute_result"
    }
   ],
   "source": [
    "dfX[['Identifier3','Resultbin']].groupby(by=\"Identifier3\").count()"
   ]
  },
  {
   "cell_type": "code",
   "execution_count": 510,
   "metadata": {},
   "outputs": [
    {
     "data": {
      "text/html": [
       "<div>\n",
       "<style scoped>\n",
       "    .dataframe tbody tr th:only-of-type {\n",
       "        vertical-align: middle;\n",
       "    }\n",
       "\n",
       "    .dataframe tbody tr th {\n",
       "        vertical-align: top;\n",
       "    }\n",
       "\n",
       "    .dataframe thead th {\n",
       "        text-align: right;\n",
       "    }\n",
       "</style>\n",
       "<table border=\"1\" class=\"dataframe\">\n",
       "  <thead>\n",
       "    <tr style=\"text-align: right;\">\n",
       "      <th></th>\n",
       "      <th>Pset_name_cat</th>\n",
       "    </tr>\n",
       "    <tr>\n",
       "      <th>Resultbin</th>\n",
       "      <th></th>\n",
       "    </tr>\n",
       "  </thead>\n",
       "  <tbody>\n",
       "    <tr>\n",
       "      <th>False</th>\n",
       "      <td>9236</td>\n",
       "    </tr>\n",
       "    <tr>\n",
       "      <th>True</th>\n",
       "      <td>142907</td>\n",
       "    </tr>\n",
       "  </tbody>\n",
       "</table>\n",
       "</div>"
      ],
      "text/plain": [
       "           Pset_name_cat\n",
       "Resultbin               \n",
       "False               9236\n",
       "True              142907"
      ]
     },
     "execution_count": 510,
     "metadata": {},
     "output_type": "execute_result"
    }
   ],
   "source": [
    "dfX_gp=dfX[['Resultbin','Pset_name_cat']].groupby(by='Resultbin').count()\n",
    "dfX_gp"
   ]
  },
  {
   "cell_type": "code",
   "execution_count": 511,
   "metadata": {},
   "outputs": [
    {
     "name": "stdout",
     "output_type": "stream",
     "text": [
      "OKS[9236] and NOKS [142907]\n"
     ]
    }
   ],
   "source": [
    "OKS = dfX_gp.iloc[0].values\n",
    "NOKS = dfX_gp.iloc[1].values\n",
    "print(\"OKS\"+str(OKS)+\" and NOKS \"+str(NOKS))\n"
   ]
  },
  {
   "cell_type": "code",
   "execution_count": 512,
   "metadata": {},
   "outputs": [
    {
     "data": {
      "text/plain": [
       "array([15.47282373])"
      ]
     },
     "execution_count": 512,
     "metadata": {},
     "output_type": "execute_result"
    }
   ],
   "source": [
    "NOKS/OKS"
   ]
  },
  {
   "cell_type": "code",
   "execution_count": 513,
   "metadata": {},
   "outputs": [
    {
     "name": "stdout",
     "output_type": "stream",
     "text": [
      "<class 'pandas.core.frame.DataFrame'>\n",
      "Int64Index: 152143 entries, 10 to 399996\n",
      "Data columns (total 11 columns):\n",
      " #   Column         Non-Null Count   Dtype  \n",
      "---  ------         --------------   -----  \n",
      " 0   Torque_min     152143 non-null  float64\n",
      " 1   Torque_max     152143 non-null  float64\n",
      " 2   Angle_min      152143 non-null  float64\n",
      " 3   Angle_max      152143 non-null  float64\n",
      " 4   Pset_name      152143 non-null  object \n",
      " 5   Identifier1    152143 non-null  object \n",
      " 6   Identifier3    152143 non-null  string \n",
      " 7   Resultbin      152143 non-null  bool   \n",
      " 8   Pset_name_cat  152143 non-null  int32  \n",
      " 9   Modelo         152143 non-null  int32  \n",
      " 10  Trabajador     152143 non-null  int32  \n",
      "dtypes: bool(1), float64(4), int32(3), object(2), string(1)\n",
      "memory usage: 11.2+ MB\n"
     ]
    }
   ],
   "source": [
    "dfX.info()\n"
   ]
  },
  {
   "cell_type": "markdown",
   "metadata": {},
   "source": [
    "Ok, ahora vamos a dejar el df solo con las columnas que nos interesan y empezaremos a preparar nuestro modelo."
   ]
  },
  {
   "cell_type": "code",
   "execution_count": 514,
   "metadata": {},
   "outputs": [
    {
     "name": "stdout",
     "output_type": "stream",
     "text": [
      "[1 1 1 ... 1 1 1] [[ 14.  18.   0. ...  70. 115.  38.]\n",
      " [ 30.  40.   0. ...  24. 115.  38.]\n",
      " [ 30.  40.   0. ...  36. 115.  38.]\n",
      " ...\n",
      " [ 30.  40.   0. ...  27.  41.  89.]\n",
      " [ 20.  24.   0. ...  21.  41.  42.]\n",
      " [ 20.  24.   0. ...  21.  41.  42.]]\n"
     ]
    }
   ],
   "source": [
    "dfX[\"Resultbin\"] = dfX[\"Resultbin\"].astype(int)\n",
    "y=np.array(dfX[\"Resultbin\"])\n",
    "dfX=dfX.drop(columns={'Resultbin','Pset_name','Identifier1','Identifier3'})\n",
    "X=dfX.values\n",
    "print(y, X)\n",
    "\n"
   ]
  },
  {
   "cell_type": "code",
   "execution_count": 515,
   "metadata": {},
   "outputs": [
    {
     "name": "stdout",
     "output_type": "stream",
     "text": [
      "Num GPUs available: 1\n",
      "(152143,) (152143, 7)\n"
     ]
    }
   ],
   "source": [
    "from sklearn.model_selection import KFold\n",
    "from sklearn.preprocessing import MinMaxScaler\n",
    "import tensorflow as tf\n",
    "from tensorflow.keras.models import Sequential\n",
    "from tensorflow.keras.layers import Activation, Dense, Dropout\n",
    "from tensorflow.keras.optimizers import Adam\n",
    "from tensorflow.keras.metrics import categorical_crossentropy, BinaryCrossentropy\n",
    "from sklearn.utils import shuffle\n",
    "import warnings\n",
    "\n",
    "warnings.simplefilter(action='ignore', category=FutureWarning)\n",
    "\n",
    "physical_devices = tf.config.list_physical_devices('GPU')\n",
    "print(\"Num GPUs available:\", len(physical_devices))\n",
    "tf.config.experimental.set_memory_growth(physical_devices[0], True)\n",
    "\n",
    "label=np.array(y)\n",
    "sample=np.array(X)\n",
    "\n",
    "print(label.shape,sample.shape)\n",
    "\n"
   ]
  },
  {
   "cell_type": "code",
   "execution_count": 516,
   "metadata": {},
   "outputs": [],
   "source": [
    "label,sample =shuffle(label,sample)\n",
    "scaler = MinMaxScaler(feature_range=(0,1))\n",
    "scaled_samples= scaler.fit_transform(sample) #fit transform does not accept 1D data so we reshape the scaled train samples to be 2D\n"
   ]
  },
  {
   "cell_type": "code",
   "execution_count": 517,
   "metadata": {},
   "outputs": [],
   "source": [
    "import seaborn as sns\n",
    "# sns.pairplot (dfX)"
   ]
  },
  {
   "cell_type": "code",
   "execution_count": 518,
   "metadata": {},
   "outputs": [
    {
     "name": "stdout",
     "output_type": "stream",
     "text": [
      "[1 1 1 ... 1 1 1] [[ 14.  18.   0. ...  70. 115.  38.]\n",
      " [ 30.  40.   0. ...  24. 115.  38.]\n",
      " [ 30.  40.   0. ...  36. 115.  38.]\n",
      " ...\n",
      " [ 30.  40.   0. ...  27.  41.  89.]\n",
      " [ 20.  24.   0. ...  21.  41.  42.]\n",
      " [ 20.  24.   0. ...  21.  41.  42.]]\n",
      "(152143,) (152143, 7)\n"
     ]
    }
   ],
   "source": [
    "print(y, X)\n",
    "print(y.shape,X.shape)"
   ]
  },
  {
   "cell_type": "code",
   "execution_count": 519,
   "metadata": {},
   "outputs": [
    {
     "name": "stdout",
     "output_type": "stream",
     "text": [
      "[1 1 1 ... 0 1 1] [[0.75       0.875      0.         ... 0.10447761 0.12974684 0.05263158]\n",
      " [0.75       0.875      0.         ... 0.23134328 0.50632911 0.07017544]\n",
      " [0.5        0.5        0.00119048 ... 0.76119403 0.03164557 0.53508772]\n",
      " ...\n",
      " [0.5        0.475      0.         ... 0.15671642 0.11708861 0.79824561]\n",
      " [0.1        0.025      0.         ... 0.01492537 0.25949367 0.79824561]\n",
      " [0.75       0.875      0.         ... 0.67164179 0.21835443 0.94736842]]\n",
      "(152143,) (152143, 7)\n"
     ]
    }
   ],
   "source": [
    "print(label,scaled_samples)\n",
    "print(label.shape,scaled_samples.shape)"
   ]
  },
  {
   "cell_type": "code",
   "execution_count": 520,
   "metadata": {},
   "outputs": [],
   "source": [
    "from sklearn.model_selection import train_test_split\n",
    "X_train, X_test, y_train, y_test = train_test_split(scaled_samples, label, test_size=0.1, random_state=42)\n"
   ]
  },
  {
   "cell_type": "code",
   "execution_count": 521,
   "metadata": {},
   "outputs": [
    {
     "name": "stdout",
     "output_type": "stream",
     "text": [
      "(15215, 7) (136928, 7)\n",
      "(15215,) (136928,)\n"
     ]
    }
   ],
   "source": [
    "print(X_test.shape, X_train.shape)\n",
    "print(y_test.shape,y_train.shape)"
   ]
  },
  {
   "cell_type": "code",
   "execution_count": 522,
   "metadata": {},
   "outputs": [],
   "source": [
    "METRICS = [\n",
    "      tf.keras.metrics.TruePositives(name='tp'),\n",
    "      tf.keras.metrics.FalsePositives(name='fp'),\n",
    "      tf.keras.metrics.TrueNegatives(name='tn'),\n",
    "      tf.keras.metrics.FalseNegatives(name='fn'), \n",
    "      tf.keras.metrics.BinaryAccuracy(name='accuracy'),\n",
    "      tf.keras.metrics.Precision(name='precision'),\n",
    "      tf.keras.metrics.Recall(name='recall'),\n",
    "      tf.keras.metrics.AUC(name='auc'),\n",
    "      tf.keras.metrics.AUC(name='prc', curve='PR'), # precision-recall curve\n",
    "]"
   ]
  },
  {
   "cell_type": "markdown",
   "metadata": {},
   "source": [
    "## Comprender métricas útiles\n",
    "\n",
    "Tenga en cuenta que hay algunas métricas definidas anteriormente que pueden ser calculadas por el modelo y que serán útiles al evaluar el desempeño.\n",
    "\n",
    "* Los falsos negativos y falsos positivos son muestras que fueron clasificadas incorrectamente.\n",
    "\n",
    "* Verdaderos negativos y positivos verdaderos son muestras que fueron clasificados correctamente.\n",
    "\n",
    "* La precisión es el porcentaje de ejemplos correctamente clasificada.\n",
    "\n",
    "* La precisión es el porcentaje de positivos predichos que se clasifican correctamente.\n",
    "\n",
    "* Recall es el porcentaje de positivos reales que fueron clasificados correctamente.\n",
    "\n",
    "* AUC se refiere al área bajo la curva de una curva característica de funcionamiento del receptor (ROC-AUC). Esta métrica es igual a la probabilidad de que un clasificador clasifique una muestra positiva aleatoria por encima de una muestra negativa aleatoria.\n",
    "\n",
    "* AUPRC se refiere al área bajo la curva de la curva de precisión de recordar. Esta métrica calcula pares de recuperación de precisión para diferentes umbrales de probabilidad."
   ]
  },
  {
   "cell_type": "markdown",
   "metadata": {},
   "source": [
    " # Tune model with keras tuner\n",
    " "
   ]
  },
  {
   "cell_type": "code",
   "execution_count": 523,
   "metadata": {},
   "outputs": [],
   "source": [
    "import tensorflow as tf\n",
    "from tensorflow import keras\n",
    "import keras_tuner as kt"
   ]
  },
  {
   "cell_type": "code",
   "execution_count": 524,
   "metadata": {},
   "outputs": [],
   "source": [
    "EPOCHS = 100\n",
    "BATCH_SIZE = 2048\n",
    "\n",
    "early_stopping = tf.keras.callbacks.EarlyStopping(\n",
    "    monitor='val_prc', \n",
    "    verbose=1,\n",
    "    patience=10,\n",
    "    mode='max',\n",
    "    restore_best_weights=True)"
   ]
  },
  {
   "cell_type": "code",
   "execution_count": 525,
   "metadata": {},
   "outputs": [],
   "source": [
    "def make_model(metrics=METRICS,output_bias=None):\n",
    "    if output_bias is not None:\n",
    "        output_bias = tf.keras.initializers.Constant(output_bias)\n",
    "\n",
    "    model = Sequential([\n",
    "        Dense(units=16,input_shape=[len(dfX.keys())],activation='relu'),\n",
    "        Dense(units=32,activation='relu'),\n",
    "        Dense(units=32,activation='relu'),\n",
    "        Dropout(0.5),\n",
    "        Dense(units=2,activation='sigmoid',bias_initializer=output_bias)  # dos clases, par ok par nok.\n",
    "    ])\n",
    "\n",
    "    model.compile(optimizer=Adam(learning_rate=0.0001),loss='BinaryCrossentropy',metrics=metrics)\n",
    "    \n",
    "    # voy a cambiar el optimizer a ver si mejora \n",
    "    # from tensorflow.keras.optimizers import SGD\n",
    "    # from tensorflow.keras.metrics import categorical_crossentropy\n",
    "    # opt = SGD(learning_rate=0.01)\n",
    "    # model.compile(loss = \"sparse_categorical_crossentropy\", optimizer = opt, metrics= ['accuracy'])\n",
    "    \n",
    "    return model"
   ]
  },
  {
   "cell_type": "code",
   "execution_count": 526,
   "metadata": {},
   "outputs": [],
   "source": [
    "def model_builder(hp):\n",
    "    model = tf.keras.Sequential()\n",
    "\n",
    "    # Tune the number of units in the first Dense layer\n",
    "    # Choose an optimal value between 32-512\n",
    "\n",
    "    hp_units = hp.Int('units', min_value=32, max_value=512, step=32)\n",
    "\n",
    "    model.add(tf.keras.layers.Dense(units=16, input_shape=[\n",
    "              len(dfX.keys())], activation='relu'))\n",
    "    model.add(tf.keras.layers.Dense(units=hp_units, activation='relu'))\n",
    "    # added one layer more\n",
    "    model.add(tf.keras.layers.Dense(units=hp_units, activation='relu'))\n",
    "    # changed to sigmoid => is equivalent to softmax for two outputs\n",
    "    model.add(tf.keras.layers.Dense(units=1, activation='sigmoid'))\n",
    "\n",
    "    # Tune the learning rate for the optimizer\n",
    "    # Choose an optimal value from 0.01, 0.001, or 0.0001\n",
    "    hp_learning_rate = hp.Choice('learning_rate', values=[1e-2, 1e-3, 1e-4])\n",
    "\n",
    "    model.compile(optimizer=tf.keras.optimizers.Adam(learning_rate=hp_learning_rate),\n",
    "                  loss=tf.keras.losses.SparseCategoricalCrossentropy(\n",
    "                      from_logits=True),\n",
    "                  metrics=['accuracy'])\n",
    "\n",
    "    return model\n"
   ]
  },
  {
   "cell_type": "markdown",
   "metadata": {},
   "source": [
    "Nuevo modelo conjuto hypertuneado y prebalanceado... lets see"
   ]
  },
  {
   "cell_type": "code",
   "execution_count": 527,
   "metadata": {},
   "outputs": [],
   "source": [
    "def super_model(hp, metrics=METRICS,output_bias=None):\n",
    "    hp_units = hp.Int('units', min_value=32, max_value=512, step=32)\n",
    "    if output_bias is not None:\n",
    "        output_bias = tf.keras.initializers.Constant(output_bias)\n",
    "    model = tf.keras.Sequential()\n",
    "    model.add(tf.keras.layers.Dense(units=16, input_shape=[\n",
    "              len(dfX.keys())], activation='relu'))\n",
    "    model.add(tf.keras.layers.Dense(units=hp_units, activation='relu'))\n",
    "    # added one layer more\n",
    "    model.add(tf.keras.layers.Dense(units=hp_units, activation='relu'))\n",
    "    # changed to sigmoid => is equivalent to softmax for two outputs\n",
    "    model.add(tf.keras.layers.Dense(units=1, activation='sigmoid'))\n",
    "\n",
    "    # Tune the learning rate for the optimizer\n",
    "    # Choose an optimal value from 0.01, 0.001, or 0.0001\n",
    "    hp_learning_rate = hp.Choice('learning_rate', values=[1e-2, 1e-3, 1e-4])\n",
    "\n",
    "    model.compile(optimizer=tf.keras.optimizers.Adam(learning_rate=hp_learning_rate),\n",
    "                  loss='BinaryCrossentropy',\n",
    "                  metrics=metrics)\n",
    "    return model\n"
   ]
  },
  {
   "cell_type": "code",
   "execution_count": 528,
   "metadata": {},
   "outputs": [
    {
     "name": "stdout",
     "output_type": "stream",
     "text": [
      "INFO:tensorflow:Reloading Oracle from existing project my_dir\\intro_to_kt\\oracle.json\n",
      "INFO:tensorflow:Reloading Tuner from my_dir\\intro_to_kt\\tuner0.json\n"
     ]
    }
   ],
   "source": [
    "tuner = kt.Hyperband(super_model,\n",
    "                     objective='val_accuracy',\n",
    "                     max_epochs=10,\n",
    "                     factor=3,\n",
    "                     directory='my_dir',\n",
    "                     project_name='intro_to_kt')"
   ]
  },
  {
   "cell_type": "code",
   "execution_count": 529,
   "metadata": {},
   "outputs": [],
   "source": [
    "stop_early = tf.keras.callbacks.EarlyStopping(monitor='val_loss', patience=5)"
   ]
  },
  {
   "cell_type": "code",
   "execution_count": 530,
   "metadata": {},
   "outputs": [
    {
     "name": "stdout",
     "output_type": "stream",
     "text": [
      "INFO:tensorflow:Oracle triggered exit\n",
      "\n",
      "The hyperparameter search is complete. The optimal number of units in the first densely-connected\n",
      "layer is 192 and the optimal learning rate for the optimizer\n",
      "is 0.01.\n",
      "\n"
     ]
    }
   ],
   "source": [
    "tuner.search(X_train, y_train, epochs=50,batch_size=BATCH_SIZE , validation_split=0.2, callbacks=[stop_early])\n",
    "\n",
    "# Get the optimal hyperparameters\n",
    "best_hps=tuner.get_best_hyperparameters(num_trials=1)[0]\n",
    "\n",
    "print(f\"\"\"\n",
    "The hyperparameter search is complete. The optimal number of units in the first densely-connected\n",
    "layer is {best_hps.get('units')} and the optimal learning rate for the optimizer\n",
    "is {best_hps.get('learning_rate')}.\n",
    "\"\"\")"
   ]
  },
  {
   "cell_type": "code",
   "execution_count": 531,
   "metadata": {},
   "outputs": [
    {
     "name": "stdout",
     "output_type": "stream",
     "text": [
      "Model: \"sequential_50\"\n",
      "_________________________________________________________________\n",
      " Layer (type)                Output Shape              Param #   \n",
      "=================================================================\n",
      " dense_200 (Dense)           (None, 16)                128       \n",
      "                                                                 \n",
      " dense_201 (Dense)           (None, 192)               3264      \n",
      "                                                                 \n",
      " dense_202 (Dense)           (None, 192)               37056     \n",
      "                                                                 \n",
      " dense_203 (Dense)           (None, 1)                 193       \n",
      "                                                                 \n",
      "=================================================================\n",
      "Total params: 40,641\n",
      "Trainable params: 40,641\n",
      "Non-trainable params: 0\n",
      "_________________________________________________________________\n"
     ]
    }
   ],
   "source": [
    "model=super_model(hp=best_hps)\n",
    "model.summary()"
   ]
  },
  {
   "cell_type": "code",
   "execution_count": 532,
   "metadata": {},
   "outputs": [
    {
     "name": "stdout",
     "output_type": "stream",
     "text": [
      "67/67 [==============================] - 2s 14ms/step - loss: 0.6891 - tp: 92822.0000 - fp: 6237.0000 - tn: 2040.0000 - fn: 35829.0000 - accuracy: 0.6928 - precision: 0.9370 - recall: 0.7215 - auc: 0.5512 - prc: 0.9493\n",
      "Loss: 0.6891\n"
     ]
    }
   ],
   "source": [
    "results = model.evaluate(X_train, y_train, batch_size=BATCH_SIZE, verbose=1)\n",
    "print(\"Loss: {:0.4f}\".format(results[0]))"
   ]
  },
  {
   "cell_type": "code",
   "execution_count": 533,
   "metadata": {},
   "outputs": [
    {
     "data": {
      "text/plain": [
       "92822.0"
      ]
     },
     "execution_count": 533,
     "metadata": {},
     "output_type": "execute_result"
    }
   ],
   "source": [
    "results[1]"
   ]
  },
  {
   "cell_type": "code",
   "execution_count": 534,
   "metadata": {},
   "outputs": [
    {
     "data": {
      "text/plain": [
       "array([2.73908518])"
      ]
     },
     "execution_count": 534,
     "metadata": {},
     "output_type": "execute_result"
    }
   ],
   "source": [
    "initial_bias=np.log([NOKS[0]/OKS[0]])\n",
    "initial_bias"
   ]
  },
  {
   "cell_type": "code",
   "execution_count": 535,
   "metadata": {},
   "outputs": [],
   "source": [
    "model = super_model(hp=best_hps,output_bias=initial_bias)"
   ]
  },
  {
   "cell_type": "code",
   "execution_count": 536,
   "metadata": {},
   "outputs": [
    {
     "name": "stdout",
     "output_type": "stream",
     "text": [
      "67/67 - 2s - loss: 0.7158 - tp: 92831.0000 - fp: 6237.0000 - tn: 10317.0000 - fn: 164471.0000 - accuracy: 0.3767 - precision: 0.9370 - recall: 0.3608 - auc: 0.5327 - prc: 0.9460 - 2s/epoch - 29ms/step\n",
      "Loss: 0.7158\n"
     ]
    }
   ],
   "source": [
    "results = model.evaluate(X_train, y_train, batch_size=BATCH_SIZE, verbose=2)\n",
    "print(\"Loss: {:0.4f}\".format(results[0]))"
   ]
  },
  {
   "cell_type": "markdown",
   "metadata": {},
   "source": [
    "Esto tampoco vale para un cagau. porque con categorical_crossentropy y una ultima capa con dos nodos me daba un valor tambien cercano incluso por debajo de 0.3 como se puede ver en el código comentado abajo:"
   ]
  },
  {
   "cell_type": "code",
   "execution_count": 537,
   "metadata": {},
   "outputs": [],
   "source": [
    "# initial_bias=None\n",
    "# results = model.evaluate(X_train, y_train, batch_size=10, verbose=0)\n",
    "# print(\"Loss: {:0.4f}\".format(results[0]))"
   ]
  },
  {
   "cell_type": "markdown",
   "metadata": {},
   "source": [
    "Punto de control de los pesos iniciales"
   ]
  },
  {
   "cell_type": "code",
   "execution_count": 538,
   "metadata": {},
   "outputs": [],
   "source": [
    "import tempfile\n",
    "import os\n",
    "\n",
    "initial_weights = os.path.join(tempfile.mkdtemp(), 'initial_weights')\n",
    "model.save_weights(initial_weights)"
   ]
  },
  {
   "cell_type": "markdown",
   "metadata": {},
   "source": [
    "## Train the model"
   ]
  },
  {
   "cell_type": "markdown",
   "metadata": {},
   "source": [
    "Vamos a realizar confirmar que el sesgo de pesos ayuda"
   ]
  },
  {
   "cell_type": "code",
   "execution_count": 539,
   "metadata": {},
   "outputs": [],
   "source": [
    "model = super_model(hp=best_hps)\n",
    "model.load_weights(initial_weights)\n",
    "model.layers[-1].bias.assign([0.0])\n",
    "zero_bias_history = model.fit(\n",
    "    X_train,\n",
    "    y_train,\n",
    "    batch_size=2048,\n",
    "    epochs=20,\n",
    "    validation_split=0.1, \n",
    "    verbose=0)"
   ]
  },
  {
   "cell_type": "code",
   "execution_count": 540,
   "metadata": {},
   "outputs": [],
   "source": [
    "model = super_model(hp=best_hps)\n",
    "model.load_weights(initial_weights)\n",
    "careful_bias_history = model.fit(\n",
    "    X_train,\n",
    "    y_train,\n",
    "    batch_size=2048,\n",
    "    epochs=20,\n",
    "    validation_split=0.1, \n",
    "    verbose=0)"
   ]
  },
  {
   "cell_type": "code",
   "execution_count": 541,
   "metadata": {},
   "outputs": [],
   "source": [
    "import matplotlib as mpl\n",
    "\n",
    "mpl.rcParams['figure.figsize'] = (12, 10)\n",
    "colors = plt.rcParams['axes.prop_cycle'].by_key()['color']"
   ]
  },
  {
   "cell_type": "code",
   "execution_count": 542,
   "metadata": {},
   "outputs": [],
   "source": [
    "def plot_loss(history, label, n):\n",
    "  # Use a log scale on y-axis to show the wide range of values.\n",
    "  plt.semilogy(history.epoch, history.history['loss'],\n",
    "               color=colors[n], label='Train ' + label)\n",
    "  plt.semilogy(history.epoch, history.history['val_loss'],\n",
    "               color=colors[n], label='Val ' + label,\n",
    "               linestyle=\"--\")\n",
    "  plt.xlabel('Epoch')\n",
    "  plt.ylabel('Loss')\n",
    "  plt.legend()"
   ]
  },
  {
   "cell_type": "code",
   "execution_count": 543,
   "metadata": {},
   "outputs": [
    {
     "data": {
      "text/plain": [
       "{'loss': [0.24136529862880707,\n",
       "  0.2102324217557907,\n",
       "  0.20117107033729553,\n",
       "  0.19652192294597626,\n",
       "  0.1938166469335556,\n",
       "  0.1914333701133728,\n",
       "  0.19136877357959747,\n",
       "  0.19065360724925995,\n",
       "  0.19022344052791595,\n",
       "  0.1895543485879898,\n",
       "  0.18987275660037994,\n",
       "  0.18857167661190033,\n",
       "  0.18931716680526733,\n",
       "  0.18790371716022491,\n",
       "  0.1881614327430725,\n",
       "  0.1873486340045929,\n",
       "  0.18692776560783386,\n",
       "  0.18713514506816864,\n",
       "  0.1884690374135971,\n",
       "  0.18654941022396088],\n",
       " 'tp': [206678.0,\n",
       "  115777.0,\n",
       "  115741.0,\n",
       "  115777.0,\n",
       "  115774.0,\n",
       "  115735.0,\n",
       "  115688.0,\n",
       "  115651.0,\n",
       "  115658.0,\n",
       "  115613.0,\n",
       "  115627.0,\n",
       "  115622.0,\n",
       "  115598.0,\n",
       "  115634.0,\n",
       "  115555.0,\n",
       "  115599.0,\n",
       "  115493.0,\n",
       "  115520.0,\n",
       "  115485.0,\n",
       "  115490.0],\n",
       " 'fp': [13576.0,\n",
       "  7325.0,\n",
       "  7152.0,\n",
       "  7124.0,\n",
       "  7107.0,\n",
       "  7072.0,\n",
       "  7052.0,\n",
       "  6969.0,\n",
       "  7025.0,\n",
       "  6961.0,\n",
       "  6962.0,\n",
       "  6939.0,\n",
       "  6936.0,\n",
       "  6970.0,\n",
       "  6889.0,\n",
       "  6923.0,\n",
       "  6832.0,\n",
       "  6831.0,\n",
       "  6800.0,\n",
       "  6836.0],\n",
       " 'tn': [10436.0,\n",
       "  133.0,\n",
       "  306.0,\n",
       "  334.0,\n",
       "  351.0,\n",
       "  386.0,\n",
       "  406.0,\n",
       "  489.0,\n",
       "  433.0,\n",
       "  497.0,\n",
       "  496.0,\n",
       "  519.0,\n",
       "  522.0,\n",
       "  488.0,\n",
       "  569.0,\n",
       "  535.0,\n",
       "  626.0,\n",
       "  627.0,\n",
       "  658.0,\n",
       "  622.0],\n",
       " 'fn': [166401.0,\n",
       "  0.0,\n",
       "  36.0,\n",
       "  0.0,\n",
       "  3.0,\n",
       "  42.0,\n",
       "  89.0,\n",
       "  126.0,\n",
       "  119.0,\n",
       "  164.0,\n",
       "  150.0,\n",
       "  155.0,\n",
       "  179.0,\n",
       "  143.0,\n",
       "  222.0,\n",
       "  178.0,\n",
       "  284.0,\n",
       "  257.0,\n",
       "  292.0,\n",
       "  287.0],\n",
       " 'accuracy': [0.5467613339424133,\n",
       "  0.9405606985092163,\n",
       "  0.9416723847389221,\n",
       "  0.9421917200088501,\n",
       "  0.942305326461792,\n",
       "  0.9422729015350342,\n",
       "  0.9420537948608398,\n",
       "  0.9424270987510681,\n",
       "  0.9420294761657715,\n",
       "  0.9421836137771606,\n",
       "  0.9422891139984131,\n",
       "  0.9424352049827576,\n",
       "  0.9422647953033447,\n",
       "  0.9422810077667236,\n",
       "  0.9422972202301025,\n",
       "  0.9423784017562866,\n",
       "  0.9422566890716553,\n",
       "  0.9424839019775391,\n",
       "  0.9424514174461365,\n",
       "  0.9421998858451843],\n",
       " 'precision': [0.9383620619773865,\n",
       "  0.9404965043067932,\n",
       "  0.9418030381202698,\n",
       "  0.9420346617698669,\n",
       "  0.9421635270118713,\n",
       "  0.9424136877059937,\n",
       "  0.9425452351570129,\n",
       "  0.9431658983230591,\n",
       "  0.9427385926246643,\n",
       "  0.9432098269462585,\n",
       "  0.943208634853363,\n",
       "  0.9433832764625549,\n",
       "  0.9433953166007996,\n",
       "  0.9431502819061279,\n",
       "  0.9437375664710999,\n",
       "  0.9434958696365356,\n",
       "  0.9441487789154053,\n",
       "  0.9441688060760498,\n",
       "  0.944392204284668,\n",
       "  0.9441165328025818],\n",
       " 'recall': [0.5539791584014893,\n",
       "  1.0,\n",
       "  0.9996890425682068,\n",
       "  1.0,\n",
       "  0.9999740719795227,\n",
       "  0.999637246131897,\n",
       "  0.9992312788963318,\n",
       "  0.9989116787910461,\n",
       "  0.9989721775054932,\n",
       "  0.9985834956169128,\n",
       "  0.9987044334411621,\n",
       "  0.9986612200737,\n",
       "  0.9984539151191711,\n",
       "  0.9987648725509644,\n",
       "  0.9980825185775757,\n",
       "  0.9984625577926636,\n",
       "  0.9975470304489136,\n",
       "  0.9977802038192749,\n",
       "  0.9974778890609741,\n",
       "  0.9975211024284363],\n",
       " 'auc': [0.5255400538444519,\n",
       "  0.6865119934082031,\n",
       "  0.7232155799865723,\n",
       "  0.7390638589859009,\n",
       "  0.7473005056381226,\n",
       "  0.7571753859519958,\n",
       "  0.7596803903579712,\n",
       "  0.7581640481948853,\n",
       "  0.7631508111953735,\n",
       "  0.7662363052368164,\n",
       "  0.764496922492981,\n",
       "  0.7722033262252808,\n",
       "  0.7667474150657654,\n",
       "  0.7733909487724304,\n",
       "  0.7743068933486938,\n",
       "  0.7776191234588623,\n",
       "  0.7810667753219604,\n",
       "  0.7768689393997192,\n",
       "  0.7720383405685425,\n",
       "  0.7818731069564819],\n",
       " 'prc': [0.9446361064910889,\n",
       "  0.9628374576568604,\n",
       "  0.9691404700279236,\n",
       "  0.9717040061950684,\n",
       "  0.9729411005973816,\n",
       "  0.9743802547454834,\n",
       "  0.9745442867279053,\n",
       "  0.9743906855583191,\n",
       "  0.9751709699630737,\n",
       "  0.975611686706543,\n",
       "  0.9754376411437988,\n",
       "  0.9763144850730896,\n",
       "  0.9757469296455383,\n",
       "  0.9765382409095764,\n",
       "  0.9765492677688599,\n",
       "  0.9768689274787903,\n",
       "  0.9775351285934448,\n",
       "  0.9768812656402588,\n",
       "  0.9765146970748901,\n",
       "  0.9776461124420166],\n",
       " 'val_loss': [0.213994100689888,\n",
       "  0.2074875682592392,\n",
       "  0.20376189053058624,\n",
       "  0.19698071479797363,\n",
       "  0.19476854801177979,\n",
       "  0.19679205119609833,\n",
       "  0.19563840329647064,\n",
       "  0.19320611655712128,\n",
       "  0.19161462783813477,\n",
       "  0.1914193332195282,\n",
       "  0.18947164714336395,\n",
       "  0.18945948779582977,\n",
       "  0.18887202441692352,\n",
       "  0.18721319735050201,\n",
       "  0.18766020238399506,\n",
       "  0.18668699264526367,\n",
       "  0.18740209937095642,\n",
       "  0.18643900752067566,\n",
       "  0.18801456689834595,\n",
       "  0.1862914264202118],\n",
       " 'val_tp': [12874.0,\n",
       "  12874.0,\n",
       "  12873.0,\n",
       "  12874.0,\n",
       "  12873.0,\n",
       "  12849.0,\n",
       "  12874.0,\n",
       "  12871.0,\n",
       "  12874.0,\n",
       "  12844.0,\n",
       "  12871.0,\n",
       "  12846.0,\n",
       "  12874.0,\n",
       "  12873.0,\n",
       "  12851.0,\n",
       "  12847.0,\n",
       "  12874.0,\n",
       "  12817.0,\n",
       "  12874.0,\n",
       "  12820.0],\n",
       " 'val_fp': [817.0,\n",
       "  798.0,\n",
       "  797.0,\n",
       "  797.0,\n",
       "  793.0,\n",
       "  793.0,\n",
       "  793.0,\n",
       "  794.0,\n",
       "  794.0,\n",
       "  753.0,\n",
       "  789.0,\n",
       "  757.0,\n",
       "  793.0,\n",
       "  793.0,\n",
       "  763.0,\n",
       "  757.0,\n",
       "  793.0,\n",
       "  718.0,\n",
       "  793.0,\n",
       "  722.0],\n",
       " 'val_tn': [2.0,\n",
       "  21.0,\n",
       "  22.0,\n",
       "  22.0,\n",
       "  26.0,\n",
       "  26.0,\n",
       "  26.0,\n",
       "  25.0,\n",
       "  25.0,\n",
       "  66.0,\n",
       "  30.0,\n",
       "  62.0,\n",
       "  26.0,\n",
       "  26.0,\n",
       "  56.0,\n",
       "  62.0,\n",
       "  26.0,\n",
       "  101.0,\n",
       "  26.0,\n",
       "  97.0],\n",
       " 'val_fn': [0.0,\n",
       "  0.0,\n",
       "  1.0,\n",
       "  0.0,\n",
       "  1.0,\n",
       "  25.0,\n",
       "  0.0,\n",
       "  3.0,\n",
       "  0.0,\n",
       "  30.0,\n",
       "  3.0,\n",
       "  28.0,\n",
       "  0.0,\n",
       "  1.0,\n",
       "  23.0,\n",
       "  27.0,\n",
       "  0.0,\n",
       "  57.0,\n",
       "  0.0,\n",
       "  54.0],\n",
       " 'val_accuracy': [0.9403344988822937,\n",
       "  0.94172203540802,\n",
       "  0.94172203540802,\n",
       "  0.9417950510978699,\n",
       "  0.9420141577720642,\n",
       "  0.9402614235877991,\n",
       "  0.9420871734619141,\n",
       "  0.9417950510978699,\n",
       "  0.9420141577720642,\n",
       "  0.9428175091743469,\n",
       "  0.9421602487564087,\n",
       "  0.9426714181900024,\n",
       "  0.9420871734619141,\n",
       "  0.9420141577720642,\n",
       "  0.9425984025001526,\n",
       "  0.9427444934844971,\n",
       "  0.9420871734619141,\n",
       "  0.9434017539024353,\n",
       "  0.9420871734619141,\n",
       "  0.9433286786079407],\n",
       " 'val_precision': [0.9403257369995117,\n",
       "  0.9416325092315674,\n",
       "  0.9416971206665039,\n",
       "  0.9417014122009277,\n",
       "  0.9419727921485901,\n",
       "  0.9418706893920898,\n",
       "  0.9419770240783691,\n",
       "  0.9418953657150269,\n",
       "  0.9419081211090088,\n",
       "  0.9446201324462891,\n",
       "  0.9422401189804077,\n",
       "  0.94435054063797,\n",
       "  0.9419770240783691,\n",
       "  0.9419727921485901,\n",
       "  0.9439547657966614,\n",
       "  0.9443545937538147,\n",
       "  0.9419770240783691,\n",
       "  0.9469523429870605,\n",
       "  0.9419770240783691,\n",
       "  0.9466843605041504],\n",
       " 'val_recall': [1.0,\n",
       "  1.0,\n",
       "  0.9999223351478577,\n",
       "  1.0,\n",
       "  0.9999223351478577,\n",
       "  0.9980580806732178,\n",
       "  1.0,\n",
       "  0.9997669458389282,\n",
       "  1.0,\n",
       "  0.9976696968078613,\n",
       "  0.9997669458389282,\n",
       "  0.9978250861167908,\n",
       "  1.0,\n",
       "  0.9999223351478577,\n",
       "  0.9982134699821472,\n",
       "  0.9979027509689331,\n",
       "  1.0,\n",
       "  0.9955724477767944,\n",
       "  1.0,\n",
       "  0.9958055019378662],\n",
       " 'val_auc': [0.6668251156806946,\n",
       "  0.6964600086212158,\n",
       "  0.7285180687904358,\n",
       "  0.740285336971283,\n",
       "  0.7486841678619385,\n",
       "  0.7529198527336121,\n",
       "  0.7514551281929016,\n",
       "  0.7612789273262024,\n",
       "  0.7541623115539551,\n",
       "  0.7693800330162048,\n",
       "  0.7667895555496216,\n",
       "  0.7661216259002686,\n",
       "  0.7681103944778442,\n",
       "  0.779900074005127,\n",
       "  0.7735398411750793,\n",
       "  0.7789146304130554,\n",
       "  0.7801804542541504,\n",
       "  0.7834022641181946,\n",
       "  0.7819870710372925,\n",
       "  0.783003568649292],\n",
       " 'val_prc': [0.9594391584396362,\n",
       "  0.9665887951850891,\n",
       "  0.9704713225364685,\n",
       "  0.9716135859489441,\n",
       "  0.9731168746948242,\n",
       "  0.9742756485939026,\n",
       "  0.9740382432937622,\n",
       "  0.9754370450973511,\n",
       "  0.9738757014274597,\n",
       "  0.9767178893089294,\n",
       "  0.9758769273757935,\n",
       "  0.9758768081665039,\n",
       "  0.9765071868896484,\n",
       "  0.9775973558425903,\n",
       "  0.9772007465362549,\n",
       "  0.9778091311454773,\n",
       "  0.9780244827270508,\n",
       "  0.9789028167724609,\n",
       "  0.9782707095146179,\n",
       "  0.9782155156135559]}"
      ]
     },
     "execution_count": 543,
     "metadata": {},
     "output_type": "execute_result"
    }
   ],
   "source": [
    "zero_bias_history.history"
   ]
  },
  {
   "cell_type": "code",
   "execution_count": 544,
   "metadata": {},
   "outputs": [
    {
     "data": {
      "image/png": "[encoded data removed]",
      "text/plain": [
       "<Figure size 864x720 with 1 Axes>"
      ]
     },
     "metadata": {
      "needs_background": "light"
     },
     "output_type": "display_data"
    }
   ],
   "source": [
    "plot_loss(zero_bias_history, \"Zero Bias\", 0)\n",
    "plot_loss(careful_bias_history, \"Careful Bias\", 1)"
   ]
  },
  {
   "cell_type": "markdown",
   "metadata": {},
   "source": [
    "Entrenamiento a huevo para el modelo original"
   ]
  },
  {
   "cell_type": "code",
   "execution_count": 545,
   "metadata": {},
   "outputs": [
    {
     "name": "stdout",
     "output_type": "stream",
     "text": [
      "Epoch 1/100\n",
      "61/61 [==============================] - 4s 30ms/step - loss: 0.2409 - tp: 126723.0000 - fp: 8129.0000 - tn: 148.0000 - fn: 1928.0000 - accuracy: 0.9266 - precision: 0.9397 - recall: 0.9850 - auc: 0.6235 - prc: 0.9563 - val_loss: 0.2158 - val_tp: 12874.0000 - val_fp: 817.0000 - val_tn: 2.0000 - val_fn: 0.0000e+00 - val_accuracy: 0.9403 - val_precision: 0.9403 - val_recall: 1.0000 - val_auc: 0.6792 - val_prc: 0.9655\n",
      "Epoch 2/100\n",
      "61/61 [==============================] - 1s 12ms/step - loss: 0.2125 - tp: 115777.0000 - fp: 7326.0000 - tn: 132.0000 - fn: 0.0000e+00 - accuracy: 0.9406 - precision: 0.9405 - recall: 1.0000 - auc: 0.6877 - prc: 0.9655 - val_loss: 0.2065 - val_tp: 12874.0000 - val_fp: 798.0000 - val_tn: 21.0000 - val_fn: 0.0000e+00 - val_accuracy: 0.9417 - val_precision: 0.9416 - val_recall: 1.0000 - val_auc: 0.7165 - val_prc: 0.9712\n",
      "Epoch 3/100\n",
      "61/61 [==============================] - 1s 12ms/step - loss: 0.2041 - tp: 115771.0000 - fp: 7151.0000 - tn: 307.0000 - fn: 6.0000 - accuracy: 0.9419 - precision: 0.9418 - recall: 0.9999 - auc: 0.7194 - prc: 0.9702 - val_loss: 0.2037 - val_tp: 12874.0000 - val_fp: 798.0000 - val_tn: 21.0000 - val_fn: 0.0000e+00 - val_accuracy: 0.9417 - val_precision: 0.9416 - val_recall: 1.0000 - val_auc: 0.7175 - val_prc: 0.9703\n",
      "Epoch 4/100\n",
      "61/61 [==============================] - 1s 14ms/step - loss: 0.1996 - tp: 115766.0000 - fp: 7131.0000 - tn: 327.0000 - fn: 11.0000 - accuracy: 0.9420 - precision: 0.9420 - recall: 0.9999 - auc: 0.7327 - prc: 0.9715 - val_loss: 0.1984 - val_tp: 12874.0000 - val_fp: 798.0000 - val_tn: 21.0000 - val_fn: 0.0000e+00 - val_accuracy: 0.9417 - val_precision: 0.9416 - val_recall: 1.0000 - val_auc: 0.7390 - val_prc: 0.9728\n",
      "Epoch 5/100\n",
      "61/61 [==============================] - 1s 12ms/step - loss: 0.1949 - tp: 115731.0000 - fp: 7084.0000 - tn: 374.0000 - fn: 46.0000 - accuracy: 0.9421 - precision: 0.9423 - recall: 0.9996 - auc: 0.7482 - prc: 0.9733 - val_loss: 0.1956 - val_tp: 12873.0000 - val_fp: 796.0000 - val_tn: 23.0000 - val_fn: 1.0000 - val_accuracy: 0.9418 - val_precision: 0.9418 - val_recall: 0.9999 - val_auc: 0.7462 - val_prc: 0.9742\n",
      "Epoch 6/100\n",
      "61/61 [==============================] - 1s 12ms/step - loss: 0.1926 - tp: 115715.0000 - fp: 7061.0000 - tn: 397.0000 - fn: 62.0000 - accuracy: 0.9422 - precision: 0.9425 - recall: 0.9995 - auc: 0.7524 - prc: 0.9737 - val_loss: 0.1943 - val_tp: 12874.0000 - val_fp: 796.0000 - val_tn: 23.0000 - val_fn: 0.0000e+00 - val_accuracy: 0.9419 - val_precision: 0.9418 - val_recall: 1.0000 - val_auc: 0.7548 - val_prc: 0.9753\n",
      "Epoch 7/100\n",
      "61/61 [==============================] - 1s 12ms/step - loss: 0.1934 - tp: 115685.0000 - fp: 7065.0000 - tn: 393.0000 - fn: 92.0000 - accuracy: 0.9419 - precision: 0.9424 - recall: 0.9992 - auc: 0.7506 - prc: 0.9737 - val_loss: 0.1950 - val_tp: 12871.0000 - val_fp: 798.0000 - val_tn: 21.0000 - val_fn: 3.0000 - val_accuracy: 0.9415 - val_precision: 0.9416 - val_recall: 0.9998 - val_auc: 0.7495 - val_prc: 0.9747\n",
      "Epoch 8/100\n",
      "61/61 [==============================] - 1s 12ms/step - loss: 0.1921 - tp: 115597.0000 - fp: 7002.0000 - tn: 456.0000 - fn: 180.0000 - accuracy: 0.9417 - precision: 0.9429 - recall: 0.9984 - auc: 0.7543 - prc: 0.9737 - val_loss: 0.1915 - val_tp: 12844.0000 - val_fp: 757.0000 - val_tn: 62.0000 - val_fn: 30.0000 - val_accuracy: 0.9425 - val_precision: 0.9443 - val_recall: 0.9977 - val_auc: 0.7666 - val_prc: 0.9764\n",
      "Epoch 9/100\n",
      "61/61 [==============================] - 1s 14ms/step - loss: 0.1910 - tp: 115545.0000 - fp: 6921.0000 - tn: 537.0000 - fn: 232.0000 - accuracy: 0.9420 - precision: 0.9435 - recall: 0.9980 - auc: 0.7586 - prc: 0.9741 - val_loss: 0.1906 - val_tp: 12843.0000 - val_fp: 755.0000 - val_tn: 64.0000 - val_fn: 31.0000 - val_accuracy: 0.9426 - val_precision: 0.9445 - val_recall: 0.9976 - val_auc: 0.7636 - val_prc: 0.9763\n",
      "Epoch 10/100\n",
      "61/61 [==============================] - 1s 13ms/step - loss: 0.1898 - tp: 115545.0000 - fp: 6917.0000 - tn: 541.0000 - fn: 232.0000 - accuracy: 0.9420 - precision: 0.9435 - recall: 0.9980 - auc: 0.7660 - prc: 0.9753 - val_loss: 0.1897 - val_tp: 12874.0000 - val_fp: 795.0000 - val_tn: 24.0000 - val_fn: 0.0000e+00 - val_accuracy: 0.9419 - val_precision: 0.9418 - val_recall: 1.0000 - val_auc: 0.7716 - val_prc: 0.9773\n",
      "Epoch 11/100\n",
      "61/61 [==============================] - 1s 12ms/step - loss: 0.1892 - tp: 115600.0000 - fp: 6962.0000 - tn: 496.0000 - fn: 177.0000 - accuracy: 0.9421 - precision: 0.9432 - recall: 0.9985 - auc: 0.7669 - prc: 0.9755 - val_loss: 0.1892 - val_tp: 12874.0000 - val_fp: 794.0000 - val_tn: 25.0000 - val_fn: 0.0000e+00 - val_accuracy: 0.9420 - val_precision: 0.9419 - val_recall: 1.0000 - val_auc: 0.7728 - val_prc: 0.9769\n",
      "Epoch 12/100\n",
      "61/61 [==============================] - 1s 11ms/step - loss: 0.1892 - tp: 115551.0000 - fp: 6892.0000 - tn: 566.0000 - fn: 226.0000 - accuracy: 0.9422 - precision: 0.9437 - recall: 0.9980 - auc: 0.7686 - prc: 0.9760 - val_loss: 0.1886 - val_tp: 12874.0000 - val_fp: 795.0000 - val_tn: 24.0000 - val_fn: 0.0000e+00 - val_accuracy: 0.9419 - val_precision: 0.9418 - val_recall: 1.0000 - val_auc: 0.7715 - val_prc: 0.9770\n",
      "Epoch 13/100\n",
      "61/61 [==============================] - 1s 11ms/step - loss: 0.1887 - tp: 115589.0000 - fp: 6924.0000 - tn: 534.0000 - fn: 188.0000 - accuracy: 0.9423 - precision: 0.9435 - recall: 0.9984 - auc: 0.7709 - prc: 0.9760 - val_loss: 0.1875 - val_tp: 12844.0000 - val_fp: 754.0000 - val_tn: 65.0000 - val_fn: 30.0000 - val_accuracy: 0.9427 - val_precision: 0.9446 - val_recall: 0.9977 - val_auc: 0.7804 - val_prc: 0.9785\n",
      "Epoch 14/100\n",
      "61/61 [==============================] - 1s 13ms/step - loss: 0.1879 - tp: 115629.0000 - fp: 6973.0000 - tn: 485.0000 - fn: 148.0000 - accuracy: 0.9422 - precision: 0.9431 - recall: 0.9987 - auc: 0.7737 - prc: 0.9765 - val_loss: 0.1890 - val_tp: 12874.0000 - val_fp: 794.0000 - val_tn: 25.0000 - val_fn: 0.0000e+00 - val_accuracy: 0.9420 - val_precision: 0.9419 - val_recall: 1.0000 - val_auc: 0.7747 - val_prc: 0.9773\n",
      "Epoch 15/100\n",
      "61/61 [==============================] - 1s 13ms/step - loss: 0.1880 - tp: 115616.0000 - fp: 6959.0000 - tn: 499.0000 - fn: 161.0000 - accuracy: 0.9422 - precision: 0.9432 - recall: 0.9986 - auc: 0.7726 - prc: 0.9765 - val_loss: 0.1872 - val_tp: 12816.0000 - val_fp: 718.0000 - val_tn: 101.0000 - val_fn: 58.0000 - val_accuracy: 0.9433 - val_precision: 0.9469 - val_recall: 0.9955 - val_auc: 0.7774 - val_prc: 0.9779\n",
      "Epoch 16/100\n",
      "61/61 [==============================] - 1s 13ms/step - loss: 0.1872 - tp: 115556.0000 - fp: 6884.0000 - tn: 574.0000 - fn: 221.0000 - accuracy: 0.9423 - precision: 0.9438 - recall: 0.9981 - auc: 0.7774 - prc: 0.9770 - val_loss: 0.1865 - val_tp: 12871.0000 - val_fp: 789.0000 - val_tn: 30.0000 - val_fn: 3.0000 - val_accuracy: 0.9422 - val_precision: 0.9422 - val_recall: 0.9998 - val_auc: 0.7820 - val_prc: 0.9781\n",
      "Epoch 17/100\n",
      "61/61 [==============================] - 1s 13ms/step - loss: 0.1872 - tp: 115544.0000 - fp: 6863.0000 - tn: 595.0000 - fn: 233.0000 - accuracy: 0.9424 - precision: 0.9439 - recall: 0.9980 - auc: 0.7774 - prc: 0.9769 - val_loss: 0.1872 - val_tp: 12830.0000 - val_fp: 748.0000 - val_tn: 71.0000 - val_fn: 44.0000 - val_accuracy: 0.9422 - val_precision: 0.9449 - val_recall: 0.9966 - val_auc: 0.7759 - val_prc: 0.9781\n",
      "Epoch 18/100\n",
      "61/61 [==============================] - 1s 12ms/step - loss: 0.1878 - tp: 115515.0000 - fp: 6867.0000 - tn: 591.0000 - fn: 262.0000 - accuracy: 0.9422 - precision: 0.9439 - recall: 0.9977 - auc: 0.7752 - prc: 0.9768 - val_loss: 0.1864 - val_tp: 12844.0000 - val_fp: 754.0000 - val_tn: 65.0000 - val_fn: 30.0000 - val_accuracy: 0.9427 - val_precision: 0.9446 - val_recall: 0.9977 - val_auc: 0.7830 - val_prc: 0.9789\n",
      "Epoch 19/100\n",
      "61/61 [==============================] - 1s 13ms/step - loss: 0.1870 - tp: 115601.0000 - fp: 6939.0000 - tn: 519.0000 - fn: 176.0000 - accuracy: 0.9423 - precision: 0.9434 - recall: 0.9985 - auc: 0.7778 - prc: 0.9769 - val_loss: 0.1867 - val_tp: 12874.0000 - val_fp: 794.0000 - val_tn: 25.0000 - val_fn: 0.0000e+00 - val_accuracy: 0.9420 - val_precision: 0.9419 - val_recall: 1.0000 - val_auc: 0.7842 - val_prc: 0.9791\n",
      "Epoch 20/100\n",
      "61/61 [==============================] - 1s 13ms/step - loss: 0.1868 - tp: 115540.0000 - fp: 6911.0000 - tn: 547.0000 - fn: 237.0000 - accuracy: 0.9420 - precision: 0.9436 - recall: 0.9980 - auc: 0.7800 - prc: 0.9774 - val_loss: 0.1855 - val_tp: 12844.0000 - val_fp: 753.0000 - val_tn: 66.0000 - val_fn: 30.0000 - val_accuracy: 0.9428 - val_precision: 0.9446 - val_recall: 0.9977 - val_auc: 0.7884 - val_prc: 0.9797\n",
      "Epoch 21/100\n",
      "61/61 [==============================] - 1s 13ms/step - loss: 0.1858 - tp: 115509.0000 - fp: 6820.0000 - tn: 638.0000 - fn: 268.0000 - accuracy: 0.9425 - precision: 0.9442 - recall: 0.9977 - auc: 0.7848 - prc: 0.9780 - val_loss: 0.1882 - val_tp: 12820.0000 - val_fp: 722.0000 - val_tn: 97.0000 - val_fn: 54.0000 - val_accuracy: 0.9433 - val_precision: 0.9467 - val_recall: 0.9958 - val_auc: 0.7744 - val_prc: 0.9775\n",
      "Epoch 22/100\n",
      "61/61 [==============================] - 1s 15ms/step - loss: 0.1857 - tp: 115537.0000 - fp: 6864.0000 - tn: 594.0000 - fn: 240.0000 - accuracy: 0.9424 - precision: 0.9439 - recall: 0.9979 - auc: 0.7847 - prc: 0.9780 - val_loss: 0.1876 - val_tp: 12871.0000 - val_fp: 790.0000 - val_tn: 29.0000 - val_fn: 3.0000 - val_accuracy: 0.9421 - val_precision: 0.9422 - val_recall: 0.9998 - val_auc: 0.7833 - val_prc: 0.9784\n",
      "Epoch 23/100\n",
      "61/61 [==============================] - 1s 13ms/step - loss: 0.1853 - tp: 115611.0000 - fp: 6956.0000 - tn: 502.0000 - fn: 166.0000 - accuracy: 0.9422 - precision: 0.9432 - recall: 0.9986 - auc: 0.7879 - prc: 0.9786 - val_loss: 0.1863 - val_tp: 12844.0000 - val_fp: 753.0000 - val_tn: 66.0000 - val_fn: 30.0000 - val_accuracy: 0.9428 - val_precision: 0.9446 - val_recall: 0.9977 - val_auc: 0.7870 - val_prc: 0.9794\n",
      "Epoch 24/100\n",
      "61/61 [==============================] - 1s 14ms/step - loss: 0.1856 - tp: 115575.0000 - fp: 6917.0000 - tn: 541.0000 - fn: 202.0000 - accuracy: 0.9422 - precision: 0.9435 - recall: 0.9983 - auc: 0.7873 - prc: 0.9785 - val_loss: 0.1868 - val_tp: 12874.0000 - val_fp: 794.0000 - val_tn: 25.0000 - val_fn: 0.0000e+00 - val_accuracy: 0.9420 - val_precision: 0.9419 - val_recall: 1.0000 - val_auc: 0.7932 - val_prc: 0.9801\n",
      "Epoch 25/100\n",
      "61/61 [==============================] - 1s 16ms/step - loss: 0.1855 - tp: 115548.0000 - fp: 6877.0000 - tn: 581.0000 - fn: 229.0000 - accuracy: 0.9423 - precision: 0.9438 - recall: 0.9980 - auc: 0.7867 - prc: 0.9786 - val_loss: 0.1879 - val_tp: 12874.0000 - val_fp: 793.0000 - val_tn: 26.0000 - val_fn: 0.0000e+00 - val_accuracy: 0.9421 - val_precision: 0.9420 - val_recall: 1.0000 - val_auc: 0.7850 - val_prc: 0.9789\n",
      "Epoch 26/100\n",
      "61/61 [==============================] - 1s 13ms/step - loss: 0.1852 - tp: 115478.0000 - fp: 6825.0000 - tn: 633.0000 - fn: 299.0000 - accuracy: 0.9422 - precision: 0.9442 - recall: 0.9974 - auc: 0.7889 - prc: 0.9786 - val_loss: 0.1850 - val_tp: 12874.0000 - val_fp: 794.0000 - val_tn: 25.0000 - val_fn: 0.0000e+00 - val_accuracy: 0.9420 - val_precision: 0.9419 - val_recall: 1.0000 - val_auc: 0.7900 - val_prc: 0.9796\n",
      "Epoch 27/100\n",
      "61/61 [==============================] - 1s 12ms/step - loss: 0.1847 - tp: 115526.0000 - fp: 6839.0000 - tn: 619.0000 - fn: 251.0000 - accuracy: 0.9425 - precision: 0.9441 - recall: 0.9978 - auc: 0.7915 - prc: 0.9790 - val_loss: 0.1852 - val_tp: 12874.0000 - val_fp: 793.0000 - val_tn: 26.0000 - val_fn: 0.0000e+00 - val_accuracy: 0.9421 - val_precision: 0.9420 - val_recall: 1.0000 - val_auc: 0.7964 - val_prc: 0.9805\n",
      "Epoch 28/100\n",
      "61/61 [==============================] - 1s 12ms/step - loss: 0.1848 - tp: 115624.0000 - fp: 6953.0000 - tn: 505.0000 - fn: 153.0000 - accuracy: 0.9423 - precision: 0.9433 - recall: 0.9987 - auc: 0.7914 - prc: 0.9791 - val_loss: 0.1857 - val_tp: 12820.0000 - val_fp: 722.0000 - val_tn: 97.0000 - val_fn: 54.0000 - val_accuracy: 0.9433 - val_precision: 0.9467 - val_recall: 0.9958 - val_auc: 0.7855 - val_prc: 0.9793\n",
      "Epoch 29/100\n",
      "61/61 [==============================] - 1s 14ms/step - loss: 0.1845 - tp: 115539.0000 - fp: 6870.0000 - tn: 588.0000 - fn: 238.0000 - accuracy: 0.9423 - precision: 0.9439 - recall: 0.9979 - auc: 0.7936 - prc: 0.9793 - val_loss: 0.1830 - val_tp: 12841.0000 - val_fp: 751.0000 - val_tn: 68.0000 - val_fn: 33.0000 - val_accuracy: 0.9427 - val_precision: 0.9447 - val_recall: 0.9974 - val_auc: 0.8021 - val_prc: 0.9814\n",
      "Epoch 30/100\n",
      "61/61 [==============================] - 1s 14ms/step - loss: 0.1844 - tp: 115595.0000 - fp: 6904.0000 - tn: 554.0000 - fn: 182.0000 - accuracy: 0.9425 - precision: 0.9436 - recall: 0.9984 - auc: 0.7937 - prc: 0.9795 - val_loss: 0.1839 - val_tp: 12844.0000 - val_fp: 753.0000 - val_tn: 66.0000 - val_fn: 30.0000 - val_accuracy: 0.9428 - val_precision: 0.9446 - val_recall: 0.9977 - val_auc: 0.7976 - val_prc: 0.9803\n",
      "Epoch 31/100\n",
      "61/61 [==============================] - 1s 13ms/step - loss: 0.1837 - tp: 115570.0000 - fp: 6900.0000 - tn: 558.0000 - fn: 207.0000 - accuracy: 0.9423 - precision: 0.9437 - recall: 0.9982 - auc: 0.7971 - prc: 0.9798 - val_loss: 0.1843 - val_tp: 12847.0000 - val_fp: 758.0000 - val_tn: 61.0000 - val_fn: 27.0000 - val_accuracy: 0.9427 - val_precision: 0.9443 - val_recall: 0.9979 - val_auc: 0.7938 - val_prc: 0.9802\n",
      "Epoch 32/100\n",
      "61/61 [==============================] - 1s 13ms/step - loss: 0.1841 - tp: 115538.0000 - fp: 6898.0000 - tn: 560.0000 - fn: 239.0000 - accuracy: 0.9421 - precision: 0.9437 - recall: 0.9979 - auc: 0.7932 - prc: 0.9794 - val_loss: 0.1830 - val_tp: 12847.0000 - val_fp: 757.0000 - val_tn: 62.0000 - val_fn: 27.0000 - val_accuracy: 0.9427 - val_precision: 0.9444 - val_recall: 0.9979 - val_auc: 0.8012 - val_prc: 0.9815\n",
      "Epoch 33/100\n",
      "61/61 [==============================] - 1s 13ms/step - loss: 0.1844 - tp: 115564.0000 - fp: 6909.0000 - tn: 549.0000 - fn: 213.0000 - accuracy: 0.9422 - precision: 0.9436 - recall: 0.9982 - auc: 0.7942 - prc: 0.9794 - val_loss: 0.1837 - val_tp: 12817.0000 - val_fp: 718.0000 - val_tn: 101.0000 - val_fn: 57.0000 - val_accuracy: 0.9434 - val_precision: 0.9470 - val_recall: 0.9956 - val_auc: 0.7987 - val_prc: 0.9802\n",
      "Epoch 34/100\n",
      "61/61 [==============================] - 1s 14ms/step - loss: 0.1840 - tp: 115602.0000 - fp: 6920.0000 - tn: 538.0000 - fn: 175.0000 - accuracy: 0.9424 - precision: 0.9435 - recall: 0.9985 - auc: 0.7964 - prc: 0.9798 - val_loss: 0.1852 - val_tp: 12816.0000 - val_fp: 718.0000 - val_tn: 101.0000 - val_fn: 58.0000 - val_accuracy: 0.9433 - val_precision: 0.9469 - val_recall: 0.9955 - val_auc: 0.7950 - val_prc: 0.9805\n",
      "Epoch 35/100\n",
      "61/61 [==============================] - 1s 14ms/step - loss: 0.1832 - tp: 115455.0000 - fp: 6782.0000 - tn: 676.0000 - fn: 322.0000 - accuracy: 0.9424 - precision: 0.9445 - recall: 0.9972 - auc: 0.8003 - prc: 0.9804 - val_loss: 0.1838 - val_tp: 12847.0000 - val_fp: 757.0000 - val_tn: 62.0000 - val_fn: 27.0000 - val_accuracy: 0.9427 - val_precision: 0.9444 - val_recall: 0.9979 - val_auc: 0.7980 - val_prc: 0.9805\n",
      "Epoch 36/100\n",
      "61/61 [==============================] - 1s 14ms/step - loss: 0.1833 - tp: 115457.0000 - fp: 6786.0000 - tn: 672.0000 - fn: 320.0000 - accuracy: 0.9423 - precision: 0.9445 - recall: 0.9972 - auc: 0.7992 - prc: 0.9803 - val_loss: 0.1841 - val_tp: 12874.0000 - val_fp: 792.0000 - val_tn: 27.0000 - val_fn: 0.0000e+00 - val_accuracy: 0.9422 - val_precision: 0.9420 - val_recall: 1.0000 - val_auc: 0.8032 - val_prc: 0.9812\n",
      "Epoch 37/100\n",
      "61/61 [==============================] - 1s 13ms/step - loss: 0.1839 - tp: 115473.0000 - fp: 6835.0000 - tn: 623.0000 - fn: 304.0000 - accuracy: 0.9421 - precision: 0.9441 - recall: 0.9974 - auc: 0.7974 - prc: 0.9799 - val_loss: 0.1859 - val_tp: 12814.0000 - val_fp: 717.0000 - val_tn: 102.0000 - val_fn: 60.0000 - val_accuracy: 0.9433 - val_precision: 0.9470 - val_recall: 0.9953 - val_auc: 0.7914 - val_prc: 0.9800\n",
      "Epoch 38/100\n",
      "61/61 [==============================] - 1s 12ms/step - loss: 0.1839 - tp: 115607.0000 - fp: 6972.0000 - tn: 486.0000 - fn: 170.0000 - accuracy: 0.9420 - precision: 0.9431 - recall: 0.9985 - auc: 0.7959 - prc: 0.9796 - val_loss: 0.1830 - val_tp: 12871.0000 - val_fp: 789.0000 - val_tn: 30.0000 - val_fn: 3.0000 - val_accuracy: 0.9422 - val_precision: 0.9422 - val_recall: 0.9998 - val_auc: 0.7997 - val_prc: 0.9809\n",
      "Epoch 39/100\n",
      "61/61 [==============================] - 1s 16ms/step - loss: 0.1827 - tp: 115504.0000 - fp: 6844.0000 - tn: 614.0000 - fn: 273.0000 - accuracy: 0.9422 - precision: 0.9441 - recall: 0.9976 - auc: 0.8015 - prc: 0.9805 - val_loss: 0.1827 - val_tp: 12815.0000 - val_fp: 718.0000 - val_tn: 101.0000 - val_fn: 59.0000 - val_accuracy: 0.9433 - val_precision: 0.9469 - val_recall: 0.9954 - val_auc: 0.8020 - val_prc: 0.9812\n",
      "Epoch 40/100\n",
      "61/61 [==============================] - 1s 16ms/step - loss: 0.1831 - tp: 115593.0000 - fp: 6940.0000 - tn: 518.0000 - fn: 184.0000 - accuracy: 0.9422 - precision: 0.9434 - recall: 0.9984 - auc: 0.8006 - prc: 0.9805 - val_loss: 0.1834 - val_tp: 12814.0000 - val_fp: 717.0000 - val_tn: 102.0000 - val_fn: 60.0000 - val_accuracy: 0.9433 - val_precision: 0.9470 - val_recall: 0.9953 - val_auc: 0.7990 - val_prc: 0.9811\n",
      "Epoch 41/100\n",
      "61/61 [==============================] - 1s 13ms/step - loss: 0.1823 - tp: 115514.0000 - fp: 6874.0000 - tn: 584.0000 - fn: 263.0000 - accuracy: 0.9421 - precision: 0.9438 - recall: 0.9977 - auc: 0.8040 - prc: 0.9808 - val_loss: 0.1834 - val_tp: 12874.0000 - val_fp: 794.0000 - val_tn: 25.0000 - val_fn: 0.0000e+00 - val_accuracy: 0.9420 - val_precision: 0.9419 - val_recall: 1.0000 - val_auc: 0.8005 - val_prc: 0.9811\n",
      "Epoch 42/100\n",
      "60/61 [============================>.] - ETA: 0s - loss: 0.1829 - tp: 115190.0000 - fp: 6846.0000 - tn: 588.0000 - fn: 256.0000 - accuracy: 0.9422 - precision: 0.9439 - recall: 0.9978 - auc: 0.8008 - prc: 0.9805Restoring model weights from the end of the best epoch: 32.\n",
      "61/61 [==============================] - 1s 11ms/step - loss: 0.1830 - tp: 115521.0000 - fp: 6869.0000 - tn: 589.0000 - fn: 256.0000 - accuracy: 0.9422 - precision: 0.9439 - recall: 0.9978 - auc: 0.8006 - prc: 0.9804 - val_loss: 0.1839 - val_tp: 12874.0000 - val_fp: 793.0000 - val_tn: 26.0000 - val_fn: 0.0000e+00 - val_accuracy: 0.9421 - val_precision: 0.9420 - val_recall: 1.0000 - val_auc: 0.8027 - val_prc: 0.9810\n",
      "Epoch 00042: early stopping\n"
     ]
    }
   ],
   "source": [
    "model = super_model(hp=best_hps)\n",
    "model.load_weights(initial_weights)\n",
    "baseline_history=model.fit(x=X_train,y=y_train, validation_split=0.1,batch_size=BATCH_SIZE,epochs=100,callbacks=[early_stopping] , verbose=1)\n",
    "\n"
   ]
  },
  {
   "cell_type": "markdown",
   "metadata": {},
   "source": [
    "Esto me va a decir cual es el best epoch, reentreno el modelo definiendo el best epoch."
   ]
  },
  {
   "cell_type": "code",
   "execution_count": 546,
   "metadata": {},
   "outputs": [
    {
     "name": "stdout",
     "output_type": "stream",
     "text": [
      "Epoch 1/50\n",
      "54/54 [==============================] - 4s 34ms/step - loss: 0.2339 - tp: 115792.0000 - fp: 7417.0000 - tn: 26.0000 - fn: 0.0000e+00 - accuracy: 0.9398 - precision: 0.9398 - recall: 1.0000 - auc: 0.6388 - prc: 0.9587 - val_loss: 0.2129 - val_tp: 25733.0000 - val_fp: 1653.0000 - val_tn: 0.0000e+00 - val_fn: 0.0000e+00 - val_accuracy: 0.9396 - val_precision: 0.9396 - val_recall: 1.0000 - val_auc: 0.7008 - val_prc: 0.9689\n",
      "Epoch 2/50\n",
      "54/54 [==============================] - 1s 13ms/step - loss: 0.2111 - tp: 102918.0000 - fp: 6570.0000 - tn: 54.0000 - fn: 0.0000e+00 - accuracy: 0.9400 - precision: 0.9400 - recall: 1.0000 - auc: 0.6987 - prc: 0.9679 - val_loss: 0.2044 - val_tp: 25733.0000 - val_fp: 1612.0000 - val_tn: 41.0000 - val_fn: 0.0000e+00 - val_accuracy: 0.9411 - val_precision: 0.9410 - val_recall: 1.0000 - val_auc: 0.7315 - val_prc: 0.9724\n",
      "Epoch 3/50\n",
      "54/54 [==============================] - 1s 15ms/step - loss: 0.2017 - tp: 102886.0000 - fp: 6366.0000 - tn: 258.0000 - fn: 32.0000 - accuracy: 0.9416 - precision: 0.9417 - recall: 0.9997 - auc: 0.7306 - prc: 0.9711 - val_loss: 0.1956 - val_tp: 25733.0000 - val_fp: 1589.0000 - val_tn: 64.0000 - val_fn: 0.0000e+00 - val_accuracy: 0.9420 - val_precision: 0.9418 - val_recall: 1.0000 - val_auc: 0.7460 - val_prc: 0.9732\n",
      "Epoch 4/50\n",
      "54/54 [==============================] - 1s 15ms/step - loss: 0.1947 - tp: 102885.0000 - fp: 6330.0000 - tn: 294.0000 - fn: 33.0000 - accuracy: 0.9419 - precision: 0.9420 - recall: 0.9997 - auc: 0.7440 - prc: 0.9722 - val_loss: 0.1906 - val_tp: 25733.0000 - val_fp: 1588.0000 - val_tn: 65.0000 - val_fn: 0.0000e+00 - val_accuracy: 0.9420 - val_precision: 0.9419 - val_recall: 1.0000 - val_auc: 0.7583 - val_prc: 0.9746\n",
      "Epoch 5/50\n",
      "54/54 [==============================] - 1s 14ms/step - loss: 0.1915 - tp: 102811.0000 - fp: 6226.0000 - tn: 398.0000 - fn: 107.0000 - accuracy: 0.9422 - precision: 0.9429 - recall: 0.9990 - auc: 0.7570 - prc: 0.9740 - val_loss: 0.1924 - val_tp: 25637.0000 - val_fp: 1513.0000 - val_tn: 140.0000 - val_fn: 96.0000 - val_accuracy: 0.9412 - val_precision: 0.9443 - val_recall: 0.9963 - val_auc: 0.7593 - val_prc: 0.9745\n",
      "Epoch 6/50\n",
      "54/54 [==============================] - 1s 14ms/step - loss: 0.1913 - tp: 102740.0000 - fp: 6189.0000 - tn: 435.0000 - fn: 178.0000 - accuracy: 0.9419 - precision: 0.9432 - recall: 0.9983 - auc: 0.7591 - prc: 0.9743 - val_loss: 0.1906 - val_tp: 25733.0000 - val_fp: 1587.0000 - val_tn: 66.0000 - val_fn: 0.0000e+00 - val_accuracy: 0.9421 - val_precision: 0.9419 - val_recall: 1.0000 - val_auc: 0.7615 - val_prc: 0.9749\n",
      "Epoch 7/50\n",
      "54/54 [==============================] - 1s 13ms/step - loss: 0.1902 - tp: 102701.0000 - fp: 6152.0000 - tn: 472.0000 - fn: 217.0000 - accuracy: 0.9419 - precision: 0.9435 - recall: 0.9979 - auc: 0.7637 - prc: 0.9749 - val_loss: 0.1894 - val_tp: 25657.0000 - val_fp: 1511.0000 - val_tn: 142.0000 - val_fn: 76.0000 - val_accuracy: 0.9421 - val_precision: 0.9444 - val_recall: 0.9970 - val_auc: 0.7729 - val_prc: 0.9767\n",
      "Epoch 8/50\n",
      "54/54 [==============================] - 1s 15ms/step - loss: 0.1903 - tp: 102704.0000 - fp: 6145.0000 - tn: 479.0000 - fn: 214.0000 - accuracy: 0.9419 - precision: 0.9435 - recall: 0.9979 - auc: 0.7652 - prc: 0.9753 - val_loss: 0.1912 - val_tp: 25624.0000 - val_fp: 1503.0000 - val_tn: 150.0000 - val_fn: 109.0000 - val_accuracy: 0.9411 - val_precision: 0.9446 - val_recall: 0.9958 - val_auc: 0.7760 - val_prc: 0.9773\n",
      "Epoch 9/50\n",
      "54/54 [==============================] - 1s 14ms/step - loss: 0.1887 - tp: 102664.0000 - fp: 6083.0000 - tn: 541.0000 - fn: 254.0000 - accuracy: 0.9422 - precision: 0.9441 - recall: 0.9975 - auc: 0.7712 - prc: 0.9761 - val_loss: 0.1888 - val_tp: 25733.0000 - val_fp: 1587.0000 - val_tn: 66.0000 - val_fn: 0.0000e+00 - val_accuracy: 0.9421 - val_precision: 0.9419 - val_recall: 1.0000 - val_auc: 0.7716 - val_prc: 0.9770\n",
      "Epoch 10/50\n",
      "54/54 [==============================] - 1s 14ms/step - loss: 0.1887 - tp: 102724.0000 - fp: 6175.0000 - tn: 449.0000 - fn: 194.0000 - accuracy: 0.9419 - precision: 0.9433 - recall: 0.9981 - auc: 0.7720 - prc: 0.9761 - val_loss: 0.1896 - val_tp: 25730.0000 - val_fp: 1587.0000 - val_tn: 66.0000 - val_fn: 3.0000 - val_accuracy: 0.9419 - val_precision: 0.9419 - val_recall: 0.9999 - val_auc: 0.7702 - val_prc: 0.9753\n",
      "Epoch 11/50\n",
      "54/54 [==============================] - 1s 14ms/step - loss: 0.1884 - tp: 102722.0000 - fp: 6146.0000 - tn: 478.0000 - fn: 196.0000 - accuracy: 0.9421 - precision: 0.9435 - recall: 0.9981 - auc: 0.7727 - prc: 0.9764 - val_loss: 0.1877 - val_tp: 25733.0000 - val_fp: 1587.0000 - val_tn: 66.0000 - val_fn: 0.0000e+00 - val_accuracy: 0.9421 - val_precision: 0.9419 - val_recall: 1.0000 - val_auc: 0.7733 - val_prc: 0.9768\n",
      "Epoch 12/50\n",
      "54/54 [==============================] - 1s 13ms/step - loss: 0.1888 - tp: 102708.0000 - fp: 6136.0000 - tn: 488.0000 - fn: 210.0000 - accuracy: 0.9421 - precision: 0.9436 - recall: 0.9980 - auc: 0.7707 - prc: 0.9759 - val_loss: 0.1866 - val_tp: 25655.0000 - val_fp: 1511.0000 - val_tn: 142.0000 - val_fn: 78.0000 - val_accuracy: 0.9420 - val_precision: 0.9444 - val_recall: 0.9970 - val_auc: 0.7799 - val_prc: 0.9781\n",
      "Epoch 13/50\n",
      "54/54 [==============================] - 1s 13ms/step - loss: 0.1880 - tp: 102645.0000 - fp: 6084.0000 - tn: 540.0000 - fn: 273.0000 - accuracy: 0.9420 - precision: 0.9440 - recall: 0.9973 - auc: 0.7763 - prc: 0.9768 - val_loss: 0.1869 - val_tp: 25658.0000 - val_fp: 1511.0000 - val_tn: 142.0000 - val_fn: 75.0000 - val_accuracy: 0.9421 - val_precision: 0.9444 - val_recall: 0.9971 - val_auc: 0.7783 - val_prc: 0.9769\n",
      "Epoch 14/50\n",
      "54/54 [==============================] - 1s 15ms/step - loss: 0.1878 - tp: 102748.0000 - fp: 6182.0000 - tn: 442.0000 - fn: 170.0000 - accuracy: 0.9420 - precision: 0.9432 - recall: 0.9983 - auc: 0.7783 - prc: 0.9772 - val_loss: 0.1870 - val_tp: 25598.0000 - val_fp: 1454.0000 - val_tn: 199.0000 - val_fn: 135.0000 - val_accuracy: 0.9420 - val_precision: 0.9463 - val_recall: 0.9948 - val_auc: 0.7814 - val_prc: 0.9780\n",
      "Epoch 15/50\n",
      "54/54 [==============================] - 1s 14ms/step - loss: 0.1871 - tp: 102707.0000 - fp: 6136.0000 - tn: 488.0000 - fn: 211.0000 - accuracy: 0.9421 - precision: 0.9436 - recall: 0.9979 - auc: 0.7818 - prc: 0.9778 - val_loss: 0.1861 - val_tp: 25733.0000 - val_fp: 1587.0000 - val_tn: 66.0000 - val_fn: 0.0000e+00 - val_accuracy: 0.9421 - val_precision: 0.9419 - val_recall: 1.0000 - val_auc: 0.7849 - val_prc: 0.9787\n",
      "Epoch 16/50\n",
      "54/54 [==============================] - 1s 14ms/step - loss: 0.1875 - tp: 102705.0000 - fp: 6112.0000 - tn: 512.0000 - fn: 213.0000 - accuracy: 0.9423 - precision: 0.9438 - recall: 0.9979 - auc: 0.7794 - prc: 0.9775 - val_loss: 0.1862 - val_tp: 25721.0000 - val_fp: 1577.0000 - val_tn: 76.0000 - val_fn: 12.0000 - val_accuracy: 0.9420 - val_precision: 0.9422 - val_recall: 0.9995 - val_auc: 0.7836 - val_prc: 0.9781\n",
      "Epoch 17/50\n",
      "54/54 [==============================] - 1s 14ms/step - loss: 0.1864 - tp: 102738.0000 - fp: 6155.0000 - tn: 469.0000 - fn: 180.0000 - accuracy: 0.9422 - precision: 0.9435 - recall: 0.9983 - auc: 0.7837 - prc: 0.9780 - val_loss: 0.1850 - val_tp: 25660.0000 - val_fp: 1508.0000 - val_tn: 145.0000 - val_fn: 73.0000 - val_accuracy: 0.9423 - val_precision: 0.9445 - val_recall: 0.9972 - val_auc: 0.7891 - val_prc: 0.9794\n",
      "Epoch 18/50\n",
      "54/54 [==============================] - 1s 15ms/step - loss: 0.1870 - tp: 102715.0000 - fp: 6136.0000 - tn: 488.0000 - fn: 203.0000 - accuracy: 0.9421 - precision: 0.9436 - recall: 0.9980 - auc: 0.7816 - prc: 0.9777 - val_loss: 0.1855 - val_tp: 25599.0000 - val_fp: 1454.0000 - val_tn: 199.0000 - val_fn: 134.0000 - val_accuracy: 0.9420 - val_precision: 0.9463 - val_recall: 0.9948 - val_auc: 0.7872 - val_prc: 0.9792\n",
      "Epoch 19/50\n",
      "54/54 [==============================] - 1s 16ms/step - loss: 0.1870 - tp: 102650.0000 - fp: 6085.0000 - tn: 539.0000 - fn: 268.0000 - accuracy: 0.9420 - precision: 0.9440 - recall: 0.9974 - auc: 0.7823 - prc: 0.9779 - val_loss: 0.1871 - val_tp: 25658.0000 - val_fp: 1510.0000 - val_tn: 143.0000 - val_fn: 75.0000 - val_accuracy: 0.9421 - val_precision: 0.9444 - val_recall: 0.9971 - val_auc: 0.7804 - val_prc: 0.9779\n",
      "Epoch 20/50\n",
      "54/54 [==============================] - 1s 15ms/step - loss: 0.1860 - tp: 102664.0000 - fp: 6101.0000 - tn: 523.0000 - fn: 254.0000 - accuracy: 0.9420 - precision: 0.9439 - recall: 0.9975 - auc: 0.7881 - prc: 0.9788 - val_loss: 0.1853 - val_tp: 25673.0000 - val_fp: 1520.0000 - val_tn: 133.0000 - val_fn: 60.0000 - val_accuracy: 0.9423 - val_precision: 0.9441 - val_recall: 0.9977 - val_auc: 0.7914 - val_prc: 0.9794\n",
      "Epoch 21/50\n",
      "54/54 [==============================] - 1s 13ms/step - loss: 0.1860 - tp: 102712.0000 - fp: 6114.0000 - tn: 510.0000 - fn: 206.0000 - accuracy: 0.9423 - precision: 0.9438 - recall: 0.9980 - auc: 0.7874 - prc: 0.9787 - val_loss: 0.1855 - val_tp: 25655.0000 - val_fp: 1510.0000 - val_tn: 143.0000 - val_fn: 78.0000 - val_accuracy: 0.9420 - val_precision: 0.9444 - val_recall: 0.9970 - val_auc: 0.7868 - val_prc: 0.9789\n",
      "Epoch 22/50\n",
      "54/54 [==============================] - 1s 13ms/step - loss: 0.1860 - tp: 102685.0000 - fp: 6089.0000 - tn: 535.0000 - fn: 233.0000 - accuracy: 0.9423 - precision: 0.9440 - recall: 0.9977 - auc: 0.7878 - prc: 0.9788 - val_loss: 0.1855 - val_tp: 25708.0000 - val_fp: 1559.0000 - val_tn: 94.0000 - val_fn: 25.0000 - val_accuracy: 0.9422 - val_precision: 0.9428 - val_recall: 0.9990 - val_auc: 0.7909 - val_prc: 0.9799\n",
      "Epoch 23/50\n",
      "54/54 [==============================] - 1s 15ms/step - loss: 0.1866 - tp: 102716.0000 - fp: 6114.0000 - tn: 510.0000 - fn: 202.0000 - accuracy: 0.9423 - precision: 0.9438 - recall: 0.9980 - auc: 0.7845 - prc: 0.9784 - val_loss: 0.1884 - val_tp: 25640.0000 - val_fp: 1498.0000 - val_tn: 155.0000 - val_fn: 93.0000 - val_accuracy: 0.9419 - val_precision: 0.9448 - val_recall: 0.9964 - val_auc: 0.7806 - val_prc: 0.9775\n",
      "Epoch 24/50\n",
      "54/54 [==============================] - 1s 16ms/step - loss: 0.1862 - tp: 102680.0000 - fp: 6085.0000 - tn: 539.0000 - fn: 238.0000 - accuracy: 0.9423 - precision: 0.9441 - recall: 0.9977 - auc: 0.7862 - prc: 0.9783 - val_loss: 0.1857 - val_tp: 25661.0000 - val_fp: 1510.0000 - val_tn: 143.0000 - val_fn: 72.0000 - val_accuracy: 0.9422 - val_precision: 0.9444 - val_recall: 0.9972 - val_auc: 0.7898 - val_prc: 0.9797\n",
      "Epoch 25/50\n",
      "54/54 [==============================] - 1s 14ms/step - loss: 0.1851 - tp: 102718.0000 - fp: 6133.0000 - tn: 491.0000 - fn: 200.0000 - accuracy: 0.9422 - precision: 0.9437 - recall: 0.9981 - auc: 0.7918 - prc: 0.9793 - val_loss: 0.1855 - val_tp: 25673.0000 - val_fp: 1518.0000 - val_tn: 135.0000 - val_fn: 60.0000 - val_accuracy: 0.9424 - val_precision: 0.9442 - val_recall: 0.9977 - val_auc: 0.7920 - val_prc: 0.9798\n",
      "Epoch 26/50\n",
      "54/54 [==============================] - 1s 13ms/step - loss: 0.1854 - tp: 102641.0000 - fp: 6061.0000 - tn: 563.0000 - fn: 277.0000 - accuracy: 0.9421 - precision: 0.9442 - recall: 0.9973 - auc: 0.7908 - prc: 0.9791 - val_loss: 0.1847 - val_tp: 25733.0000 - val_fp: 1584.0000 - val_tn: 69.0000 - val_fn: 0.0000e+00 - val_accuracy: 0.9422 - val_precision: 0.9420 - val_recall: 1.0000 - val_auc: 0.7943 - val_prc: 0.9802\n",
      "Epoch 27/50\n",
      "54/54 [==============================] - 1s 15ms/step - loss: 0.1845 - tp: 102708.0000 - fp: 6120.0000 - tn: 504.0000 - fn: 210.0000 - accuracy: 0.9422 - precision: 0.9438 - recall: 0.9980 - auc: 0.7954 - prc: 0.9800 - val_loss: 0.1841 - val_tp: 25602.0000 - val_fp: 1451.0000 - val_tn: 202.0000 - val_fn: 131.0000 - val_accuracy: 0.9422 - val_precision: 0.9464 - val_recall: 0.9949 - val_auc: 0.7967 - val_prc: 0.9803\n",
      "Epoch 28/50\n",
      "54/54 [==============================] - 1s 13ms/step - loss: 0.1847 - tp: 102709.0000 - fp: 6103.0000 - tn: 521.0000 - fn: 209.0000 - accuracy: 0.9424 - precision: 0.9439 - recall: 0.9980 - auc: 0.7941 - prc: 0.9799 - val_loss: 0.1895 - val_tp: 25602.0000 - val_fp: 1451.0000 - val_tn: 202.0000 - val_fn: 131.0000 - val_accuracy: 0.9422 - val_precision: 0.9464 - val_recall: 0.9949 - val_auc: 0.7910 - val_prc: 0.9788\n",
      "Epoch 29/50\n",
      "54/54 [==============================] - 1s 14ms/step - loss: 0.1854 - tp: 102647.0000 - fp: 6069.0000 - tn: 555.0000 - fn: 271.0000 - accuracy: 0.9421 - precision: 0.9442 - recall: 0.9974 - auc: 0.7905 - prc: 0.9793 - val_loss: 0.1847 - val_tp: 25661.0000 - val_fp: 1508.0000 - val_tn: 145.0000 - val_fn: 72.0000 - val_accuracy: 0.9423 - val_precision: 0.9445 - val_recall: 0.9972 - val_auc: 0.7911 - val_prc: 0.9791\n",
      "Epoch 30/50\n",
      "54/54 [==============================] - 1s 15ms/step - loss: 0.1847 - tp: 102683.0000 - fp: 6104.0000 - tn: 520.0000 - fn: 235.0000 - accuracy: 0.9421 - precision: 0.9439 - recall: 0.9977 - auc: 0.7950 - prc: 0.9798 - val_loss: 0.1850 - val_tp: 25733.0000 - val_fp: 1584.0000 - val_tn: 69.0000 - val_fn: 0.0000e+00 - val_accuracy: 0.9422 - val_precision: 0.9420 - val_recall: 1.0000 - val_auc: 0.7946 - val_prc: 0.9796\n",
      "Epoch 31/50\n",
      "54/54 [==============================] - 1s 15ms/step - loss: 0.1850 - tp: 102687.0000 - fp: 6096.0000 - tn: 528.0000 - fn: 231.0000 - accuracy: 0.9422 - precision: 0.9440 - recall: 0.9978 - auc: 0.7911 - prc: 0.9793 - val_loss: 0.1858 - val_tp: 25721.0000 - val_fp: 1574.0000 - val_tn: 79.0000 - val_fn: 12.0000 - val_accuracy: 0.9421 - val_precision: 0.9423 - val_recall: 0.9995 - val_auc: 0.7946 - val_prc: 0.9798\n",
      "Epoch 32/50\n",
      "54/54 [==============================] - 1s 13ms/step - loss: 0.1842 - tp: 102679.0000 - fp: 6107.0000 - tn: 517.0000 - fn: 239.0000 - accuracy: 0.9421 - precision: 0.9439 - recall: 0.9977 - auc: 0.7977 - prc: 0.9802 - val_loss: 0.1849 - val_tp: 25733.0000 - val_fp: 1584.0000 - val_tn: 69.0000 - val_fn: 0.0000e+00 - val_accuracy: 0.9422 - val_precision: 0.9420 - val_recall: 1.0000 - val_auc: 0.7939 - val_prc: 0.9793\n",
      "Epoch 33/50\n",
      "54/54 [==============================] - 1s 13ms/step - loss: 0.1846 - tp: 102647.0000 - fp: 6076.0000 - tn: 548.0000 - fn: 271.0000 - accuracy: 0.9421 - precision: 0.9441 - recall: 0.9974 - auc: 0.7939 - prc: 0.9796 - val_loss: 0.1846 - val_tp: 25733.0000 - val_fp: 1584.0000 - val_tn: 69.0000 - val_fn: 0.0000e+00 - val_accuracy: 0.9422 - val_precision: 0.9420 - val_recall: 1.0000 - val_auc: 0.7970 - val_prc: 0.9803\n",
      "Epoch 34/50\n",
      "54/54 [==============================] - 1s 15ms/step - loss: 0.1839 - tp: 102722.0000 - fp: 6134.0000 - tn: 490.0000 - fn: 196.0000 - accuracy: 0.9422 - precision: 0.9437 - recall: 0.9981 - auc: 0.7988 - prc: 0.9804 - val_loss: 0.1845 - val_tp: 25663.0000 - val_fp: 1515.0000 - val_tn: 138.0000 - val_fn: 70.0000 - val_accuracy: 0.9421 - val_precision: 0.9443 - val_recall: 0.9973 - val_auc: 0.7934 - val_prc: 0.9793\n",
      "Epoch 35/50\n",
      "54/54 [==============================] - 1s 14ms/step - loss: 0.1841 - tp: 102726.0000 - fp: 6151.0000 - tn: 473.0000 - fn: 192.0000 - accuracy: 0.9421 - precision: 0.9435 - recall: 0.9981 - auc: 0.7966 - prc: 0.9798 - val_loss: 0.1829 - val_tp: 25733.0000 - val_fp: 1584.0000 - val_tn: 69.0000 - val_fn: 0.0000e+00 - val_accuracy: 0.9422 - val_precision: 0.9420 - val_recall: 1.0000 - val_auc: 0.8012 - val_prc: 0.9809\n",
      "Epoch 36/50\n",
      "54/54 [==============================] - 1s 13ms/step - loss: 0.1842 - tp: 102721.0000 - fp: 6126.0000 - tn: 498.0000 - fn: 197.0000 - accuracy: 0.9423 - precision: 0.9437 - recall: 0.9981 - auc: 0.7969 - prc: 0.9801 - val_loss: 0.1855 - val_tp: 25673.0000 - val_fp: 1518.0000 - val_tn: 135.0000 - val_fn: 60.0000 - val_accuracy: 0.9424 - val_precision: 0.9442 - val_recall: 0.9977 - val_auc: 0.7911 - val_prc: 0.9791\n",
      "Epoch 37/50\n",
      "54/54 [==============================] - 1s 14ms/step - loss: 0.1835 - tp: 102655.0000 - fp: 6056.0000 - tn: 568.0000 - fn: 263.0000 - accuracy: 0.9423 - precision: 0.9443 - recall: 0.9974 - auc: 0.7999 - prc: 0.9806 - val_loss: 0.1842 - val_tp: 25661.0000 - val_fp: 1507.0000 - val_tn: 146.0000 - val_fn: 72.0000 - val_accuracy: 0.9423 - val_precision: 0.9445 - val_recall: 0.9972 - val_auc: 0.7964 - val_prc: 0.9803\n",
      "Epoch 38/50\n",
      "54/54 [==============================] - 1s 13ms/step - loss: 0.1834 - tp: 102705.0000 - fp: 6113.0000 - tn: 511.0000 - fn: 213.0000 - accuracy: 0.9423 - precision: 0.9438 - recall: 0.9979 - auc: 0.8009 - prc: 0.9807 - val_loss: 0.1824 - val_tp: 25733.0000 - val_fp: 1583.0000 - val_tn: 70.0000 - val_fn: 0.0000e+00 - val_accuracy: 0.9422 - val_precision: 0.9420 - val_recall: 1.0000 - val_auc: 0.8049 - val_prc: 0.9813\n",
      "Epoch 39/50\n",
      "54/54 [==============================] - 1s 15ms/step - loss: 0.1839 - tp: 102683.0000 - fp: 6099.0000 - tn: 525.0000 - fn: 235.0000 - accuracy: 0.9422 - precision: 0.9439 - recall: 0.9977 - auc: 0.7995 - prc: 0.9802 - val_loss: 0.1852 - val_tp: 25733.0000 - val_fp: 1583.0000 - val_tn: 70.0000 - val_fn: 0.0000e+00 - val_accuracy: 0.9422 - val_precision: 0.9420 - val_recall: 1.0000 - val_auc: 0.7972 - val_prc: 0.9802\n",
      "Epoch 40/50\n",
      "54/54 [==============================] - 1s 16ms/step - loss: 0.1838 - tp: 102669.0000 - fp: 6066.0000 - tn: 558.0000 - fn: 249.0000 - accuracy: 0.9424 - precision: 0.9442 - recall: 0.9976 - auc: 0.7993 - prc: 0.9806 - val_loss: 0.1855 - val_tp: 25733.0000 - val_fp: 1583.0000 - val_tn: 70.0000 - val_fn: 0.0000e+00 - val_accuracy: 0.9422 - val_precision: 0.9420 - val_recall: 1.0000 - val_auc: 0.7908 - val_prc: 0.9789\n",
      "Epoch 41/50\n",
      "54/54 [==============================] - 1s 14ms/step - loss: 0.1845 - tp: 102686.0000 - fp: 6092.0000 - tn: 532.0000 - fn: 232.0000 - accuracy: 0.9423 - precision: 0.9440 - recall: 0.9977 - auc: 0.7951 - prc: 0.9796 - val_loss: 0.1847 - val_tp: 25661.0000 - val_fp: 1507.0000 - val_tn: 146.0000 - val_fn: 72.0000 - val_accuracy: 0.9423 - val_precision: 0.9445 - val_recall: 0.9972 - val_auc: 0.7940 - val_prc: 0.9795\n",
      "Epoch 42/50\n",
      "54/54 [==============================] - 1s 14ms/step - loss: 0.1833 - tp: 102725.0000 - fp: 6100.0000 - tn: 524.0000 - fn: 193.0000 - accuracy: 0.9426 - precision: 0.9439 - recall: 0.9981 - auc: 0.8015 - prc: 0.9806 - val_loss: 0.1848 - val_tp: 25661.0000 - val_fp: 1507.0000 - val_tn: 146.0000 - val_fn: 72.0000 - val_accuracy: 0.9423 - val_precision: 0.9445 - val_recall: 0.9972 - val_auc: 0.7998 - val_prc: 0.9809\n",
      "Epoch 43/50\n",
      "54/54 [==============================] - 1s 13ms/step - loss: 0.1833 - tp: 102670.0000 - fp: 6034.0000 - tn: 590.0000 - fn: 248.0000 - accuracy: 0.9427 - precision: 0.9445 - recall: 0.9976 - auc: 0.8009 - prc: 0.9808 - val_loss: 0.1831 - val_tp: 25733.0000 - val_fp: 1583.0000 - val_tn: 70.0000 - val_fn: 0.0000e+00 - val_accuracy: 0.9422 - val_precision: 0.9420 - val_recall: 1.0000 - val_auc: 0.8032 - val_prc: 0.9812\n",
      "Epoch 44/50\n",
      "54/54 [==============================] - 1s 15ms/step - loss: 0.1831 - tp: 102706.0000 - fp: 6102.0000 - tn: 522.0000 - fn: 212.0000 - accuracy: 0.9424 - precision: 0.9439 - recall: 0.9979 - auc: 0.8027 - prc: 0.9808 - val_loss: 0.1833 - val_tp: 25603.0000 - val_fp: 1450.0000 - val_tn: 203.0000 - val_fn: 130.0000 - val_accuracy: 0.9423 - val_precision: 0.9464 - val_recall: 0.9949 - val_auc: 0.7997 - val_prc: 0.9805\n",
      "Epoch 45/50\n",
      "54/54 [==============================] - 1s 15ms/step - loss: 0.1828 - tp: 102598.0000 - fp: 6004.0000 - tn: 620.0000 - fn: 320.0000 - accuracy: 0.9423 - precision: 0.9447 - recall: 0.9969 - auc: 0.8041 - prc: 0.9809 - val_loss: 0.1829 - val_tp: 25733.0000 - val_fp: 1583.0000 - val_tn: 70.0000 - val_fn: 0.0000e+00 - val_accuracy: 0.9422 - val_precision: 0.9420 - val_recall: 1.0000 - val_auc: 0.8022 - val_prc: 0.9811\n",
      "Epoch 46/50\n",
      "54/54 [==============================] - 1s 14ms/step - loss: 0.1824 - tp: 102741.0000 - fp: 6128.0000 - tn: 496.0000 - fn: 177.0000 - accuracy: 0.9424 - precision: 0.9437 - recall: 0.9983 - auc: 0.8054 - prc: 0.9811 - val_loss: 0.1824 - val_tp: 25733.0000 - val_fp: 1583.0000 - val_tn: 70.0000 - val_fn: 0.0000e+00 - val_accuracy: 0.9422 - val_precision: 0.9420 - val_recall: 1.0000 - val_auc: 0.8048 - val_prc: 0.9815\n",
      "Epoch 47/50\n",
      "54/54 [==============================] - 1s 14ms/step - loss: 0.1829 - tp: 102667.0000 - fp: 6099.0000 - tn: 525.0000 - fn: 251.0000 - accuracy: 0.9420 - precision: 0.9439 - recall: 0.9976 - auc: 0.8032 - prc: 0.9810 - val_loss: 0.1843 - val_tp: 25721.0000 - val_fp: 1573.0000 - val_tn: 80.0000 - val_fn: 12.0000 - val_accuracy: 0.9421 - val_precision: 0.9424 - val_recall: 0.9995 - val_auc: 0.8001 - val_prc: 0.9803\n",
      "Epoch 48/50\n",
      "54/54 [==============================] - 1s 14ms/step - loss: 0.1829 - tp: 102705.0000 - fp: 6104.0000 - tn: 520.0000 - fn: 213.0000 - accuracy: 0.9423 - precision: 0.9439 - recall: 0.9979 - auc: 0.8040 - prc: 0.9810 - val_loss: 0.1840 - val_tp: 25733.0000 - val_fp: 1582.0000 - val_tn: 71.0000 - val_fn: 0.0000e+00 - val_accuracy: 0.9422 - val_precision: 0.9421 - val_recall: 1.0000 - val_auc: 0.7985 - val_prc: 0.9808\n",
      "Epoch 49/50\n",
      "54/54 [==============================] - 1s 13ms/step - loss: 0.1836 - tp: 102680.0000 - fp: 6096.0000 - tn: 528.0000 - fn: 238.0000 - accuracy: 0.9422 - precision: 0.9440 - recall: 0.9977 - auc: 0.8014 - prc: 0.9808 - val_loss: 0.1859 - val_tp: 25733.0000 - val_fp: 1583.0000 - val_tn: 70.0000 - val_fn: 0.0000e+00 - val_accuracy: 0.9422 - val_precision: 0.9420 - val_recall: 1.0000 - val_auc: 0.7950 - val_prc: 0.9798\n",
      "Epoch 50/50\n",
      "54/54 [==============================] - 1s 15ms/step - loss: 0.1830 - tp: 102695.0000 - fp: 6077.0000 - tn: 547.0000 - fn: 223.0000 - accuracy: 0.9425 - precision: 0.9441 - recall: 0.9978 - auc: 0.8023 - prc: 0.9808 - val_loss: 0.1847 - val_tp: 25733.0000 - val_fp: 1582.0000 - val_tn: 71.0000 - val_fn: 0.0000e+00 - val_accuracy: 0.9422 - val_precision: 0.9421 - val_recall: 1.0000 - val_auc: 0.7957 - val_prc: 0.9798\n",
      "Best epoch: 25\n"
     ]
    }
   ],
   "source": [
    "# Build the model with the optimal hyperparameters and train it on the data for 50 epochs\n",
    "\n",
    "model = tuner.hypermodel.build(best_hps)\n",
    "history = model.fit(X_train, y_train, epochs=50,batch_size=BATCH_SIZE, validation_split=0.2)\n",
    "\n",
    "val_acc_per_epoch = history.history['val_accuracy']\n",
    "best_epoch = val_acc_per_epoch.index(max(val_acc_per_epoch)) + 1\n",
    "print('Best epoch: %d' % (best_epoch,))"
   ]
  },
  {
   "cell_type": "code",
   "execution_count": 547,
   "metadata": {},
   "outputs": [],
   "source": [
    "def plot_metrics(history):\n",
    "  metrics = ['loss', 'prc', 'precision', 'recall']\n",
    "  for n, metric in enumerate(metrics):\n",
    "    name = metric.replace(\"_\",\" \").capitalize()\n",
    "    plt.subplot(2,2,n+1)\n",
    "    plt.plot(history.epoch, history.history[metric], color=colors[0], label='Train')\n",
    "    plt.plot(history.epoch, history.history['val_'+metric],\n",
    "             color=colors[0], linestyle=\"--\", label='Val')\n",
    "    plt.xlabel('Epoch')\n",
    "    plt.ylabel(name)\n",
    "    if metric == 'loss':\n",
    "      plt.ylim([0, plt.ylim()[1]])\n",
    "    elif metric == 'auc':\n",
    "      plt.ylim([0.8,1])\n",
    "    else:\n",
    "      plt.ylim([0,1])\n",
    "\n",
    "    plt.legend()\n"
   ]
  },
  {
   "cell_type": "code",
   "execution_count": 548,
   "metadata": {},
   "outputs": [
    {
     "data": {
      "image/png": "[encoded data removed]",
      "text/plain": [
       "<Figure size 864x720 with 4 Axes>"
      ]
     },
     "metadata": {
      "needs_background": "light"
     },
     "output_type": "display_data"
    }
   ],
   "source": [
    "plot_metrics(baseline_history)"
   ]
  },
  {
   "cell_type": "markdown",
   "metadata": {},
   "source": [
    "## Predictions and confusion matrix"
   ]
  },
  {
   "cell_type": "markdown",
   "metadata": {},
   "source": [
    "Calculate predictions"
   ]
  },
  {
   "cell_type": "markdown",
   "metadata": {},
   "source": [
    "### Predicciones del modelo con pesos y sesgo de partida"
   ]
  },
  {
   "cell_type": "code",
   "execution_count": 549,
   "metadata": {},
   "outputs": [],
   "source": [
    "train_predictions_baseline = model.predict(X_train, batch_size=BATCH_SIZE)\n",
    "test_predictions_baseline = model.predict(X_test, batch_size=BATCH_SIZE)"
   ]
  },
  {
   "cell_type": "markdown",
   "metadata": {},
   "source": [
    "### Predicciones del modelo incial"
   ]
  },
  {
   "cell_type": "code",
   "execution_count": 550,
   "metadata": {},
   "outputs": [
    {
     "name": "stdout",
     "output_type": "stream",
     "text": [
      "[[0.88722044]\n",
      " [0.9859002 ]\n",
      " [0.99991786]\n",
      " ...\n",
      " [0.9531753 ]\n",
      " [0.9517549 ]\n",
      " [0.9807508 ]]\n"
     ]
    }
   ],
   "source": [
    "precictions=model.predict(x=X_test.tolist(),batch_size=10,verbose=0)\n",
    "print(precictions)"
   ]
  },
  {
   "cell_type": "markdown",
   "metadata": {},
   "source": [
    "Plot confusion matrix"
   ]
  },
  {
   "cell_type": "code",
   "execution_count": 551,
   "metadata": {},
   "outputs": [],
   "source": [
    "rounded_predictions=np.argmax(precictions,axis=-1)"
   ]
  },
  {
   "cell_type": "code",
   "execution_count": 552,
   "metadata": {},
   "outputs": [],
   "source": [
    "\n",
    "import numpy as np\n",
    "import  itertools\n",
    "import matplotlib.pyplot as plt\n",
    "\n",
    "\n",
    "def plot_confusion_matrix(cm, classes,\n",
    "                        normalize=False,\n",
    "                        title='Confusion matrix',\n",
    "                        cmap=plt.cm.Blues):\n",
    "    \"\"\"\n",
    "    This function prints and plots the confusion matrix.\n",
    "    Normalization can be applied by setting `normalize=True`.\n",
    "    \"\"\"\n",
    "    plt.imshow(cm, interpolation='nearest', cmap=cmap)\n",
    "    plt.title(title)\n",
    "    plt.colorbar()\n",
    "    tick_marks = np.arange(len(classes))\n",
    "    plt.xticks(tick_marks, classes, rotation=45)\n",
    "    plt.yticks(tick_marks, classes)\n",
    "\n",
    "    if normalize:\n",
    "        cm = cm.astype('float') / cm.sum(axis=1)[:, np.newaxis]\n",
    "        print(\"Normalized confusion matrix\")\n",
    "    else:\n",
    "        print('Confusion matrix, without normalization')\n",
    "\n",
    "    print(cm)\n",
    "\n",
    "    thresh = cm.max() / 2.\n",
    "    for i, j in itertools.product(range(cm.shape[0]), range(cm.shape[1])):\n",
    "        plt.text(j, i, cm[i, j],\n",
    "            horizontalalignment=\"center\",\n",
    "            color=\"white\" if cm[i, j] > thresh else \"black\")\n",
    "\n",
    "    plt.tight_layout()\n",
    "    plt.ylabel('True label')\n",
    "    plt.xlabel('Predicted label')\n",
    "    \n"
   ]
  },
  {
   "cell_type": "code",
   "execution_count": 553,
   "metadata": {},
   "outputs": [],
   "source": [
    "from sklearn.metrics import confusion_matrix"
   ]
  },
  {
   "cell_type": "markdown",
   "metadata": {},
   "source": [
    "Ploteo la confusion matrix para ver que tal ha aprendido mi modelo"
   ]
  },
  {
   "cell_type": "code",
   "execution_count": 554,
   "metadata": {},
   "outputs": [
    {
     "name": "stdout",
     "output_type": "stream",
     "text": [
      "Confusion matrix, without normalization\n",
      "[[   388   7889]\n",
      " [     3 128648]]\n"
     ]
    },
    {
     "data": {
      "image/png": "[encoded data removed]",
      "text/plain": [
       "<Figure size 864x720 with 2 Axes>"
      ]
     },
     "metadata": {
      "needs_background": "light"
     },
     "output_type": "display_data"
    }
   ],
   "source": [
    "cm_new = confusion_matrix(y_true=y_train,y_pred=train_predictions_baseline>0.5)\n",
    "cm_plot_labels=['no OK','OK']\n",
    "plot_confusion_matrix (cm_new,cm_plot_labels,title='Confusion matrix')\n",
    "plt.show()"
   ]
  },
  {
   "cell_type": "code",
   "execution_count": 555,
   "metadata": {},
   "outputs": [
    {
     "name": "stdout",
     "output_type": "stream",
     "text": [
      "NOK torques detected (True Negatives):  388\n",
      "NOK torques Incorrectly Detected (False Positives):  7889\n",
      "OK torques Missed (False Negatives):  3\n",
      "OK torques Detected (True Positives):  128648\n",
      "Total NOK torques:  8277\n"
     ]
    }
   ],
   "source": [
    "print('NOK torques detected (True Negatives): ', cm_new[0][0])\n",
    "print('NOK torques Incorrectly Detected (False Positives): ', cm_new[0][1])\n",
    "print('OK torques Missed (False Negatives): ', cm_new[1][0])\n",
    "print('OK torques Detected (True Positives): ', cm_new[1][1])\n",
    "print('Total NOK torques: ', np.sum(cm_new[0]))"
   ]
  },
  {
   "cell_type": "markdown",
   "metadata": {},
   "source": [
    "# ROC"
   ]
  },
  {
   "cell_type": "code",
   "execution_count": 556,
   "metadata": {},
   "outputs": [],
   "source": [
    "def plot_roc(name, labels, predictions, **kwargs):\n",
    "  fp, tp, _ = sklearn.metrics.roc_curve(labels, predictions)\n",
    "\n",
    "  plt.plot(100*fp, 100*tp, label=name, linewidth=2, **kwargs)\n",
    "  plt.xlabel('False positives [%]')\n",
    "  plt.ylabel('True positives [%]')\n",
    "  plt.xlim([-0.5,100])\n",
    "  plt.ylim([0,100.5])\n",
    "  plt.grid(True)\n",
    "  ax = plt.gca()\n",
    "  ax.set_aspect('equal')"
   ]
  },
  {
   "cell_type": "code",
   "execution_count": 557,
   "metadata": {},
   "outputs": [
    {
     "data": {
      "text/plain": [
       "<matplotlib.legend.Legend at 0x1bf9e6b7ac0>"
      ]
     },
     "execution_count": 557,
     "metadata": {},
     "output_type": "execute_result"
    },
    {
     "data": {
      "image/png": "[encoded data removed]",
      "text/plain": [
       "<Figure size 864x720 with 1 Axes>"
      ]
     },
     "metadata": {
      "needs_background": "light"
     },
     "output_type": "display_data"
    }
   ],
   "source": [
    "plot_roc(\"Train Baseline\", y_train, train_predictions_baseline, color=colors[0])\n",
    "plot_roc(\"Test Baseline\", y_test, test_predictions_baseline, color=colors[0], linestyle='--')\n",
    "plt.legend(loc='lower right')"
   ]
  },
  {
   "cell_type": "markdown",
   "metadata": {},
   "source": [
    "##  Plot the AUPRC\n",
    "\n",
    "\n",
    "Now plot the AUPRC. Area under the interpolated precision-recall curve, obtained by plotting (recall, precision) points for different values of the classification threshold. Depending on how it's calculated, PR AUC may be equivalent to the average precision of the model."
   ]
  },
  {
   "cell_type": "code",
   "execution_count": 558,
   "metadata": {},
   "outputs": [],
   "source": [
    "def plot_prc(name, labels, predictions, **kwargs):\n",
    "    precision, recall, _ = sklearn.metrics.precision_recall_curve(labels, predictions)\n",
    "\n",
    "    plt.plot(precision, recall, label=name, linewidth=2, **kwargs)\n",
    "    plt.xlabel('Recall')\n",
    "    plt.ylabel('Precision')\n",
    "    plt.xlim([0,1.1])\n",
    "    plt.ylim([0,1.1])\n",
    "    plt.grid(True)\n",
    "    ax = plt.gca()\n",
    "    ax.set_aspect('equal')"
   ]
  },
  {
   "cell_type": "code",
   "execution_count": 559,
   "metadata": {},
   "outputs": [
    {
     "data": {
      "text/plain": [
       "<matplotlib.legend.Legend at 0x1bf9e64d4f0>"
      ]
     },
     "execution_count": 559,
     "metadata": {},
     "output_type": "execute_result"
    },
    {
     "data": {
      "image/png": "[encoded data removed]",
      "text/plain": [
       "<Figure size 864x720 with 1 Axes>"
      ]
     },
     "metadata": {
      "needs_background": "light"
     },
     "output_type": "display_data"
    }
   ],
   "source": [
    "plot_prc(\"Train Baseline\", y_train, train_predictions_baseline, color=colors[0])\n",
    "plot_prc(\"Test Baseline\", y_test, test_predictions_baseline, color=colors[0], linestyle='--')\n",
    "plt.legend(loc='lower right')"
   ]
  },
  {
   "cell_type": "code",
   "execution_count": 560,
   "metadata": {},
   "outputs": [
    {
     "name": "stdout",
     "output_type": "stream",
     "text": [
      "Weight for class 0: 0.53\n",
      "Weight for class 1: 8.24\n"
     ]
    }
   ],
   "source": [
    "# Scaling by total/2 helps keep the loss to a similar magnitude.\n",
    "# The sum of the weights of all examples stays the same.\n",
    "total=OKS[0]+NOKS[0]\n",
    "weight_for_0 = (1 / NOKS[0]) * (total / 2.0)\n",
    "weight_for_1 = (1 / OKS[0]) * (total / 2.0)\n",
    "\n",
    "class_weight = {0: weight_for_0, 1: weight_for_1}\n",
    "\n",
    "print('Weight for class 0: {:.2f}'.format(weight_for_0))\n",
    "print('Weight for class 1: {:.2f}'.format(weight_for_1))"
   ]
  },
  {
   "cell_type": "code",
   "execution_count": 561,
   "metadata": {},
   "outputs": [
    {
     "name": "stdout",
     "output_type": "stream",
     "text": [
      "Epoch 1/25\n",
      "54/54 [==============================] - 4s 35ms/step - loss: 0.4847 - tp: 126710.0000 - fp: 8099.0000 - tn: 178.0000 - fn: 1941.0000 - accuracy: 0.9267 - precision: 0.9399 - recall: 0.9849 - auc: 0.5468 - prc: 0.9449 - val_loss: 0.3068 - val_tp: 25733.0000 - val_fp: 1653.0000 - val_tn: 0.0000e+00 - val_fn: 0.0000e+00 - val_accuracy: 0.9396 - val_precision: 0.9396 - val_recall: 1.0000 - val_auc: 0.6094 - val_prc: 0.9539\n",
      "Epoch 2/25\n",
      "54/54 [==============================] - 1s 14ms/step - loss: 0.2067 - tp: 102918.0000 - fp: 6606.0000 - tn: 18.0000 - fn: 0.0000e+00 - accuracy: 0.9397 - precision: 0.9397 - recall: 1.0000 - auc: 0.6115 - prc: 0.9542 - val_loss: 0.3137 - val_tp: 25733.0000 - val_fp: 1648.0000 - val_tn: 5.0000 - val_fn: 0.0000e+00 - val_accuracy: 0.9398 - val_precision: 0.9398 - val_recall: 1.0000 - val_auc: 0.6569 - val_prc: 0.9611\n",
      "Epoch 3/25\n",
      "54/54 [==============================] - 1s 16ms/step - loss: 0.2017 - tp: 102918.0000 - fp: 6595.0000 - tn: 29.0000 - fn: 0.0000e+00 - accuracy: 0.9398 - precision: 0.9398 - recall: 1.0000 - auc: 0.6357 - prc: 0.9573 - val_loss: 0.3141 - val_tp: 25733.0000 - val_fp: 1648.0000 - val_tn: 5.0000 - val_fn: 0.0000e+00 - val_accuracy: 0.9398 - val_precision: 0.9398 - val_recall: 1.0000 - val_auc: 0.6666 - val_prc: 0.9612\n",
      "Epoch 4/25\n",
      "54/54 [==============================] - 1s 15ms/step - loss: 0.1987 - tp: 102918.0000 - fp: 6595.0000 - tn: 29.0000 - fn: 0.0000e+00 - accuracy: 0.9398 - precision: 0.9398 - recall: 1.0000 - auc: 0.6515 - prc: 0.9587 - val_loss: 0.3236 - val_tp: 25733.0000 - val_fp: 1648.0000 - val_tn: 5.0000 - val_fn: 0.0000e+00 - val_accuracy: 0.9398 - val_precision: 0.9398 - val_recall: 1.0000 - val_auc: 0.6554 - val_prc: 0.9590\n",
      "Epoch 5/25\n",
      "54/54 [==============================] - 1s 13ms/step - loss: 0.1957 - tp: 102918.0000 - fp: 6547.0000 - tn: 77.0000 - fn: 0.0000e+00 - accuracy: 0.9402 - precision: 0.9402 - recall: 1.0000 - auc: 0.6566 - prc: 0.9591 - val_loss: 0.3067 - val_tp: 25733.0000 - val_fp: 1621.0000 - val_tn: 32.0000 - val_fn: 0.0000e+00 - val_accuracy: 0.9408 - val_precision: 0.9407 - val_recall: 1.0000 - val_auc: 0.6881 - val_prc: 0.9632\n",
      "Epoch 6/25\n",
      "54/54 [==============================] - 1s 13ms/step - loss: 0.1923 - tp: 102918.0000 - fp: 6397.0000 - tn: 227.0000 - fn: 0.0000e+00 - accuracy: 0.9416 - precision: 0.9415 - recall: 1.0000 - auc: 0.6815 - prc: 0.9622 - val_loss: 0.2950 - val_tp: 25733.0000 - val_fp: 1595.0000 - val_tn: 58.0000 - val_fn: 0.0000e+00 - val_accuracy: 0.9418 - val_precision: 0.9416 - val_recall: 1.0000 - val_auc: 0.7076 - val_prc: 0.9660\n",
      "Epoch 7/25\n",
      "54/54 [==============================] - 1s 14ms/step - loss: 0.1901 - tp: 102918.0000 - fp: 6359.0000 - tn: 265.0000 - fn: 0.0000e+00 - accuracy: 0.9419 - precision: 0.9418 - recall: 1.0000 - auc: 0.6989 - prc: 0.9643 - val_loss: 0.2993 - val_tp: 25733.0000 - val_fp: 1599.0000 - val_tn: 54.0000 - val_fn: 0.0000e+00 - val_accuracy: 0.9416 - val_precision: 0.9415 - val_recall: 1.0000 - val_auc: 0.7155 - val_prc: 0.9664\n",
      "Epoch 8/25\n",
      "54/54 [==============================] - 1s 14ms/step - loss: 0.1885 - tp: 102918.0000 - fp: 6358.0000 - tn: 266.0000 - fn: 0.0000e+00 - accuracy: 0.9420 - precision: 0.9418 - recall: 1.0000 - auc: 0.7047 - prc: 0.9647 - val_loss: 0.2824 - val_tp: 25733.0000 - val_fp: 1594.0000 - val_tn: 59.0000 - val_fn: 0.0000e+00 - val_accuracy: 0.9418 - val_precision: 0.9417 - val_recall: 1.0000 - val_auc: 0.7203 - val_prc: 0.9668\n",
      "Epoch 9/25\n",
      "54/54 [==============================] - 1s 13ms/step - loss: 0.1870 - tp: 102918.0000 - fp: 6355.0000 - tn: 269.0000 - fn: 0.0000e+00 - accuracy: 0.9420 - precision: 0.9418 - recall: 1.0000 - auc: 0.7057 - prc: 0.9646 - val_loss: 0.2825 - val_tp: 25733.0000 - val_fp: 1592.0000 - val_tn: 61.0000 - val_fn: 0.0000e+00 - val_accuracy: 0.9419 - val_precision: 0.9417 - val_recall: 1.0000 - val_auc: 0.7174 - val_prc: 0.9661\n",
      "Epoch 10/25\n",
      "54/54 [==============================] - 1s 13ms/step - loss: 0.1867 - tp: 102918.0000 - fp: 6360.0000 - tn: 264.0000 - fn: 0.0000e+00 - accuracy: 0.9419 - precision: 0.9418 - recall: 1.0000 - auc: 0.7022 - prc: 0.9640 - val_loss: 0.2909 - val_tp: 25733.0000 - val_fp: 1592.0000 - val_tn: 61.0000 - val_fn: 0.0000e+00 - val_accuracy: 0.9419 - val_precision: 0.9417 - val_recall: 1.0000 - val_auc: 0.7148 - val_prc: 0.9657\n",
      "Epoch 11/25\n",
      "54/54 [==============================] - 1s 15ms/step - loss: 0.1857 - tp: 102918.0000 - fp: 6345.0000 - tn: 279.0000 - fn: 0.0000e+00 - accuracy: 0.9421 - precision: 0.9419 - recall: 1.0000 - auc: 0.7105 - prc: 0.9651 - val_loss: 0.3153 - val_tp: 25733.0000 - val_fp: 1592.0000 - val_tn: 61.0000 - val_fn: 0.0000e+00 - val_accuracy: 0.9419 - val_precision: 0.9417 - val_recall: 1.0000 - val_auc: 0.6908 - val_prc: 0.9624\n",
      "Epoch 12/25\n",
      "54/54 [==============================] - 1s 13ms/step - loss: 0.1866 - tp: 102918.0000 - fp: 6345.0000 - tn: 279.0000 - fn: 0.0000e+00 - accuracy: 0.9421 - precision: 0.9419 - recall: 1.0000 - auc: 0.7085 - prc: 0.9649 - val_loss: 0.2836 - val_tp: 25733.0000 - val_fp: 1591.0000 - val_tn: 62.0000 - val_fn: 0.0000e+00 - val_accuracy: 0.9419 - val_precision: 0.9418 - val_recall: 1.0000 - val_auc: 0.7346 - val_prc: 0.9684\n",
      "Epoch 13/25\n",
      "54/54 [==============================] - 1s 14ms/step - loss: 0.1848 - tp: 102918.0000 - fp: 6338.0000 - tn: 286.0000 - fn: 0.0000e+00 - accuracy: 0.9421 - precision: 0.9420 - recall: 1.0000 - auc: 0.7121 - prc: 0.9652 - val_loss: 0.2996 - val_tp: 25733.0000 - val_fp: 1591.0000 - val_tn: 62.0000 - val_fn: 0.0000e+00 - val_accuracy: 0.9419 - val_precision: 0.9418 - val_recall: 1.0000 - val_auc: 0.7120 - val_prc: 0.9652\n",
      "Epoch 14/25\n",
      "54/54 [==============================] - 1s 15ms/step - loss: 0.1836 - tp: 102918.0000 - fp: 6334.0000 - tn: 290.0000 - fn: 0.0000e+00 - accuracy: 0.9422 - precision: 0.9420 - recall: 1.0000 - auc: 0.7164 - prc: 0.9657 - val_loss: 0.2991 - val_tp: 25733.0000 - val_fp: 1589.0000 - val_tn: 64.0000 - val_fn: 0.0000e+00 - val_accuracy: 0.9420 - val_precision: 0.9418 - val_recall: 1.0000 - val_auc: 0.7108 - val_prc: 0.9650\n",
      "Epoch 15/25\n",
      "54/54 [==============================] - 1s 14ms/step - loss: 0.1833 - tp: 102918.0000 - fp: 6331.0000 - tn: 293.0000 - fn: 0.0000e+00 - accuracy: 0.9422 - precision: 0.9420 - recall: 1.0000 - auc: 0.7161 - prc: 0.9657 - val_loss: 0.3007 - val_tp: 25733.0000 - val_fp: 1591.0000 - val_tn: 62.0000 - val_fn: 0.0000e+00 - val_accuracy: 0.9419 - val_precision: 0.9418 - val_recall: 1.0000 - val_auc: 0.7090 - val_prc: 0.9649\n",
      "Epoch 16/25\n",
      "54/54 [==============================] - 1s 14ms/step - loss: 0.1832 - tp: 102918.0000 - fp: 6335.0000 - tn: 289.0000 - fn: 0.0000e+00 - accuracy: 0.9422 - precision: 0.9420 - recall: 1.0000 - auc: 0.7189 - prc: 0.9660 - val_loss: 0.2956 - val_tp: 25733.0000 - val_fp: 1592.0000 - val_tn: 61.0000 - val_fn: 0.0000e+00 - val_accuracy: 0.9419 - val_precision: 0.9417 - val_recall: 1.0000 - val_auc: 0.7158 - val_prc: 0.9656\n",
      "Epoch 17/25\n",
      "54/54 [==============================] - 1s 14ms/step - loss: 0.1832 - tp: 102918.0000 - fp: 6337.0000 - tn: 287.0000 - fn: 0.0000e+00 - accuracy: 0.9422 - precision: 0.9420 - recall: 1.0000 - auc: 0.7180 - prc: 0.9659 - val_loss: 0.2856 - val_tp: 25733.0000 - val_fp: 1584.0000 - val_tn: 69.0000 - val_fn: 0.0000e+00 - val_accuracy: 0.9422 - val_precision: 0.9420 - val_recall: 1.0000 - val_auc: 0.7104 - val_prc: 0.9649\n",
      "Epoch 18/25\n",
      "54/54 [==============================] - 1s 14ms/step - loss: 0.1835 - tp: 102918.0000 - fp: 6325.0000 - tn: 299.0000 - fn: 0.0000e+00 - accuracy: 0.9423 - precision: 0.9421 - recall: 1.0000 - auc: 0.7201 - prc: 0.9662 - val_loss: 0.2711 - val_tp: 25733.0000 - val_fp: 1589.0000 - val_tn: 64.0000 - val_fn: 0.0000e+00 - val_accuracy: 0.9420 - val_precision: 0.9418 - val_recall: 1.0000 - val_auc: 0.7454 - val_prc: 0.9700\n",
      "Epoch 19/25\n",
      "54/54 [==============================] - 1s 15ms/step - loss: 0.1824 - tp: 102918.0000 - fp: 6327.0000 - tn: 297.0000 - fn: 0.0000e+00 - accuracy: 0.9422 - precision: 0.9421 - recall: 1.0000 - auc: 0.7230 - prc: 0.9666 - val_loss: 0.3215 - val_tp: 25733.0000 - val_fp: 1591.0000 - val_tn: 62.0000 - val_fn: 0.0000e+00 - val_accuracy: 0.9419 - val_precision: 0.9418 - val_recall: 1.0000 - val_auc: 0.6975 - val_prc: 0.9632\n",
      "Epoch 20/25\n",
      "54/54 [==============================] - 1s 16ms/step - loss: 0.1825 - tp: 102918.0000 - fp: 6322.0000 - tn: 302.0000 - fn: 0.0000e+00 - accuracy: 0.9423 - precision: 0.9421 - recall: 1.0000 - auc: 0.7230 - prc: 0.9665 - val_loss: 0.2996 - val_tp: 25733.0000 - val_fp: 1591.0000 - val_tn: 62.0000 - val_fn: 0.0000e+00 - val_accuracy: 0.9419 - val_precision: 0.9418 - val_recall: 1.0000 - val_auc: 0.7149 - val_prc: 0.9654\n",
      "Epoch 21/25\n",
      "54/54 [==============================] - 1s 13ms/step - loss: 0.1827 - tp: 102918.0000 - fp: 6319.0000 - tn: 305.0000 - fn: 0.0000e+00 - accuracy: 0.9423 - precision: 0.9422 - recall: 1.0000 - auc: 0.7211 - prc: 0.9663 - val_loss: 0.2936 - val_tp: 25733.0000 - val_fp: 1584.0000 - val_tn: 69.0000 - val_fn: 0.0000e+00 - val_accuracy: 0.9422 - val_precision: 0.9420 - val_recall: 1.0000 - val_auc: 0.7209 - val_prc: 0.9662\n",
      "Epoch 22/25\n",
      "54/54 [==============================] - 1s 13ms/step - loss: 0.1822 - tp: 102918.0000 - fp: 6321.0000 - tn: 303.0000 - fn: 0.0000e+00 - accuracy: 0.9423 - precision: 0.9421 - recall: 1.0000 - auc: 0.7223 - prc: 0.9664 - val_loss: 0.3019 - val_tp: 25733.0000 - val_fp: 1592.0000 - val_tn: 61.0000 - val_fn: 0.0000e+00 - val_accuracy: 0.9419 - val_precision: 0.9417 - val_recall: 1.0000 - val_auc: 0.7084 - val_prc: 0.9645\n",
      "Epoch 23/25\n",
      "54/54 [==============================] - 1s 15ms/step - loss: 0.1822 - tp: 102918.0000 - fp: 6324.0000 - tn: 300.0000 - fn: 0.0000e+00 - accuracy: 0.9423 - precision: 0.9421 - recall: 1.0000 - auc: 0.7255 - prc: 0.9669 - val_loss: 0.2830 - val_tp: 25733.0000 - val_fp: 1584.0000 - val_tn: 69.0000 - val_fn: 0.0000e+00 - val_accuracy: 0.9422 - val_precision: 0.9420 - val_recall: 1.0000 - val_auc: 0.7402 - val_prc: 0.9690\n",
      "Epoch 24/25\n",
      "54/54 [==============================] - 1s 15ms/step - loss: 0.1825 - tp: 102918.0000 - fp: 6321.0000 - tn: 303.0000 - fn: 0.0000e+00 - accuracy: 0.9423 - precision: 0.9421 - recall: 1.0000 - auc: 0.7240 - prc: 0.9667 - val_loss: 0.2862 - val_tp: 25733.0000 - val_fp: 1584.0000 - val_tn: 69.0000 - val_fn: 0.0000e+00 - val_accuracy: 0.9422 - val_precision: 0.9420 - val_recall: 1.0000 - val_auc: 0.7361 - val_prc: 0.9683\n",
      "Epoch 25/25\n",
      "54/54 [==============================] - 1s 14ms/step - loss: 0.1822 - tp: 102918.0000 - fp: 6323.0000 - tn: 301.0000 - fn: 0.0000e+00 - accuracy: 0.9423 - precision: 0.9421 - recall: 1.0000 - auc: 0.7230 - prc: 0.9665 - val_loss: 0.2756 - val_tp: 25733.0000 - val_fp: 1584.0000 - val_tn: 69.0000 - val_fn: 0.0000e+00 - val_accuracy: 0.9422 - val_precision: 0.9420 - val_recall: 1.0000 - val_auc: 0.7390 - val_prc: 0.9690\n"
     ]
    }
   ],
   "source": [
    "weighted_model = super_model(hp=best_hps)\n",
    "weighted_model.load_weights(initial_weights)\n",
    "\n",
    "weighted_history = weighted_model.fit(\n",
    "    X_train,\n",
    "    y_train,\n",
    "    batch_size=BATCH_SIZE,\n",
    "    epochs=best_epoch,\n",
    "    callbacks=[early_stopping],\n",
    "    validation_split=0.2 ,\n",
    "    # The class weights go here\n",
    "    class_weight=class_weight)"
   ]
  },
  {
   "cell_type": "code",
   "execution_count": 562,
   "metadata": {},
   "outputs": [
    {
     "data": {
      "image/png": "[encoded data removed]",
      "text/plain": [
       "<Figure size 864x720 with 4 Axes>"
      ]
     },
     "metadata": {
      "needs_background": "light"
     },
     "output_type": "display_data"
    }
   ],
   "source": [
    "plot_metrics(weighted_history)"
   ]
  },
  {
   "cell_type": "code",
   "execution_count": 563,
   "metadata": {},
   "outputs": [],
   "source": [
    "train_predictions_weighted = weighted_model.predict(X_train, batch_size=BATCH_SIZE)\n",
    "test_predictions_weighted = weighted_model.predict(X_test, batch_size=BATCH_SIZE)"
   ]
  },
  {
   "cell_type": "code",
   "execution_count": 565,
   "metadata": {},
   "outputs": [
    {
     "name": "stdout",
     "output_type": "stream",
     "text": [
      "Confusion matrix, without normalization\n",
      "[[   48   911]\n",
      " [    0 14256]]\n"
     ]
    },
    {
     "data": {
      "image/png": "[encoded data removed]",
      "text/plain": [
       "<Figure size 864x720 with 2 Axes>"
      ]
     },
     "metadata": {
      "needs_background": "light"
     },
     "output_type": "display_data"
    }
   ],
   "source": [
    "cm_new = confusion_matrix(y_true=y_test,y_pred=test_predictions_weighted>0.5)\n",
    "cm_plot_labels=['no OK','OK']\n",
    "plot_confusion_matrix (cm_new,cm_plot_labels,title='Confusion matrix')\n",
    "plt.show()"
   ]
  },
  {
   "cell_type": "markdown",
   "metadata": {},
   "source": [
    "## Plot ROC"
   ]
  },
  {
   "cell_type": "code",
   "execution_count": 566,
   "metadata": {},
   "outputs": [
    {
     "data": {
      "text/plain": [
       "<matplotlib.legend.Legend at 0x1bf03887070>"
      ]
     },
     "execution_count": 566,
     "metadata": {},
     "output_type": "execute_result"
    },
    {
     "data": {
      "image/png": "[encoded data removed]",
      "text/plain": [
       "<Figure size 864x720 with 1 Axes>"
      ]
     },
     "metadata": {
      "needs_background": "light"
     },
     "output_type": "display_data"
    }
   ],
   "source": [
    "plot_roc(\"Train Baseline\", y_train, train_predictions_baseline, color=colors[0])\n",
    "plot_roc(\"Test Baseline\", y_test, test_predictions_baseline, color=colors[0], linestyle='--')\n",
    "\n",
    "plot_roc(\"Train Weighted\", y_train, train_predictions_weighted, color=colors[1])\n",
    "plot_roc(\"Test Weighted\", y_test, test_predictions_weighted, color=colors[1], linestyle='--')\n",
    "\n",
    "\n",
    "plt.legend(loc='lower right')"
   ]
  },
  {
   "cell_type": "markdown",
   "metadata": {},
   "source": [
    "## Plot AUPRC"
   ]
  },
  {
   "cell_type": "code",
   "execution_count": 567,
   "metadata": {},
   "outputs": [
    {
     "data": {
      "text/plain": [
       "<matplotlib.legend.Legend at 0x1bf03358610>"
      ]
     },
     "execution_count": 567,
     "metadata": {},
     "output_type": "execute_result"
    },
    {
     "data": {
      "image/png": "[encoded data removed]",
      "text/plain": [
       "<Figure size 864x720 with 1 Axes>"
      ]
     },
     "metadata": {
      "needs_background": "light"
     },
     "output_type": "display_data"
    }
   ],
   "source": [
    "plot_prc(\"Train Baseline\", y_train, train_predictions_baseline, color=colors[0])\n",
    "plot_prc(\"Test Baseline\", y_test, test_predictions_baseline, color=colors[0], linestyle='--')\n",
    "\n",
    "plot_prc(\"Train Weighted\", y_train, train_predictions_weighted, color=colors[1])\n",
    "plot_prc(\"Test Weighted\", y_test, test_predictions_weighted, color=colors[1], linestyle='--')\n",
    "\n",
    "\n",
    "plt.legend(loc='lower right')"
   ]
  },
  {
   "cell_type": "markdown",
   "metadata": {},
   "source": [
    "# Oversampling"
   ]
  },
  {
   "cell_type": "markdown",
   "metadata": {},
   "source": [
    "## Oversample the minority class"
   ]
  },
  {
   "cell_type": "markdown",
   "metadata": {},
   "source": [
    "A related approach would be to resample the dataset by oversampling the minority class."
   ]
  },
  {
   "cell_type": "code",
   "execution_count": 581,
   "metadata": {},
   "outputs": [
    {
     "ename": "KeyError",
     "evalue": "'Resultbin'",
     "output_type": "error",
     "traceback": [
      "\u001b[1;31m---------------------------------------------------------------------------\u001b[0m",
      "\u001b[1;31mKeyError\u001b[0m                                  Traceback (most recent call last)",
      "\u001b[1;32mC:\\ProgramData\\Anaconda3\\lib\\site-packages\\pandas\\core\\indexes\\base.py\u001b[0m in \u001b[0;36mget_loc\u001b[1;34m(self, key, method, tolerance)\u001b[0m\n\u001b[0;32m   3079\u001b[0m             \u001b[1;32mtry\u001b[0m\u001b[1;33m:\u001b[0m\u001b[1;33m\u001b[0m\u001b[1;33m\u001b[0m\u001b[0m\n\u001b[1;32m-> 3080\u001b[1;33m                 \u001b[1;32mreturn\u001b[0m \u001b[0mself\u001b[0m\u001b[1;33m.\u001b[0m\u001b[0m_engine\u001b[0m\u001b[1;33m.\u001b[0m\u001b[0mget_loc\u001b[0m\u001b[1;33m(\u001b[0m\u001b[0mcasted_key\u001b[0m\u001b[1;33m)\u001b[0m\u001b[1;33m\u001b[0m\u001b[1;33m\u001b[0m\u001b[0m\n\u001b[0m\u001b[0;32m   3081\u001b[0m             \u001b[1;32mexcept\u001b[0m \u001b[0mKeyError\u001b[0m \u001b[1;32mas\u001b[0m \u001b[0merr\u001b[0m\u001b[1;33m:\u001b[0m\u001b[1;33m\u001b[0m\u001b[1;33m\u001b[0m\u001b[0m\n",
      "\u001b[1;32mpandas\\_libs\\index.pyx\u001b[0m in \u001b[0;36mpandas._libs.index.IndexEngine.get_loc\u001b[1;34m()\u001b[0m\n",
      "\u001b[1;32mpandas\\_libs\\index.pyx\u001b[0m in \u001b[0;36mpandas._libs.index.IndexEngine.get_loc\u001b[1;34m()\u001b[0m\n",
      "\u001b[1;32mpandas\\_libs\\hashtable_class_helper.pxi\u001b[0m in \u001b[0;36mpandas._libs.hashtable.PyObjectHashTable.get_item\u001b[1;34m()\u001b[0m\n",
      "\u001b[1;32mpandas\\_libs\\hashtable_class_helper.pxi\u001b[0m in \u001b[0;36mpandas._libs.hashtable.PyObjectHashTable.get_item\u001b[1;34m()\u001b[0m\n",
      "\u001b[1;31mKeyError\u001b[0m: 'Resultbin'",
      "\nThe above exception was the direct cause of the following exception:\n",
      "\u001b[1;31mKeyError\u001b[0m                                  Traceback (most recent call last)",
      "\u001b[1;32m<ipython-input-581-b3799fbe09ca>\u001b[0m in \u001b[0;36m<module>\u001b[1;34m\u001b[0m\n\u001b[1;32m----> 1\u001b[1;33m \u001b[0mtrain_labels\u001b[0m \u001b[1;33m=\u001b[0m \u001b[0mnp\u001b[0m\u001b[1;33m.\u001b[0m\u001b[0marray\u001b[0m\u001b[1;33m(\u001b[0m\u001b[0mdfX\u001b[0m\u001b[1;33m.\u001b[0m\u001b[0mpop\u001b[0m\u001b[1;33m(\u001b[0m\u001b[1;34m'Resultbin'\u001b[0m\u001b[1;33m)\u001b[0m\u001b[1;33m)\u001b[0m\u001b[1;33m\u001b[0m\u001b[1;33m\u001b[0m\u001b[0m\n\u001b[0m\u001b[0;32m      2\u001b[0m \u001b[0mbool_train_labels\u001b[0m \u001b[1;33m=\u001b[0m \u001b[0mtrain_labels\u001b[0m \u001b[1;33m!=\u001b[0m \u001b[1;36m0\u001b[0m\u001b[1;33m\u001b[0m\u001b[1;33m\u001b[0m\u001b[0m\n",
      "\u001b[1;32mC:\\ProgramData\\Anaconda3\\lib\\site-packages\\pandas\\core\\frame.py\u001b[0m in \u001b[0;36mpop\u001b[1;34m(self, item)\u001b[0m\n\u001b[0;32m   4510\u001b[0m         \u001b[1;36m3\u001b[0m  \u001b[0mmonkey\u001b[0m        \u001b[0mNaN\u001b[0m\u001b[1;33m\u001b[0m\u001b[1;33m\u001b[0m\u001b[0m\n\u001b[0;32m   4511\u001b[0m         \"\"\"\n\u001b[1;32m-> 4512\u001b[1;33m         \u001b[1;32mreturn\u001b[0m \u001b[0msuper\u001b[0m\u001b[1;33m(\u001b[0m\u001b[1;33m)\u001b[0m\u001b[1;33m.\u001b[0m\u001b[0mpop\u001b[0m\u001b[1;33m(\u001b[0m\u001b[0mitem\u001b[0m\u001b[1;33m=\u001b[0m\u001b[0mitem\u001b[0m\u001b[1;33m)\u001b[0m\u001b[1;33m\u001b[0m\u001b[1;33m\u001b[0m\u001b[0m\n\u001b[0m\u001b[0;32m   4513\u001b[0m \u001b[1;33m\u001b[0m\u001b[0m\n\u001b[0;32m   4514\u001b[0m     \u001b[1;33m@\u001b[0m\u001b[0mdoc\u001b[0m\u001b[1;33m(\u001b[0m\u001b[0mNDFrame\u001b[0m\u001b[1;33m.\u001b[0m\u001b[0mreplace\u001b[0m\u001b[1;33m,\u001b[0m \u001b[1;33m**\u001b[0m\u001b[0m_shared_doc_kwargs\u001b[0m\u001b[1;33m)\u001b[0m\u001b[1;33m\u001b[0m\u001b[1;33m\u001b[0m\u001b[0m\n",
      "\u001b[1;32mC:\\ProgramData\\Anaconda3\\lib\\site-packages\\pandas\\core\\generic.py\u001b[0m in \u001b[0;36mpop\u001b[1;34m(self, item)\u001b[0m\n\u001b[0;32m    767\u001b[0m \u001b[1;33m\u001b[0m\u001b[0m\n\u001b[0;32m    768\u001b[0m     \u001b[1;32mdef\u001b[0m \u001b[0mpop\u001b[0m\u001b[1;33m(\u001b[0m\u001b[0mself\u001b[0m\u001b[1;33m,\u001b[0m \u001b[0mitem\u001b[0m\u001b[1;33m:\u001b[0m \u001b[0mLabel\u001b[0m\u001b[1;33m)\u001b[0m \u001b[1;33m->\u001b[0m \u001b[0mUnion\u001b[0m\u001b[1;33m[\u001b[0m\u001b[0mSeries\u001b[0m\u001b[1;33m,\u001b[0m \u001b[0mAny\u001b[0m\u001b[1;33m]\u001b[0m\u001b[1;33m:\u001b[0m\u001b[1;33m\u001b[0m\u001b[1;33m\u001b[0m\u001b[0m\n\u001b[1;32m--> 769\u001b[1;33m         \u001b[0mresult\u001b[0m \u001b[1;33m=\u001b[0m \u001b[0mself\u001b[0m\u001b[1;33m[\u001b[0m\u001b[0mitem\u001b[0m\u001b[1;33m]\u001b[0m\u001b[1;33m\u001b[0m\u001b[1;33m\u001b[0m\u001b[0m\n\u001b[0m\u001b[0;32m    770\u001b[0m         \u001b[1;32mdel\u001b[0m \u001b[0mself\u001b[0m\u001b[1;33m[\u001b[0m\u001b[0mitem\u001b[0m\u001b[1;33m]\u001b[0m\u001b[1;33m\u001b[0m\u001b[1;33m\u001b[0m\u001b[0m\n\u001b[0;32m    771\u001b[0m         \u001b[1;32mif\u001b[0m \u001b[0mself\u001b[0m\u001b[1;33m.\u001b[0m\u001b[0mndim\u001b[0m \u001b[1;33m==\u001b[0m \u001b[1;36m2\u001b[0m\u001b[1;33m:\u001b[0m\u001b[1;33m\u001b[0m\u001b[1;33m\u001b[0m\u001b[0m\n",
      "\u001b[1;32mC:\\ProgramData\\Anaconda3\\lib\\site-packages\\pandas\\core\\frame.py\u001b[0m in \u001b[0;36m__getitem__\u001b[1;34m(self, key)\u001b[0m\n\u001b[0;32m   3022\u001b[0m             \u001b[1;32mif\u001b[0m \u001b[0mself\u001b[0m\u001b[1;33m.\u001b[0m\u001b[0mcolumns\u001b[0m\u001b[1;33m.\u001b[0m\u001b[0mnlevels\u001b[0m \u001b[1;33m>\u001b[0m \u001b[1;36m1\u001b[0m\u001b[1;33m:\u001b[0m\u001b[1;33m\u001b[0m\u001b[1;33m\u001b[0m\u001b[0m\n\u001b[0;32m   3023\u001b[0m                 \u001b[1;32mreturn\u001b[0m \u001b[0mself\u001b[0m\u001b[1;33m.\u001b[0m\u001b[0m_getitem_multilevel\u001b[0m\u001b[1;33m(\u001b[0m\u001b[0mkey\u001b[0m\u001b[1;33m)\u001b[0m\u001b[1;33m\u001b[0m\u001b[1;33m\u001b[0m\u001b[0m\n\u001b[1;32m-> 3024\u001b[1;33m             \u001b[0mindexer\u001b[0m \u001b[1;33m=\u001b[0m \u001b[0mself\u001b[0m\u001b[1;33m.\u001b[0m\u001b[0mcolumns\u001b[0m\u001b[1;33m.\u001b[0m\u001b[0mget_loc\u001b[0m\u001b[1;33m(\u001b[0m\u001b[0mkey\u001b[0m\u001b[1;33m)\u001b[0m\u001b[1;33m\u001b[0m\u001b[1;33m\u001b[0m\u001b[0m\n\u001b[0m\u001b[0;32m   3025\u001b[0m             \u001b[1;32mif\u001b[0m \u001b[0mis_integer\u001b[0m\u001b[1;33m(\u001b[0m\u001b[0mindexer\u001b[0m\u001b[1;33m)\u001b[0m\u001b[1;33m:\u001b[0m\u001b[1;33m\u001b[0m\u001b[1;33m\u001b[0m\u001b[0m\n\u001b[0;32m   3026\u001b[0m                 \u001b[0mindexer\u001b[0m \u001b[1;33m=\u001b[0m \u001b[1;33m[\u001b[0m\u001b[0mindexer\u001b[0m\u001b[1;33m]\u001b[0m\u001b[1;33m\u001b[0m\u001b[1;33m\u001b[0m\u001b[0m\n",
      "\u001b[1;32mC:\\ProgramData\\Anaconda3\\lib\\site-packages\\pandas\\core\\indexes\\base.py\u001b[0m in \u001b[0;36mget_loc\u001b[1;34m(self, key, method, tolerance)\u001b[0m\n\u001b[0;32m   3080\u001b[0m                 \u001b[1;32mreturn\u001b[0m \u001b[0mself\u001b[0m\u001b[1;33m.\u001b[0m\u001b[0m_engine\u001b[0m\u001b[1;33m.\u001b[0m\u001b[0mget_loc\u001b[0m\u001b[1;33m(\u001b[0m\u001b[0mcasted_key\u001b[0m\u001b[1;33m)\u001b[0m\u001b[1;33m\u001b[0m\u001b[1;33m\u001b[0m\u001b[0m\n\u001b[0;32m   3081\u001b[0m             \u001b[1;32mexcept\u001b[0m \u001b[0mKeyError\u001b[0m \u001b[1;32mas\u001b[0m \u001b[0merr\u001b[0m\u001b[1;33m:\u001b[0m\u001b[1;33m\u001b[0m\u001b[1;33m\u001b[0m\u001b[0m\n\u001b[1;32m-> 3082\u001b[1;33m                 \u001b[1;32mraise\u001b[0m \u001b[0mKeyError\u001b[0m\u001b[1;33m(\u001b[0m\u001b[0mkey\u001b[0m\u001b[1;33m)\u001b[0m \u001b[1;32mfrom\u001b[0m \u001b[0merr\u001b[0m\u001b[1;33m\u001b[0m\u001b[1;33m\u001b[0m\u001b[0m\n\u001b[0m\u001b[0;32m   3083\u001b[0m \u001b[1;33m\u001b[0m\u001b[0m\n\u001b[0;32m   3084\u001b[0m         \u001b[1;32mif\u001b[0m \u001b[0mtolerance\u001b[0m \u001b[1;32mis\u001b[0m \u001b[1;32mnot\u001b[0m \u001b[1;32mNone\u001b[0m\u001b[1;33m:\u001b[0m\u001b[1;33m\u001b[0m\u001b[1;33m\u001b[0m\u001b[0m\n",
      "\u001b[1;31mKeyError\u001b[0m: 'Resultbin'"
     ]
    }
   ],
   "source": [
    "train_labels = np.array(dfX.pop('Resultbin'))\n",
    "bool_train_labels = train_labels != 0"
   ]
  },
  {
   "cell_type": "code",
   "execution_count": 579,
   "metadata": {},
   "outputs": [
    {
     "ename": "IndexError",
     "evalue": "boolean index did not match indexed array along dimension 1; dimension is 1 but corresponding boolean dimension is 7",
     "output_type": "error",
     "traceback": [
      "\u001b[1;31m---------------------------------------------------------------------------\u001b[0m",
      "\u001b[1;31mIndexError\u001b[0m                                Traceback (most recent call last)",
      "\u001b[1;32m<ipython-input-579-dca665b62d85>\u001b[0m in \u001b[0;36m<module>\u001b[1;34m\u001b[0m\n\u001b[0;32m      3\u001b[0m \u001b[0mneg_features\u001b[0m \u001b[1;33m=\u001b[0m \u001b[0mX_train\u001b[0m\u001b[1;33m[\u001b[0m\u001b[1;33m~\u001b[0m\u001b[0mbool_train_labels\u001b[0m\u001b[1;33m]\u001b[0m\u001b[1;33m\u001b[0m\u001b[1;33m\u001b[0m\u001b[0m\n\u001b[0;32m      4\u001b[0m \u001b[1;33m\u001b[0m\u001b[0m\n\u001b[1;32m----> 5\u001b[1;33m \u001b[0mpos_labels\u001b[0m \u001b[1;33m=\u001b[0m \u001b[0my_train_reshaped\u001b[0m\u001b[1;33m[\u001b[0m\u001b[0mbool_train_labels\u001b[0m\u001b[1;33m]\u001b[0m\u001b[1;33m\u001b[0m\u001b[1;33m\u001b[0m\u001b[0m\n\u001b[0m\u001b[0;32m      6\u001b[0m \u001b[0mneg_labels\u001b[0m \u001b[1;33m=\u001b[0m \u001b[0my_train_reshaped\u001b[0m\u001b[1;33m[\u001b[0m\u001b[1;33m~\u001b[0m\u001b[0mbool_train_labels\u001b[0m\u001b[1;33m]\u001b[0m\u001b[1;33m\u001b[0m\u001b[1;33m\u001b[0m\u001b[0m\n",
      "\u001b[1;31mIndexError\u001b[0m: boolean index did not match indexed array along dimension 1; dimension is 1 but corresponding boolean dimension is 7"
     ]
    }
   ],
   "source": [
    "bool_train_labels=X_train != 0\n",
    "bool_train_labels.\n",
    "pos_features = X_train[bool_train_labels]\n",
    "neg_features = X_train[~bool_train_labels]\n",
    "\n",
    "pos_labels = y_train_reshaped[bool_train_labels]\n",
    "neg_labels = y_train_reshaped[~bool_train_labels]"
   ]
  },
  {
   "cell_type": "markdown",
   "metadata": {},
   "source": [
    "You can balance the dataset manually by choosing the right number of random indices from the positive examples using numpy:"
   ]
  },
  {
   "cell_type": "code",
   "execution_count": 571,
   "metadata": {},
   "outputs": [
    {
     "data": {
      "text/plain": [
       "(108628,)"
      ]
     },
     "execution_count": 571,
     "metadata": {},
     "output_type": "execute_result"
    }
   ],
   "source": [
    "ids = np.arange(len(pos_features))\n",
    "choices = np.random.choice(ids, len(neg_features))\n",
    "\n",
    "res_pos_features = pos_features[choices]\n",
    "res_pos_labels = pos_labels[choices]\n",
    "\n",
    "res_pos_features.shape"
   ]
  },
  {
   "cell_type": "markdown",
   "metadata": {},
   "source": [
    "Si el modelo había predicho todo a la perfección, esto sería una matriz diagonal donde los valores fuera de la diagonal principal, lo que indica predicciones incorrectas, sería cero. En este caso, la matriz muestra que tiene relativamente pocos falsos positivos"
   ]
  },
  {
   "cell_type": "markdown",
   "metadata": {},
   "source": [
    "Me pasa lo mismo que con el modelo de regresion lineal => hay que tratar los datos para incrementar el numero de resultados NOK porcentualmente sobre el total de datos."
   ]
  },
  {
   "cell_type": "markdown",
   "metadata": {},
   "source": [
    "### confusion matrix logistic regresion in TTM_Pamplona\n",
    "\n",
    "[   12,  2308]\n",
    "\n",
    "\n",
    "[    0, 39686]\n",
    "con todo el dataframe  Neural Network % nok predicted good = 0,005\n",
    "tras reducir el número de pares Ok un 40% me sale la siguiente cm: Neural Network % nok predicted good 0.027\n",
    "\n",
    "[   80  2905]\n",
    "\n",
    "\n",
    "[    0 52462]\n",
    "\n",
    "quitando el angulo minimo. Neural Network % nok predicted good: 0.017\n",
    "\n",
    "[   53  3039]\n",
    "\n",
    "\n",
    "[    0 52355]\n",
    "\n",
    "vamos a volver a añadir  los pares ok a ver que hace but still i am too far\n",
    "\n",
    "con el 60% de los pares ok quitados: Neural Network % nok predicted NOK: 0.016\n",
    "\n",
    "[   48  3026]\n",
    "\n",
    "\n",
    "[    0 52373]\n",
    "\n",
    "vuelvo a poner el angulo mímimo.\n"
   ]
  },
  {
   "cell_type": "code",
   "execution_count": null,
   "metadata": {},
   "outputs": [],
   "source": [
    "porcentaje_pares_LR=12/(12+2308)\n",
    "porcentaje_pares_NN=cm[0,0]/(cm[0,0]+cm[0,1])\n",
    "\n",
    "print(\"Logistic regresion % nok predicted as NOK: \"+str(round(porcentaje_pares_LR,3)))\n",
    "print(\"Neural Network % nok predicted NOK: \"+str(round(porcentaje_pares_NN,3)))"
   ]
  },
  {
   "cell_type": "markdown",
   "metadata": {},
   "source": [
    "1. **Use weight regularization.** It tries to keep weights low which very often leads to better generalization. Experiment with different regularization coefficients. Try 0.1, 0.01, 0.001 and see what impact they have on accuracy.\n",
    "\n",
    "\n",
    "2. **Corrupt your input** (e.g., randomly substitute some pixels with black or white). This way you remove information from your input and 'force' the network to pick up on important general features. Experiment with noising coefficients which determines how much of your input should be corrupted. Research shows that anything in the range of 15% - 45% works well.\n",
    "\n",
    "\n",
    "3. **Expand your training set.** Since you're dealing with images you can expand your set by rotating / scaling etc. your existing images (as suggested). You could also experiment with pre-processing your images (e.g., mapping them to black and white, grayscale etc. but the effectiveness of this technique will depend on your exact images and classes)\n",
    "\n",
    "\n",
    "4. **Pre-train your layers with denoising critera.** Here you pre-train each layer of your network individually before fine tuning the entire network. Pre-training 'forces' layers to pick up on important general features that are useful for reconstructing the input signal. Look into auto-encoders for example (they've been applied to image classification in the past).\n",
    "\n",
    "\n",
    "5. **Experiment with network architecture.** Your network might not have sufficient learning capacity. Experiment with different neuron types, number of layers, and number of hidden neurons. Make sure to try compressing architectures (less neurons than inputs) and sparse architectures (more neurons than inputs)."
   ]
  },
  {
   "cell_type": "markdown",
   "metadata": {},
   "source": [
    "1. reducir aun mas los ok => cuanto mas?\n",
    "\n",
    "2. meter mas layers => done\n",
    "\n",
    "3. cambiar de softmax a sigmoid => done\n",
    "\n",
    "4. tune hiper parameters => done\n",
    "\n",
    "5. Ampliar el dataset con más NOK results\n"
   ]
  },
  {
   "cell_type": "markdown",
   "metadata": {},
   "source": [
    "## Random forest clasifier"
   ]
  },
  {
   "cell_type": "code",
   "execution_count": null,
   "metadata": {},
   "outputs": [],
   "source": [
    "from sklearn.ensemble import RandomForestClassifier\n",
    "from sklearn.metrics import roc_auc_score\n",
    "from sklearn.metrics import accuracy_score"
   ]
  },
  {
   "cell_type": "code",
   "execution_count": null,
   "metadata": {},
   "outputs": [],
   "source": [
    "rf = RandomForestClassifier()\n",
    "rf.fit(X_train, y_train)"
   ]
  },
  {
   "cell_type": "markdown",
   "metadata": {},
   "source": [
    "predict:"
   ]
  },
  {
   "cell_type": "code",
   "execution_count": null,
   "metadata": {},
   "outputs": [],
   "source": [
    "prediction_rf = rf.predict(X_train)\n",
    "\n",
    "print( np.unique( prediction_rf ) )\n",
    "\n",
    "print( accuracy_score(y_train, prediction_rf) )\n",
    "\n",
    " \n",
    "\n",
    "prob_y_4 = rf.predict_proba(X_train)\n",
    "prob_y_4 = [p[1] for p in prob_y_4]\n",
    "print( roc_auc_score(y_train, prob_y_4) )\n"
   ]
  },
  {
   "cell_type": "markdown",
   "metadata": {},
   "source": [
    "parece que estamos en las mismas..."
   ]
  },
  {
   "cell_type": "code",
   "execution_count": null,
   "metadata": {},
   "outputs": [],
   "source": [
    "prediction_rf_test=rf.predict(X_test)\n",
    "cm_rf = confusion_matrix(y_true=y_test,y_pred=prediction_rf_test)\n",
    "cm_plot_labels_rf=['no OK','OK']\n",
    "plot_confusion_matrix (cm_rf,cm_plot_labels_rf,title='Confusion matrix Random forest clasifier')\n",
    "plt.show()"
   ]
  },
  {
   "cell_type": "code",
   "execution_count": null,
   "metadata": {},
   "outputs": [],
   "source": [
    "print(prediction_rf)"
   ]
  },
  {
   "cell_type": "code",
   "execution_count": null,
   "metadata": {},
   "outputs": [],
   "source": [
    "estimator = rf.estimators_[5]\n",
    "feature_names=[]\n",
    "for col in dfX.columns:\n",
    "    feature_names.append(col)\n",
    "\n",
    "from sklearn.tree import export_graphviz\n",
    "# Export as dot file\n",
    "export_graphviz(estimator, out_file='tree.dot', \n",
    "                feature_names = feature_names,\n",
    "                class_names = feature_names,\n",
    "                rounded = True, proportion = False, \n",
    "                precision = 2, filled = True)\n",
    "\n",
    "# Convert to png using system command (requires Graphviz)\n",
    "from subprocess import call\n",
    "call(['dot', '-Tpng', 'tree.dot', '-o', 'tree.png', '-Gdpi=600'],shell=False)\n",
    "\n",
    "# Find the image on src"
   ]
  }
 ],
 "metadata": {
  "interpreter": {
   "hash": "1275a05ae34f0c315803f9d1758b76ed30a4d7265e5e486823be65aff6a6df27"
  },
  "kernelspec": {
   "display_name": "Python 3.8.10 64-bit (windows store)",
   "name": "python3"
  },
  "language_info": {
   "codemirror_mode": {
    "name": "ipython",
    "version": 3
   },
   "file_extension": ".py",
   "mimetype": "text/x-python",
   "name": "python",
   "nbconvert_exporter": "python",
   "pygments_lexer": "ipython3",
   "version": "3.8.8"
  },
  "orig_nbformat": 4
 },
 "nbformat": 4,
 "nbformat_minor": 2
}

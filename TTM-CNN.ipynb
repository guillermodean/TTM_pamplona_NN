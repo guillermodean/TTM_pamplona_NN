{
 "cells": [
  {
   "cell_type": "code",
   "execution_count": 463,
   "metadata": {},
   "outputs": [],
   "source": [
    "#to install with pip tensorflow i had to change the registry value for longpaths.\n",
    "import pandas as pd\n",
    "import matplotlib.pyplot as plt\n",
    "import re\n",
    "from sklearn.preprocessing import   LabelEncoder\n",
    "from sklearn.linear_model import LogisticRegression\n",
    "import numpy as np"
   ]
  },
  {
   "cell_type": "markdown",
   "metadata": {},
   "source": [
    "## Procesamiento y exploracion de datos\n",
    "\n",
    "Leedmos el conjunto de datos que esta guardado en data"
   ]
  },
  {
   "cell_type": "code",
   "execution_count": 464,
   "metadata": {},
   "outputs": [
    {
     "name": "stderr",
     "output_type": "stream",
     "text": [
      "C:\\ProgramData\\Anaconda3\\lib\\site-packages\\IPython\\core\\interactiveshell.py:3165: DtypeWarning: Columns (45,46,63) have mixed types.Specify dtype option on import or set low_memory=False.\n",
      "  has_raised = await self.run_ast_nodes(code_ast.body, cell_name,\n"
     ]
    }
   ],
   "source": [
    "df=pd.read_csv('data/Results_TTM.csv',sep=\";\",header=0)\n",
    "df=df.drop(columns=[\"Step status\",\"Current trend\",\"Torque rate min\",\"Torque rate max\",\"Torque rate trend\",\"CVILOGIX\",\"Identifier6\",\"Identifier7\",\"Identifier8\",\"Identifier9\",\"Identifier10\",\"Second transducer torque deviation\",\"Second transducer angle deviation\",\"Result type\",\"Pulse counter\",\"Angle offset\",\"AO torque rate\"])"
   ]
  },
  {
   "cell_type": "code",
   "execution_count": 465,
   "metadata": {},
   "outputs": [
    {
     "name": "stdout",
     "output_type": "stream",
     "text": [
      "<bound method NDFrame.describe of        Result status Tool status  Result number            Time result  \\\n",
      "0                 OK          OK         613029  2020-12-10 23:59:12.0   \n",
      "1                 OK          OK         613028  2020-12-10 23:59:08.0   \n",
      "2                 OK          OK         613027  2020-12-10 23:58:56.0   \n",
      "3                 OK          OK         613026  2020-12-10 23:58:48.0   \n",
      "4                 OK          OK         613025  2020-12-10 23:58:41.0   \n",
      "...              ...         ...            ...                    ...   \n",
      "399995            OK          OK         286841  2020-09-29 18:51:08.0   \n",
      "399996            OK          OK         286840  2020-09-29 18:51:03.0   \n",
      "399997            OK          OK         760759  2020-09-29 18:50:45.0   \n",
      "399998            OK          OK         487287  2020-09-29 18:50:40.0   \n",
      "399999            OK          OK         356116  2020-09-29 18:50:37.0   \n",
      "\n",
      "        Pset ID  Step ID Error Code     Stop source  Torque min  Torque  ...  \\\n",
      "0          10.0      1.0        NaN  Target reached        18.0  20.126  ...   \n",
      "1           9.0      1.0        NaN  Target reached        18.0  20.090  ...   \n",
      "2           3.0      1.0        NaN  Target reached        20.0  22.219  ...   \n",
      "3           3.0      1.0        NaN  Target reached        20.0  22.138  ...   \n",
      "4           3.0      1.0        NaN  Target reached        20.0  22.073  ...   \n",
      "...         ...      ...        ...             ...         ...     ...  ...   \n",
      "399995      5.0      1.0        NaN  Target reached        20.0  22.422  ...   \n",
      "399996      5.0      1.0        NaN  Target reached        20.0  22.154  ...   \n",
      "399997     16.0      1.0        NaN  Target reached         8.0  10.049  ...   \n",
      "399998     21.0      1.0        NaN  Target reached         3.5   4.543  ...   \n",
      "399999     18.0      1.0        NaN  Target reached        35.0  37.966  ...   \n",
      "\n",
      "        Batch         Identifier1        Identifier2  Identifier3  \\\n",
      "0        1(0)                 NaN                NaN          NaN   \n",
      "1        1(0)                 NaN                NaN          NaN   \n",
      "2        1(0)                 NaN                NaN          NaN   \n",
      "3        1(0)                 NaN                NaN          NaN   \n",
      "4        1(0)                 NaN                NaN          NaN   \n",
      "...       ...                 ...                ...          ...   \n",
      "399995   2(2)  #######89161-05/00  552001922428000.0       2362.0   \n",
      "399996   1(2)  #######89161-05/00  552001922428000.0       2362.0   \n",
      "399997   1(0)                 NaN                NaN          NaN   \n",
      "399998   1(0)                 NaN                NaN          NaN   \n",
      "399999   1(0)                 NaN                NaN          NaN   \n",
      "\n",
      "        Identifier4 Identifier5  Torque (monitoring)  Angle (monitoring)  \\\n",
      "0               NaN         NaN                  ---                 ---   \n",
      "1               NaN         NaN                  ---                 ---   \n",
      "2               NaN         NaN                  ---                 ---   \n",
      "3               NaN         NaN                  ---                 ---   \n",
      "4               NaN         NaN                  ---                 ---   \n",
      "...             ...         ...                  ...                 ...   \n",
      "399995          NaN         NaN                  ---                 ---   \n",
      "399996          NaN         NaN                  ---                 ---   \n",
      "399997          NaN         NaN                  ---                 ---   \n",
      "399998          NaN         NaN                  ---                 ---   \n",
      "399999          NaN         NaN                  ---                 ---   \n",
      "\n",
      "        Controlling transducer  Angle Threshold   \n",
      "0                            0              10.0  \n",
      "1                            0              10.0  \n",
      "2                            0              11.0  \n",
      "3                            0              11.0  \n",
      "4                            0              11.0  \n",
      "...                        ...               ...  \n",
      "399995                       0               7.0  \n",
      "399996                       0               7.0  \n",
      "399997                       0               4.0  \n",
      "399998                       0               3.7  \n",
      "399999                       0              19.0  \n",
      "\n",
      "[400000 rows x 47 columns]>\n"
     ]
    }
   ],
   "source": [
    "print(df.describe)\n",
    "df=df[['Result status','Result number','Time result','Pset ID','Step ID','Error Code', 'Torque min','Torque','Torque max','Angle min','Angle','Angle max','Pset name','VIN','Identifier1','Identifier2','Identifier3','Identifier4','Identifier5']]"
   ]
  },
  {
   "cell_type": "markdown",
   "metadata": {},
   "source": [
    "Nos quedamos con las columnas que tienen valores interesante y eliminamos todas las columnas que contienen muchos nulos"
   ]
  },
  {
   "cell_type": "code",
   "execution_count": 466,
   "metadata": {},
   "outputs": [
    {
     "name": "stdout",
     "output_type": "stream",
     "text": [
      "<class 'pandas.core.frame.DataFrame'>\n",
      "RangeIndex: 400000 entries, 0 to 399999\n",
      "Data columns (total 19 columns):\n",
      " #   Column         Non-Null Count   Dtype  \n",
      "---  ------         --------------   -----  \n",
      " 0   Result status  400000 non-null  object \n",
      " 1   Result number  400000 non-null  int64  \n",
      " 2   Time result    400000 non-null  object \n",
      " 3   Pset ID        399901 non-null  float64\n",
      " 4   Step ID        399901 non-null  float64\n",
      " 5   Error Code     22688 non-null   object \n",
      " 6   Torque min     399901 non-null  float64\n",
      " 7   Torque         400000 non-null  float64\n",
      " 8   Torque max     399901 non-null  float64\n",
      " 9   Angle min      399901 non-null  float64\n",
      " 10  Angle          400000 non-null  float64\n",
      " 11  Angle max      399901 non-null  float64\n",
      " 12  Pset name      399901 non-null  object \n",
      " 13  VIN            172013 non-null  object \n",
      " 14  Identifier1    172013 non-null  object \n",
      " 15  Identifier2    170608 non-null  object \n",
      " 16  Identifier3    168406 non-null  object \n",
      " 17  Identifier4    13920 non-null   object \n",
      " 18  Identifier5    12363 non-null   object \n",
      "dtypes: float64(8), int64(1), object(10)\n",
      "memory usage: 58.0+ MB\n"
     ]
    }
   ],
   "source": [
    "df.info()"
   ]
  },
  {
   "cell_type": "markdown",
   "metadata": {},
   "source": [
    "Tenombramos las columnas para eliminar los espacios."
   ]
  },
  {
   "cell_type": "code",
   "execution_count": 467,
   "metadata": {},
   "outputs": [],
   "source": [
    "df=df.rename(columns={\"Result status\":\"Result_status\",\"Result number\":\"Result_number\",\"Pset ID\":\"Pset_ID\",\"Step ID\":\"Step_ID\",\"Torque min\":\"Torque_min\",\"Torque max\":\"Torque_max\",\"Angle min\":\"Angle_min\",\"Angle max\":\"Angle_max\",\"Pset name\":\"Pset_name\",'Error code':'Error_code','Result_status':'Result_status','Time result':'Time_result'})\n"
   ]
  },
  {
   "cell_type": "markdown",
   "metadata": {},
   "source": [
    "Vamos a mirar a ver cuales de los pares son NOK, filtramos la columna de resultado"
   ]
  },
  {
   "cell_type": "code",
   "execution_count": 468,
   "metadata": {},
   "outputs": [
    {
     "name": "stdout",
     "output_type": "stream",
     "text": [
      "<class 'pandas.core.frame.DataFrame'>\n",
      "Int64Index: 22568 entries, 34 to 399969\n",
      "Data columns (total 19 columns):\n",
      " #   Column         Non-Null Count  Dtype  \n",
      "---  ------         --------------  -----  \n",
      " 0   Result_status  22568 non-null  object \n",
      " 1   Result_number  22568 non-null  int64  \n",
      " 2   Time_result    22568 non-null  object \n",
      " 3   Pset_ID        22568 non-null  float64\n",
      " 4   Step_ID        22568 non-null  float64\n",
      " 5   Error Code     22568 non-null  object \n",
      " 6   Torque_min     22568 non-null  float64\n",
      " 7   Torque         22568 non-null  float64\n",
      " 8   Torque_max     22568 non-null  float64\n",
      " 9   Angle_min      22568 non-null  float64\n",
      " 10  Angle          22568 non-null  float64\n",
      " 11  Angle_max      22568 non-null  float64\n",
      " 12  Pset_name      22568 non-null  object \n",
      " 13  VIN            9477 non-null   object \n",
      " 14  Identifier1    9477 non-null   object \n",
      " 15  Identifier2    9289 non-null   object \n",
      " 16  Identifier3    9301 non-null   object \n",
      " 17  Identifier4    1431 non-null   object \n",
      " 18  Identifier5    1354 non-null   object \n",
      "dtypes: float64(8), int64(1), object(10)\n",
      "memory usage: 3.4+ MB\n"
     ]
    }
   ],
   "source": [
    "df_nok=df[df['Result_status'].str.contains(\"NOK\")]\n",
    "df_nok.info()"
   ]
  },
  {
   "cell_type": "code",
   "execution_count": 469,
   "metadata": {},
   "outputs": [
    {
     "data": {
      "text/html": [
       "<div>\n",
       "<style scoped>\n",
       "    .dataframe tbody tr th:only-of-type {\n",
       "        vertical-align: middle;\n",
       "    }\n",
       "\n",
       "    .dataframe tbody tr th {\n",
       "        vertical-align: top;\n",
       "    }\n",
       "\n",
       "    .dataframe thead th {\n",
       "        text-align: right;\n",
       "    }\n",
       "</style>\n",
       "<table border=\"1\" class=\"dataframe\">\n",
       "  <thead>\n",
       "    <tr style=\"text-align: right;\">\n",
       "      <th></th>\n",
       "      <th>Result_status</th>\n",
       "    </tr>\n",
       "    <tr>\n",
       "      <th>Pset_name</th>\n",
       "      <th></th>\n",
       "    </tr>\n",
       "  </thead>\n",
       "  <tbody>\n",
       "    <tr>\n",
       "      <th>Seat frame front_35Nm</th>\n",
       "      <td>1109</td>\n",
       "    </tr>\n",
       "    <tr>\n",
       "      <th>Armrests 28Nm</th>\n",
       "      <td>990</td>\n",
       "    </tr>\n",
       "    <tr>\n",
       "      <th>Slides 22Nm TX40 ISC</th>\n",
       "      <td>920</td>\n",
       "    </tr>\n",
       "    <tr>\n",
       "      <th>Cross angle back - Swivel_22Nm</th>\n",
       "      <td>885</td>\n",
       "    </tr>\n",
       "    <tr>\n",
       "      <th>Seat frame assy_35Nm_2x59-2_ISC</th>\n",
       "      <td>877</td>\n",
       "    </tr>\n",
       "    <tr>\n",
       "      <th>...</th>\n",
       "      <td>...</td>\n",
       "    </tr>\n",
       "    <tr>\n",
       "      <th>Backrest segment 22Nm ISC_A_BAU</th>\n",
       "      <td>1</td>\n",
       "    </tr>\n",
       "    <tr>\n",
       "      <th>Poka Yoke Check_6xxx</th>\n",
       "      <td>1</td>\n",
       "    </tr>\n",
       "    <tr>\n",
       "      <th>Torque_35Nm</th>\n",
       "      <td>1</td>\n",
       "    </tr>\n",
       "    <tr>\n",
       "      <th>Cross static support to slides 22Nm ISC</th>\n",
       "      <td>1</td>\n",
       "    </tr>\n",
       "    <tr>\n",
       "      <th>Cushion slides_WOOD_10Nm+-2</th>\n",
       "      <td>1</td>\n",
       "    </tr>\n",
       "  </tbody>\n",
       "</table>\n",
       "<p>208 rows × 1 columns</p>\n",
       "</div>"
      ],
      "text/plain": [
       "                                         Result_status\n",
       "Pset_name                                             \n",
       "Seat frame front_35Nm                             1109\n",
       "Armrests 28Nm                                      990\n",
       "Slides 22Nm TX40 ISC                               920\n",
       "Cross angle back - Swivel_22Nm                     885\n",
       "Seat frame assy_35Nm_2x59-2_ISC                    877\n",
       "...                                                ...\n",
       "Backrest segment 22Nm ISC_A_BAU                      1\n",
       "Poka Yoke Check_6xxx                                 1\n",
       "Torque_35Nm                                          1\n",
       "Cross static support to slides 22Nm ISC              1\n",
       "Cushion slides_WOOD_10Nm+-2                          1\n",
       "\n",
       "[208 rows x 1 columns]"
      ]
     },
     "execution_count": 469,
     "metadata": {},
     "output_type": "execute_result"
    }
   ],
   "source": [
    "df_nok['Pset_name'].head()\n",
    "df_nok[['Pset_name','Result_status']].groupby(by='Pset_name').count().sort_values(by=['Result_status'], ascending=False)"
   ]
  },
  {
   "cell_type": "markdown",
   "metadata": {},
   "source": [
    "Vemos que hay un resultado POKA YOKE, es un resultado NOK forzado que se hace para comprobar la herramientas. hay que quitarlos de la muestra."
   ]
  },
  {
   "cell_type": "code",
   "execution_count": 470,
   "metadata": {},
   "outputs": [],
   "source": [
    "df = df[~df[\"Pset_name\"].str.contains(\"Poka\",na=False)]"
   ]
  },
  {
   "cell_type": "markdown",
   "metadata": {},
   "source": [
    "Cambiamos el tipo de la columna fecha"
   ]
  },
  {
   "cell_type": "code",
   "execution_count": 471,
   "metadata": {},
   "outputs": [
    {
     "data": {
      "text/plain": [
       "Result_status                        object\n",
       "Result_number                         int64\n",
       "Time_result      datetime64[ns, US/Eastern]\n",
       "Pset_ID                             float64\n",
       "Step_ID                             float64\n",
       "Error Code                           object\n",
       "Torque_min                          float64\n",
       "Torque                              float64\n",
       "Torque_max                          float64\n",
       "Angle_min                           float64\n",
       "Angle                               float64\n",
       "Angle_max                           float64\n",
       "Pset_name                            object\n",
       "VIN                                  object\n",
       "Identifier1                          object\n",
       "Identifier2                          object\n",
       "Identifier3                          object\n",
       "Identifier4                          object\n",
       "Identifier5                          object\n",
       "dtype: object"
      ]
     },
     "execution_count": 471,
     "metadata": {},
     "output_type": "execute_result"
    }
   ],
   "source": [
    "df.astype({'Time_result': 'datetime64[ns, US/Eastern]'}).dtypes"
   ]
  },
  {
   "cell_type": "markdown",
   "metadata": {},
   "source": [
    "creamos una columna nueva la columna de resultado que contiene los tesxtos \"NOK\" y \"OK\" en valores numericos."
   ]
  },
  {
   "cell_type": "code",
   "execution_count": 472,
   "metadata": {},
   "outputs": [],
   "source": [
    "df['Resultbin']=df['Result_status']=='OK'"
   ]
  },
  {
   "cell_type": "code",
   "execution_count": 473,
   "metadata": {},
   "outputs": [
    {
     "data": {
      "text/html": [
       "<div>\n",
       "<style scoped>\n",
       "    .dataframe tbody tr th:only-of-type {\n",
       "        vertical-align: middle;\n",
       "    }\n",
       "\n",
       "    .dataframe tbody tr th {\n",
       "        vertical-align: top;\n",
       "    }\n",
       "\n",
       "    .dataframe thead th {\n",
       "        text-align: right;\n",
       "    }\n",
       "</style>\n",
       "<table border=\"1\" class=\"dataframe\">\n",
       "  <thead>\n",
       "    <tr style=\"text-align: right;\">\n",
       "      <th></th>\n",
       "      <th>Result_status</th>\n",
       "      <th>Result_number</th>\n",
       "      <th>Time_result</th>\n",
       "      <th>Pset_ID</th>\n",
       "      <th>Step_ID</th>\n",
       "      <th>Error Code</th>\n",
       "      <th>Torque_min</th>\n",
       "      <th>Torque</th>\n",
       "      <th>Torque_max</th>\n",
       "      <th>Angle_min</th>\n",
       "      <th>Angle</th>\n",
       "      <th>Angle_max</th>\n",
       "      <th>Pset_name</th>\n",
       "      <th>VIN</th>\n",
       "      <th>Identifier1</th>\n",
       "      <th>Identifier2</th>\n",
       "      <th>Identifier3</th>\n",
       "      <th>Identifier4</th>\n",
       "      <th>Identifier5</th>\n",
       "      <th>Resultbin</th>\n",
       "    </tr>\n",
       "  </thead>\n",
       "  <tbody>\n",
       "    <tr>\n",
       "      <th>0</th>\n",
       "      <td>OK</td>\n",
       "      <td>613029</td>\n",
       "      <td>2020-12-10 23:59:12.0</td>\n",
       "      <td>10.0</td>\n",
       "      <td>1.0</td>\n",
       "      <td>NaN</td>\n",
       "      <td>18.0</td>\n",
       "      <td>20.126</td>\n",
       "      <td>22.0</td>\n",
       "      <td>3.0</td>\n",
       "      <td>40.213</td>\n",
       "      <td>100.0</td>\n",
       "      <td>Fixation screw_(60895R01)_20Nm_1x64-5_IF</td>\n",
       "      <td>NaN</td>\n",
       "      <td>NaN</td>\n",
       "      <td>NaN</td>\n",
       "      <td>NaN</td>\n",
       "      <td>NaN</td>\n",
       "      <td>NaN</td>\n",
       "      <td>True</td>\n",
       "    </tr>\n",
       "    <tr>\n",
       "      <th>1</th>\n",
       "      <td>OK</td>\n",
       "      <td>613028</td>\n",
       "      <td>2020-12-10 23:59:08.0</td>\n",
       "      <td>9.0</td>\n",
       "      <td>1.0</td>\n",
       "      <td>NaN</td>\n",
       "      <td>18.0</td>\n",
       "      <td>20.090</td>\n",
       "      <td>22.0</td>\n",
       "      <td>5.0</td>\n",
       "      <td>40.369</td>\n",
       "      <td>100.0</td>\n",
       "      <td>Fixation screw_(318327B01)_20Nm_1x64-4_I</td>\n",
       "      <td>NaN</td>\n",
       "      <td>NaN</td>\n",
       "      <td>NaN</td>\n",
       "      <td>NaN</td>\n",
       "      <td>NaN</td>\n",
       "      <td>NaN</td>\n",
       "      <td>True</td>\n",
       "    </tr>\n",
       "    <tr>\n",
       "      <th>2</th>\n",
       "      <td>OK</td>\n",
       "      <td>613027</td>\n",
       "      <td>2020-12-10 23:58:56.0</td>\n",
       "      <td>3.0</td>\n",
       "      <td>1.0</td>\n",
       "      <td>NaN</td>\n",
       "      <td>20.0</td>\n",
       "      <td>22.219</td>\n",
       "      <td>24.0</td>\n",
       "      <td>5.0</td>\n",
       "      <td>40.389</td>\n",
       "      <td>110.0</td>\n",
       "      <td>Sliders 22Nm_4x65-4_ISC</td>\n",
       "      <td>NaN</td>\n",
       "      <td>NaN</td>\n",
       "      <td>NaN</td>\n",
       "      <td>NaN</td>\n",
       "      <td>NaN</td>\n",
       "      <td>NaN</td>\n",
       "      <td>True</td>\n",
       "    </tr>\n",
       "    <tr>\n",
       "      <th>3</th>\n",
       "      <td>OK</td>\n",
       "      <td>613026</td>\n",
       "      <td>2020-12-10 23:58:48.0</td>\n",
       "      <td>3.0</td>\n",
       "      <td>1.0</td>\n",
       "      <td>NaN</td>\n",
       "      <td>20.0</td>\n",
       "      <td>22.138</td>\n",
       "      <td>24.0</td>\n",
       "      <td>5.0</td>\n",
       "      <td>33.650</td>\n",
       "      <td>110.0</td>\n",
       "      <td>Sliders 22Nm_4x65-4_ISC</td>\n",
       "      <td>NaN</td>\n",
       "      <td>NaN</td>\n",
       "      <td>NaN</td>\n",
       "      <td>NaN</td>\n",
       "      <td>NaN</td>\n",
       "      <td>NaN</td>\n",
       "      <td>True</td>\n",
       "    </tr>\n",
       "    <tr>\n",
       "      <th>4</th>\n",
       "      <td>OK</td>\n",
       "      <td>613025</td>\n",
       "      <td>2020-12-10 23:58:41.0</td>\n",
       "      <td>3.0</td>\n",
       "      <td>1.0</td>\n",
       "      <td>NaN</td>\n",
       "      <td>20.0</td>\n",
       "      <td>22.073</td>\n",
       "      <td>24.0</td>\n",
       "      <td>5.0</td>\n",
       "      <td>43.830</td>\n",
       "      <td>110.0</td>\n",
       "      <td>Sliders 22Nm_4x65-4_ISC</td>\n",
       "      <td>NaN</td>\n",
       "      <td>NaN</td>\n",
       "      <td>NaN</td>\n",
       "      <td>NaN</td>\n",
       "      <td>NaN</td>\n",
       "      <td>NaN</td>\n",
       "      <td>True</td>\n",
       "    </tr>\n",
       "  </tbody>\n",
       "</table>\n",
       "</div>"
      ],
      "text/plain": [
       "  Result_status  Result_number            Time_result  Pset_ID  Step_ID  \\\n",
       "0            OK         613029  2020-12-10 23:59:12.0     10.0      1.0   \n",
       "1            OK         613028  2020-12-10 23:59:08.0      9.0      1.0   \n",
       "2            OK         613027  2020-12-10 23:58:56.0      3.0      1.0   \n",
       "3            OK         613026  2020-12-10 23:58:48.0      3.0      1.0   \n",
       "4            OK         613025  2020-12-10 23:58:41.0      3.0      1.0   \n",
       "\n",
       "  Error Code  Torque_min  Torque  Torque_max  Angle_min   Angle  Angle_max  \\\n",
       "0        NaN        18.0  20.126        22.0        3.0  40.213      100.0   \n",
       "1        NaN        18.0  20.090        22.0        5.0  40.369      100.0   \n",
       "2        NaN        20.0  22.219        24.0        5.0  40.389      110.0   \n",
       "3        NaN        20.0  22.138        24.0        5.0  33.650      110.0   \n",
       "4        NaN        20.0  22.073        24.0        5.0  43.830      110.0   \n",
       "\n",
       "                                  Pset_name  VIN Identifier1 Identifier2  \\\n",
       "0  Fixation screw_(60895R01)_20Nm_1x64-5_IF  NaN         NaN         NaN   \n",
       "1  Fixation screw_(318327B01)_20Nm_1x64-4_I  NaN         NaN         NaN   \n",
       "2                   Sliders 22Nm_4x65-4_ISC  NaN         NaN         NaN   \n",
       "3                   Sliders 22Nm_4x65-4_ISC  NaN         NaN         NaN   \n",
       "4                   Sliders 22Nm_4x65-4_ISC  NaN         NaN         NaN   \n",
       "\n",
       "  Identifier3 Identifier4 Identifier5  Resultbin  \n",
       "0         NaN         NaN         NaN       True  \n",
       "1         NaN         NaN         NaN       True  \n",
       "2         NaN         NaN         NaN       True  \n",
       "3         NaN         NaN         NaN       True  \n",
       "4         NaN         NaN         NaN       True  "
      ]
     },
     "execution_count": 473,
     "metadata": {},
     "output_type": "execute_result"
    }
   ],
   "source": [
    "df.head()\n"
   ]
  },
  {
   "cell_type": "markdown",
   "metadata": {},
   "source": [
    "Aun tenemos columnas que no van a aportar nada a nuestro modelo."
   ]
  },
  {
   "cell_type": "code",
   "execution_count": 474,
   "metadata": {},
   "outputs": [],
   "source": [
    "dfX=df.drop(columns={'Result_status','Result_number','Time_result','Pset_ID','Identifier4','Identifier5','Identifier2','Error Code','Torque','Angle'})"
   ]
  },
  {
   "cell_type": "markdown",
   "metadata": {},
   "source": [
    "con df.info() vamos a ver cuantas columnas contienen resultados nulos y vamos a hacer que toda la muestra tenga columnas con datos que podamos utilizar.\n",
    "Con esta accion podemos hacer que nuestro modelo posterior no sea tan bueno prediciendo los resultados de las columnas que tienen nulls."
   ]
  },
  {
   "cell_type": "code",
   "execution_count": 475,
   "metadata": {},
   "outputs": [
    {
     "name": "stdout",
     "output_type": "stream",
     "text": [
      "<class 'pandas.core.frame.DataFrame'>\n",
      "Int64Index: 398943 entries, 0 to 399999\n",
      "Data columns (total 10 columns):\n",
      " #   Column       Non-Null Count   Dtype  \n",
      "---  ------       --------------   -----  \n",
      " 0   Step_ID      398844 non-null  float64\n",
      " 1   Torque_min   398844 non-null  float64\n",
      " 2   Torque_max   398844 non-null  float64\n",
      " 3   Angle_min    398844 non-null  float64\n",
      " 4   Angle_max    398844 non-null  float64\n",
      " 5   Pset_name    398844 non-null  object \n",
      " 6   VIN          172013 non-null  object \n",
      " 7   Identifier1  172013 non-null  object \n",
      " 8   Identifier3  168406 non-null  object \n",
      " 9   Resultbin    398943 non-null  bool   \n",
      "dtypes: bool(1), float64(5), object(4)\n",
      "memory usage: 30.8+ MB\n"
     ]
    }
   ],
   "source": [
    "dfX.info()"
   ]
  },
  {
   "cell_type": "markdown",
   "metadata": {},
   "source": [
    "Vamos a echar un vistazo a los valores que vamos a quitar. porque se va a reducir mucho la muestra."
   ]
  },
  {
   "cell_type": "code",
   "execution_count": 476,
   "metadata": {},
   "outputs": [
    {
     "name": "stderr",
     "output_type": "stream",
     "text": [
      "C:\\ProgramData\\Anaconda3\\lib\\site-packages\\pandas\\core\\indexing.py:1599: SettingWithCopyWarning: \n",
      "A value is trying to be set on a copy of a slice from a DataFrame.\n",
      "Try using .loc[row_indexer,col_indexer] = value instead\n",
      "\n",
      "See the caveats in the documentation: https://pandas.pydata.org/pandas-docs/stable/user_guide/indexing.html#returning-a-view-versus-a-copy\n",
      "  self.obj[key] = infer_fill_value(value)\n",
      "C:\\ProgramData\\Anaconda3\\lib\\site-packages\\pandas\\core\\indexing.py:1720: SettingWithCopyWarning: \n",
      "A value is trying to be set on a copy of a slice from a DataFrame.\n",
      "Try using .loc[row_indexer,col_indexer] = value instead\n",
      "\n",
      "See the caveats in the documentation: https://pandas.pydata.org/pandas-docs/stable/user_guide/indexing.html#returning-a-view-versus-a-copy\n",
      "  self._setitem_single_column(loc, value, pi)\n"
     ]
    },
    {
     "data": {
      "text/html": [
       "<div>\n",
       "<style scoped>\n",
       "    .dataframe tbody tr th:only-of-type {\n",
       "        vertical-align: middle;\n",
       "    }\n",
       "\n",
       "    .dataframe tbody tr th {\n",
       "        vertical-align: top;\n",
       "    }\n",
       "\n",
       "    .dataframe thead th {\n",
       "        text-align: right;\n",
       "    }\n",
       "</style>\n",
       "<table border=\"1\" class=\"dataframe\">\n",
       "  <thead>\n",
       "    <tr style=\"text-align: right;\">\n",
       "      <th></th>\n",
       "      <th>Resultbin</th>\n",
       "    </tr>\n",
       "    <tr>\n",
       "      <th>Pset_name</th>\n",
       "      <th></th>\n",
       "    </tr>\n",
       "  </thead>\n",
       "  <tbody>\n",
       "    <tr>\n",
       "      <th>Sliders 22Nm_4x65-4_ISC</th>\n",
       "      <td>19342</td>\n",
       "    </tr>\n",
       "    <tr>\n",
       "      <th>Backrest_40Nm</th>\n",
       "      <td>10887</td>\n",
       "    </tr>\n",
       "    <tr>\n",
       "      <th>Seat frame assy_35Nm_2x59-2_ISC</th>\n",
       "      <td>10709</td>\n",
       "    </tr>\n",
       "    <tr>\n",
       "      <th>Bearing inclination cap_22Nm_2x59-1_ISC</th>\n",
       "      <td>10022</td>\n",
       "    </tr>\n",
       "    <tr>\n",
       "      <th>Inner carrier_22Nm_2x59-3_ISC</th>\n",
       "      <td>9927</td>\n",
       "    </tr>\n",
       "    <tr>\n",
       "      <th>...</th>\n",
       "      <td>...</td>\n",
       "    </tr>\n",
       "    <tr>\n",
       "      <th>Cushion slides_WOOD_10Nm+-2</th>\n",
       "      <td>80</td>\n",
       "    </tr>\n",
       "    <tr>\n",
       "      <th>Embocar Profiles 30Nm ISC</th>\n",
       "      <td>77</td>\n",
       "    </tr>\n",
       "    <tr>\n",
       "      <th>Slides 22Nm TX40 ISC</th>\n",
       "      <td>6</td>\n",
       "    </tr>\n",
       "    <tr>\n",
       "      <th>Torque 35Nm</th>\n",
       "      <td>4</td>\n",
       "    </tr>\n",
       "    <tr>\n",
       "      <th>Inner carrier 22Nm HEX8 ISC</th>\n",
       "      <td>1</td>\n",
       "    </tr>\n",
       "  </tbody>\n",
       "</table>\n",
       "<p>61 rows × 1 columns</p>\n",
       "</div>"
      ],
      "text/plain": [
       "                                         Resultbin\n",
       "Pset_name                                         \n",
       "Sliders 22Nm_4x65-4_ISC                      19342\n",
       "Backrest_40Nm                                10887\n",
       "Seat frame assy_35Nm_2x59-2_ISC              10709\n",
       "Bearing inclination cap_22Nm_2x59-1_ISC      10022\n",
       "Inner carrier_22Nm_2x59-3_ISC                 9927\n",
       "...                                            ...\n",
       "Cushion slides_WOOD_10Nm+-2                     80\n",
       "Embocar Profiles 30Nm ISC                       77\n",
       "Slides 22Nm TX40 ISC                             6\n",
       "Torque 35Nm                                      4\n",
       "Inner carrier 22Nm HEX8 ISC                      1\n",
       "\n",
       "[61 rows x 1 columns]"
      ]
     },
     "execution_count": 476,
     "metadata": {},
     "output_type": "execute_result"
    }
   ],
   "source": [
    "\n",
    "df_NANs=dfX[['Pset_name','Identifier1','Identifier3','Resultbin']]\n",
    "df_NANs.loc[df_NANs['Identifier1'].isnull(),'value_is_NaN'] = 'Yes'\n",
    "df_NANs.loc[df_NANs['Identifier1'].notnull(), 'value_is_NaN'] = 'No'\n",
    "df_NANs = df_NANs[df_NANs[\"value_is_NaN\"].str.contains(\"Yes\",na=False)]\n",
    "df_NANs[['Pset_name','Resultbin']].groupby(by='Pset_name').count().sort_values(by='Resultbin',ascending=False)\n",
    "\n"
   ]
  },
  {
   "cell_type": "markdown",
   "metadata": {},
   "source": [
    "Estamos perdiendo valores OK y NOK de las líneas NTS1 y NTS2 que no guardan valueIdentifiers. Es decir que el analisis se va a focalizar en las líneas:\n",
    "1. ALter BAU\n",
    "2. Alter BUS\n",
    "3. Tapizado NTS1\n",
    "4. Tapizado NTS2\n",
    "5. NTS1 BAU\n",
    "Vamos a proceder a eliminar los resultados nulos del Df"
   ]
  },
  {
   "cell_type": "code",
   "execution_count": 477,
   "metadata": {},
   "outputs": [
    {
     "name": "stdout",
     "output_type": "stream",
     "text": [
      "<class 'pandas.core.frame.DataFrame'>\n",
      "Int64Index: 168002 entries, 10 to 399996\n",
      "Data columns (total 10 columns):\n",
      " #   Column       Non-Null Count   Dtype  \n",
      "---  ------       --------------   -----  \n",
      " 0   Step_ID      168002 non-null  float64\n",
      " 1   Torque_min   168002 non-null  float64\n",
      " 2   Torque_max   168002 non-null  float64\n",
      " 3   Angle_min    168002 non-null  float64\n",
      " 4   Angle_max    168002 non-null  float64\n",
      " 5   Pset_name    168002 non-null  object \n",
      " 6   VIN          168002 non-null  object \n",
      " 7   Identifier1  168002 non-null  object \n",
      " 8   Identifier3  168002 non-null  object \n",
      " 9   Resultbin    168002 non-null  bool   \n",
      "dtypes: bool(1), float64(5), object(4)\n",
      "memory usage: 13.0+ MB\n"
     ]
    }
   ],
   "source": [
    "dfX=dfX.dropna()\n",
    "dfX = dfX[pd.to_numeric(dfX['Identifier3'],errors='coerce').notna()]\n",
    "dfX.info()"
   ]
  },
  {
   "cell_type": "markdown",
   "metadata": {},
   "source": [
    "Observamos ahora que tenemos 168.002 registros no nulos con los que podemos elaborar un modelo. vamos a ver el porcentaje de aprietes NOK totales.  "
   ]
  },
  {
   "cell_type": "code",
   "execution_count": 478,
   "metadata": {},
   "outputs": [
    {
     "data": {
      "text/html": [
       "<div>\n",
       "<style scoped>\n",
       "    .dataframe tbody tr th:only-of-type {\n",
       "        vertical-align: middle;\n",
       "    }\n",
       "\n",
       "    .dataframe tbody tr th {\n",
       "        vertical-align: top;\n",
       "    }\n",
       "\n",
       "    .dataframe thead th {\n",
       "        text-align: right;\n",
       "    }\n",
       "</style>\n",
       "<table border=\"1\" class=\"dataframe\">\n",
       "  <thead>\n",
       "    <tr style=\"text-align: right;\">\n",
       "      <th></th>\n",
       "      <th>Step_ID</th>\n",
       "    </tr>\n",
       "    <tr>\n",
       "      <th>Resultbin</th>\n",
       "      <th></th>\n",
       "    </tr>\n",
       "  </thead>\n",
       "  <tbody>\n",
       "    <tr>\n",
       "      <th>False</th>\n",
       "      <td>9236</td>\n",
       "    </tr>\n",
       "    <tr>\n",
       "      <th>True</th>\n",
       "      <td>158766</td>\n",
       "    </tr>\n",
       "  </tbody>\n",
       "</table>\n",
       "</div>"
      ],
      "text/plain": [
       "           Step_ID\n",
       "Resultbin         \n",
       "False         9236\n",
       "True        158766"
      ]
     },
     "execution_count": 478,
     "metadata": {},
     "output_type": "execute_result"
    }
   ],
   "source": [
    "dfX[['Resultbin','Step_ID']].groupby(by='Resultbin').count()"
   ]
  },
  {
   "cell_type": "code",
   "execution_count": 479,
   "metadata": {},
   "outputs": [
    {
     "data": {
      "text/plain": [
       "0.05391998355654818"
      ]
     },
     "execution_count": 479,
     "metadata": {},
     "output_type": "execute_result"
    }
   ],
   "source": [
    "OKS = len(df[df[\"Result_status\"].str.contains(\"OK\",na=False)])\n",
    "NOKS=len(df[df[\"Result_status\"].str.contains(\"NOK\",na=False)])\n",
    "NOKS/OKS"
   ]
  },
  {
   "cell_type": "markdown",
   "metadata": {},
   "source": [
    "Tenemos un 5% de pares malos en este conjunto de datos."
   ]
  },
  {
   "cell_type": "markdown",
   "metadata": {},
   "source": [
    "vamos a quitar algunos ok para que los modelos aprendan mejor:"
   ]
  },
  {
   "cell_type": "code",
   "execution_count": 480,
   "metadata": {},
   "outputs": [
    {
     "data": {
      "image/png": "[encoded data removed]",
      "text/plain": [
       "<Figure size 864x720 with 1 Axes>"
      ]
     },
     "metadata": {
      "needs_background": "light"
     },
     "output_type": "display_data"
    }
   ],
   "source": [
    "# dfX = dfX.drop(dfX[dfX['Resultbin'] == True].sample(frac=.6, random_state=101).index)\n",
    "#Quito el 40 % de los resultados OK  de DFX\n",
    "dfX_plot=dfX[['Resultbin','Step_ID']].groupby(by='Resultbin').count()\n",
    "ax = dfX_plot.plot.bar(y='Step_ID',rot=0)"
   ]
  },
  {
   "cell_type": "code",
   "execution_count": 481,
   "metadata": {},
   "outputs": [
    {
     "data": {
      "text/plain": [
       "0.05391998355654818"
      ]
     },
     "execution_count": 481,
     "metadata": {},
     "output_type": "execute_result"
    }
   ],
   "source": [
    "OKS = len(df[df[\"Result_status\"].str.contains(\"OK\",na=False)])\n",
    "NOKS=len(df[df[\"Result_status\"].str.contains(\"NOK\",na=False)])\n",
    "NOKS/OKS\n",
    "\n"
   ]
  },
  {
   "cell_type": "code",
   "execution_count": 482,
   "metadata": {},
   "outputs": [],
   "source": [
    "enc=LabelEncoder()\n",
    "dfX=df[['Torque_min','Torque_max','Angle_min','Angle_max','Pset_name',\t'Identifier1','Identifier3','Resultbin']].dropna()\n",
    "dfX = dfX.drop(dfX[dfX['Resultbin'] == True].sample(frac=.4, random_state=101).index)\n",
    "#Quito el 40 % de los resultados OK  de DFX\n",
    "\n",
    "dfX['Identifier3'] = df['Identifier3'].astype('string',copy=False)\n",
    "dfX['Pset_name_cat'] = enc.fit_transform(dfX['Pset_name'])\n",
    "dfX['Modelo'] = enc.fit_transform(dfX['Identifier1'])\n",
    "dfX[['Identifier3','Resultbin']].groupby(by=\"Identifier3\").count()\n",
    "dfX[dfX['Identifier3'].apply(lambda x: x.isnumeric())]\n",
    "dfX['Trabajador'] = enc.fit_transform(dfX['Identifier3'])\n"
   ]
  },
  {
   "cell_type": "code",
   "execution_count": 483,
   "metadata": {},
   "outputs": [
    {
     "data": {
      "text/html": [
       "<div>\n",
       "<style scoped>\n",
       "    .dataframe tbody tr th:only-of-type {\n",
       "        vertical-align: middle;\n",
       "    }\n",
       "\n",
       "    .dataframe tbody tr th {\n",
       "        vertical-align: top;\n",
       "    }\n",
       "\n",
       "    .dataframe thead th {\n",
       "        text-align: right;\n",
       "    }\n",
       "</style>\n",
       "<table border=\"1\" class=\"dataframe\">\n",
       "  <thead>\n",
       "    <tr style=\"text-align: right;\">\n",
       "      <th></th>\n",
       "      <th>Resultbin</th>\n",
       "    </tr>\n",
       "    <tr>\n",
       "      <th>Identifier3</th>\n",
       "      <th></th>\n",
       "    </tr>\n",
       "  </thead>\n",
       "  <tbody>\n",
       "    <tr>\n",
       "      <th>1234.0</th>\n",
       "      <td>2</td>\n",
       "    </tr>\n",
       "    <tr>\n",
       "      <th>1412.0</th>\n",
       "      <td>45</td>\n",
       "    </tr>\n",
       "    <tr>\n",
       "      <th>1505</th>\n",
       "      <td>12</td>\n",
       "    </tr>\n",
       "    <tr>\n",
       "      <th>1505.0</th>\n",
       "      <td>2206</td>\n",
       "    </tr>\n",
       "    <tr>\n",
       "      <th>2072.0</th>\n",
       "      <td>6</td>\n",
       "    </tr>\n",
       "    <tr>\n",
       "      <th>...</th>\n",
       "      <td>...</td>\n",
       "    </tr>\n",
       "    <tr>\n",
       "      <th>6000</th>\n",
       "      <td>134</td>\n",
       "    </tr>\n",
       "    <tr>\n",
       "      <th>6000.0</th>\n",
       "      <td>636</td>\n",
       "    </tr>\n",
       "    <tr>\n",
       "      <th>9385.0</th>\n",
       "      <td>2</td>\n",
       "    </tr>\n",
       "    <tr>\n",
       "      <th>9472.0</th>\n",
       "      <td>8</td>\n",
       "    </tr>\n",
       "    <tr>\n",
       "      <th>Y000</th>\n",
       "      <td>3</td>\n",
       "    </tr>\n",
       "  </tbody>\n",
       "</table>\n",
       "<p>115 rows × 1 columns</p>\n",
       "</div>"
      ],
      "text/plain": [
       "             Resultbin\n",
       "Identifier3           \n",
       "1234.0               2\n",
       "1412.0              45\n",
       "1505                12\n",
       "1505.0            2206\n",
       "2072.0               6\n",
       "...                ...\n",
       "6000               134\n",
       "6000.0             636\n",
       "9385.0               2\n",
       "9472.0               8\n",
       "Y000                 3\n",
       "\n",
       "[115 rows x 1 columns]"
      ]
     },
     "execution_count": 483,
     "metadata": {},
     "output_type": "execute_result"
    }
   ],
   "source": [
    "dfX[['Identifier3','Resultbin']].groupby(by=\"Identifier3\").count()"
   ]
  },
  {
   "cell_type": "code",
   "execution_count": 484,
   "metadata": {},
   "outputs": [
    {
     "data": {
      "text/html": [
       "<div>\n",
       "<style scoped>\n",
       "    .dataframe tbody tr th:only-of-type {\n",
       "        vertical-align: middle;\n",
       "    }\n",
       "\n",
       "    .dataframe tbody tr th {\n",
       "        vertical-align: top;\n",
       "    }\n",
       "\n",
       "    .dataframe thead th {\n",
       "        text-align: right;\n",
       "    }\n",
       "</style>\n",
       "<table border=\"1\" class=\"dataframe\">\n",
       "  <thead>\n",
       "    <tr style=\"text-align: right;\">\n",
       "      <th></th>\n",
       "      <th>Pset_name_cat</th>\n",
       "    </tr>\n",
       "    <tr>\n",
       "      <th>Resultbin</th>\n",
       "      <th></th>\n",
       "    </tr>\n",
       "  </thead>\n",
       "  <tbody>\n",
       "    <tr>\n",
       "      <th>False</th>\n",
       "      <td>9236</td>\n",
       "    </tr>\n",
       "    <tr>\n",
       "      <th>True</th>\n",
       "      <td>95271</td>\n",
       "    </tr>\n",
       "  </tbody>\n",
       "</table>\n",
       "</div>"
      ],
      "text/plain": [
       "           Pset_name_cat\n",
       "Resultbin               \n",
       "False               9236\n",
       "True               95271"
      ]
     },
     "execution_count": 484,
     "metadata": {},
     "output_type": "execute_result"
    }
   ],
   "source": [
    "dfX_gp=dfX[['Resultbin','Pset_name_cat']].groupby(by='Resultbin').count()\n",
    "dfX_gp"
   ]
  },
  {
   "cell_type": "code",
   "execution_count": 485,
   "metadata": {},
   "outputs": [
    {
     "name": "stdout",
     "output_type": "stream",
     "text": [
      "OKS[9236] and NOKS [95271]\n"
     ]
    }
   ],
   "source": [
    "OKS = dfX_gp.iloc[0].values\n",
    "NOKS = dfX_gp.iloc[1].values\n",
    "print(\"OKS\"+str(OKS)+\" and NOKS \"+str(NOKS))\n"
   ]
  },
  {
   "cell_type": "code",
   "execution_count": 486,
   "metadata": {},
   "outputs": [
    {
     "data": {
      "text/plain": [
       "array([10.31517973])"
      ]
     },
     "execution_count": 486,
     "metadata": {},
     "output_type": "execute_result"
    }
   ],
   "source": [
    "NOKS/OKS"
   ]
  },
  {
   "cell_type": "code",
   "execution_count": 487,
   "metadata": {},
   "outputs": [
    {
     "name": "stdout",
     "output_type": "stream",
     "text": [
      "<class 'pandas.core.frame.DataFrame'>\n",
      "Int64Index: 104507 entries, 17 to 399996\n",
      "Data columns (total 11 columns):\n",
      " #   Column         Non-Null Count   Dtype  \n",
      "---  ------         --------------   -----  \n",
      " 0   Torque_min     104507 non-null  float64\n",
      " 1   Torque_max     104507 non-null  float64\n",
      " 2   Angle_min      104507 non-null  float64\n",
      " 3   Angle_max      104507 non-null  float64\n",
      " 4   Pset_name      104507 non-null  object \n",
      " 5   Identifier1    104507 non-null  object \n",
      " 6   Identifier3    104507 non-null  string \n",
      " 7   Resultbin      104507 non-null  bool   \n",
      " 8   Pset_name_cat  104507 non-null  int32  \n",
      " 9   Modelo         104507 non-null  int32  \n",
      " 10  Trabajador     104507 non-null  int32  \n",
      "dtypes: bool(1), float64(4), int32(3), object(2), string(1)\n",
      "memory usage: 7.7+ MB\n"
     ]
    }
   ],
   "source": [
    "dfX.info()\n"
   ]
  },
  {
   "cell_type": "markdown",
   "metadata": {},
   "source": [
    "Ok, ahora vamos a dejar el df solo con las columnas que nos interesan y empezaremos a preparar nuestro modelo."
   ]
  },
  {
   "cell_type": "code",
   "execution_count": 488,
   "metadata": {},
   "outputs": [
    {
     "name": "stdout",
     "output_type": "stream",
     "text": [
      "[1 1 1 ... 1 1 1] [[  7.  13.   0. ...  19. 115.  45.]\n",
      " [ 20.  22.   0. ...  73. 306.  73.]\n",
      " [ 20.  24.   0. ...  21. 306.  73.]\n",
      " ...\n",
      " [ 30.  40.   0. ...  27.  41.  89.]\n",
      " [ 20.  24.   0. ...  21.  41.  42.]\n",
      " [ 20.  24.   0. ...  21.  41.  42.]]\n"
     ]
    }
   ],
   "source": [
    "dfX[\"Resultbin\"] = dfX[\"Resultbin\"].astype(int)\n",
    "y=np.array(dfX[\"Resultbin\"])\n",
    "dfX=dfX.drop(columns={'Resultbin','Pset_name','Identifier1','Identifier3'})\n",
    "X=dfX.values\n",
    "print(y, X)\n",
    "\n"
   ]
  },
  {
   "cell_type": "code",
   "execution_count": 489,
   "metadata": {},
   "outputs": [
    {
     "name": "stdout",
     "output_type": "stream",
     "text": [
      "Num GPUs available: 1\n",
      "(104507,) (104507, 7)\n"
     ]
    }
   ],
   "source": [
    "from sklearn.model_selection import KFold\n",
    "from sklearn.preprocessing import MinMaxScaler\n",
    "import tensorflow as tf\n",
    "from tensorflow.keras.models import Sequential\n",
    "from tensorflow.keras.layers import Activation, Dense, Dropout\n",
    "from tensorflow.keras.optimizers import Adam\n",
    "from tensorflow.keras.metrics import categorical_crossentropy, BinaryCrossentropy\n",
    "from sklearn.utils import shuffle\n",
    "import warnings\n",
    "\n",
    "warnings.simplefilter(action='ignore', category=FutureWarning)\n",
    "\n",
    "physical_devices = tf.config.list_physical_devices('GPU')\n",
    "print(\"Num GPUs available:\", len(physical_devices))\n",
    "tf.config.experimental.set_memory_growth(physical_devices[0], True)\n",
    "\n",
    "label=np.array(y)\n",
    "sample=np.array(X)\n",
    "\n",
    "print(label.shape,sample.shape)\n",
    "\n"
   ]
  },
  {
   "cell_type": "code",
   "execution_count": 490,
   "metadata": {},
   "outputs": [],
   "source": [
    "label,sample =shuffle(label,sample)\n",
    "scaler = MinMaxScaler(feature_range=(0,1))\n",
    "scaled_samples= scaler.fit_transform(sample) #fit transform does not accept 1D data so we reshape the scaled train samples to be 2D\n"
   ]
  },
  {
   "cell_type": "code",
   "execution_count": 491,
   "metadata": {},
   "outputs": [],
   "source": [
    "import seaborn as sns\n",
    "# sns.pairplot (dfX)"
   ]
  },
  {
   "cell_type": "code",
   "execution_count": 492,
   "metadata": {},
   "outputs": [
    {
     "name": "stdout",
     "output_type": "stream",
     "text": [
      "[1 1 1 ... 1 1 1] [[  7.  13.   0. ...  19. 115.  45.]\n",
      " [ 20.  22.   0. ...  73. 306.  73.]\n",
      " [ 20.  24.   0. ...  21. 306.  73.]\n",
      " ...\n",
      " [ 30.  40.   0. ...  27.  41.  89.]\n",
      " [ 20.  24.   0. ...  21.  41.  42.]\n",
      " [ 20.  24.   0. ...  21.  41.  42.]]\n",
      "(104507,) (104507, 7)\n"
     ]
    }
   ],
   "source": [
    "print(y, X)\n",
    "print(y.shape,X.shape)"
   ]
  },
  {
   "cell_type": "code",
   "execution_count": 493,
   "metadata": {},
   "outputs": [
    {
     "name": "stdout",
     "output_type": "stream",
     "text": [
      "[1 1 1 ... 1 1 0] [[0.75       0.875      0.         ... 0.20300752 0.37741935 0.85964912]\n",
      " [0.35       0.325      0.         ... 0.52631579 0.20967742 0.71929825]\n",
      " [0.5        0.475      0.00119048 ... 0.72180451 0.57096774 0.97368421]\n",
      " ...\n",
      " [0.75       0.875      0.         ... 0.10526316 0.36129032 0.04385965]\n",
      " [0.625      0.7        0.         ... 0.7443609  0.31290323 0.23684211]\n",
      " [0.5        0.5        0.00119048 ... 0.07518797 0.08387097 0.34210526]]\n",
      "(104507,) (104507, 7)\n"
     ]
    }
   ],
   "source": [
    "print(label,scaled_samples)\n",
    "print(label.shape,scaled_samples.shape)"
   ]
  },
  {
   "cell_type": "code",
   "execution_count": 494,
   "metadata": {},
   "outputs": [],
   "source": [
    "from sklearn.model_selection import train_test_split\n",
    "X_train, X_test, y_train, y_test = train_test_split(scaled_samples, label, test_size=0.33, random_state=42)\n"
   ]
  },
  {
   "cell_type": "code",
   "execution_count": 495,
   "metadata": {},
   "outputs": [
    {
     "name": "stdout",
     "output_type": "stream",
     "text": [
      "(34488, 7) (70019, 7)\n",
      "(34488,) (70019,)\n"
     ]
    }
   ],
   "source": [
    "print(X_test.shape, X_train.shape)\n",
    "print(y_test.shape,y_train.shape)"
   ]
  },
  {
   "cell_type": "code",
   "execution_count": 496,
   "metadata": {},
   "outputs": [],
   "source": [
    "METRICS = [\n",
    "      tf.keras.metrics.TruePositives(name='tp'),\n",
    "      tf.keras.metrics.FalsePositives(name='fp'),\n",
    "      tf.keras.metrics.TrueNegatives(name='tn'),\n",
    "      tf.keras.metrics.FalseNegatives(name='fn'), \n",
    "      tf.keras.metrics.BinaryAccuracy(name='accuracy'),\n",
    "      tf.keras.metrics.Precision(name='precision'),\n",
    "      tf.keras.metrics.Recall(name='recall'),\n",
    "      tf.keras.metrics.AUC(name='auc'),\n",
    "      tf.keras.metrics.AUC(name='prc', curve='PR'), # precision-recall curve\n",
    "]"
   ]
  },
  {
   "cell_type": "markdown",
   "metadata": {},
   "source": [
    "## Comprender métricas útiles\n",
    "\n",
    "Tenga en cuenta que hay algunas métricas definidas anteriormente que pueden ser calculadas por el modelo y que serán útiles al evaluar el desempeño.\n",
    "\n",
    "* Los falsos negativos y falsos positivos son muestras que fueron clasificadas incorrectamente.\n",
    "\n",
    "* Verdaderos negativos y positivos verdaderos son muestras que fueron clasificados correctamente.\n",
    "\n",
    "* La precisión es el porcentaje de ejemplos correctamente clasificada.\n",
    "\n",
    "* La precisión es el porcentaje de positivos predichos que se clasifican correctamente.\n",
    "\n",
    "* Recall es el porcentaje de positivos reales que fueron clasificados correctamente.\n",
    "\n",
    "* AUC se refiere al área bajo la curva de una curva característica de funcionamiento del receptor (ROC-AUC). Esta métrica es igual a la probabilidad de que un clasificador clasifique una muestra positiva aleatoria por encima de una muestra negativa aleatoria.\n",
    "\n",
    "* AUPRC se refiere al área bajo la curva de la curva de precisión de recordar. Esta métrica calcula pares de recuperación de precisión para diferentes umbrales de probabilidad."
   ]
  },
  {
   "cell_type": "code",
   "execution_count": 497,
   "metadata": {},
   "outputs": [],
   "source": [
    "def make_model(metrics=METRICS,output_bias=None):\n",
    "    if output_bias is not None:\n",
    "        output_bias = tf.keras.initializers.Constant(output_bias)\n",
    "\n",
    "    model = Sequential([\n",
    "        Dense(units=16,input_shape=[len(dfX.keys())],activation='relu'),\n",
    "        Dense(units=32,activation='relu'),\n",
    "        Dense(units=32,activation='relu'),\n",
    "        Dropout(0.5),\n",
    "        Dense(units=1,activation='sigmoid',bias_initializer=output_bias)  # dos clases, par ok par nok.\n",
    "    ])\n",
    "\n",
    "    model.compile(optimizer=Adam(learning_rate=0.0001),loss='BinaryCrossentropy',metrics=metrics)\n",
    "    \n",
    "    # voy a cambiar el optimizer a ver si mejora \n",
    "    # from tensorflow.keras.optimizers import SGD\n",
    "    # from tensorflow.keras.metrics import categorical_crossentropy\n",
    "    # opt = SGD(learning_rate=0.01)\n",
    "    # model.compile(loss = \"sparse_categorical_crossentropy\", optimizer = opt, metrics= ['accuracy'])\n",
    "    \n",
    "    return model"
   ]
  },
  {
   "cell_type": "code",
   "execution_count": 498,
   "metadata": {},
   "outputs": [],
   "source": [
    "EPOCHS = 100\n",
    "BATCH_SIZE = 2048\n",
    "\n",
    "early_stopping = tf.keras.callbacks.EarlyStopping(\n",
    "    monitor='val_prc', \n",
    "    verbose=1,\n",
    "    patience=10,\n",
    "    mode='max',\n",
    "    restore_best_weights=True)"
   ]
  },
  {
   "cell_type": "markdown",
   "metadata": {},
   "source": [
    " # Tune model with keras tuner\n",
    " "
   ]
  },
  {
   "cell_type": "code",
   "execution_count": 499,
   "metadata": {},
   "outputs": [],
   "source": [
    "import tensorflow as tf\n",
    "from tensorflow import keras\n",
    "import keras_tuner as kt"
   ]
  },
  {
   "cell_type": "code",
   "execution_count": 500,
   "metadata": {},
   "outputs": [],
   "source": [
    "def model_builder(hp):\n",
    "  model = tf.keras.Sequential()\n",
    "\n",
    "  # Tune the number of units in the first Dense layer\n",
    "  # Choose an optimal value between 32-512\n",
    "  \n",
    "  hp_units = hp.Int('units', min_value=32, max_value=512, step=32)\n",
    "\n",
    "  model.add(tf.keras.layers.Dense(units=16,input_shape=[len(dfX.keys())],activation='relu'))\n",
    "  model.add(tf.keras.layers.Dense(units=hp_units, activation='relu'))\n",
    "  model.add(tf.keras.layers.Dense(units=hp_units, activation='relu')) #added one layer more\n",
    "  model.add(tf.keras.layers.Dense(units=1,activation='sigmoid'))  #changed to sigmoid => is equivalent to softmax for two outputs\n",
    "\n",
    "  # Tune the learning rate for the optimizer\n",
    "  # Choose an optimal value from 0.01, 0.001, or 0.0001\n",
    "  hp_learning_rate = hp.Choice('learning_rate', values=[1e-2, 1e-3, 1e-4])\n",
    "\n",
    "  model.compile(optimizer=tf.keras.optimizers.Adam(learning_rate=hp_learning_rate),\n",
    "                loss=tf.keras.losses.SparseCategoricalCrossentropy(from_logits=True),\n",
    "                metrics=['accuracy'])\n",
    "\n",
    "  return model"
   ]
  },
  {
   "cell_type": "code",
   "execution_count": 501,
   "metadata": {},
   "outputs": [
    {
     "name": "stdout",
     "output_type": "stream",
     "text": [
      "INFO:tensorflow:Reloading Oracle from existing project my_dir\\intro_to_kt\\oracle.json\n",
      "INFO:tensorflow:Reloading Tuner from my_dir\\intro_to_kt\\tuner0.json\n"
     ]
    }
   ],
   "source": [
    "tuner = kt.Hyperband(model_builder,\n",
    "                     objective='val_accuracy',\n",
    "                     max_epochs=10,\n",
    "                     factor=3,\n",
    "                     directory='my_dir',\n",
    "                     project_name='intro_to_kt')"
   ]
  },
  {
   "cell_type": "code",
   "execution_count": 502,
   "metadata": {},
   "outputs": [],
   "source": [
    "stop_early = tf.keras.callbacks.EarlyStopping(monitor='val_loss', patience=5)"
   ]
  },
  {
   "cell_type": "code",
   "execution_count": 503,
   "metadata": {},
   "outputs": [
    {
     "name": "stdout",
     "output_type": "stream",
     "text": [
      "Trial 31 Complete [00h 00m 05s]\n",
      "val_accuracy: 0.0858326181769371\n",
      "\n",
      "Best val_accuracy So Far: 0.9477681517601013\n",
      "Total elapsed time: 00h 00m 11s\n",
      "INFO:tensorflow:Oracle triggered exit\n",
      "\n",
      "The hyperparameter search is complete. The optimal number of units in the first densely-connected\n",
      "layer is 448 and the optimal learning rate for the optimizer\n",
      "is 0.001.\n",
      "\n"
     ]
    }
   ],
   "source": [
    "tuner.search(X_train, y_train, epochs=50,batch_size=BATCH_SIZE , validation_split=0.2, callbacks=[stop_early])\n",
    "\n",
    "# Get the optimal hyperparameters\n",
    "best_hps=tuner.get_best_hyperparameters(num_trials=1)[0]\n",
    "\n",
    "print(f\"\"\"\n",
    "The hyperparameter search is complete. The optimal number of units in the first densely-connected\n",
    "layer is {best_hps.get('units')} and the optimal learning rate for the optimizer\n",
    "is {best_hps.get('learning_rate')}.\n",
    "\"\"\")"
   ]
  },
  {
   "cell_type": "code",
   "execution_count": 504,
   "metadata": {},
   "outputs": [
    {
     "name": "stdout",
     "output_type": "stream",
     "text": [
      "Model: \"sequential_1\"\n",
      "_________________________________________________________________\n",
      " Layer (type)                Output Shape              Param #   \n",
      "=================================================================\n",
      " dense_4 (Dense)             (None, 16)                128       \n",
      "                                                                 \n",
      " dense_5 (Dense)             (None, 32)                544       \n",
      "                                                                 \n",
      " dense_6 (Dense)             (None, 32)                1056      \n",
      "                                                                 \n",
      " dropout (Dropout)           (None, 32)                0         \n",
      "                                                                 \n",
      " dense_7 (Dense)             (None, 1)                 33        \n",
      "                                                                 \n",
      "=================================================================\n",
      "Total params: 1,761\n",
      "Trainable params: 1,761\n",
      "Non-trainable params: 0\n",
      "_________________________________________________________________\n"
     ]
    }
   ],
   "source": [
    "model=make_model()\n",
    "model.summary()"
   ]
  },
  {
   "cell_type": "code",
   "execution_count": 505,
   "metadata": {},
   "outputs": [
    {
     "name": "stdout",
     "output_type": "stream",
     "text": [
      "Loss: 1.0390\n"
     ]
    }
   ],
   "source": [
    "results = model.evaluate(X_train, y_train, batch_size=BATCH_SIZE, verbose=0)\n",
    "print(\"Loss: {:0.4f}\".format(results[0]))"
   ]
  },
  {
   "cell_type": "code",
   "execution_count": 506,
   "metadata": {},
   "outputs": [
    {
     "data": {
      "text/plain": [
       "array([2.33361657])"
      ]
     },
     "execution_count": 506,
     "metadata": {},
     "output_type": "execute_result"
    }
   ],
   "source": [
    "initial_bias=np.log([NOKS[0]/OKS[0]])\n",
    "initial_bias"
   ]
  },
  {
   "cell_type": "code",
   "execution_count": 507,
   "metadata": {},
   "outputs": [],
   "source": [
    "model = make_model(output_bias=initial_bias)"
   ]
  },
  {
   "cell_type": "code",
   "execution_count": 508,
   "metadata": {},
   "outputs": [
    {
     "name": "stdout",
     "output_type": "stream",
     "text": [
      "Loss: 0.2985\n"
     ]
    }
   ],
   "source": [
    "results = model.evaluate(X_train, y_train, batch_size=BATCH_SIZE, verbose=0)\n",
    "print(\"Loss: {:0.4f}\".format(results[0]))"
   ]
  },
  {
   "cell_type": "markdown",
   "metadata": {},
   "source": [
    "Esto tampoco vale para un cagau. porque con categorical_crossentropy y una ultima capa con dos nodos me daba un valor tambien cercano incluso por debajo de 0.3 como se puede ver en el código comentado abajo:"
   ]
  },
  {
   "cell_type": "code",
   "execution_count": 509,
   "metadata": {},
   "outputs": [],
   "source": [
    "# initial_bias=None\n",
    "# results = model.evaluate(X_train, y_train, batch_size=10, verbose=0)\n",
    "# print(\"Loss: {:0.4f}\".format(results[0]))"
   ]
  },
  {
   "cell_type": "markdown",
   "metadata": {},
   "source": [
    "Punto de control de los pesos iniciales"
   ]
  },
  {
   "cell_type": "code",
   "execution_count": 510,
   "metadata": {},
   "outputs": [],
   "source": [
    "import tempfile\n",
    "import os\n",
    "\n",
    "initial_weights = os.path.join(tempfile.mkdtemp(), 'initial_weights')\n",
    "model.save_weights(initial_weights)"
   ]
  },
  {
   "cell_type": "markdown",
   "metadata": {},
   "source": [
    "## Train the model"
   ]
  },
  {
   "cell_type": "markdown",
   "metadata": {},
   "source": [
    "Vamos a realizar confirmar que el sesgo de pesos ayuda"
   ]
  },
  {
   "cell_type": "code",
   "execution_count": 511,
   "metadata": {},
   "outputs": [],
   "source": [
    "model = make_model()\n",
    "model.load_weights(initial_weights)\n",
    "model.layers[-1].bias.assign([0.0])\n",
    "zero_bias_history = model.fit(\n",
    "    X_train,\n",
    "    y_train,\n",
    "    batch_size=2048,\n",
    "    epochs=20,\n",
    "    validation_split=0.1, \n",
    "    verbose=0)"
   ]
  },
  {
   "cell_type": "code",
   "execution_count": 512,
   "metadata": {},
   "outputs": [],
   "source": [
    "model = make_model()\n",
    "model.load_weights(initial_weights)\n",
    "careful_bias_history = model.fit(\n",
    "    X_train,\n",
    "    y_train,\n",
    "    batch_size=2048,\n",
    "    epochs=20,\n",
    "    validation_split=0.1, \n",
    "    verbose=0)"
   ]
  },
  {
   "cell_type": "code",
   "execution_count": 513,
   "metadata": {},
   "outputs": [],
   "source": [
    "import matplotlib as mpl\n",
    "\n",
    "mpl.rcParams['figure.figsize'] = (12, 10)\n",
    "colors = plt.rcParams['axes.prop_cycle'].by_key()['color']"
   ]
  },
  {
   "cell_type": "code",
   "execution_count": 514,
   "metadata": {},
   "outputs": [],
   "source": [
    "def plot_loss(history, label, n):\n",
    "  # Use a log scale on y-axis to show the wide range of values.\n",
    "  plt.semilogy(history.epoch, history.history['loss'],\n",
    "               color=colors[n], label='Train ' + label)\n",
    "  plt.semilogy(history.epoch, history.history['val_loss'],\n",
    "               color=colors[n], label='Val ' + label,\n",
    "               linestyle=\"--\")\n",
    "  plt.xlabel('Epoch')\n",
    "  plt.ylabel('Loss')\n",
    "  plt.legend()"
   ]
  },
  {
   "cell_type": "code",
   "execution_count": 515,
   "metadata": {},
   "outputs": [
    {
     "data": {
      "image/png": "[encoded data removed]",
      "text/plain": [
       "<Figure size 864x720 with 1 Axes>"
      ]
     },
     "metadata": {
      "needs_background": "light"
     },
     "output_type": "display_data"
    }
   ],
   "source": [
    "plot_loss(zero_bias_history, \"Zero Bias\", 0)\n",
    "plot_loss(careful_bias_history, \"Careful Bias\", 1)"
   ]
  },
  {
   "cell_type": "markdown",
   "metadata": {},
   "source": [
    "Entrenamiento a huevo para el modelo original"
   ]
  },
  {
   "cell_type": "code",
   "execution_count": 516,
   "metadata": {},
   "outputs": [
    {
     "name": "stdout",
     "output_type": "stream",
     "text": [
      "Epoch 1/100\n",
      "31/31 [==============================] - 4s 62ms/step - loss: 0.3002 - tp: 63822.0000 - fp: 6197.0000 - tn: 0.0000e+00 - fn: 0.0000e+00 - accuracy: 0.9115 - precision: 0.9115 - recall: 1.0000 - auc: 0.5625 - prc: 0.9259 - val_loss: 0.2813 - val_tp: 6430.0000 - val_fp: 572.0000 - val_tn: 0.0000e+00 - val_fn: 0.0000e+00 - val_accuracy: 0.9183 - val_precision: 0.9183 - val_recall: 1.0000 - val_auc: 0.6027 - val_prc: 0.9359\n",
      "Epoch 2/100\n",
      "31/31 [==============================] - 0s 16ms/step - loss: 0.2993 - tp: 57392.0000 - fp: 5625.0000 - tn: 0.0000e+00 - fn: 0.0000e+00 - accuracy: 0.9107 - precision: 0.9107 - recall: 1.0000 - auc: 0.5667 - prc: 0.9230 - val_loss: 0.2806 - val_tp: 6430.0000 - val_fp: 572.0000 - val_tn: 0.0000e+00 - val_fn: 0.0000e+00 - val_accuracy: 0.9183 - val_precision: 0.9183 - val_recall: 1.0000 - val_auc: 0.6295 - val_prc: 0.9420\n",
      "Epoch 3/100\n",
      "31/31 [==============================] - 0s 15ms/step - loss: 0.2986 - tp: 57392.0000 - fp: 5625.0000 - tn: 0.0000e+00 - fn: 0.0000e+00 - accuracy: 0.9107 - precision: 0.9107 - recall: 1.0000 - auc: 0.5835 - prc: 0.9283 - val_loss: 0.2799 - val_tp: 6430.0000 - val_fp: 572.0000 - val_tn: 0.0000e+00 - val_fn: 0.0000e+00 - val_accuracy: 0.9183 - val_precision: 0.9183 - val_recall: 1.0000 - val_auc: 0.6399 - val_prc: 0.9439\n",
      "Epoch 4/100\n",
      "31/31 [==============================] - 0s 14ms/step - loss: 0.2978 - tp: 57392.0000 - fp: 5625.0000 - tn: 0.0000e+00 - fn: 0.0000e+00 - accuracy: 0.9107 - precision: 0.9107 - recall: 1.0000 - auc: 0.5972 - prc: 0.9308 - val_loss: 0.2792 - val_tp: 6430.0000 - val_fp: 572.0000 - val_tn: 0.0000e+00 - val_fn: 0.0000e+00 - val_accuracy: 0.9183 - val_precision: 0.9183 - val_recall: 1.0000 - val_auc: 0.6445 - val_prc: 0.9429\n",
      "Epoch 5/100\n",
      "31/31 [==============================] - 0s 13ms/step - loss: 0.2969 - tp: 57392.0000 - fp: 5625.0000 - tn: 0.0000e+00 - fn: 0.0000e+00 - accuracy: 0.9107 - precision: 0.9107 - recall: 1.0000 - auc: 0.6109 - prc: 0.9336 - val_loss: 0.2784 - val_tp: 6430.0000 - val_fp: 572.0000 - val_tn: 0.0000e+00 - val_fn: 0.0000e+00 - val_accuracy: 0.9183 - val_precision: 0.9183 - val_recall: 1.0000 - val_auc: 0.6435 - val_prc: 0.9436\n",
      "Epoch 6/100\n",
      "31/31 [==============================] - 0s 14ms/step - loss: 0.2966 - tp: 57392.0000 - fp: 5625.0000 - tn: 0.0000e+00 - fn: 0.0000e+00 - accuracy: 0.9107 - precision: 0.9107 - recall: 1.0000 - auc: 0.6147 - prc: 0.9340 - val_loss: 0.2777 - val_tp: 6430.0000 - val_fp: 572.0000 - val_tn: 0.0000e+00 - val_fn: 0.0000e+00 - val_accuracy: 0.9183 - val_precision: 0.9183 - val_recall: 1.0000 - val_auc: 0.6491 - val_prc: 0.9459\n",
      "Epoch 7/100\n",
      "31/31 [==============================] - 0s 14ms/step - loss: 0.2961 - tp: 57392.0000 - fp: 5625.0000 - tn: 0.0000e+00 - fn: 0.0000e+00 - accuracy: 0.9107 - precision: 0.9107 - recall: 1.0000 - auc: 0.6198 - prc: 0.9351 - val_loss: 0.2771 - val_tp: 6430.0000 - val_fp: 572.0000 - val_tn: 0.0000e+00 - val_fn: 0.0000e+00 - val_accuracy: 0.9183 - val_precision: 0.9183 - val_recall: 1.0000 - val_auc: 0.6493 - val_prc: 0.9455\n",
      "Epoch 8/100\n",
      "31/31 [==============================] - 0s 15ms/step - loss: 0.2955 - tp: 57392.0000 - fp: 5625.0000 - tn: 0.0000e+00 - fn: 0.0000e+00 - accuracy: 0.9107 - precision: 0.9107 - recall: 1.0000 - auc: 0.6239 - prc: 0.9351 - val_loss: 0.2764 - val_tp: 6430.0000 - val_fp: 572.0000 - val_tn: 0.0000e+00 - val_fn: 0.0000e+00 - val_accuracy: 0.9183 - val_precision: 0.9183 - val_recall: 1.0000 - val_auc: 0.6512 - val_prc: 0.9454\n",
      "Epoch 9/100\n",
      "31/31 [==============================] - 0s 16ms/step - loss: 0.2948 - tp: 57392.0000 - fp: 5625.0000 - tn: 0.0000e+00 - fn: 0.0000e+00 - accuracy: 0.9107 - precision: 0.9107 - recall: 1.0000 - auc: 0.6285 - prc: 0.9357 - val_loss: 0.2758 - val_tp: 6430.0000 - val_fp: 572.0000 - val_tn: 0.0000e+00 - val_fn: 0.0000e+00 - val_accuracy: 0.9183 - val_precision: 0.9183 - val_recall: 1.0000 - val_auc: 0.6537 - val_prc: 0.9454\n",
      "Epoch 10/100\n",
      "31/31 [==============================] - 0s 15ms/step - loss: 0.2942 - tp: 57392.0000 - fp: 5625.0000 - tn: 0.0000e+00 - fn: 0.0000e+00 - accuracy: 0.9107 - precision: 0.9107 - recall: 1.0000 - auc: 0.6364 - prc: 0.9387 - val_loss: 0.2752 - val_tp: 6430.0000 - val_fp: 572.0000 - val_tn: 0.0000e+00 - val_fn: 0.0000e+00 - val_accuracy: 0.9183 - val_precision: 0.9183 - val_recall: 1.0000 - val_auc: 0.6555 - val_prc: 0.9461\n",
      "Epoch 11/100\n",
      "31/31 [==============================] - 0s 15ms/step - loss: 0.2936 - tp: 57392.0000 - fp: 5625.0000 - tn: 0.0000e+00 - fn: 0.0000e+00 - accuracy: 0.9107 - precision: 0.9107 - recall: 1.0000 - auc: 0.6386 - prc: 0.9380 - val_loss: 0.2746 - val_tp: 6430.0000 - val_fp: 572.0000 - val_tn: 0.0000e+00 - val_fn: 0.0000e+00 - val_accuracy: 0.9183 - val_precision: 0.9183 - val_recall: 1.0000 - val_auc: 0.6600 - val_prc: 0.9481\n",
      "Epoch 12/100\n",
      "31/31 [==============================] - 0s 13ms/step - loss: 0.2933 - tp: 57392.0000 - fp: 5625.0000 - tn: 0.0000e+00 - fn: 0.0000e+00 - accuracy: 0.9107 - precision: 0.9107 - recall: 1.0000 - auc: 0.6373 - prc: 0.9375 - val_loss: 0.2740 - val_tp: 6430.0000 - val_fp: 572.0000 - val_tn: 0.0000e+00 - val_fn: 0.0000e+00 - val_accuracy: 0.9183 - val_precision: 0.9183 - val_recall: 1.0000 - val_auc: 0.6619 - val_prc: 0.9485\n",
      "Epoch 13/100\n",
      "31/31 [==============================] - 0s 14ms/step - loss: 0.2930 - tp: 57392.0000 - fp: 5625.0000 - tn: 0.0000e+00 - fn: 0.0000e+00 - accuracy: 0.9107 - precision: 0.9107 - recall: 1.0000 - auc: 0.6391 - prc: 0.9377 - val_loss: 0.2735 - val_tp: 6430.0000 - val_fp: 572.0000 - val_tn: 0.0000e+00 - val_fn: 0.0000e+00 - val_accuracy: 0.9183 - val_precision: 0.9183 - val_recall: 1.0000 - val_auc: 0.6621 - val_prc: 0.9477\n",
      "Epoch 14/100\n",
      "31/31 [==============================] - 0s 14ms/step - loss: 0.2928 - tp: 57392.0000 - fp: 5625.0000 - tn: 0.0000e+00 - fn: 0.0000e+00 - accuracy: 0.9107 - precision: 0.9107 - recall: 1.0000 - auc: 0.6396 - prc: 0.9372 - val_loss: 0.2730 - val_tp: 6430.0000 - val_fp: 572.0000 - val_tn: 0.0000e+00 - val_fn: 0.0000e+00 - val_accuracy: 0.9183 - val_precision: 0.9183 - val_recall: 1.0000 - val_auc: 0.6670 - val_prc: 0.9484\n",
      "Epoch 15/100\n",
      "31/31 [==============================] - 0s 14ms/step - loss: 0.2922 - tp: 57392.0000 - fp: 5625.0000 - tn: 0.0000e+00 - fn: 0.0000e+00 - accuracy: 0.9107 - precision: 0.9107 - recall: 1.0000 - auc: 0.6432 - prc: 0.9380 - val_loss: 0.2725 - val_tp: 6430.0000 - val_fp: 572.0000 - val_tn: 0.0000e+00 - val_fn: 0.0000e+00 - val_accuracy: 0.9183 - val_precision: 0.9183 - val_recall: 1.0000 - val_auc: 0.6675 - val_prc: 0.9502\n",
      "Epoch 16/100\n",
      "31/31 [==============================] - 0s 16ms/step - loss: 0.2921 - tp: 57392.0000 - fp: 5625.0000 - tn: 0.0000e+00 - fn: 0.0000e+00 - accuracy: 0.9107 - precision: 0.9107 - recall: 1.0000 - auc: 0.6430 - prc: 0.9379 - val_loss: 0.2721 - val_tp: 6430.0000 - val_fp: 572.0000 - val_tn: 0.0000e+00 - val_fn: 0.0000e+00 - val_accuracy: 0.9183 - val_precision: 0.9183 - val_recall: 1.0000 - val_auc: 0.6654 - val_prc: 0.9484\n",
      "Epoch 17/100\n",
      "31/31 [==============================] - 0s 16ms/step - loss: 0.2915 - tp: 57392.0000 - fp: 5625.0000 - tn: 0.0000e+00 - fn: 0.0000e+00 - accuracy: 0.9107 - precision: 0.9107 - recall: 1.0000 - auc: 0.6472 - prc: 0.9383 - val_loss: 0.2716 - val_tp: 6430.0000 - val_fp: 572.0000 - val_tn: 0.0000e+00 - val_fn: 0.0000e+00 - val_accuracy: 0.9183 - val_precision: 0.9183 - val_recall: 1.0000 - val_auc: 0.6681 - val_prc: 0.9494\n",
      "Epoch 18/100\n",
      "31/31 [==============================] - 0s 16ms/step - loss: 0.2914 - tp: 57392.0000 - fp: 5625.0000 - tn: 0.0000e+00 - fn: 0.0000e+00 - accuracy: 0.9107 - precision: 0.9107 - recall: 1.0000 - auc: 0.6465 - prc: 0.9382 - val_loss: 0.2712 - val_tp: 6430.0000 - val_fp: 572.0000 - val_tn: 0.0000e+00 - val_fn: 0.0000e+00 - val_accuracy: 0.9183 - val_precision: 0.9183 - val_recall: 1.0000 - val_auc: 0.6712 - val_prc: 0.9504\n",
      "Epoch 19/100\n",
      "31/31 [==============================] - 0s 15ms/step - loss: 0.2909 - tp: 57392.0000 - fp: 5625.0000 - tn: 0.0000e+00 - fn: 0.0000e+00 - accuracy: 0.9107 - precision: 0.9107 - recall: 1.0000 - auc: 0.6489 - prc: 0.9391 - val_loss: 0.2708 - val_tp: 6430.0000 - val_fp: 572.0000 - val_tn: 0.0000e+00 - val_fn: 0.0000e+00 - val_accuracy: 0.9183 - val_precision: 0.9183 - val_recall: 1.0000 - val_auc: 0.6690 - val_prc: 0.9496\n",
      "Epoch 20/100\n",
      "31/31 [==============================] - 0s 15ms/step - loss: 0.2903 - tp: 57392.0000 - fp: 5625.0000 - tn: 0.0000e+00 - fn: 0.0000e+00 - accuracy: 0.9107 - precision: 0.9107 - recall: 1.0000 - auc: 0.6514 - prc: 0.9406 - val_loss: 0.2704 - val_tp: 6430.0000 - val_fp: 572.0000 - val_tn: 0.0000e+00 - val_fn: 0.0000e+00 - val_accuracy: 0.9183 - val_precision: 0.9183 - val_recall: 1.0000 - val_auc: 0.6690 - val_prc: 0.9482\n",
      "Epoch 21/100\n",
      "31/31 [==============================] - 0s 14ms/step - loss: 0.2902 - tp: 57392.0000 - fp: 5625.0000 - tn: 0.0000e+00 - fn: 0.0000e+00 - accuracy: 0.9107 - precision: 0.9107 - recall: 1.0000 - auc: 0.6501 - prc: 0.9396 - val_loss: 0.2700 - val_tp: 6430.0000 - val_fp: 572.0000 - val_tn: 0.0000e+00 - val_fn: 0.0000e+00 - val_accuracy: 0.9183 - val_precision: 0.9183 - val_recall: 1.0000 - val_auc: 0.6745 - val_prc: 0.9513\n",
      "Epoch 22/100\n",
      "31/31 [==============================] - 0s 14ms/step - loss: 0.2898 - tp: 57392.0000 - fp: 5625.0000 - tn: 0.0000e+00 - fn: 0.0000e+00 - accuracy: 0.9107 - precision: 0.9107 - recall: 1.0000 - auc: 0.6543 - prc: 0.9410 - val_loss: 0.2697 - val_tp: 6430.0000 - val_fp: 572.0000 - val_tn: 0.0000e+00 - val_fn: 0.0000e+00 - val_accuracy: 0.9183 - val_precision: 0.9183 - val_recall: 1.0000 - val_auc: 0.6752 - val_prc: 0.9505\n",
      "Epoch 23/100\n",
      "31/31 [==============================] - 0s 14ms/step - loss: 0.2898 - tp: 57392.0000 - fp: 5625.0000 - tn: 0.0000e+00 - fn: 0.0000e+00 - accuracy: 0.9107 - precision: 0.9107 - recall: 1.0000 - auc: 0.6531 - prc: 0.9404 - val_loss: 0.2694 - val_tp: 6430.0000 - val_fp: 572.0000 - val_tn: 0.0000e+00 - val_fn: 0.0000e+00 - val_accuracy: 0.9183 - val_precision: 0.9183 - val_recall: 1.0000 - val_auc: 0.6751 - val_prc: 0.9504\n",
      "Epoch 24/100\n",
      "31/31 [==============================] - 0s 14ms/step - loss: 0.2894 - tp: 57392.0000 - fp: 5625.0000 - tn: 0.0000e+00 - fn: 0.0000e+00 - accuracy: 0.9107 - precision: 0.9107 - recall: 1.0000 - auc: 0.6542 - prc: 0.9406 - val_loss: 0.2691 - val_tp: 6430.0000 - val_fp: 572.0000 - val_tn: 0.0000e+00 - val_fn: 0.0000e+00 - val_accuracy: 0.9183 - val_precision: 0.9183 - val_recall: 1.0000 - val_auc: 0.6765 - val_prc: 0.9508\n",
      "Epoch 25/100\n",
      "31/31 [==============================] - 0s 16ms/step - loss: 0.2889 - tp: 57392.0000 - fp: 5625.0000 - tn: 0.0000e+00 - fn: 0.0000e+00 - accuracy: 0.9107 - precision: 0.9107 - recall: 1.0000 - auc: 0.6580 - prc: 0.9419 - val_loss: 0.2686 - val_tp: 6430.0000 - val_fp: 572.0000 - val_tn: 0.0000e+00 - val_fn: 0.0000e+00 - val_accuracy: 0.9183 - val_precision: 0.9183 - val_recall: 1.0000 - val_auc: 0.6758 - val_prc: 0.9506\n",
      "Epoch 26/100\n",
      "31/31 [==============================] - 1s 16ms/step - loss: 0.2886 - tp: 57392.0000 - fp: 5625.0000 - tn: 0.0000e+00 - fn: 0.0000e+00 - accuracy: 0.9107 - precision: 0.9107 - recall: 1.0000 - auc: 0.6592 - prc: 0.9420 - val_loss: 0.2683 - val_tp: 6430.0000 - val_fp: 572.0000 - val_tn: 0.0000e+00 - val_fn: 0.0000e+00 - val_accuracy: 0.9183 - val_precision: 0.9183 - val_recall: 1.0000 - val_auc: 0.6784 - val_prc: 0.9513\n",
      "Epoch 27/100\n",
      "31/31 [==============================] - 0s 14ms/step - loss: 0.2882 - tp: 57392.0000 - fp: 5625.0000 - tn: 0.0000e+00 - fn: 0.0000e+00 - accuracy: 0.9107 - precision: 0.9107 - recall: 1.0000 - auc: 0.6608 - prc: 0.9421 - val_loss: 0.2679 - val_tp: 6430.0000 - val_fp: 572.0000 - val_tn: 0.0000e+00 - val_fn: 0.0000e+00 - val_accuracy: 0.9183 - val_precision: 0.9183 - val_recall: 1.0000 - val_auc: 0.6822 - val_prc: 0.9522\n",
      "Epoch 28/100\n",
      "31/31 [==============================] - 0s 14ms/step - loss: 0.2881 - tp: 57392.0000 - fp: 5625.0000 - tn: 0.0000e+00 - fn: 0.0000e+00 - accuracy: 0.9107 - precision: 0.9107 - recall: 1.0000 - auc: 0.6591 - prc: 0.9414 - val_loss: 0.2676 - val_tp: 6430.0000 - val_fp: 572.0000 - val_tn: 0.0000e+00 - val_fn: 0.0000e+00 - val_accuracy: 0.9183 - val_precision: 0.9183 - val_recall: 1.0000 - val_auc: 0.6837 - val_prc: 0.9526\n",
      "Epoch 29/100\n",
      "31/31 [==============================] - 0s 12ms/step - loss: 0.2878 - tp: 57392.0000 - fp: 5625.0000 - tn: 0.0000e+00 - fn: 0.0000e+00 - accuracy: 0.9107 - precision: 0.9107 - recall: 1.0000 - auc: 0.6605 - prc: 0.9418 - val_loss: 0.2673 - val_tp: 6430.0000 - val_fp: 572.0000 - val_tn: 0.0000e+00 - val_fn: 0.0000e+00 - val_accuracy: 0.9183 - val_precision: 0.9183 - val_recall: 1.0000 - val_auc: 0.6853 - val_prc: 0.9532\n",
      "Epoch 30/100\n",
      "31/31 [==============================] - 0s 12ms/step - loss: 0.2877 - tp: 57392.0000 - fp: 5625.0000 - tn: 0.0000e+00 - fn: 0.0000e+00 - accuracy: 0.9107 - precision: 0.9107 - recall: 1.0000 - auc: 0.6615 - prc: 0.9425 - val_loss: 0.2669 - val_tp: 6430.0000 - val_fp: 572.0000 - val_tn: 0.0000e+00 - val_fn: 0.0000e+00 - val_accuracy: 0.9183 - val_precision: 0.9183 - val_recall: 1.0000 - val_auc: 0.6876 - val_prc: 0.9536\n",
      "Epoch 31/100\n",
      "31/31 [==============================] - 0s 12ms/step - loss: 0.2875 - tp: 57392.0000 - fp: 5625.0000 - tn: 0.0000e+00 - fn: 0.0000e+00 - accuracy: 0.9107 - precision: 0.9107 - recall: 1.0000 - auc: 0.6622 - prc: 0.9423 - val_loss: 0.2666 - val_tp: 6430.0000 - val_fp: 572.0000 - val_tn: 0.0000e+00 - val_fn: 0.0000e+00 - val_accuracy: 0.9183 - val_precision: 0.9183 - val_recall: 1.0000 - val_auc: 0.6874 - val_prc: 0.9533\n",
      "Epoch 32/100\n",
      "31/31 [==============================] - 0s 12ms/step - loss: 0.2873 - tp: 57392.0000 - fp: 5625.0000 - tn: 0.0000e+00 - fn: 0.0000e+00 - accuracy: 0.9107 - precision: 0.9107 - recall: 1.0000 - auc: 0.6623 - prc: 0.9421 - val_loss: 0.2663 - val_tp: 6430.0000 - val_fp: 572.0000 - val_tn: 0.0000e+00 - val_fn: 0.0000e+00 - val_accuracy: 0.9183 - val_precision: 0.9183 - val_recall: 1.0000 - val_auc: 0.6896 - val_prc: 0.9538\n",
      "Epoch 33/100\n",
      "31/31 [==============================] - 0s 13ms/step - loss: 0.2869 - tp: 57392.0000 - fp: 5625.0000 - tn: 0.0000e+00 - fn: 0.0000e+00 - accuracy: 0.9107 - precision: 0.9107 - recall: 1.0000 - auc: 0.6642 - prc: 0.9416 - val_loss: 0.2660 - val_tp: 6430.0000 - val_fp: 572.0000 - val_tn: 0.0000e+00 - val_fn: 0.0000e+00 - val_accuracy: 0.9183 - val_precision: 0.9183 - val_recall: 1.0000 - val_auc: 0.6929 - val_prc: 0.9545\n",
      "Epoch 34/100\n",
      "31/31 [==============================] - 0s 14ms/step - loss: 0.2865 - tp: 57392.0000 - fp: 5625.0000 - tn: 0.0000e+00 - fn: 0.0000e+00 - accuracy: 0.9107 - precision: 0.9107 - recall: 1.0000 - auc: 0.6633 - prc: 0.9419 - val_loss: 0.2657 - val_tp: 6430.0000 - val_fp: 572.0000 - val_tn: 0.0000e+00 - val_fn: 0.0000e+00 - val_accuracy: 0.9183 - val_precision: 0.9183 - val_recall: 1.0000 - val_auc: 0.6904 - val_prc: 0.9529\n",
      "Epoch 35/100\n",
      "31/31 [==============================] - 0s 14ms/step - loss: 0.2862 - tp: 57392.0000 - fp: 5625.0000 - tn: 0.0000e+00 - fn: 0.0000e+00 - accuracy: 0.9107 - precision: 0.9107 - recall: 1.0000 - auc: 0.6663 - prc: 0.9429 - val_loss: 0.2654 - val_tp: 6430.0000 - val_fp: 572.0000 - val_tn: 0.0000e+00 - val_fn: 0.0000e+00 - val_accuracy: 0.9183 - val_precision: 0.9183 - val_recall: 1.0000 - val_auc: 0.6912 - val_prc: 0.9535\n",
      "Epoch 36/100\n",
      "31/31 [==============================] - 0s 13ms/step - loss: 0.2864 - tp: 57392.0000 - fp: 5625.0000 - tn: 0.0000e+00 - fn: 0.0000e+00 - accuracy: 0.9107 - precision: 0.9107 - recall: 1.0000 - auc: 0.6650 - prc: 0.9424 - val_loss: 0.2651 - val_tp: 6430.0000 - val_fp: 572.0000 - val_tn: 0.0000e+00 - val_fn: 0.0000e+00 - val_accuracy: 0.9183 - val_precision: 0.9183 - val_recall: 1.0000 - val_auc: 0.6916 - val_prc: 0.9534\n",
      "Epoch 37/100\n",
      "31/31 [==============================] - 0s 13ms/step - loss: 0.2859 - tp: 57392.0000 - fp: 5625.0000 - tn: 0.0000e+00 - fn: 0.0000e+00 - accuracy: 0.9107 - precision: 0.9107 - recall: 1.0000 - auc: 0.6664 - prc: 0.9421 - val_loss: 0.2649 - val_tp: 6430.0000 - val_fp: 572.0000 - val_tn: 0.0000e+00 - val_fn: 0.0000e+00 - val_accuracy: 0.9183 - val_precision: 0.9183 - val_recall: 1.0000 - val_auc: 0.6932 - val_prc: 0.9539\n",
      "Epoch 38/100\n",
      "31/31 [==============================] - 0s 13ms/step - loss: 0.2859 - tp: 57392.0000 - fp: 5625.0000 - tn: 0.0000e+00 - fn: 0.0000e+00 - accuracy: 0.9107 - precision: 0.9107 - recall: 1.0000 - auc: 0.6661 - prc: 0.9421 - val_loss: 0.2646 - val_tp: 6430.0000 - val_fp: 572.0000 - val_tn: 0.0000e+00 - val_fn: 0.0000e+00 - val_accuracy: 0.9183 - val_precision: 0.9183 - val_recall: 1.0000 - val_auc: 0.6947 - val_prc: 0.9546\n",
      "Epoch 39/100\n",
      "31/31 [==============================] - 0s 13ms/step - loss: 0.2856 - tp: 57392.0000 - fp: 5625.0000 - tn: 0.0000e+00 - fn: 0.0000e+00 - accuracy: 0.9107 - precision: 0.9107 - recall: 1.0000 - auc: 0.6671 - prc: 0.9419 - val_loss: 0.2644 - val_tp: 6430.0000 - val_fp: 572.0000 - val_tn: 0.0000e+00 - val_fn: 0.0000e+00 - val_accuracy: 0.9183 - val_precision: 0.9183 - val_recall: 1.0000 - val_auc: 0.6966 - val_prc: 0.9553\n",
      "Epoch 40/100\n",
      "31/31 [==============================] - 0s 14ms/step - loss: 0.2853 - tp: 57392.0000 - fp: 5625.0000 - tn: 0.0000e+00 - fn: 0.0000e+00 - accuracy: 0.9107 - precision: 0.9107 - recall: 1.0000 - auc: 0.6686 - prc: 0.9436 - val_loss: 0.2640 - val_tp: 6430.0000 - val_fp: 572.0000 - val_tn: 0.0000e+00 - val_fn: 0.0000e+00 - val_accuracy: 0.9183 - val_precision: 0.9183 - val_recall: 1.0000 - val_auc: 0.6982 - val_prc: 0.9562\n",
      "Epoch 41/100\n",
      "31/31 [==============================] - 0s 13ms/step - loss: 0.2849 - tp: 57392.0000 - fp: 5625.0000 - tn: 0.0000e+00 - fn: 0.0000e+00 - accuracy: 0.9107 - precision: 0.9107 - recall: 1.0000 - auc: 0.6695 - prc: 0.9432 - val_loss: 0.2638 - val_tp: 6430.0000 - val_fp: 572.0000 - val_tn: 0.0000e+00 - val_fn: 0.0000e+00 - val_accuracy: 0.9183 - val_precision: 0.9183 - val_recall: 1.0000 - val_auc: 0.7000 - val_prc: 0.9563\n",
      "Epoch 42/100\n",
      "31/31 [==============================] - 0s 12ms/step - loss: 0.2854 - tp: 57392.0000 - fp: 5625.0000 - tn: 0.0000e+00 - fn: 0.0000e+00 - accuracy: 0.9107 - precision: 0.9107 - recall: 1.0000 - auc: 0.6661 - prc: 0.9425 - val_loss: 0.2635 - val_tp: 6430.0000 - val_fp: 572.0000 - val_tn: 0.0000e+00 - val_fn: 0.0000e+00 - val_accuracy: 0.9183 - val_precision: 0.9183 - val_recall: 1.0000 - val_auc: 0.6983 - val_prc: 0.9551\n",
      "Epoch 43/100\n",
      "31/31 [==============================] - 0s 13ms/step - loss: 0.2850 - tp: 57392.0000 - fp: 5625.0000 - tn: 0.0000e+00 - fn: 0.0000e+00 - accuracy: 0.9107 - precision: 0.9107 - recall: 1.0000 - auc: 0.6672 - prc: 0.9427 - val_loss: 0.2633 - val_tp: 6430.0000 - val_fp: 572.0000 - val_tn: 0.0000e+00 - val_fn: 0.0000e+00 - val_accuracy: 0.9183 - val_precision: 0.9183 - val_recall: 1.0000 - val_auc: 0.6992 - val_prc: 0.9553\n",
      "Epoch 44/100\n",
      "31/31 [==============================] - 0s 14ms/step - loss: 0.2850 - tp: 57392.0000 - fp: 5625.0000 - tn: 0.0000e+00 - fn: 0.0000e+00 - accuracy: 0.9107 - precision: 0.9107 - recall: 1.0000 - auc: 0.6670 - prc: 0.9424 - val_loss: 0.2631 - val_tp: 6430.0000 - val_fp: 572.0000 - val_tn: 0.0000e+00 - val_fn: 0.0000e+00 - val_accuracy: 0.9183 - val_precision: 0.9183 - val_recall: 1.0000 - val_auc: 0.6990 - val_prc: 0.9550\n",
      "Epoch 45/100\n",
      "31/31 [==============================] - 0s 14ms/step - loss: 0.2841 - tp: 57392.0000 - fp: 5625.0000 - tn: 0.0000e+00 - fn: 0.0000e+00 - accuracy: 0.9107 - precision: 0.9107 - recall: 1.0000 - auc: 0.6746 - prc: 0.9451 - val_loss: 0.2628 - val_tp: 6430.0000 - val_fp: 572.0000 - val_tn: 0.0000e+00 - val_fn: 0.0000e+00 - val_accuracy: 0.9183 - val_precision: 0.9183 - val_recall: 1.0000 - val_auc: 0.7033 - val_prc: 0.9563\n",
      "Epoch 46/100\n",
      "31/31 [==============================] - 0s 13ms/step - loss: 0.2837 - tp: 57392.0000 - fp: 5625.0000 - tn: 0.0000e+00 - fn: 0.0000e+00 - accuracy: 0.9107 - precision: 0.9107 - recall: 1.0000 - auc: 0.6756 - prc: 0.9442 - val_loss: 0.2626 - val_tp: 6430.0000 - val_fp: 572.0000 - val_tn: 0.0000e+00 - val_fn: 0.0000e+00 - val_accuracy: 0.9183 - val_precision: 0.9183 - val_recall: 1.0000 - val_auc: 0.7046 - val_prc: 0.9568\n",
      "Epoch 47/100\n",
      "31/31 [==============================] - 1s 16ms/step - loss: 0.2832 - tp: 57392.0000 - fp: 5625.0000 - tn: 0.0000e+00 - fn: 0.0000e+00 - accuracy: 0.9107 - precision: 0.9107 - recall: 1.0000 - auc: 0.6772 - prc: 0.9451 - val_loss: 0.2623 - val_tp: 6430.0000 - val_fp: 572.0000 - val_tn: 0.0000e+00 - val_fn: 0.0000e+00 - val_accuracy: 0.9183 - val_precision: 0.9183 - val_recall: 1.0000 - val_auc: 0.7039 - val_prc: 0.9561\n",
      "Epoch 48/100\n",
      "31/31 [==============================] - 0s 14ms/step - loss: 0.2829 - tp: 57392.0000 - fp: 5625.0000 - tn: 0.0000e+00 - fn: 0.0000e+00 - accuracy: 0.9107 - precision: 0.9107 - recall: 1.0000 - auc: 0.6765 - prc: 0.9452 - val_loss: 0.2620 - val_tp: 6430.0000 - val_fp: 572.0000 - val_tn: 0.0000e+00 - val_fn: 0.0000e+00 - val_accuracy: 0.9183 - val_precision: 0.9183 - val_recall: 1.0000 - val_auc: 0.7050 - val_prc: 0.9560\n",
      "Epoch 49/100\n",
      "31/31 [==============================] - 0s 14ms/step - loss: 0.2836 - tp: 57392.0000 - fp: 5625.0000 - tn: 0.0000e+00 - fn: 0.0000e+00 - accuracy: 0.9107 - precision: 0.9107 - recall: 1.0000 - auc: 0.6723 - prc: 0.9437 - val_loss: 0.2618 - val_tp: 6430.0000 - val_fp: 572.0000 - val_tn: 0.0000e+00 - val_fn: 0.0000e+00 - val_accuracy: 0.9183 - val_precision: 0.9183 - val_recall: 1.0000 - val_auc: 0.7051 - val_prc: 0.9558\n",
      "Epoch 50/100\n",
      "31/31 [==============================] - 0s 13ms/step - loss: 0.2836 - tp: 57392.0000 - fp: 5625.0000 - tn: 0.0000e+00 - fn: 0.0000e+00 - accuracy: 0.9107 - precision: 0.9107 - recall: 1.0000 - auc: 0.6725 - prc: 0.9441 - val_loss: 0.2616 - val_tp: 6430.0000 - val_fp: 572.0000 - val_tn: 0.0000e+00 - val_fn: 0.0000e+00 - val_accuracy: 0.9183 - val_precision: 0.9183 - val_recall: 1.0000 - val_auc: 0.7046 - val_prc: 0.9557\n",
      "Epoch 51/100\n",
      "31/31 [==============================] - 0s 15ms/step - loss: 0.2826 - tp: 57392.0000 - fp: 5625.0000 - tn: 0.0000e+00 - fn: 0.0000e+00 - accuracy: 0.9107 - precision: 0.9107 - recall: 1.0000 - auc: 0.6785 - prc: 0.9449 - val_loss: 0.2613 - val_tp: 6430.0000 - val_fp: 572.0000 - val_tn: 0.0000e+00 - val_fn: 0.0000e+00 - val_accuracy: 0.9183 - val_precision: 0.9183 - val_recall: 1.0000 - val_auc: 0.7061 - val_prc: 0.9558\n",
      "Epoch 52/100\n",
      "31/31 [==============================] - 0s 16ms/step - loss: 0.2830 - tp: 57392.0000 - fp: 5625.0000 - tn: 0.0000e+00 - fn: 0.0000e+00 - accuracy: 0.9107 - precision: 0.9107 - recall: 1.0000 - auc: 0.6739 - prc: 0.9436 - val_loss: 0.2611 - val_tp: 6430.0000 - val_fp: 572.0000 - val_tn: 0.0000e+00 - val_fn: 0.0000e+00 - val_accuracy: 0.9183 - val_precision: 0.9183 - val_recall: 1.0000 - val_auc: 0.7054 - val_prc: 0.9552\n",
      "Epoch 53/100\n",
      "31/31 [==============================] - 1s 17ms/step - loss: 0.2822 - tp: 57392.0000 - fp: 5625.0000 - tn: 0.0000e+00 - fn: 0.0000e+00 - accuracy: 0.9107 - precision: 0.9107 - recall: 1.0000 - auc: 0.6796 - prc: 0.9453 - val_loss: 0.2608 - val_tp: 6430.0000 - val_fp: 572.0000 - val_tn: 0.0000e+00 - val_fn: 0.0000e+00 - val_accuracy: 0.9183 - val_precision: 0.9183 - val_recall: 1.0000 - val_auc: 0.7071 - val_prc: 0.9552\n",
      "Epoch 54/100\n",
      "31/31 [==============================] - 0s 16ms/step - loss: 0.2821 - tp: 57392.0000 - fp: 5625.0000 - tn: 0.0000e+00 - fn: 0.0000e+00 - accuracy: 0.9107 - precision: 0.9107 - recall: 1.0000 - auc: 0.6784 - prc: 0.9451 - val_loss: 0.2606 - val_tp: 6430.0000 - val_fp: 572.0000 - val_tn: 0.0000e+00 - val_fn: 0.0000e+00 - val_accuracy: 0.9183 - val_precision: 0.9183 - val_recall: 1.0000 - val_auc: 0.7081 - val_prc: 0.9554\n",
      "Epoch 55/100\n",
      "31/31 [==============================] - 0s 15ms/step - loss: 0.2822 - tp: 57392.0000 - fp: 5625.0000 - tn: 0.0000e+00 - fn: 0.0000e+00 - accuracy: 0.9107 - precision: 0.9107 - recall: 1.0000 - auc: 0.6776 - prc: 0.9445 - val_loss: 0.2604 - val_tp: 6430.0000 - val_fp: 572.0000 - val_tn: 0.0000e+00 - val_fn: 0.0000e+00 - val_accuracy: 0.9183 - val_precision: 0.9183 - val_recall: 1.0000 - val_auc: 0.7069 - val_prc: 0.9550\n",
      "Epoch 56/100\n",
      "29/31 [===========================>..] - ETA: 0s - loss: 0.2811 - tp: 54113.0000 - fp: 5279.0000 - tn: 0.0000e+00 - fn: 0.0000e+00 - accuracy: 0.9111 - precision: 0.9111 - recall: 1.0000 - auc: 0.6794 - prc: 0.9457Restoring model weights from the end of the best epoch: 46.\n",
      "31/31 [==============================] - 0s 15ms/step - loss: 0.2817 - tp: 57392.0000 - fp: 5625.0000 - tn: 0.0000e+00 - fn: 0.0000e+00 - accuracy: 0.9107 - precision: 0.9107 - recall: 1.0000 - auc: 0.6808 - prc: 0.9458 - val_loss: 0.2601 - val_tp: 6430.0000 - val_fp: 572.0000 - val_tn: 0.0000e+00 - val_fn: 0.0000e+00 - val_accuracy: 0.9183 - val_precision: 0.9183 - val_recall: 1.0000 - val_auc: 0.7081 - val_prc: 0.9552\n",
      "Epoch 00056: early stopping\n"
     ]
    }
   ],
   "source": [
    "model = make_model()\n",
    "model.load_weights(initial_weights)\n",
    "baseline_history=model.fit(x=X_train,y=y_train, validation_split=0.1,batch_size=BATCH_SIZE,epochs=100,callbacks=[early_stopping] , verbose=1)\n",
    "\n"
   ]
  },
  {
   "cell_type": "markdown",
   "metadata": {},
   "source": [
    "Esto me va a decir cual es el best epoch, reentreno el modelo definiendo el best epoch."
   ]
  },
  {
   "cell_type": "code",
   "execution_count": 517,
   "metadata": {},
   "outputs": [
    {
     "name": "stdout",
     "output_type": "stream",
     "text": [
      "Epoch 1/50\n",
      "28/28 [==============================] - 1s 20ms/step - loss: nan - accuracy: 0.0892 - val_loss: nan - val_accuracy: 0.0858\n",
      "Epoch 2/50\n",
      "28/28 [==============================] - 0s 7ms/step - loss: nan - accuracy: 0.0892 - val_loss: nan - val_accuracy: 0.0858\n",
      "Epoch 3/50\n",
      "28/28 [==============================] - 0s 7ms/step - loss: nan - accuracy: 0.0892 - val_loss: nan - val_accuracy: 0.0858\n",
      "Epoch 4/50\n",
      "28/28 [==============================] - 0s 7ms/step - loss: nan - accuracy: 0.0892 - val_loss: nan - val_accuracy: 0.0858\n",
      "Epoch 5/50\n",
      "28/28 [==============================] - 0s 7ms/step - loss: nan - accuracy: 0.0892 - val_loss: nan - val_accuracy: 0.0858\n",
      "Epoch 6/50\n",
      "28/28 [==============================] - 0s 8ms/step - loss: nan - accuracy: 0.0892 - val_loss: nan - val_accuracy: 0.0858\n",
      "Epoch 7/50\n",
      "28/28 [==============================] - 0s 8ms/step - loss: nan - accuracy: 0.0892 - val_loss: nan - val_accuracy: 0.0858\n",
      "Epoch 8/50\n",
      "28/28 [==============================] - 0s 8ms/step - loss: nan - accuracy: 0.0892 - val_loss: nan - val_accuracy: 0.0858\n",
      "Epoch 9/50\n",
      "28/28 [==============================] - 0s 8ms/step - loss: nan - accuracy: 0.0892 - val_loss: nan - val_accuracy: 0.0858\n",
      "Epoch 10/50\n",
      "28/28 [==============================] - 0s 7ms/step - loss: nan - accuracy: 0.0892 - val_loss: nan - val_accuracy: 0.0858\n",
      "Epoch 11/50\n",
      "28/28 [==============================] - 0s 7ms/step - loss: nan - accuracy: 0.0892 - val_loss: nan - val_accuracy: 0.0858\n",
      "Epoch 12/50\n",
      "28/28 [==============================] - 0s 7ms/step - loss: nan - accuracy: 0.0892 - val_loss: nan - val_accuracy: 0.0858\n",
      "Epoch 13/50\n",
      "28/28 [==============================] - 0s 7ms/step - loss: nan - accuracy: 0.0892 - val_loss: nan - val_accuracy: 0.0858\n",
      "Epoch 14/50\n",
      "28/28 [==============================] - 0s 7ms/step - loss: nan - accuracy: 0.0892 - val_loss: nan - val_accuracy: 0.0858\n",
      "Epoch 15/50\n",
      "28/28 [==============================] - 0s 7ms/step - loss: nan - accuracy: 0.0892 - val_loss: nan - val_accuracy: 0.0858\n",
      "Epoch 16/50\n",
      "28/28 [==============================] - 0s 7ms/step - loss: nan - accuracy: 0.0892 - val_loss: nan - val_accuracy: 0.0858\n",
      "Epoch 17/50\n",
      "28/28 [==============================] - 0s 7ms/step - loss: nan - accuracy: 0.0892 - val_loss: nan - val_accuracy: 0.0858\n",
      "Epoch 18/50\n",
      "28/28 [==============================] - 0s 6ms/step - loss: nan - accuracy: 0.0892 - val_loss: nan - val_accuracy: 0.0858\n",
      "Epoch 19/50\n",
      "28/28 [==============================] - 0s 6ms/step - loss: nan - accuracy: 0.0892 - val_loss: nan - val_accuracy: 0.0858\n",
      "Epoch 20/50\n",
      "28/28 [==============================] - 0s 6ms/step - loss: nan - accuracy: 0.0892 - val_loss: nan - val_accuracy: 0.0858\n",
      "Epoch 21/50\n",
      "28/28 [==============================] - 0s 6ms/step - loss: nan - accuracy: 0.0892 - val_loss: nan - val_accuracy: 0.0858\n",
      "Epoch 22/50\n",
      "28/28 [==============================] - 0s 7ms/step - loss: nan - accuracy: 0.0892 - val_loss: nan - val_accuracy: 0.0858\n",
      "Epoch 23/50\n",
      "28/28 [==============================] - 0s 7ms/step - loss: nan - accuracy: 0.0892 - val_loss: nan - val_accuracy: 0.0858\n",
      "Epoch 24/50\n",
      "28/28 [==============================] - 0s 7ms/step - loss: nan - accuracy: 0.0892 - val_loss: nan - val_accuracy: 0.0858\n",
      "Epoch 25/50\n",
      "28/28 [==============================] - 0s 6ms/step - loss: nan - accuracy: 0.0892 - val_loss: nan - val_accuracy: 0.0858\n",
      "Epoch 26/50\n",
      "28/28 [==============================] - 0s 7ms/step - loss: nan - accuracy: 0.0892 - val_loss: nan - val_accuracy: 0.0858\n",
      "Epoch 27/50\n",
      "28/28 [==============================] - 0s 7ms/step - loss: nan - accuracy: 0.0892 - val_loss: nan - val_accuracy: 0.0858\n",
      "Epoch 28/50\n",
      "28/28 [==============================] - 0s 7ms/step - loss: nan - accuracy: 0.0892 - val_loss: nan - val_accuracy: 0.0858\n",
      "Epoch 29/50\n",
      "28/28 [==============================] - 0s 7ms/step - loss: nan - accuracy: 0.0892 - val_loss: nan - val_accuracy: 0.0858\n",
      "Epoch 30/50\n",
      "28/28 [==============================] - 0s 7ms/step - loss: nan - accuracy: 0.0892 - val_loss: nan - val_accuracy: 0.0858\n",
      "Epoch 31/50\n",
      "28/28 [==============================] - 0s 7ms/step - loss: nan - accuracy: 0.0892 - val_loss: nan - val_accuracy: 0.0858\n",
      "Epoch 32/50\n",
      "28/28 [==============================] - 0s 7ms/step - loss: nan - accuracy: 0.0892 - val_loss: nan - val_accuracy: 0.0858\n",
      "Epoch 33/50\n",
      "28/28 [==============================] - 0s 7ms/step - loss: nan - accuracy: 0.0892 - val_loss: nan - val_accuracy: 0.0858\n",
      "Epoch 34/50\n",
      "28/28 [==============================] - 0s 7ms/step - loss: nan - accuracy: 0.0892 - val_loss: nan - val_accuracy: 0.0858\n",
      "Epoch 35/50\n",
      "28/28 [==============================] - 0s 6ms/step - loss: nan - accuracy: 0.0892 - val_loss: nan - val_accuracy: 0.0858\n",
      "Epoch 36/50\n",
      "28/28 [==============================] - 0s 7ms/step - loss: nan - accuracy: 0.0892 - val_loss: nan - val_accuracy: 0.0858\n",
      "Epoch 37/50\n",
      "28/28 [==============================] - 0s 6ms/step - loss: nan - accuracy: 0.0892 - val_loss: nan - val_accuracy: 0.0858\n",
      "Epoch 38/50\n",
      "28/28 [==============================] - 0s 6ms/step - loss: nan - accuracy: 0.0892 - val_loss: nan - val_accuracy: 0.0858\n",
      "Epoch 39/50\n",
      "28/28 [==============================] - 0s 7ms/step - loss: nan - accuracy: 0.0892 - val_loss: nan - val_accuracy: 0.0858\n",
      "Epoch 40/50\n",
      "28/28 [==============================] - 0s 7ms/step - loss: nan - accuracy: 0.0892 - val_loss: nan - val_accuracy: 0.0858\n",
      "Epoch 41/50\n",
      "28/28 [==============================] - 0s 6ms/step - loss: nan - accuracy: 0.0892 - val_loss: nan - val_accuracy: 0.0858\n",
      "Epoch 42/50\n",
      "28/28 [==============================] - 0s 6ms/step - loss: nan - accuracy: 0.0892 - val_loss: nan - val_accuracy: 0.0858\n",
      "Epoch 43/50\n",
      "28/28 [==============================] - 0s 10ms/step - loss: nan - accuracy: 0.0892 - val_loss: nan - val_accuracy: 0.0858\n",
      "Epoch 44/50\n",
      "28/28 [==============================] - 0s 8ms/step - loss: nan - accuracy: 0.0892 - val_loss: nan - val_accuracy: 0.0858\n",
      "Epoch 45/50\n",
      "28/28 [==============================] - 0s 7ms/step - loss: nan - accuracy: 0.0892 - val_loss: nan - val_accuracy: 0.0858\n",
      "Epoch 46/50\n",
      "28/28 [==============================] - 0s 6ms/step - loss: nan - accuracy: 0.0892 - val_loss: nan - val_accuracy: 0.0858\n",
      "Epoch 47/50\n",
      "28/28 [==============================] - 0s 7ms/step - loss: nan - accuracy: 0.0892 - val_loss: nan - val_accuracy: 0.0858\n",
      "Epoch 48/50\n",
      "28/28 [==============================] - 0s 7ms/step - loss: nan - accuracy: 0.0892 - val_loss: nan - val_accuracy: 0.0858\n",
      "Epoch 49/50\n",
      "28/28 [==============================] - 0s 7ms/step - loss: nan - accuracy: 0.0892 - val_loss: nan - val_accuracy: 0.0858\n",
      "Epoch 50/50\n",
      "28/28 [==============================] - 0s 8ms/step - loss: nan - accuracy: 0.0892 - val_loss: nan - val_accuracy: 0.0858\n",
      "Best epoch: 1\n"
     ]
    }
   ],
   "source": [
    "# Build the model with the optimal hyperparameters and train it on the data for 50 epochs\n",
    "\n",
    "model1 = tuner.hypermodel.build(best_hps)\n",
    "history1 = model1.fit(X_train, y_train, epochs=50,batch_size=BATCH_SIZE, validation_split=0.2)\n",
    "\n",
    "val_acc_per_epoch = history1.history['val_accuracy']\n",
    "best_epoch = val_acc_per_epoch.index(max(val_acc_per_epoch)) + 1\n",
    "print('Best epoch: %d' % (best_epoch,))"
   ]
  },
  {
   "cell_type": "code",
   "execution_count": 518,
   "metadata": {},
   "outputs": [],
   "source": [
    "def plot_metrics(history):\n",
    "  metrics = ['loss', 'prc', 'precision', 'recall']\n",
    "  for n, metric in enumerate(metrics):\n",
    "    name = metric.replace(\"_\",\" \").capitalize()\n",
    "    plt.subplot(2,2,n+1)\n",
    "    plt.plot(history.epoch, history.history[metric], color=colors[0], label='Train')\n",
    "    plt.plot(history.epoch, history.history['val_'+metric],\n",
    "             color=colors[0], linestyle=\"--\", label='Val')\n",
    "    plt.xlabel('Epoch')\n",
    "    plt.ylabel(name)\n",
    "    if metric == 'loss':\n",
    "      plt.ylim([0, plt.ylim()[1]])\n",
    "    elif metric == 'auc':\n",
    "      plt.ylim([0.8,1])\n",
    "    else:\n",
    "      plt.ylim([0,1])\n",
    "\n",
    "    plt.legend()\n"
   ]
  },
  {
   "cell_type": "code",
   "execution_count": 519,
   "metadata": {},
   "outputs": [
    {
     "data": {
      "image/png": "[encoded data removed]",
      "text/plain": [
       "<Figure size 864x720 with 4 Axes>"
      ]
     },
     "metadata": {
      "needs_background": "light"
     },
     "output_type": "display_data"
    }
   ],
   "source": [
    "plot_metrics(baseline_history)"
   ]
  },
  {
   "cell_type": "code",
   "execution_count": 520,
   "metadata": {},
   "outputs": [
    {
     "name": "stdout",
     "output_type": "stream",
     "text": [
      "28/28 [==============================] - 1s 13ms/step - loss: nan - accuracy: 0.0896 - val_loss: nan - val_accuracy: 0.0858\n"
     ]
    },
    {
     "data": {
      "text/plain": [
       "<keras.callbacks.History at 0x26a062cf250>"
      ]
     },
     "execution_count": 520,
     "metadata": {},
     "output_type": "execute_result"
    }
   ],
   "source": [
    "\n",
    "\n",
    "hypermodel = tuner.hypermodel.build(best_hps)\n",
    "hypermodel.fit(X_train, y_train, epochs=best_epoch ,batch_size=BATCH_SIZE, validation_split=0.2)"
   ]
  },
  {
   "cell_type": "markdown",
   "metadata": {},
   "source": [
    "## Predictions and confusion matrix"
   ]
  },
  {
   "cell_type": "markdown",
   "metadata": {},
   "source": [
    "Calculate predictions"
   ]
  },
  {
   "cell_type": "markdown",
   "metadata": {},
   "source": [
    "### Predicciones del modelo con pesos y sesgo de partida"
   ]
  },
  {
   "cell_type": "code",
   "execution_count": 521,
   "metadata": {},
   "outputs": [],
   "source": [
    "train_predictions_baseline = model.predict(X_train, batch_size=BATCH_SIZE)\n",
    "test_predictions_baseline = model.predict(X_test, batch_size=BATCH_SIZE)"
   ]
  },
  {
   "cell_type": "markdown",
   "metadata": {},
   "source": [
    "### Predicciones del modelo incial"
   ]
  },
  {
   "cell_type": "code",
   "execution_count": 522,
   "metadata": {},
   "outputs": [
    {
     "name": "stdout",
     "output_type": "stream",
     "text": [
      "[[0.94329697]\n",
      " [0.9424266 ]\n",
      " [0.9423657 ]\n",
      " ...\n",
      " [0.9471907 ]\n",
      " [0.87042314]\n",
      " [0.9454472 ]]\n"
     ]
    }
   ],
   "source": [
    "precictions=model.predict(x=X_test.tolist(),batch_size=10,verbose=0)\n",
    "print(precictions)"
   ]
  },
  {
   "cell_type": "markdown",
   "metadata": {},
   "source": [
    "Plot confusion matrix"
   ]
  },
  {
   "cell_type": "code",
   "execution_count": 523,
   "metadata": {},
   "outputs": [],
   "source": [
    "rounded_predictions=np.argmax(precictions,axis=-1)"
   ]
  },
  {
   "cell_type": "code",
   "execution_count": 524,
   "metadata": {},
   "outputs": [],
   "source": [
    "\n",
    "import numpy as np\n",
    "import  itertools\n",
    "import matplotlib.pyplot as plt\n",
    "\n",
    "\n",
    "def plot_confusion_matrix(cm, classes,\n",
    "                        normalize=False,\n",
    "                        title='Confusion matrix',\n",
    "                        cmap=plt.cm.Blues):\n",
    "    \"\"\"\n",
    "    This function prints and plots the confusion matrix.\n",
    "    Normalization can be applied by setting `normalize=True`.\n",
    "    \"\"\"\n",
    "    plt.imshow(cm, interpolation='nearest', cmap=cmap)\n",
    "    plt.title(title)\n",
    "    plt.colorbar()\n",
    "    tick_marks = np.arange(len(classes))\n",
    "    plt.xticks(tick_marks, classes, rotation=45)\n",
    "    plt.yticks(tick_marks, classes)\n",
    "\n",
    "    if normalize:\n",
    "        cm = cm.astype('float') / cm.sum(axis=1)[:, np.newaxis]\n",
    "        print(\"Normalized confusion matrix\")\n",
    "    else:\n",
    "        print('Confusion matrix, without normalization')\n",
    "\n",
    "    print(cm)\n",
    "\n",
    "    thresh = cm.max() / 2.\n",
    "    for i, j in itertools.product(range(cm.shape[0]), range(cm.shape[1])):\n",
    "        plt.text(j, i, cm[i, j],\n",
    "            horizontalalignment=\"center\",\n",
    "            color=\"white\" if cm[i, j] > thresh else \"black\")\n",
    "\n",
    "    plt.tight_layout()\n",
    "    plt.ylabel('True label')\n",
    "    plt.xlabel('Predicted label')\n",
    "    \n"
   ]
  },
  {
   "cell_type": "code",
   "execution_count": 525,
   "metadata": {},
   "outputs": [],
   "source": [
    "from sklearn.metrics import confusion_matrix"
   ]
  },
  {
   "cell_type": "markdown",
   "metadata": {},
   "source": [
    "Ploteo la confusion matrix para ver que tal ha aprendido mi modelo"
   ]
  },
  {
   "cell_type": "code",
   "execution_count": 526,
   "metadata": {},
   "outputs": [
    {
     "name": "stdout",
     "output_type": "stream",
     "text": [
      "Confusion matrix, without normalization\n",
      "[[    0  6197]\n",
      " [    0 63822]]\n"
     ]
    },
    {
     "data": {
      "image/png": "[encoded data removed]",
      "text/plain": [
       "<Figure size 864x720 with 2 Axes>"
      ]
     },
     "metadata": {
      "needs_background": "light"
     },
     "output_type": "display_data"
    }
   ],
   "source": [
    "cm_new = confusion_matrix(y_true=y_train,y_pred=train_predictions_baseline>0.5)\n",
    "cm_plot_labels=['no OK','OK']\n",
    "plot_confusion_matrix (cm_new,cm_plot_labels,title='Confusion matrix')\n",
    "plt.show()"
   ]
  },
  {
   "cell_type": "code",
   "execution_count": 527,
   "metadata": {},
   "outputs": [
    {
     "name": "stdout",
     "output_type": "stream",
     "text": [
      "NOK torques detected (True Negatives):  0\n",
      "NOK torques Incorrectly Detected (False Positives):  6197\n",
      "OK torques Missed (False Negatives):  0\n",
      "OK torques Detected (True Positives):  63822\n",
      "Total NOK torques:  6197\n"
     ]
    }
   ],
   "source": [
    "print('NOK torques detected (True Negatives): ', cm_new[0][0])\n",
    "print('NOK torques Incorrectly Detected (False Positives): ', cm_new[0][1])\n",
    "print('OK torques Missed (False Negatives): ', cm_new[1][0])\n",
    "print('OK torques Detected (True Positives): ', cm_new[1][1])\n",
    "print('Total NOK torques: ', np.sum(cm_new[0]))"
   ]
  },
  {
   "cell_type": "markdown",
   "metadata": {},
   "source": [
    "Si el modelo había predicho todo a la perfección, esto sería una matriz diagonal donde los valores fuera de la diagonal principal, lo que indica predicciones incorrectas, sería cero. En este caso, la matriz muestra que tiene relativamente pocos falsos positivos"
   ]
  },
  {
   "cell_type": "code",
   "execution_count": 528,
   "metadata": {},
   "outputs": [
    {
     "name": "stdout",
     "output_type": "stream",
     "text": [
      "Confusion matrix, without normalization\n",
      "[[ 3039     0]\n",
      " [31449     0]]\n"
     ]
    },
    {
     "data": {
      "image/png": "[encoded data removed]",
      "text/plain": [
       "<Figure size 864x720 with 2 Axes>"
      ]
     },
     "metadata": {
      "needs_background": "light"
     },
     "output_type": "display_data"
    }
   ],
   "source": [
    "\n",
    "cm = confusion_matrix(y_true=y_test,y_pred=rounded_predictions)\n",
    "cm_plot_labels=['no OK','OK']\n",
    "plot_confusion_matrix (cm,cm_plot_labels,title='Confusion matrix')\n",
    "plt.show()"
   ]
  },
  {
   "cell_type": "markdown",
   "metadata": {},
   "source": [
    "Me pasa lo mismo que con el modelo de regresion lineal => hay que tratar los datos para incrementar el numero de resultados NOK porcentualmente sobre el total de datos."
   ]
  },
  {
   "cell_type": "markdown",
   "metadata": {},
   "source": [
    "### confusion matrix logistic regresion in TTM_Pamplona\n",
    "\n",
    "[   12,  2308]\n",
    "\n",
    "\n",
    "[    0, 39686]\n",
    "con todo el dataframe  Neural Network % nok predicted good = 0,005\n",
    "tras reducir el número de pares Ok un 40% me sale la siguiente cm: Neural Network % nok predicted good 0.027\n",
    "\n",
    "[   80  2905]\n",
    "\n",
    "\n",
    "[    0 52462]\n",
    "\n",
    "quitando el angulo minimo. Neural Network % nok predicted good: 0.017\n",
    "\n",
    "[   53  3039]\n",
    "\n",
    "\n",
    "[    0 52355]\n",
    "\n",
    "vamos a volver a añadir  los pares ok a ver que hace but still i am too far\n",
    "\n",
    "con el 60% de los pares ok quitados: Neural Network % nok predicted NOK: 0.016\n",
    "\n",
    "[   48  3026]\n",
    "\n",
    "\n",
    "[    0 52373]\n",
    "\n",
    "vuelvo a poner el angulo mímimo.\n"
   ]
  },
  {
   "cell_type": "code",
   "execution_count": 529,
   "metadata": {},
   "outputs": [
    {
     "name": "stdout",
     "output_type": "stream",
     "text": [
      "Logistic regresion % nok predicted as NOK: 0.005\n",
      "Neural Network % nok predicted NOK: 1.0\n"
     ]
    }
   ],
   "source": [
    "porcentaje_pares_LR=12/(12+2308)\n",
    "porcentaje_pares_NN=cm[0,0]/(cm[0,0]+cm[0,1])\n",
    "\n",
    "print(\"Logistic regresion % nok predicted as NOK: \"+str(round(porcentaje_pares_LR,3)))\n",
    "print(\"Neural Network % nok predicted NOK: \"+str(round(porcentaje_pares_NN,3)))"
   ]
  },
  {
   "cell_type": "markdown",
   "metadata": {},
   "source": [
    "1. **Use weight regularization.** It tries to keep weights low which very often leads to better generalization. Experiment with different regularization coefficients. Try 0.1, 0.01, 0.001 and see what impact they have on accuracy.\n",
    "\n",
    "\n",
    "2. **Corrupt your input** (e.g., randomly substitute some pixels with black or white). This way you remove information from your input and 'force' the network to pick up on important general features. Experiment with noising coefficients which determines how much of your input should be corrupted. Research shows that anything in the range of 15% - 45% works well.\n",
    "\n",
    "\n",
    "3. **Expand your training set.** Since you're dealing with images you can expand your set by rotating / scaling etc. your existing images (as suggested). You could also experiment with pre-processing your images (e.g., mapping them to black and white, grayscale etc. but the effectiveness of this technique will depend on your exact images and classes)\n",
    "\n",
    "\n",
    "4. **Pre-train your layers with denoising critera.** Here you pre-train each layer of your network individually before fine tuning the entire network. Pre-training 'forces' layers to pick up on important general features that are useful for reconstructing the input signal. Look into auto-encoders for example (they've been applied to image classification in the past).\n",
    "\n",
    "\n",
    "5. **Experiment with network architecture.** Your network might not have sufficient learning capacity. Experiment with different neuron types, number of layers, and number of hidden neurons. Make sure to try compressing architectures (less neurons than inputs) and sparse architectures (more neurons than inputs)."
   ]
  },
  {
   "cell_type": "markdown",
   "metadata": {},
   "source": [
    "1. reducir aun mas los ok => cuanto mas?\n",
    "\n",
    "2. meter mas layers => done\n",
    "\n",
    "3. cambiar de softmax a sigmoid => done\n",
    "\n",
    "4. tune hiper parameters => done\n",
    "\n",
    "5. Ampliar el dataset con más NOK results\n"
   ]
  },
  {
   "cell_type": "markdown",
   "metadata": {},
   "source": [
    "## Random forest clasifier"
   ]
  },
  {
   "cell_type": "code",
   "execution_count": 530,
   "metadata": {},
   "outputs": [],
   "source": [
    "from sklearn.ensemble import RandomForestClassifier\n",
    "from sklearn.metrics import roc_auc_score\n",
    "from sklearn.metrics import accuracy_score"
   ]
  },
  {
   "cell_type": "code",
   "execution_count": 531,
   "metadata": {},
   "outputs": [
    {
     "data": {
      "text/plain": [
       "RandomForestClassifier()"
      ]
     },
     "execution_count": 531,
     "metadata": {},
     "output_type": "execute_result"
    }
   ],
   "source": [
    "rf = RandomForestClassifier()\n",
    "rf.fit(X_train, y_train)"
   ]
  },
  {
   "cell_type": "markdown",
   "metadata": {},
   "source": [
    "predict:"
   ]
  },
  {
   "cell_type": "code",
   "execution_count": 532,
   "metadata": {},
   "outputs": [
    {
     "name": "stdout",
     "output_type": "stream",
     "text": [
      "[0 1]\n",
      "0.9206501092560591\n",
      "0.9140505324264805\n"
     ]
    }
   ],
   "source": [
    "prediction_rf = rf.predict(X_train)\n",
    "\n",
    "print( np.unique( prediction_rf ) )\n",
    "\n",
    "print( accuracy_score(y_train, prediction_rf) )\n",
    "\n",
    " \n",
    "\n",
    "prob_y_4 = rf.predict_proba(X_train)\n",
    "prob_y_4 = [p[1] for p in prob_y_4]\n",
    "print( roc_auc_score(y_train, prob_y_4) )\n"
   ]
  },
  {
   "cell_type": "markdown",
   "metadata": {},
   "source": [
    "parece que estamos en las mismas..."
   ]
  },
  {
   "cell_type": "code",
   "execution_count": 533,
   "metadata": {},
   "outputs": [
    {
     "name": "stdout",
     "output_type": "stream",
     "text": [
      "Confusion matrix, without normalization\n",
      "[[  725  2314]\n",
      " [  484 30965]]\n"
     ]
    },
    {
     "data": {
      "image/png": "[encoded data removed]",
      "text/plain": [
       "<Figure size 864x720 with 2 Axes>"
      ]
     },
     "metadata": {
      "needs_background": "light"
     },
     "output_type": "display_data"
    }
   ],
   "source": [
    "prediction_rf_test=rf.predict(X_test)\n",
    "cm_rf = confusion_matrix(y_true=y_test,y_pred=prediction_rf_test)\n",
    "cm_plot_labels_rf=['no OK','OK']\n",
    "plot_confusion_matrix (cm_rf,cm_plot_labels_rf,title='Confusion matrix Random forest clasifier')\n",
    "plt.show()"
   ]
  },
  {
   "cell_type": "code",
   "execution_count": 534,
   "metadata": {},
   "outputs": [
    {
     "name": "stdout",
     "output_type": "stream",
     "text": [
      "[1 1 0 ... 1 1 1]\n"
     ]
    }
   ],
   "source": [
    "print(prediction_rf)"
   ]
  },
  {
   "cell_type": "code",
   "execution_count": 538,
   "metadata": {},
   "outputs": [
    {
     "ename": "FileNotFoundError",
     "evalue": "[WinError 2] El sistema no puede encontrar el archivo especificado",
     "output_type": "error",
     "traceback": [
      "\u001b[1;31m---------------------------------------------------------------------------\u001b[0m",
      "\u001b[1;31mFileNotFoundError\u001b[0m                         Traceback (most recent call last)",
      "\u001b[1;32m<ipython-input-538-c601e6f42e8f>\u001b[0m in \u001b[0;36m<module>\u001b[1;34m\u001b[0m\n\u001b[0;32m     14\u001b[0m \u001b[1;31m# Convert to png using system command (requires Graphviz)\u001b[0m\u001b[1;33m\u001b[0m\u001b[1;33m\u001b[0m\u001b[1;33m\u001b[0m\u001b[0m\n\u001b[0;32m     15\u001b[0m \u001b[1;32mfrom\u001b[0m \u001b[0msubprocess\u001b[0m \u001b[1;32mimport\u001b[0m \u001b[0mcall\u001b[0m\u001b[1;33m\u001b[0m\u001b[1;33m\u001b[0m\u001b[0m\n\u001b[1;32m---> 16\u001b[1;33m \u001b[0mcall\u001b[0m\u001b[1;33m(\u001b[0m\u001b[1;33m[\u001b[0m\u001b[1;34m'dot'\u001b[0m\u001b[1;33m,\u001b[0m \u001b[1;34m'-Tpng'\u001b[0m\u001b[1;33m,\u001b[0m \u001b[1;34m'tree.dot'\u001b[0m\u001b[1;33m,\u001b[0m \u001b[1;34m'-o'\u001b[0m\u001b[1;33m,\u001b[0m \u001b[1;34m'tree.png'\u001b[0m\u001b[1;33m,\u001b[0m \u001b[1;34m'-Gdpi=600'\u001b[0m\u001b[1;33m]\u001b[0m\u001b[1;33m,\u001b[0m\u001b[0mshell\u001b[0m\u001b[1;33m=\u001b[0m\u001b[1;32mFalse\u001b[0m\u001b[1;33m)\u001b[0m\u001b[1;33m\u001b[0m\u001b[1;33m\u001b[0m\u001b[0m\n\u001b[0m\u001b[0;32m     17\u001b[0m \u001b[1;33m\u001b[0m\u001b[0m\n\u001b[0;32m     18\u001b[0m \u001b[1;31m# Find the image on src\u001b[0m\u001b[1;33m\u001b[0m\u001b[1;33m\u001b[0m\u001b[1;33m\u001b[0m\u001b[0m\n",
      "\u001b[1;32mC:\\ProgramData\\Anaconda3\\lib\\subprocess.py\u001b[0m in \u001b[0;36mcall\u001b[1;34m(timeout, *popenargs, **kwargs)\u001b[0m\n\u001b[0;32m    338\u001b[0m     \u001b[0mretcode\u001b[0m \u001b[1;33m=\u001b[0m \u001b[0mcall\u001b[0m\u001b[1;33m(\u001b[0m\u001b[1;33m[\u001b[0m\u001b[1;34m\"ls\"\u001b[0m\u001b[1;33m,\u001b[0m \u001b[1;34m\"-l\"\u001b[0m\u001b[1;33m]\u001b[0m\u001b[1;33m)\u001b[0m\u001b[1;33m\u001b[0m\u001b[1;33m\u001b[0m\u001b[0m\n\u001b[0;32m    339\u001b[0m     \"\"\"\n\u001b[1;32m--> 340\u001b[1;33m     \u001b[1;32mwith\u001b[0m \u001b[0mPopen\u001b[0m\u001b[1;33m(\u001b[0m\u001b[1;33m*\u001b[0m\u001b[0mpopenargs\u001b[0m\u001b[1;33m,\u001b[0m \u001b[1;33m**\u001b[0m\u001b[0mkwargs\u001b[0m\u001b[1;33m)\u001b[0m \u001b[1;32mas\u001b[0m \u001b[0mp\u001b[0m\u001b[1;33m:\u001b[0m\u001b[1;33m\u001b[0m\u001b[1;33m\u001b[0m\u001b[0m\n\u001b[0m\u001b[0;32m    341\u001b[0m         \u001b[1;32mtry\u001b[0m\u001b[1;33m:\u001b[0m\u001b[1;33m\u001b[0m\u001b[1;33m\u001b[0m\u001b[0m\n\u001b[0;32m    342\u001b[0m             \u001b[1;32mreturn\u001b[0m \u001b[0mp\u001b[0m\u001b[1;33m.\u001b[0m\u001b[0mwait\u001b[0m\u001b[1;33m(\u001b[0m\u001b[0mtimeout\u001b[0m\u001b[1;33m=\u001b[0m\u001b[0mtimeout\u001b[0m\u001b[1;33m)\u001b[0m\u001b[1;33m\u001b[0m\u001b[1;33m\u001b[0m\u001b[0m\n",
      "\u001b[1;32mC:\\ProgramData\\Anaconda3\\lib\\subprocess.py\u001b[0m in \u001b[0;36m__init__\u001b[1;34m(self, args, bufsize, executable, stdin, stdout, stderr, preexec_fn, close_fds, shell, cwd, env, universal_newlines, startupinfo, creationflags, restore_signals, start_new_session, pass_fds, encoding, errors, text)\u001b[0m\n\u001b[0;32m    856\u001b[0m                             encoding=encoding, errors=errors)\n\u001b[0;32m    857\u001b[0m \u001b[1;33m\u001b[0m\u001b[0m\n\u001b[1;32m--> 858\u001b[1;33m             self._execute_child(args, executable, preexec_fn, close_fds,\n\u001b[0m\u001b[0;32m    859\u001b[0m                                 \u001b[0mpass_fds\u001b[0m\u001b[1;33m,\u001b[0m \u001b[0mcwd\u001b[0m\u001b[1;33m,\u001b[0m \u001b[0menv\u001b[0m\u001b[1;33m,\u001b[0m\u001b[1;33m\u001b[0m\u001b[1;33m\u001b[0m\u001b[0m\n\u001b[0;32m    860\u001b[0m                                 \u001b[0mstartupinfo\u001b[0m\u001b[1;33m,\u001b[0m \u001b[0mcreationflags\u001b[0m\u001b[1;33m,\u001b[0m \u001b[0mshell\u001b[0m\u001b[1;33m,\u001b[0m\u001b[1;33m\u001b[0m\u001b[1;33m\u001b[0m\u001b[0m\n",
      "\u001b[1;32mC:\\ProgramData\\Anaconda3\\lib\\subprocess.py\u001b[0m in \u001b[0;36m_execute_child\u001b[1;34m(self, args, executable, preexec_fn, close_fds, pass_fds, cwd, env, startupinfo, creationflags, shell, p2cread, p2cwrite, c2pread, c2pwrite, errread, errwrite, unused_restore_signals, unused_start_new_session)\u001b[0m\n\u001b[0;32m   1309\u001b[0m             \u001b[1;31m# Start the process\u001b[0m\u001b[1;33m\u001b[0m\u001b[1;33m\u001b[0m\u001b[1;33m\u001b[0m\u001b[0m\n\u001b[0;32m   1310\u001b[0m             \u001b[1;32mtry\u001b[0m\u001b[1;33m:\u001b[0m\u001b[1;33m\u001b[0m\u001b[1;33m\u001b[0m\u001b[0m\n\u001b[1;32m-> 1311\u001b[1;33m                 hp, ht, pid, tid = _winapi.CreateProcess(executable, args,\n\u001b[0m\u001b[0;32m   1312\u001b[0m                                          \u001b[1;31m# no special security\u001b[0m\u001b[1;33m\u001b[0m\u001b[1;33m\u001b[0m\u001b[1;33m\u001b[0m\u001b[0m\n\u001b[0;32m   1313\u001b[0m                                          \u001b[1;32mNone\u001b[0m\u001b[1;33m,\u001b[0m \u001b[1;32mNone\u001b[0m\u001b[1;33m,\u001b[0m\u001b[1;33m\u001b[0m\u001b[1;33m\u001b[0m\u001b[0m\n",
      "\u001b[1;31mFileNotFoundError\u001b[0m: [WinError 2] El sistema no puede encontrar el archivo especificado"
     ]
    }
   ],
   "source": [
    "estimator = rf.estimators_[5]\n",
    "feature_names=[]\n",
    "for col in dfX.columns:\n",
    "    feature_names.append(col)\n",
    "\n",
    "from sklearn.tree import export_graphviz\n",
    "# Export as dot file\n",
    "export_graphviz(estimator, out_file='tree.dot', \n",
    "                feature_names = feature_names,\n",
    "                class_names = feature_names,\n",
    "                rounded = True, proportion = False, \n",
    "                precision = 2, filled = True)\n",
    "\n",
    "# Convert to png using system command (requires Graphviz)\n",
    "from subprocess import call\n",
    "call(['dot', '-Tpng', 'tree.dot', '-o', 'tree.png', '-Gdpi=600'],shell=False)\n",
    "\n",
    "# Find the image on src"
   ]
  }
 ],
 "metadata": {
  "interpreter": {
   "hash": "1275a05ae34f0c315803f9d1758b76ed30a4d7265e5e486823be65aff6a6df27"
  },
  "kernelspec": {
   "display_name": "Python 3.8.10 64-bit (windows store)",
   "name": "python3"
  },
  "language_info": {
   "codemirror_mode": {
    "name": "ipython",
    "version": 3
   },
   "file_extension": ".py",
   "mimetype": "text/x-python",
   "name": "python",
   "nbconvert_exporter": "python",
   "pygments_lexer": "ipython3",
   "version": "3.8.8"
  },
  "orig_nbformat": 4
 },
 "nbformat": 4,
 "nbformat_minor": 2
}

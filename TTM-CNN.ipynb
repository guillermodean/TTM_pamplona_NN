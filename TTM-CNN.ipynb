{
 "cells": [
  {
   "cell_type": "code",
   "execution_count": 156,
   "metadata": {},
   "outputs": [],
   "source": [
    "#to install with pip tensorflow i had to change the registry value for longpaths.\n",
    "import pandas as pd\n",
    "import matplotlib.pyplot as plt\n",
    "import re\n",
    "from sklearn.preprocessing import   LabelEncoder\n",
    "from sklearn.linear_model import LogisticRegression\n",
    "import numpy as np\n",
    "import sklearn"
   ]
  },
  {
   "cell_type": "markdown",
   "metadata": {},
   "source": [
    "## Procesamiento y exploracion de datos\n",
    "\n",
    "Leedmos el conjunto de datos que esta guardado en data"
   ]
  },
  {
   "cell_type": "code",
   "execution_count": 157,
   "metadata": {},
   "outputs": [
    {
     "name": "stderr",
     "output_type": "stream",
     "text": [
      "C:\\ProgramData\\Anaconda3\\lib\\site-packages\\IPython\\core\\interactiveshell.py:3165: DtypeWarning: Columns (45,46,63) have mixed types.Specify dtype option on import or set low_memory=False.\n",
      "  has_raised = await self.run_ast_nodes(code_ast.body, cell_name,\n"
     ]
    }
   ],
   "source": [
    "df=pd.read_csv('data/Results_TTM.csv',sep=\";\",header=0)\n",
    "df=df.drop(columns=[\"Step status\",\"Current trend\",\"Torque rate min\",\"Torque rate max\",\"Torque rate trend\",\"CVILOGIX\",\"Identifier6\",\"Identifier7\",\"Identifier8\",\"Identifier9\",\"Identifier10\",\"Second transducer torque deviation\",\"Second transducer angle deviation\",\"Result type\",\"Pulse counter\",\"Angle offset\",\"AO torque rate\"])"
   ]
  },
  {
   "cell_type": "code",
   "execution_count": 158,
   "metadata": {},
   "outputs": [
    {
     "name": "stdout",
     "output_type": "stream",
     "text": [
      "<bound method NDFrame.describe of        Result status Tool status  Result number            Time result  \\\n",
      "0                 OK          OK         613029  2020-12-10 23:59:12.0   \n",
      "1                 OK          OK         613028  2020-12-10 23:59:08.0   \n",
      "2                 OK          OK         613027  2020-12-10 23:58:56.0   \n",
      "3                 OK          OK         613026  2020-12-10 23:58:48.0   \n",
      "4                 OK          OK         613025  2020-12-10 23:58:41.0   \n",
      "...              ...         ...            ...                    ...   \n",
      "399995            OK          OK         286841  2020-09-29 18:51:08.0   \n",
      "399996            OK          OK         286840  2020-09-29 18:51:03.0   \n",
      "399997            OK          OK         760759  2020-09-29 18:50:45.0   \n",
      "399998            OK          OK         487287  2020-09-29 18:50:40.0   \n",
      "399999            OK          OK         356116  2020-09-29 18:50:37.0   \n",
      "\n",
      "        Pset ID  Step ID Error Code     Stop source  Torque min  Torque  ...  \\\n",
      "0          10.0      1.0        NaN  Target reached        18.0  20.126  ...   \n",
      "1           9.0      1.0        NaN  Target reached        18.0  20.090  ...   \n",
      "2           3.0      1.0        NaN  Target reached        20.0  22.219  ...   \n",
      "3           3.0      1.0        NaN  Target reached        20.0  22.138  ...   \n",
      "4           3.0      1.0        NaN  Target reached        20.0  22.073  ...   \n",
      "...         ...      ...        ...             ...         ...     ...  ...   \n",
      "399995      5.0      1.0        NaN  Target reached        20.0  22.422  ...   \n",
      "399996      5.0      1.0        NaN  Target reached        20.0  22.154  ...   \n",
      "399997     16.0      1.0        NaN  Target reached         8.0  10.049  ...   \n",
      "399998     21.0      1.0        NaN  Target reached         3.5   4.543  ...   \n",
      "399999     18.0      1.0        NaN  Target reached        35.0  37.966  ...   \n",
      "\n",
      "        Batch         Identifier1        Identifier2  Identifier3  \\\n",
      "0        1(0)                 NaN                NaN          NaN   \n",
      "1        1(0)                 NaN                NaN          NaN   \n",
      "2        1(0)                 NaN                NaN          NaN   \n",
      "3        1(0)                 NaN                NaN          NaN   \n",
      "4        1(0)                 NaN                NaN          NaN   \n",
      "...       ...                 ...                ...          ...   \n",
      "399995   2(2)  #######89161-05/00  552001922428000.0       2362.0   \n",
      "399996   1(2)  #######89161-05/00  552001922428000.0       2362.0   \n",
      "399997   1(0)                 NaN                NaN          NaN   \n",
      "399998   1(0)                 NaN                NaN          NaN   \n",
      "399999   1(0)                 NaN                NaN          NaN   \n",
      "\n",
      "        Identifier4 Identifier5  Torque (monitoring)  Angle (monitoring)  \\\n",
      "0               NaN         NaN                  ---                 ---   \n",
      "1               NaN         NaN                  ---                 ---   \n",
      "2               NaN         NaN                  ---                 ---   \n",
      "3               NaN         NaN                  ---                 ---   \n",
      "4               NaN         NaN                  ---                 ---   \n",
      "...             ...         ...                  ...                 ...   \n",
      "399995          NaN         NaN                  ---                 ---   \n",
      "399996          NaN         NaN                  ---                 ---   \n",
      "399997          NaN         NaN                  ---                 ---   \n",
      "399998          NaN         NaN                  ---                 ---   \n",
      "399999          NaN         NaN                  ---                 ---   \n",
      "\n",
      "        Controlling transducer  Angle Threshold   \n",
      "0                            0              10.0  \n",
      "1                            0              10.0  \n",
      "2                            0              11.0  \n",
      "3                            0              11.0  \n",
      "4                            0              11.0  \n",
      "...                        ...               ...  \n",
      "399995                       0               7.0  \n",
      "399996                       0               7.0  \n",
      "399997                       0               4.0  \n",
      "399998                       0               3.7  \n",
      "399999                       0              19.0  \n",
      "\n",
      "[400000 rows x 47 columns]>\n"
     ]
    }
   ],
   "source": [
    "print(df.describe)\n",
    "df=df[['Result status','Result number','Time result','Pset ID','Step ID','Error Code', 'Torque min','Torque','Torque max','Angle min','Angle','Angle max','Pset name','VIN','Identifier1','Identifier2','Identifier3','Identifier4','Identifier5']]"
   ]
  },
  {
   "cell_type": "markdown",
   "metadata": {},
   "source": [
    "Nos quedamos con las columnas que tienen valores interesante y eliminamos todas las columnas que contienen muchos nulos"
   ]
  },
  {
   "cell_type": "code",
   "execution_count": 159,
   "metadata": {},
   "outputs": [
    {
     "name": "stdout",
     "output_type": "stream",
     "text": [
      "<class 'pandas.core.frame.DataFrame'>\n",
      "RangeIndex: 400000 entries, 0 to 399999\n",
      "Data columns (total 19 columns):\n",
      " #   Column         Non-Null Count   Dtype  \n",
      "---  ------         --------------   -----  \n",
      " 0   Result status  400000 non-null  object \n",
      " 1   Result number  400000 non-null  int64  \n",
      " 2   Time result    400000 non-null  object \n",
      " 3   Pset ID        399901 non-null  float64\n",
      " 4   Step ID        399901 non-null  float64\n",
      " 5   Error Code     22688 non-null   object \n",
      " 6   Torque min     399901 non-null  float64\n",
      " 7   Torque         400000 non-null  float64\n",
      " 8   Torque max     399901 non-null  float64\n",
      " 9   Angle min      399901 non-null  float64\n",
      " 10  Angle          400000 non-null  float64\n",
      " 11  Angle max      399901 non-null  float64\n",
      " 12  Pset name      399901 non-null  object \n",
      " 13  VIN            172013 non-null  object \n",
      " 14  Identifier1    172013 non-null  object \n",
      " 15  Identifier2    170608 non-null  object \n",
      " 16  Identifier3    168406 non-null  object \n",
      " 17  Identifier4    13920 non-null   object \n",
      " 18  Identifier5    12363 non-null   object \n",
      "dtypes: float64(8), int64(1), object(10)\n",
      "memory usage: 58.0+ MB\n"
     ]
    }
   ],
   "source": [
    "df.info()"
   ]
  },
  {
   "cell_type": "markdown",
   "metadata": {},
   "source": [
    "Tenombramos las columnas para eliminar los espacios."
   ]
  },
  {
   "cell_type": "code",
   "execution_count": 160,
   "metadata": {},
   "outputs": [],
   "source": [
    "df=df.rename(columns={\"Result status\":\"Result_status\",\"Result number\":\"Result_number\",\"Pset ID\":\"Pset_ID\",\"Step ID\":\"Step_ID\",\"Torque min\":\"Torque_min\",\"Torque max\":\"Torque_max\",\"Angle min\":\"Angle_min\",\"Angle max\":\"Angle_max\",\"Pset name\":\"Pset_name\",'Error code':'Error_code','Result_status':'Result_status','Time result':'Time_result'})\n"
   ]
  },
  {
   "cell_type": "markdown",
   "metadata": {},
   "source": [
    "Vamos a mirar a ver cuales de los pares son NOK, filtramos la columna de resultado"
   ]
  },
  {
   "cell_type": "code",
   "execution_count": 161,
   "metadata": {},
   "outputs": [
    {
     "name": "stdout",
     "output_type": "stream",
     "text": [
      "<class 'pandas.core.frame.DataFrame'>\n",
      "Int64Index: 22568 entries, 34 to 399969\n",
      "Data columns (total 19 columns):\n",
      " #   Column         Non-Null Count  Dtype  \n",
      "---  ------         --------------  -----  \n",
      " 0   Result_status  22568 non-null  object \n",
      " 1   Result_number  22568 non-null  int64  \n",
      " 2   Time_result    22568 non-null  object \n",
      " 3   Pset_ID        22568 non-null  float64\n",
      " 4   Step_ID        22568 non-null  float64\n",
      " 5   Error Code     22568 non-null  object \n",
      " 6   Torque_min     22568 non-null  float64\n",
      " 7   Torque         22568 non-null  float64\n",
      " 8   Torque_max     22568 non-null  float64\n",
      " 9   Angle_min      22568 non-null  float64\n",
      " 10  Angle          22568 non-null  float64\n",
      " 11  Angle_max      22568 non-null  float64\n",
      " 12  Pset_name      22568 non-null  object \n",
      " 13  VIN            9477 non-null   object \n",
      " 14  Identifier1    9477 non-null   object \n",
      " 15  Identifier2    9289 non-null   object \n",
      " 16  Identifier3    9301 non-null   object \n",
      " 17  Identifier4    1431 non-null   object \n",
      " 18  Identifier5    1354 non-null   object \n",
      "dtypes: float64(8), int64(1), object(10)\n",
      "memory usage: 3.4+ MB\n"
     ]
    }
   ],
   "source": [
    "df_nok=df[df['Result_status'].str.contains(\"NOK\")]\n",
    "df_nok.info()"
   ]
  },
  {
   "cell_type": "code",
   "execution_count": 162,
   "metadata": {},
   "outputs": [
    {
     "data": {
      "text/html": [
       "<div>\n",
       "<style scoped>\n",
       "    .dataframe tbody tr th:only-of-type {\n",
       "        vertical-align: middle;\n",
       "    }\n",
       "\n",
       "    .dataframe tbody tr th {\n",
       "        vertical-align: top;\n",
       "    }\n",
       "\n",
       "    .dataframe thead th {\n",
       "        text-align: right;\n",
       "    }\n",
       "</style>\n",
       "<table border=\"1\" class=\"dataframe\">\n",
       "  <thead>\n",
       "    <tr style=\"text-align: right;\">\n",
       "      <th></th>\n",
       "      <th>Result_status</th>\n",
       "    </tr>\n",
       "    <tr>\n",
       "      <th>Pset_name</th>\n",
       "      <th></th>\n",
       "    </tr>\n",
       "  </thead>\n",
       "  <tbody>\n",
       "    <tr>\n",
       "      <th>Seat frame front_35Nm</th>\n",
       "      <td>1109</td>\n",
       "    </tr>\n",
       "    <tr>\n",
       "      <th>Armrests 28Nm</th>\n",
       "      <td>990</td>\n",
       "    </tr>\n",
       "    <tr>\n",
       "      <th>Slides 22Nm TX40 ISC</th>\n",
       "      <td>920</td>\n",
       "    </tr>\n",
       "    <tr>\n",
       "      <th>Cross angle back - Swivel_22Nm</th>\n",
       "      <td>885</td>\n",
       "    </tr>\n",
       "    <tr>\n",
       "      <th>Seat frame assy_35Nm_2x59-2_ISC</th>\n",
       "      <td>877</td>\n",
       "    </tr>\n",
       "    <tr>\n",
       "      <th>...</th>\n",
       "      <td>...</td>\n",
       "    </tr>\n",
       "    <tr>\n",
       "      <th>Backrest segment 22Nm ISC_A_BAU</th>\n",
       "      <td>1</td>\n",
       "    </tr>\n",
       "    <tr>\n",
       "      <th>Poka Yoke Check_6xxx</th>\n",
       "      <td>1</td>\n",
       "    </tr>\n",
       "    <tr>\n",
       "      <th>Torque_35Nm</th>\n",
       "      <td>1</td>\n",
       "    </tr>\n",
       "    <tr>\n",
       "      <th>Cross static support to slides 22Nm ISC</th>\n",
       "      <td>1</td>\n",
       "    </tr>\n",
       "    <tr>\n",
       "      <th>Cushion slides_WOOD_10Nm+-2</th>\n",
       "      <td>1</td>\n",
       "    </tr>\n",
       "  </tbody>\n",
       "</table>\n",
       "<p>208 rows × 1 columns</p>\n",
       "</div>"
      ],
      "text/plain": [
       "                                         Result_status\n",
       "Pset_name                                             \n",
       "Seat frame front_35Nm                             1109\n",
       "Armrests 28Nm                                      990\n",
       "Slides 22Nm TX40 ISC                               920\n",
       "Cross angle back - Swivel_22Nm                     885\n",
       "Seat frame assy_35Nm_2x59-2_ISC                    877\n",
       "...                                                ...\n",
       "Backrest segment 22Nm ISC_A_BAU                      1\n",
       "Poka Yoke Check_6xxx                                 1\n",
       "Torque_35Nm                                          1\n",
       "Cross static support to slides 22Nm ISC              1\n",
       "Cushion slides_WOOD_10Nm+-2                          1\n",
       "\n",
       "[208 rows x 1 columns]"
      ]
     },
     "execution_count": 162,
     "metadata": {},
     "output_type": "execute_result"
    }
   ],
   "source": [
    "df_nok['Pset_name'].head()\n",
    "df_nok[['Pset_name','Result_status']].groupby(by='Pset_name').count().sort_values(by=['Result_status'], ascending=False)"
   ]
  },
  {
   "cell_type": "markdown",
   "metadata": {},
   "source": [
    "Vemos que hay un resultado POKA YOKE, es un resultado NOK forzado que se hace para comprobar la herramientas. hay que quitarlos de la muestra."
   ]
  },
  {
   "cell_type": "code",
   "execution_count": 163,
   "metadata": {},
   "outputs": [],
   "source": [
    "df = df[~df[\"Pset_name\"].str.contains(\"Poka\",na=False)]"
   ]
  },
  {
   "cell_type": "markdown",
   "metadata": {},
   "source": [
    "Cambiamos el tipo de la columna fecha"
   ]
  },
  {
   "cell_type": "code",
   "execution_count": 164,
   "metadata": {},
   "outputs": [
    {
     "data": {
      "text/plain": [
       "Result_status                        object\n",
       "Result_number                         int64\n",
       "Time_result      datetime64[ns, US/Eastern]\n",
       "Pset_ID                             float64\n",
       "Step_ID                             float64\n",
       "Error Code                           object\n",
       "Torque_min                          float64\n",
       "Torque                              float64\n",
       "Torque_max                          float64\n",
       "Angle_min                           float64\n",
       "Angle                               float64\n",
       "Angle_max                           float64\n",
       "Pset_name                            object\n",
       "VIN                                  object\n",
       "Identifier1                          object\n",
       "Identifier2                          object\n",
       "Identifier3                          object\n",
       "Identifier4                          object\n",
       "Identifier5                          object\n",
       "dtype: object"
      ]
     },
     "execution_count": 164,
     "metadata": {},
     "output_type": "execute_result"
    }
   ],
   "source": [
    "df.astype({'Time_result': 'datetime64[ns, US/Eastern]'}).dtypes"
   ]
  },
  {
   "cell_type": "markdown",
   "metadata": {},
   "source": [
    "creamos una columna nueva la columna de resultado que contiene los tesxtos \"NOK\" y \"OK\" en valores numericos."
   ]
  },
  {
   "cell_type": "code",
   "execution_count": 165,
   "metadata": {},
   "outputs": [],
   "source": [
    "df['Resultbin']=df['Result_status']=='OK'"
   ]
  },
  {
   "cell_type": "code",
   "execution_count": 166,
   "metadata": {},
   "outputs": [
    {
     "data": {
      "text/html": [
       "<div>\n",
       "<style scoped>\n",
       "    .dataframe tbody tr th:only-of-type {\n",
       "        vertical-align: middle;\n",
       "    }\n",
       "\n",
       "    .dataframe tbody tr th {\n",
       "        vertical-align: top;\n",
       "    }\n",
       "\n",
       "    .dataframe thead th {\n",
       "        text-align: right;\n",
       "    }\n",
       "</style>\n",
       "<table border=\"1\" class=\"dataframe\">\n",
       "  <thead>\n",
       "    <tr style=\"text-align: right;\">\n",
       "      <th></th>\n",
       "      <th>Result_status</th>\n",
       "      <th>Result_number</th>\n",
       "      <th>Time_result</th>\n",
       "      <th>Pset_ID</th>\n",
       "      <th>Step_ID</th>\n",
       "      <th>Error Code</th>\n",
       "      <th>Torque_min</th>\n",
       "      <th>Torque</th>\n",
       "      <th>Torque_max</th>\n",
       "      <th>Angle_min</th>\n",
       "      <th>Angle</th>\n",
       "      <th>Angle_max</th>\n",
       "      <th>Pset_name</th>\n",
       "      <th>VIN</th>\n",
       "      <th>Identifier1</th>\n",
       "      <th>Identifier2</th>\n",
       "      <th>Identifier3</th>\n",
       "      <th>Identifier4</th>\n",
       "      <th>Identifier5</th>\n",
       "      <th>Resultbin</th>\n",
       "    </tr>\n",
       "  </thead>\n",
       "  <tbody>\n",
       "    <tr>\n",
       "      <th>0</th>\n",
       "      <td>OK</td>\n",
       "      <td>613029</td>\n",
       "      <td>2020-12-10 23:59:12.0</td>\n",
       "      <td>10.0</td>\n",
       "      <td>1.0</td>\n",
       "      <td>NaN</td>\n",
       "      <td>18.0</td>\n",
       "      <td>20.126</td>\n",
       "      <td>22.0</td>\n",
       "      <td>3.0</td>\n",
       "      <td>40.213</td>\n",
       "      <td>100.0</td>\n",
       "      <td>Fixation screw_(60895R01)_20Nm_1x64-5_IF</td>\n",
       "      <td>NaN</td>\n",
       "      <td>NaN</td>\n",
       "      <td>NaN</td>\n",
       "      <td>NaN</td>\n",
       "      <td>NaN</td>\n",
       "      <td>NaN</td>\n",
       "      <td>True</td>\n",
       "    </tr>\n",
       "    <tr>\n",
       "      <th>1</th>\n",
       "      <td>OK</td>\n",
       "      <td>613028</td>\n",
       "      <td>2020-12-10 23:59:08.0</td>\n",
       "      <td>9.0</td>\n",
       "      <td>1.0</td>\n",
       "      <td>NaN</td>\n",
       "      <td>18.0</td>\n",
       "      <td>20.090</td>\n",
       "      <td>22.0</td>\n",
       "      <td>5.0</td>\n",
       "      <td>40.369</td>\n",
       "      <td>100.0</td>\n",
       "      <td>Fixation screw_(318327B01)_20Nm_1x64-4_I</td>\n",
       "      <td>NaN</td>\n",
       "      <td>NaN</td>\n",
       "      <td>NaN</td>\n",
       "      <td>NaN</td>\n",
       "      <td>NaN</td>\n",
       "      <td>NaN</td>\n",
       "      <td>True</td>\n",
       "    </tr>\n",
       "    <tr>\n",
       "      <th>2</th>\n",
       "      <td>OK</td>\n",
       "      <td>613027</td>\n",
       "      <td>2020-12-10 23:58:56.0</td>\n",
       "      <td>3.0</td>\n",
       "      <td>1.0</td>\n",
       "      <td>NaN</td>\n",
       "      <td>20.0</td>\n",
       "      <td>22.219</td>\n",
       "      <td>24.0</td>\n",
       "      <td>5.0</td>\n",
       "      <td>40.389</td>\n",
       "      <td>110.0</td>\n",
       "      <td>Sliders 22Nm_4x65-4_ISC</td>\n",
       "      <td>NaN</td>\n",
       "      <td>NaN</td>\n",
       "      <td>NaN</td>\n",
       "      <td>NaN</td>\n",
       "      <td>NaN</td>\n",
       "      <td>NaN</td>\n",
       "      <td>True</td>\n",
       "    </tr>\n",
       "    <tr>\n",
       "      <th>3</th>\n",
       "      <td>OK</td>\n",
       "      <td>613026</td>\n",
       "      <td>2020-12-10 23:58:48.0</td>\n",
       "      <td>3.0</td>\n",
       "      <td>1.0</td>\n",
       "      <td>NaN</td>\n",
       "      <td>20.0</td>\n",
       "      <td>22.138</td>\n",
       "      <td>24.0</td>\n",
       "      <td>5.0</td>\n",
       "      <td>33.650</td>\n",
       "      <td>110.0</td>\n",
       "      <td>Sliders 22Nm_4x65-4_ISC</td>\n",
       "      <td>NaN</td>\n",
       "      <td>NaN</td>\n",
       "      <td>NaN</td>\n",
       "      <td>NaN</td>\n",
       "      <td>NaN</td>\n",
       "      <td>NaN</td>\n",
       "      <td>True</td>\n",
       "    </tr>\n",
       "    <tr>\n",
       "      <th>4</th>\n",
       "      <td>OK</td>\n",
       "      <td>613025</td>\n",
       "      <td>2020-12-10 23:58:41.0</td>\n",
       "      <td>3.0</td>\n",
       "      <td>1.0</td>\n",
       "      <td>NaN</td>\n",
       "      <td>20.0</td>\n",
       "      <td>22.073</td>\n",
       "      <td>24.0</td>\n",
       "      <td>5.0</td>\n",
       "      <td>43.830</td>\n",
       "      <td>110.0</td>\n",
       "      <td>Sliders 22Nm_4x65-4_ISC</td>\n",
       "      <td>NaN</td>\n",
       "      <td>NaN</td>\n",
       "      <td>NaN</td>\n",
       "      <td>NaN</td>\n",
       "      <td>NaN</td>\n",
       "      <td>NaN</td>\n",
       "      <td>True</td>\n",
       "    </tr>\n",
       "  </tbody>\n",
       "</table>\n",
       "</div>"
      ],
      "text/plain": [
       "  Result_status  Result_number            Time_result  Pset_ID  Step_ID  \\\n",
       "0            OK         613029  2020-12-10 23:59:12.0     10.0      1.0   \n",
       "1            OK         613028  2020-12-10 23:59:08.0      9.0      1.0   \n",
       "2            OK         613027  2020-12-10 23:58:56.0      3.0      1.0   \n",
       "3            OK         613026  2020-12-10 23:58:48.0      3.0      1.0   \n",
       "4            OK         613025  2020-12-10 23:58:41.0      3.0      1.0   \n",
       "\n",
       "  Error Code  Torque_min  Torque  Torque_max  Angle_min   Angle  Angle_max  \\\n",
       "0        NaN        18.0  20.126        22.0        3.0  40.213      100.0   \n",
       "1        NaN        18.0  20.090        22.0        5.0  40.369      100.0   \n",
       "2        NaN        20.0  22.219        24.0        5.0  40.389      110.0   \n",
       "3        NaN        20.0  22.138        24.0        5.0  33.650      110.0   \n",
       "4        NaN        20.0  22.073        24.0        5.0  43.830      110.0   \n",
       "\n",
       "                                  Pset_name  VIN Identifier1 Identifier2  \\\n",
       "0  Fixation screw_(60895R01)_20Nm_1x64-5_IF  NaN         NaN         NaN   \n",
       "1  Fixation screw_(318327B01)_20Nm_1x64-4_I  NaN         NaN         NaN   \n",
       "2                   Sliders 22Nm_4x65-4_ISC  NaN         NaN         NaN   \n",
       "3                   Sliders 22Nm_4x65-4_ISC  NaN         NaN         NaN   \n",
       "4                   Sliders 22Nm_4x65-4_ISC  NaN         NaN         NaN   \n",
       "\n",
       "  Identifier3 Identifier4 Identifier5  Resultbin  \n",
       "0         NaN         NaN         NaN       True  \n",
       "1         NaN         NaN         NaN       True  \n",
       "2         NaN         NaN         NaN       True  \n",
       "3         NaN         NaN         NaN       True  \n",
       "4         NaN         NaN         NaN       True  "
      ]
     },
     "execution_count": 166,
     "metadata": {},
     "output_type": "execute_result"
    }
   ],
   "source": [
    "df.head()\n"
   ]
  },
  {
   "cell_type": "markdown",
   "metadata": {},
   "source": [
    "Aun tenemos columnas que no van a aportar nada a nuestro modelo."
   ]
  },
  {
   "cell_type": "code",
   "execution_count": 167,
   "metadata": {},
   "outputs": [],
   "source": [
    "dfX=df.drop(columns={'Result_status','Result_number','Time_result','Pset_ID','Identifier4','Identifier5','Identifier2','Error Code','Torque','Angle'})"
   ]
  },
  {
   "cell_type": "markdown",
   "metadata": {},
   "source": [
    "con df.info() vamos a ver cuantas columnas contienen resultados nulos y vamos a hacer que toda la muestra tenga columnas con datos que podamos utilizar.\n",
    "Con esta accion podemos hacer que nuestro modelo posterior no sea tan bueno prediciendo los resultados de las columnas que tienen nulls."
   ]
  },
  {
   "cell_type": "code",
   "execution_count": 168,
   "metadata": {},
   "outputs": [
    {
     "name": "stdout",
     "output_type": "stream",
     "text": [
      "<class 'pandas.core.frame.DataFrame'>\n",
      "Int64Index: 398943 entries, 0 to 399999\n",
      "Data columns (total 10 columns):\n",
      " #   Column       Non-Null Count   Dtype  \n",
      "---  ------       --------------   -----  \n",
      " 0   Step_ID      398844 non-null  float64\n",
      " 1   Torque_min   398844 non-null  float64\n",
      " 2   Torque_max   398844 non-null  float64\n",
      " 3   Angle_min    398844 non-null  float64\n",
      " 4   Angle_max    398844 non-null  float64\n",
      " 5   Pset_name    398844 non-null  object \n",
      " 6   VIN          172013 non-null  object \n",
      " 7   Identifier1  172013 non-null  object \n",
      " 8   Identifier3  168406 non-null  object \n",
      " 9   Resultbin    398943 non-null  bool   \n",
      "dtypes: bool(1), float64(5), object(4)\n",
      "memory usage: 30.8+ MB\n"
     ]
    }
   ],
   "source": [
    "dfX.info()"
   ]
  },
  {
   "cell_type": "markdown",
   "metadata": {},
   "source": [
    "Vamos a echar un vistazo a los valores que vamos a quitar. porque se va a reducir mucho la muestra."
   ]
  },
  {
   "cell_type": "code",
   "execution_count": 169,
   "metadata": {},
   "outputs": [
    {
     "name": "stderr",
     "output_type": "stream",
     "text": [
      "C:\\ProgramData\\Anaconda3\\lib\\site-packages\\pandas\\core\\indexing.py:1599: SettingWithCopyWarning: \n",
      "A value is trying to be set on a copy of a slice from a DataFrame.\n",
      "Try using .loc[row_indexer,col_indexer] = value instead\n",
      "\n",
      "See the caveats in the documentation: https://pandas.pydata.org/pandas-docs/stable/user_guide/indexing.html#returning-a-view-versus-a-copy\n",
      "  self.obj[key] = infer_fill_value(value)\n",
      "C:\\ProgramData\\Anaconda3\\lib\\site-packages\\pandas\\core\\indexing.py:1720: SettingWithCopyWarning: \n",
      "A value is trying to be set on a copy of a slice from a DataFrame.\n",
      "Try using .loc[row_indexer,col_indexer] = value instead\n",
      "\n",
      "See the caveats in the documentation: https://pandas.pydata.org/pandas-docs/stable/user_guide/indexing.html#returning-a-view-versus-a-copy\n",
      "  self._setitem_single_column(loc, value, pi)\n"
     ]
    },
    {
     "data": {
      "text/html": [
       "<div>\n",
       "<style scoped>\n",
       "    .dataframe tbody tr th:only-of-type {\n",
       "        vertical-align: middle;\n",
       "    }\n",
       "\n",
       "    .dataframe tbody tr th {\n",
       "        vertical-align: top;\n",
       "    }\n",
       "\n",
       "    .dataframe thead th {\n",
       "        text-align: right;\n",
       "    }\n",
       "</style>\n",
       "<table border=\"1\" class=\"dataframe\">\n",
       "  <thead>\n",
       "    <tr style=\"text-align: right;\">\n",
       "      <th></th>\n",
       "      <th>Resultbin</th>\n",
       "    </tr>\n",
       "    <tr>\n",
       "      <th>Pset_name</th>\n",
       "      <th></th>\n",
       "    </tr>\n",
       "  </thead>\n",
       "  <tbody>\n",
       "    <tr>\n",
       "      <th>Sliders 22Nm_4x65-4_ISC</th>\n",
       "      <td>19342</td>\n",
       "    </tr>\n",
       "    <tr>\n",
       "      <th>Backrest_40Nm</th>\n",
       "      <td>10887</td>\n",
       "    </tr>\n",
       "    <tr>\n",
       "      <th>Seat frame assy_35Nm_2x59-2_ISC</th>\n",
       "      <td>10709</td>\n",
       "    </tr>\n",
       "    <tr>\n",
       "      <th>Bearing inclination cap_22Nm_2x59-1_ISC</th>\n",
       "      <td>10022</td>\n",
       "    </tr>\n",
       "    <tr>\n",
       "      <th>Inner carrier_22Nm_2x59-3_ISC</th>\n",
       "      <td>9927</td>\n",
       "    </tr>\n",
       "    <tr>\n",
       "      <th>...</th>\n",
       "      <td>...</td>\n",
       "    </tr>\n",
       "    <tr>\n",
       "      <th>Cushion slides_WOOD_10Nm+-2</th>\n",
       "      <td>80</td>\n",
       "    </tr>\n",
       "    <tr>\n",
       "      <th>Embocar Profiles 30Nm ISC</th>\n",
       "      <td>77</td>\n",
       "    </tr>\n",
       "    <tr>\n",
       "      <th>Slides 22Nm TX40 ISC</th>\n",
       "      <td>6</td>\n",
       "    </tr>\n",
       "    <tr>\n",
       "      <th>Torque 35Nm</th>\n",
       "      <td>4</td>\n",
       "    </tr>\n",
       "    <tr>\n",
       "      <th>Inner carrier 22Nm HEX8 ISC</th>\n",
       "      <td>1</td>\n",
       "    </tr>\n",
       "  </tbody>\n",
       "</table>\n",
       "<p>61 rows × 1 columns</p>\n",
       "</div>"
      ],
      "text/plain": [
       "                                         Resultbin\n",
       "Pset_name                                         \n",
       "Sliders 22Nm_4x65-4_ISC                      19342\n",
       "Backrest_40Nm                                10887\n",
       "Seat frame assy_35Nm_2x59-2_ISC              10709\n",
       "Bearing inclination cap_22Nm_2x59-1_ISC      10022\n",
       "Inner carrier_22Nm_2x59-3_ISC                 9927\n",
       "...                                            ...\n",
       "Cushion slides_WOOD_10Nm+-2                     80\n",
       "Embocar Profiles 30Nm ISC                       77\n",
       "Slides 22Nm TX40 ISC                             6\n",
       "Torque 35Nm                                      4\n",
       "Inner carrier 22Nm HEX8 ISC                      1\n",
       "\n",
       "[61 rows x 1 columns]"
      ]
     },
     "execution_count": 169,
     "metadata": {},
     "output_type": "execute_result"
    }
   ],
   "source": [
    "\n",
    "df_NANs=dfX[['Pset_name','Identifier1','Identifier3','Resultbin']]\n",
    "df_NANs.loc[df_NANs['Identifier1'].isnull(),'value_is_NaN'] = 'Yes'\n",
    "df_NANs.loc[df_NANs['Identifier1'].notnull(), 'value_is_NaN'] = 'No'\n",
    "df_NANs = df_NANs[df_NANs[\"value_is_NaN\"].str.contains(\"Yes\",na=False)]\n",
    "df_NANs[['Pset_name','Resultbin']].groupby(by='Pset_name').count().sort_values(by='Resultbin',ascending=False)\n",
    "\n"
   ]
  },
  {
   "cell_type": "markdown",
   "metadata": {},
   "source": [
    "Estamos perdiendo valores OK y NOK de las líneas NTS1 y NTS2 que no guardan valueIdentifiers. Es decir que el analisis se va a focalizar en las líneas:\n",
    "1. ALter BAU\n",
    "2. Alter BUS\n",
    "3. Tapizado NTS1\n",
    "4. Tapizado NTS2\n",
    "5. NTS1 BAU\n",
    "Vamos a proceder a eliminar los resultados nulos del Df"
   ]
  },
  {
   "cell_type": "code",
   "execution_count": 170,
   "metadata": {},
   "outputs": [
    {
     "name": "stdout",
     "output_type": "stream",
     "text": [
      "<class 'pandas.core.frame.DataFrame'>\n",
      "Int64Index: 168002 entries, 10 to 399996\n",
      "Data columns (total 10 columns):\n",
      " #   Column       Non-Null Count   Dtype  \n",
      "---  ------       --------------   -----  \n",
      " 0   Step_ID      168002 non-null  float64\n",
      " 1   Torque_min   168002 non-null  float64\n",
      " 2   Torque_max   168002 non-null  float64\n",
      " 3   Angle_min    168002 non-null  float64\n",
      " 4   Angle_max    168002 non-null  float64\n",
      " 5   Pset_name    168002 non-null  object \n",
      " 6   VIN          168002 non-null  object \n",
      " 7   Identifier1  168002 non-null  object \n",
      " 8   Identifier3  168002 non-null  object \n",
      " 9   Resultbin    168002 non-null  bool   \n",
      "dtypes: bool(1), float64(5), object(4)\n",
      "memory usage: 13.0+ MB\n"
     ]
    }
   ],
   "source": [
    "dfX=dfX.dropna()\n",
    "dfX = dfX[pd.to_numeric(dfX['Identifier3'],errors='coerce').notna()]\n",
    "dfX.info()"
   ]
  },
  {
   "cell_type": "markdown",
   "metadata": {},
   "source": [
    "Observamos ahora que tenemos 168.002 registros no nulos con los que podemos elaborar un modelo. vamos a ver el porcentaje de aprietes NOK totales.  "
   ]
  },
  {
   "cell_type": "code",
   "execution_count": 171,
   "metadata": {},
   "outputs": [
    {
     "data": {
      "text/html": [
       "<div>\n",
       "<style scoped>\n",
       "    .dataframe tbody tr th:only-of-type {\n",
       "        vertical-align: middle;\n",
       "    }\n",
       "\n",
       "    .dataframe tbody tr th {\n",
       "        vertical-align: top;\n",
       "    }\n",
       "\n",
       "    .dataframe thead th {\n",
       "        text-align: right;\n",
       "    }\n",
       "</style>\n",
       "<table border=\"1\" class=\"dataframe\">\n",
       "  <thead>\n",
       "    <tr style=\"text-align: right;\">\n",
       "      <th></th>\n",
       "      <th>Step_ID</th>\n",
       "    </tr>\n",
       "    <tr>\n",
       "      <th>Resultbin</th>\n",
       "      <th></th>\n",
       "    </tr>\n",
       "  </thead>\n",
       "  <tbody>\n",
       "    <tr>\n",
       "      <th>False</th>\n",
       "      <td>9236</td>\n",
       "    </tr>\n",
       "    <tr>\n",
       "      <th>True</th>\n",
       "      <td>158766</td>\n",
       "    </tr>\n",
       "  </tbody>\n",
       "</table>\n",
       "</div>"
      ],
      "text/plain": [
       "           Step_ID\n",
       "Resultbin         \n",
       "False         9236\n",
       "True        158766"
      ]
     },
     "execution_count": 171,
     "metadata": {},
     "output_type": "execute_result"
    }
   ],
   "source": [
    "dfX[['Resultbin','Step_ID']].groupby(by='Resultbin').count()"
   ]
  },
  {
   "cell_type": "code",
   "execution_count": 172,
   "metadata": {},
   "outputs": [
    {
     "data": {
      "text/plain": [
       "0.05391998355654818"
      ]
     },
     "execution_count": 172,
     "metadata": {},
     "output_type": "execute_result"
    }
   ],
   "source": [
    "OKS = len(df[df[\"Result_status\"].str.contains(\"OK\",na=False)])\n",
    "NOKS=len(df[df[\"Result_status\"].str.contains(\"NOK\",na=False)])\n",
    "NOKS/OKS"
   ]
  },
  {
   "cell_type": "markdown",
   "metadata": {},
   "source": [
    "Tenemos un 5% de pares malos en este conjunto de datos."
   ]
  },
  {
   "cell_type": "markdown",
   "metadata": {},
   "source": [
    "vamos a quitar algunos ok para que los modelos aprendan mejor:"
   ]
  },
  {
   "cell_type": "code",
   "execution_count": 173,
   "metadata": {},
   "outputs": [
    {
     "data": {
      "image/png": "[encoded data removed]",
      "text/plain": [
       "<Figure size 864x720 with 1 Axes>"
      ]
     },
     "metadata": {
      "needs_background": "light"
     },
     "output_type": "display_data"
    }
   ],
   "source": [
    "# dfX = dfX.drop(dfX[dfX['Resultbin'] == True].sample(frac=.6, random_state=101).index)\n",
    "#Quito el 40 % de los resultados OK  de DFX\n",
    "dfX_plot=dfX[['Resultbin','Step_ID']].groupby(by='Resultbin').count()\n",
    "ax = dfX_plot.plot.bar(y='Step_ID',rot=0)"
   ]
  },
  {
   "cell_type": "code",
   "execution_count": 174,
   "metadata": {},
   "outputs": [
    {
     "data": {
      "text/plain": [
       "0.05391998355654818"
      ]
     },
     "execution_count": 174,
     "metadata": {},
     "output_type": "execute_result"
    }
   ],
   "source": [
    "OKS = len(df[df[\"Result_status\"].str.contains(\"OK\",na=False)])\n",
    "NOKS=len(df[df[\"Result_status\"].str.contains(\"NOK\",na=False)])\n",
    "NOKS/OKS\n",
    "\n"
   ]
  },
  {
   "cell_type": "code",
   "execution_count": 175,
   "metadata": {},
   "outputs": [],
   "source": [
    "enc=LabelEncoder()\n",
    "dfX=df[['Torque_min','Torque_max','Angle_min','Angle_max','Pset_name',\t'Identifier1','Identifier3','Resultbin']].dropna()\n",
    "dfX = dfX.drop(dfX[dfX['Resultbin'] == True].sample(frac=.4, random_state=101).index)\n",
    "#Quito el 40 % de los resultados OK  de DFX\n",
    "\n",
    "dfX['Identifier3'] = df['Identifier3'].astype('string',copy=False)\n",
    "dfX['Pset_name_cat'] = enc.fit_transform(dfX['Pset_name'])\n",
    "dfX['Modelo'] = enc.fit_transform(dfX['Identifier1'])\n",
    "dfX[['Identifier3','Resultbin']].groupby(by=\"Identifier3\").count()\n",
    "dfX[dfX['Identifier3'].apply(lambda x: x.isnumeric())]\n",
    "dfX['Trabajador'] = enc.fit_transform(dfX['Identifier3'])\n"
   ]
  },
  {
   "cell_type": "code",
   "execution_count": 176,
   "metadata": {},
   "outputs": [
    {
     "data": {
      "text/html": [
       "<div>\n",
       "<style scoped>\n",
       "    .dataframe tbody tr th:only-of-type {\n",
       "        vertical-align: middle;\n",
       "    }\n",
       "\n",
       "    .dataframe tbody tr th {\n",
       "        vertical-align: top;\n",
       "    }\n",
       "\n",
       "    .dataframe thead th {\n",
       "        text-align: right;\n",
       "    }\n",
       "</style>\n",
       "<table border=\"1\" class=\"dataframe\">\n",
       "  <thead>\n",
       "    <tr style=\"text-align: right;\">\n",
       "      <th></th>\n",
       "      <th>Resultbin</th>\n",
       "    </tr>\n",
       "    <tr>\n",
       "      <th>Identifier3</th>\n",
       "      <th></th>\n",
       "    </tr>\n",
       "  </thead>\n",
       "  <tbody>\n",
       "    <tr>\n",
       "      <th>1234.0</th>\n",
       "      <td>2</td>\n",
       "    </tr>\n",
       "    <tr>\n",
       "      <th>1412.0</th>\n",
       "      <td>45</td>\n",
       "    </tr>\n",
       "    <tr>\n",
       "      <th>1505</th>\n",
       "      <td>12</td>\n",
       "    </tr>\n",
       "    <tr>\n",
       "      <th>1505.0</th>\n",
       "      <td>2206</td>\n",
       "    </tr>\n",
       "    <tr>\n",
       "      <th>2072.0</th>\n",
       "      <td>6</td>\n",
       "    </tr>\n",
       "    <tr>\n",
       "      <th>...</th>\n",
       "      <td>...</td>\n",
       "    </tr>\n",
       "    <tr>\n",
       "      <th>6000</th>\n",
       "      <td>134</td>\n",
       "    </tr>\n",
       "    <tr>\n",
       "      <th>6000.0</th>\n",
       "      <td>636</td>\n",
       "    </tr>\n",
       "    <tr>\n",
       "      <th>9385.0</th>\n",
       "      <td>2</td>\n",
       "    </tr>\n",
       "    <tr>\n",
       "      <th>9472.0</th>\n",
       "      <td>8</td>\n",
       "    </tr>\n",
       "    <tr>\n",
       "      <th>Y000</th>\n",
       "      <td>3</td>\n",
       "    </tr>\n",
       "  </tbody>\n",
       "</table>\n",
       "<p>115 rows × 1 columns</p>\n",
       "</div>"
      ],
      "text/plain": [
       "             Resultbin\n",
       "Identifier3           \n",
       "1234.0               2\n",
       "1412.0              45\n",
       "1505                12\n",
       "1505.0            2206\n",
       "2072.0               6\n",
       "...                ...\n",
       "6000               134\n",
       "6000.0             636\n",
       "9385.0               2\n",
       "9472.0               8\n",
       "Y000                 3\n",
       "\n",
       "[115 rows x 1 columns]"
      ]
     },
     "execution_count": 176,
     "metadata": {},
     "output_type": "execute_result"
    }
   ],
   "source": [
    "dfX[['Identifier3','Resultbin']].groupby(by=\"Identifier3\").count()"
   ]
  },
  {
   "cell_type": "code",
   "execution_count": 177,
   "metadata": {},
   "outputs": [
    {
     "data": {
      "text/html": [
       "<div>\n",
       "<style scoped>\n",
       "    .dataframe tbody tr th:only-of-type {\n",
       "        vertical-align: middle;\n",
       "    }\n",
       "\n",
       "    .dataframe tbody tr th {\n",
       "        vertical-align: top;\n",
       "    }\n",
       "\n",
       "    .dataframe thead th {\n",
       "        text-align: right;\n",
       "    }\n",
       "</style>\n",
       "<table border=\"1\" class=\"dataframe\">\n",
       "  <thead>\n",
       "    <tr style=\"text-align: right;\">\n",
       "      <th></th>\n",
       "      <th>Pset_name_cat</th>\n",
       "    </tr>\n",
       "    <tr>\n",
       "      <th>Resultbin</th>\n",
       "      <th></th>\n",
       "    </tr>\n",
       "  </thead>\n",
       "  <tbody>\n",
       "    <tr>\n",
       "      <th>False</th>\n",
       "      <td>9236</td>\n",
       "    </tr>\n",
       "    <tr>\n",
       "      <th>True</th>\n",
       "      <td>95271</td>\n",
       "    </tr>\n",
       "  </tbody>\n",
       "</table>\n",
       "</div>"
      ],
      "text/plain": [
       "           Pset_name_cat\n",
       "Resultbin               \n",
       "False               9236\n",
       "True               95271"
      ]
     },
     "execution_count": 177,
     "metadata": {},
     "output_type": "execute_result"
    }
   ],
   "source": [
    "dfX_gp=dfX[['Resultbin','Pset_name_cat']].groupby(by='Resultbin').count()\n",
    "dfX_gp"
   ]
  },
  {
   "cell_type": "code",
   "execution_count": 178,
   "metadata": {},
   "outputs": [
    {
     "name": "stdout",
     "output_type": "stream",
     "text": [
      "OKS[9236] and NOKS [95271]\n"
     ]
    }
   ],
   "source": [
    "OKS = dfX_gp.iloc[0].values\n",
    "NOKS = dfX_gp.iloc[1].values\n",
    "print(\"OKS\"+str(OKS)+\" and NOKS \"+str(NOKS))\n"
   ]
  },
  {
   "cell_type": "code",
   "execution_count": 179,
   "metadata": {},
   "outputs": [
    {
     "data": {
      "text/plain": [
       "array([10.31517973])"
      ]
     },
     "execution_count": 179,
     "metadata": {},
     "output_type": "execute_result"
    }
   ],
   "source": [
    "NOKS/OKS"
   ]
  },
  {
   "cell_type": "code",
   "execution_count": 180,
   "metadata": {},
   "outputs": [
    {
     "name": "stdout",
     "output_type": "stream",
     "text": [
      "<class 'pandas.core.frame.DataFrame'>\n",
      "Int64Index: 104507 entries, 17 to 399996\n",
      "Data columns (total 11 columns):\n",
      " #   Column         Non-Null Count   Dtype  \n",
      "---  ------         --------------   -----  \n",
      " 0   Torque_min     104507 non-null  float64\n",
      " 1   Torque_max     104507 non-null  float64\n",
      " 2   Angle_min      104507 non-null  float64\n",
      " 3   Angle_max      104507 non-null  float64\n",
      " 4   Pset_name      104507 non-null  object \n",
      " 5   Identifier1    104507 non-null  object \n",
      " 6   Identifier3    104507 non-null  string \n",
      " 7   Resultbin      104507 non-null  bool   \n",
      " 8   Pset_name_cat  104507 non-null  int32  \n",
      " 9   Modelo         104507 non-null  int32  \n",
      " 10  Trabajador     104507 non-null  int32  \n",
      "dtypes: bool(1), float64(4), int32(3), object(2), string(1)\n",
      "memory usage: 7.7+ MB\n"
     ]
    }
   ],
   "source": [
    "dfX.info()\n"
   ]
  },
  {
   "cell_type": "markdown",
   "metadata": {},
   "source": [
    "Ok, ahora vamos a dejar el df solo con las columnas que nos interesan y empezaremos a preparar nuestro modelo."
   ]
  },
  {
   "cell_type": "code",
   "execution_count": 181,
   "metadata": {},
   "outputs": [
    {
     "name": "stdout",
     "output_type": "stream",
     "text": [
      "[1 1 1 ... 1 1 1] [[  7.  13.   0. ...  19. 115.  45.]\n",
      " [ 20.  22.   0. ...  73. 306.  73.]\n",
      " [ 20.  24.   0. ...  21. 306.  73.]\n",
      " ...\n",
      " [ 30.  40.   0. ...  27.  41.  89.]\n",
      " [ 20.  24.   0. ...  21.  41.  42.]\n",
      " [ 20.  24.   0. ...  21.  41.  42.]]\n"
     ]
    }
   ],
   "source": [
    "dfX[\"Resultbin\"] = dfX[\"Resultbin\"].astype(int)\n",
    "y=np.array(dfX[\"Resultbin\"])\n",
    "dfX=dfX.drop(columns={'Resultbin','Pset_name','Identifier1','Identifier3'})\n",
    "X=dfX.values\n",
    "print(y, X)\n",
    "\n"
   ]
  },
  {
   "cell_type": "code",
   "execution_count": 182,
   "metadata": {},
   "outputs": [
    {
     "name": "stdout",
     "output_type": "stream",
     "text": [
      "Num GPUs available: 1\n",
      "(104507,) (104507, 7)\n"
     ]
    }
   ],
   "source": [
    "from sklearn.model_selection import KFold\n",
    "from sklearn.preprocessing import MinMaxScaler\n",
    "import tensorflow as tf\n",
    "from tensorflow.keras.models import Sequential\n",
    "from tensorflow.keras.layers import Activation, Dense, Dropout\n",
    "from tensorflow.keras.optimizers import Adam\n",
    "from tensorflow.keras.metrics import categorical_crossentropy, BinaryCrossentropy\n",
    "from sklearn.utils import shuffle\n",
    "import warnings\n",
    "\n",
    "warnings.simplefilter(action='ignore', category=FutureWarning)\n",
    "\n",
    "physical_devices = tf.config.list_physical_devices('GPU')\n",
    "print(\"Num GPUs available:\", len(physical_devices))\n",
    "tf.config.experimental.set_memory_growth(physical_devices[0], True)\n",
    "\n",
    "label=np.array(y)\n",
    "sample=np.array(X)\n",
    "\n",
    "print(label.shape,sample.shape)\n",
    "\n"
   ]
  },
  {
   "cell_type": "code",
   "execution_count": 183,
   "metadata": {},
   "outputs": [],
   "source": [
    "label,sample =shuffle(label,sample)\n",
    "scaler = MinMaxScaler(feature_range=(0,1))\n",
    "scaled_samples= scaler.fit_transform(sample) #fit transform does not accept 1D data so we reshape the scaled train samples to be 2D\n"
   ]
  },
  {
   "cell_type": "code",
   "execution_count": 184,
   "metadata": {},
   "outputs": [],
   "source": [
    "import seaborn as sns\n",
    "# sns.pairplot (dfX)"
   ]
  },
  {
   "cell_type": "code",
   "execution_count": 185,
   "metadata": {},
   "outputs": [
    {
     "name": "stdout",
     "output_type": "stream",
     "text": [
      "[1 1 1 ... 1 1 1] [[  7.  13.   0. ...  19. 115.  45.]\n",
      " [ 20.  22.   0. ...  73. 306.  73.]\n",
      " [ 20.  24.   0. ...  21. 306.  73.]\n",
      " ...\n",
      " [ 30.  40.   0. ...  27.  41.  89.]\n",
      " [ 20.  24.   0. ...  21.  41.  42.]\n",
      " [ 20.  24.   0. ...  21.  41.  42.]]\n",
      "(104507,) (104507, 7)\n"
     ]
    }
   ],
   "source": [
    "print(y, X)\n",
    "print(y.shape,X.shape)"
   ]
  },
  {
   "cell_type": "code",
   "execution_count": 186,
   "metadata": {},
   "outputs": [
    {
     "name": "stdout",
     "output_type": "stream",
     "text": [
      "[1 0 1 ... 0 1 0] [[0.5        0.475      0.         ... 0.80451128 0.37741935 0.64912281]\n",
      " [0.75       0.875      0.         ... 0.67669173 0.17096774 0.71929825]\n",
      " [0.5        0.475      0.         ... 0.80451128 0.19032258 0.79824561]\n",
      " ...\n",
      " [0.         0.875      0.         ... 0.21804511 0.57741935 0.92982456]\n",
      " [0.5        0.475      0.         ... 0.80451128 0.26451613 0.63157895]\n",
      " [0.5        0.425      0.         ... 0.30827068 0.15806452 0.47368421]]\n",
      "(104507,) (104507, 7)\n"
     ]
    }
   ],
   "source": [
    "print(label,scaled_samples)\n",
    "print(label.shape,scaled_samples.shape)"
   ]
  },
  {
   "cell_type": "code",
   "execution_count": 187,
   "metadata": {},
   "outputs": [],
   "source": [
    "from sklearn.model_selection import train_test_split\n",
    "X_train, X_test, y_train, y_test = train_test_split(scaled_samples, label, test_size=0.33, random_state=42)\n"
   ]
  },
  {
   "cell_type": "code",
   "execution_count": 188,
   "metadata": {},
   "outputs": [
    {
     "name": "stdout",
     "output_type": "stream",
     "text": [
      "(34488, 7) (70019, 7)\n",
      "(34488,) (70019,)\n"
     ]
    }
   ],
   "source": [
    "print(X_test.shape, X_train.shape)\n",
    "print(y_test.shape,y_train.shape)"
   ]
  },
  {
   "cell_type": "code",
   "execution_count": 189,
   "metadata": {},
   "outputs": [],
   "source": [
    "METRICS = [\n",
    "      tf.keras.metrics.TruePositives(name='tp'),\n",
    "      tf.keras.metrics.FalsePositives(name='fp'),\n",
    "      tf.keras.metrics.TrueNegatives(name='tn'),\n",
    "      tf.keras.metrics.FalseNegatives(name='fn'), \n",
    "      tf.keras.metrics.BinaryAccuracy(name='accuracy'),\n",
    "      tf.keras.metrics.Precision(name='precision'),\n",
    "      tf.keras.metrics.Recall(name='recall'),\n",
    "      tf.keras.metrics.AUC(name='auc'),\n",
    "      tf.keras.metrics.AUC(name='prc', curve='PR'), # precision-recall curve\n",
    "]"
   ]
  },
  {
   "cell_type": "markdown",
   "metadata": {},
   "source": [
    "## Comprender métricas útiles\n",
    "\n",
    "Tenga en cuenta que hay algunas métricas definidas anteriormente que pueden ser calculadas por el modelo y que serán útiles al evaluar el desempeño.\n",
    "\n",
    "* Los falsos negativos y falsos positivos son muestras que fueron clasificadas incorrectamente.\n",
    "\n",
    "* Verdaderos negativos y positivos verdaderos son muestras que fueron clasificados correctamente.\n",
    "\n",
    "* La precisión es el porcentaje de ejemplos correctamente clasificada.\n",
    "\n",
    "* La precisión es el porcentaje de positivos predichos que se clasifican correctamente.\n",
    "\n",
    "* Recall es el porcentaje de positivos reales que fueron clasificados correctamente.\n",
    "\n",
    "* AUC se refiere al área bajo la curva de una curva característica de funcionamiento del receptor (ROC-AUC). Esta métrica es igual a la probabilidad de que un clasificador clasifique una muestra positiva aleatoria por encima de una muestra negativa aleatoria.\n",
    "\n",
    "* AUPRC se refiere al área bajo la curva de la curva de precisión de recordar. Esta métrica calcula pares de recuperación de precisión para diferentes umbrales de probabilidad."
   ]
  },
  {
   "cell_type": "markdown",
   "metadata": {},
   "source": [
    " # Tune model with keras tuner\n",
    " "
   ]
  },
  {
   "cell_type": "code",
   "execution_count": 190,
   "metadata": {},
   "outputs": [],
   "source": [
    "import tensorflow as tf\n",
    "from tensorflow import keras\n",
    "import keras_tuner as kt"
   ]
  },
  {
   "cell_type": "code",
   "execution_count": 191,
   "metadata": {},
   "outputs": [],
   "source": [
    "EPOCHS = 100\n",
    "BATCH_SIZE = 2048\n",
    "\n",
    "early_stopping = tf.keras.callbacks.EarlyStopping(\n",
    "    monitor='val_prc', \n",
    "    verbose=1,\n",
    "    patience=10,\n",
    "    mode='max',\n",
    "    restore_best_weights=True)"
   ]
  },
  {
   "cell_type": "code",
   "execution_count": 192,
   "metadata": {},
   "outputs": [],
   "source": [
    "def make_model(metrics=METRICS,output_bias=None):\n",
    "    if output_bias is not None:\n",
    "        output_bias = tf.keras.initializers.Constant(output_bias)\n",
    "\n",
    "    model = Sequential([\n",
    "        Dense(units=16,input_shape=[len(dfX.keys())],activation='relu'),\n",
    "        Dense(units=32,activation='relu'),\n",
    "        Dense(units=32,activation='relu'),\n",
    "        Dropout(0.5),\n",
    "        Dense(units=2,activation='sigmoid',bias_initializer=output_bias)  # dos clases, par ok par nok.\n",
    "    ])\n",
    "\n",
    "    model.compile(optimizer=Adam(learning_rate=0.0001),loss='BinaryCrossentropy',metrics=metrics)\n",
    "    \n",
    "    # voy a cambiar el optimizer a ver si mejora \n",
    "    # from tensorflow.keras.optimizers import SGD\n",
    "    # from tensorflow.keras.metrics import categorical_crossentropy\n",
    "    # opt = SGD(learning_rate=0.01)\n",
    "    # model.compile(loss = \"sparse_categorical_crossentropy\", optimizer = opt, metrics= ['accuracy'])\n",
    "    \n",
    "    return model"
   ]
  },
  {
   "cell_type": "code",
   "execution_count": 193,
   "metadata": {},
   "outputs": [],
   "source": [
    "def model_builder(hp):\n",
    "    model = tf.keras.Sequential()\n",
    "\n",
    "    # Tune the number of units in the first Dense layer\n",
    "    # Choose an optimal value between 32-512\n",
    "\n",
    "    hp_units = hp.Int('units', min_value=32, max_value=512, step=32)\n",
    "\n",
    "    model.add(tf.keras.layers.Dense(units=16, input_shape=[\n",
    "              len(dfX.keys())], activation='relu'))\n",
    "    model.add(tf.keras.layers.Dense(units=hp_units, activation='relu'))\n",
    "    # added one layer more\n",
    "    model.add(tf.keras.layers.Dense(units=hp_units, activation='relu'))\n",
    "    # changed to sigmoid => is equivalent to softmax for two outputs\n",
    "    model.add(tf.keras.layers.Dense(units=1, activation='sigmoid'))\n",
    "\n",
    "    # Tune the learning rate for the optimizer\n",
    "    # Choose an optimal value from 0.01, 0.001, or 0.0001\n",
    "    hp_learning_rate = hp.Choice('learning_rate', values=[1e-2, 1e-3, 1e-4])\n",
    "\n",
    "    model.compile(optimizer=tf.keras.optimizers.Adam(learning_rate=hp_learning_rate),\n",
    "                  loss=tf.keras.losses.SparseCategoricalCrossentropy(\n",
    "                      from_logits=True),\n",
    "                  metrics=['accuracy'])\n",
    "\n",
    "    return model\n"
   ]
  },
  {
   "cell_type": "markdown",
   "metadata": {},
   "source": [
    "Nuevo modelo conjuto hypertuneado y prebalanceado... lets see"
   ]
  },
  {
   "cell_type": "code",
   "execution_count": 194,
   "metadata": {},
   "outputs": [],
   "source": [
    "def super_model(hp, metrics=METRICS,output_bias=None):\n",
    "    hp_units = hp.Int('units', min_value=32, max_value=512, step=32)\n",
    "    if output_bias is not None:\n",
    "        output_bias = tf.keras.initializers.Constant(output_bias)\n",
    "    model = tf.keras.Sequential()\n",
    "    model.add(tf.keras.layers.Dense(units=16, input_shape=[\n",
    "              len(dfX.keys())], activation='relu'))\n",
    "    model.add(tf.keras.layers.Dense(units=hp_units, activation='relu'))\n",
    "    # added one layer more\n",
    "    model.add(tf.keras.layers.Dense(units=hp_units, activation='relu'))\n",
    "    # changed to sigmoid => is equivalent to softmax for two outputs\n",
    "    model.add(tf.keras.layers.Dense(units=1, activation='sigmoid'))\n",
    "\n",
    "    # Tune the learning rate for the optimizer\n",
    "    # Choose an optimal value from 0.01, 0.001, or 0.0001\n",
    "    hp_learning_rate = hp.Choice('learning_rate', values=[1e-2, 1e-3, 1e-4])\n",
    "\n",
    "    model.compile(optimizer=tf.keras.optimizers.Adam(learning_rate=hp_learning_rate),\n",
    "                  loss='BinaryCrossentropy',\n",
    "                  metrics=metrics)\n",
    "    return model\n"
   ]
  },
  {
   "cell_type": "code",
   "execution_count": 195,
   "metadata": {},
   "outputs": [
    {
     "name": "stdout",
     "output_type": "stream",
     "text": [
      "INFO:tensorflow:Reloading Oracle from existing project my_dir\\intro_to_kt\\oracle.json\n",
      "INFO:tensorflow:Reloading Tuner from my_dir\\intro_to_kt\\tuner0.json\n"
     ]
    }
   ],
   "source": [
    "tuner = kt.Hyperband(super_model,\n",
    "                     objective='val_accuracy',\n",
    "                     max_epochs=10,\n",
    "                     factor=3,\n",
    "                     directory='my_dir',\n",
    "                     project_name='intro_to_kt')"
   ]
  },
  {
   "cell_type": "code",
   "execution_count": 196,
   "metadata": {},
   "outputs": [],
   "source": [
    "stop_early = tf.keras.callbacks.EarlyStopping(monitor='val_loss', patience=5)"
   ]
  },
  {
   "cell_type": "code",
   "execution_count": 197,
   "metadata": {},
   "outputs": [
    {
     "name": "stdout",
     "output_type": "stream",
     "text": [
      "INFO:tensorflow:Oracle triggered exit\n",
      "\n",
      "The hyperparameter search is complete. The optimal number of units in the first densely-connected\n",
      "layer is 448 and the optimal learning rate for the optimizer\n",
      "is 0.001.\n",
      "\n"
     ]
    }
   ],
   "source": [
    "tuner.search(X_train, y_train, epochs=50,batch_size=BATCH_SIZE , validation_split=0.2, callbacks=[stop_early])\n",
    "\n",
    "# Get the optimal hyperparameters\n",
    "best_hps=tuner.get_best_hyperparameters(num_trials=1)[0]\n",
    "\n",
    "print(f\"\"\"\n",
    "The hyperparameter search is complete. The optimal number of units in the first densely-connected\n",
    "layer is {best_hps.get('units')} and the optimal learning rate for the optimizer\n",
    "is {best_hps.get('learning_rate')}.\n",
    "\"\"\")"
   ]
  },
  {
   "cell_type": "code",
   "execution_count": 198,
   "metadata": {},
   "outputs": [
    {
     "name": "stdout",
     "output_type": "stream",
     "text": [
      "Model: \"sequential_21\"\n",
      "_________________________________________________________________\n",
      " Layer (type)                Output Shape              Param #   \n",
      "=================================================================\n",
      " dense_84 (Dense)            (None, 16)                128       \n",
      "                                                                 \n",
      " dense_85 (Dense)            (None, 448)               7616      \n",
      "                                                                 \n",
      " dense_86 (Dense)            (None, 448)               201152    \n",
      "                                                                 \n",
      " dense_87 (Dense)            (None, 1)                 449       \n",
      "                                                                 \n",
      "=================================================================\n",
      "Total params: 209,345\n",
      "Trainable params: 209,345\n",
      "Non-trainable params: 0\n",
      "_________________________________________________________________\n"
     ]
    }
   ],
   "source": [
    "model=super_model(hp=best_hps)\n",
    "model.summary()"
   ]
  },
  {
   "cell_type": "code",
   "execution_count": 199,
   "metadata": {},
   "outputs": [
    {
     "name": "stdout",
     "output_type": "stream",
     "text": [
      "35/35 [==============================] - 1s 11ms/step - loss: 0.6792 - tp: 63809.0000 - fp: 6210.0000 - tn: 0.0000e+00 - fn: 0.0000e+00 - accuracy: 0.9113 - precision: 0.9113 - recall: 1.0000 - auc: 0.4041 - prc: 0.8832\n",
      "Loss: 0.6792\n"
     ]
    }
   ],
   "source": [
    "results = model.evaluate(X_train, y_train, batch_size=BATCH_SIZE, verbose=1)\n",
    "print(\"Loss: {:0.4f}\".format(results[0]))"
   ]
  },
  {
   "cell_type": "code",
   "execution_count": 200,
   "metadata": {},
   "outputs": [
    {
     "data": {
      "text/plain": [
       "63809.0"
      ]
     },
     "execution_count": 200,
     "metadata": {},
     "output_type": "execute_result"
    }
   ],
   "source": [
    "results[1]"
   ]
  },
  {
   "cell_type": "code",
   "execution_count": 201,
   "metadata": {},
   "outputs": [
    {
     "data": {
      "text/plain": [
       "array([2.33361657])"
      ]
     },
     "execution_count": 201,
     "metadata": {},
     "output_type": "execute_result"
    }
   ],
   "source": [
    "initial_bias=np.log([NOKS[0]/OKS[0]])\n",
    "initial_bias"
   ]
  },
  {
   "cell_type": "code",
   "execution_count": 202,
   "metadata": {},
   "outputs": [],
   "source": [
    "model = super_model(hp=best_hps,output_bias=initial_bias)"
   ]
  },
  {
   "cell_type": "code",
   "execution_count": 203,
   "metadata": {},
   "outputs": [
    {
     "name": "stdout",
     "output_type": "stream",
     "text": [
      "35/35 [==============================] - 1s 8ms/step - loss: 0.7002 - tp: 63859.0000 - fp: 6225.0000 - tn: 6195.0000 - fn: 63759.0000 - accuracy: 0.5002 - precision: 0.9112 - recall: 0.5004 - auc: 0.4775 - prc: 0.8973\n",
      "Loss: 0.7002\n"
     ]
    }
   ],
   "source": [
    "results = model.evaluate(X_train, y_train, batch_size=BATCH_SIZE, verbose=1)\n",
    "print(\"Loss: {:0.4f}\".format(results[0]))"
   ]
  },
  {
   "cell_type": "markdown",
   "metadata": {},
   "source": [
    "Esto tampoco vale para un cagau. porque con categorical_crossentropy y una ultima capa con dos nodos me daba un valor tambien cercano incluso por debajo de 0.3 como se puede ver en el código comentado abajo:"
   ]
  },
  {
   "cell_type": "code",
   "execution_count": 204,
   "metadata": {},
   "outputs": [],
   "source": [
    "# initial_bias=None\n",
    "# results = model.evaluate(X_train, y_train, batch_size=10, verbose=0)\n",
    "# print(\"Loss: {:0.4f}\".format(results[0]))"
   ]
  },
  {
   "cell_type": "markdown",
   "metadata": {},
   "source": [
    "Punto de control de los pesos iniciales"
   ]
  },
  {
   "cell_type": "code",
   "execution_count": 205,
   "metadata": {},
   "outputs": [],
   "source": [
    "import tempfile\n",
    "import os\n",
    "\n",
    "initial_weights = os.path.join(tempfile.mkdtemp(), 'initial_weights')\n",
    "model.save_weights(initial_weights)"
   ]
  },
  {
   "cell_type": "markdown",
   "metadata": {},
   "source": [
    "## Train the model"
   ]
  },
  {
   "cell_type": "markdown",
   "metadata": {},
   "source": [
    "Vamos a realizar confirmar que el sesgo de pesos ayuda"
   ]
  },
  {
   "cell_type": "code",
   "execution_count": 206,
   "metadata": {},
   "outputs": [],
   "source": [
    "model = super_model(hp=best_hps)\n",
    "model.load_weights(initial_weights)\n",
    "model.layers[-1].bias.assign([0.0])\n",
    "zero_bias_history = model.fit(\n",
    "    X_train,\n",
    "    y_train,\n",
    "    batch_size=2048,\n",
    "    epochs=20,\n",
    "    validation_split=0.1, \n",
    "    verbose=0)"
   ]
  },
  {
   "cell_type": "code",
   "execution_count": 207,
   "metadata": {},
   "outputs": [],
   "source": [
    "model = super_model(hp=best_hps)\n",
    "model.load_weights(initial_weights)\n",
    "careful_bias_history = model.fit(\n",
    "    X_train,\n",
    "    y_train,\n",
    "    batch_size=2048,\n",
    "    epochs=20,\n",
    "    validation_split=0.1, \n",
    "    verbose=0)"
   ]
  },
  {
   "cell_type": "code",
   "execution_count": 208,
   "metadata": {},
   "outputs": [],
   "source": [
    "import matplotlib as mpl\n",
    "\n",
    "mpl.rcParams['figure.figsize'] = (12, 10)\n",
    "colors = plt.rcParams['axes.prop_cycle'].by_key()['color']"
   ]
  },
  {
   "cell_type": "code",
   "execution_count": 209,
   "metadata": {},
   "outputs": [],
   "source": [
    "def plot_loss(history, label, n):\n",
    "  # Use a log scale on y-axis to show the wide range of values.\n",
    "  plt.semilogy(history.epoch, history.history['loss'],\n",
    "               color=colors[n], label='Train ' + label)\n",
    "  plt.semilogy(history.epoch, history.history['val_loss'],\n",
    "               color=colors[n], label='Val ' + label,\n",
    "               linestyle=\"--\")\n",
    "  plt.xlabel('Epoch')\n",
    "  plt.ylabel('Loss')\n",
    "  plt.legend()"
   ]
  },
  {
   "cell_type": "code",
   "execution_count": 210,
   "metadata": {},
   "outputs": [
    {
     "data": {
      "image/png": "[encoded data removed]",
      "text/plain": [
       "<Figure size 864x720 with 1 Axes>"
      ]
     },
     "metadata": {
      "needs_background": "light"
     },
     "output_type": "display_data"
    }
   ],
   "source": [
    "plot_loss(zero_bias_history, \"Zero Bias\", 0)\n",
    "plot_loss(careful_bias_history, \"Careful Bias\", 1)"
   ]
  },
  {
   "cell_type": "markdown",
   "metadata": {},
   "source": [
    "Entrenamiento a huevo para el modelo original"
   ]
  },
  {
   "cell_type": "code",
   "execution_count": 211,
   "metadata": {},
   "outputs": [
    {
     "name": "stdout",
     "output_type": "stream",
     "text": [
      "Epoch 1/100\n",
      "31/31 [==============================] - 4s 53ms/step - loss: 0.3535 - tp: 61947.0000 - fp: 5952.0000 - tn: 258.0000 - fn: 1862.0000 - accuracy: 0.8884 - precision: 0.9123 - recall: 0.9708 - auc: 0.5779 - prc: 0.9298 - val_loss: 0.2869 - val_tp: 6417.0000 - val_fp: 585.0000 - val_tn: 0.0000e+00 - val_fn: 0.0000e+00 - val_accuracy: 0.9165 - val_precision: 0.9165 - val_recall: 1.0000 - val_auc: 0.6007 - val_prc: 0.9345\n",
      "Epoch 2/100\n",
      "31/31 [==============================] - 0s 14ms/step - loss: 0.2909 - tp: 57392.0000 - fp: 5625.0000 - tn: 0.0000e+00 - fn: 0.0000e+00 - accuracy: 0.9107 - precision: 0.9107 - recall: 1.0000 - auc: 0.6287 - prc: 0.9361 - val_loss: 0.2782 - val_tp: 6417.0000 - val_fp: 585.0000 - val_tn: 0.0000e+00 - val_fn: 0.0000e+00 - val_accuracy: 0.9165 - val_precision: 0.9165 - val_recall: 1.0000 - val_auc: 0.6293 - val_prc: 0.9387\n",
      "Epoch 3/100\n",
      "31/31 [==============================] - 0s 14ms/step - loss: 0.2851 - tp: 57392.0000 - fp: 5561.0000 - tn: 64.0000 - fn: 0.0000e+00 - accuracy: 0.9118 - precision: 0.9117 - recall: 1.0000 - auc: 0.6551 - prc: 0.9397 - val_loss: 0.2744 - val_tp: 6417.0000 - val_fp: 573.0000 - val_tn: 12.0000 - val_fn: 0.0000e+00 - val_accuracy: 0.9182 - val_precision: 0.9180 - val_recall: 1.0000 - val_auc: 0.6486 - val_prc: 0.9412\n",
      "Epoch 4/100\n",
      "31/31 [==============================] - 0s 15ms/step - loss: 0.2801 - tp: 57392.0000 - fp: 5482.0000 - tn: 143.0000 - fn: 0.0000e+00 - accuracy: 0.9130 - precision: 0.9128 - recall: 1.0000 - auc: 0.6685 - prc: 0.9422 - val_loss: 0.2689 - val_tp: 6417.0000 - val_fp: 572.0000 - val_tn: 13.0000 - val_fn: 0.0000e+00 - val_accuracy: 0.9183 - val_precision: 0.9182 - val_recall: 1.0000 - val_auc: 0.6592 - val_prc: 0.9431\n",
      "Epoch 5/100\n",
      "31/31 [==============================] - 0s 15ms/step - loss: 0.2748 - tp: 57392.0000 - fp: 5455.0000 - tn: 170.0000 - fn: 0.0000e+00 - accuracy: 0.9134 - precision: 0.9132 - recall: 1.0000 - auc: 0.6867 - prc: 0.9457 - val_loss: 0.2637 - val_tp: 6417.0000 - val_fp: 568.0000 - val_tn: 17.0000 - val_fn: 0.0000e+00 - val_accuracy: 0.9189 - val_precision: 0.9187 - val_recall: 1.0000 - val_auc: 0.6904 - val_prc: 0.9506\n",
      "Epoch 6/100\n",
      "31/31 [==============================] - 0s 15ms/step - loss: 0.2697 - tp: 57392.0000 - fp: 5434.0000 - tn: 191.0000 - fn: 0.0000e+00 - accuracy: 0.9138 - precision: 0.9135 - recall: 1.0000 - auc: 0.7061 - prc: 0.9511 - val_loss: 0.2594 - val_tp: 6417.0000 - val_fp: 566.0000 - val_tn: 19.0000 - val_fn: 0.0000e+00 - val_accuracy: 0.9192 - val_precision: 0.9189 - val_recall: 1.0000 - val_auc: 0.7036 - val_prc: 0.9558\n",
      "Epoch 7/100\n",
      "31/31 [==============================] - 0s 14ms/step - loss: 0.2660 - tp: 57392.0000 - fp: 5409.0000 - tn: 216.0000 - fn: 0.0000e+00 - accuracy: 0.9142 - precision: 0.9139 - recall: 1.0000 - auc: 0.7180 - prc: 0.9534 - val_loss: 0.2571 - val_tp: 6417.0000 - val_fp: 559.0000 - val_tn: 26.0000 - val_fn: 0.0000e+00 - val_accuracy: 0.9202 - val_precision: 0.9199 - val_recall: 1.0000 - val_auc: 0.7213 - val_prc: 0.9597\n",
      "Epoch 8/100\n",
      "31/31 [==============================] - 0s 15ms/step - loss: 0.2622 - tp: 57382.0000 - fp: 5378.0000 - tn: 247.0000 - fn: 10.0000 - accuracy: 0.9145 - precision: 0.9143 - recall: 0.9998 - auc: 0.7304 - prc: 0.9566 - val_loss: 0.2517 - val_tp: 6417.0000 - val_fp: 562.0000 - val_tn: 23.0000 - val_fn: 0.0000e+00 - val_accuracy: 0.9197 - val_precision: 0.9195 - val_recall: 1.0000 - val_auc: 0.7327 - val_prc: 0.9612\n",
      "Epoch 9/100\n",
      "31/31 [==============================] - 0s 15ms/step - loss: 0.2596 - tp: 57390.0000 - fp: 5364.0000 - tn: 261.0000 - fn: 2.0000 - accuracy: 0.9148 - precision: 0.9145 - recall: 1.0000 - auc: 0.7379 - prc: 0.9581 - val_loss: 0.2504 - val_tp: 6408.0000 - val_fp: 552.0000 - val_tn: 33.0000 - val_fn: 9.0000 - val_accuracy: 0.9199 - val_precision: 0.9207 - val_recall: 0.9986 - val_auc: 0.7364 - val_prc: 0.9623\n",
      "Epoch 10/100\n",
      "31/31 [==============================] - 0s 15ms/step - loss: 0.2572 - tp: 57378.0000 - fp: 5351.0000 - tn: 274.0000 - fn: 14.0000 - accuracy: 0.9149 - precision: 0.9147 - recall: 0.9998 - auc: 0.7455 - prc: 0.9595 - val_loss: 0.2483 - val_tp: 6417.0000 - val_fp: 559.0000 - val_tn: 26.0000 - val_fn: 0.0000e+00 - val_accuracy: 0.9202 - val_precision: 0.9199 - val_recall: 1.0000 - val_auc: 0.7421 - val_prc: 0.9632\n",
      "Epoch 11/100\n",
      "31/31 [==============================] - 0s 16ms/step - loss: 0.2559 - tp: 57364.0000 - fp: 5338.0000 - tn: 287.0000 - fn: 28.0000 - accuracy: 0.9148 - precision: 0.9149 - recall: 0.9995 - auc: 0.7474 - prc: 0.9598 - val_loss: 0.2480 - val_tp: 6410.0000 - val_fp: 552.0000 - val_tn: 33.0000 - val_fn: 7.0000 - val_accuracy: 0.9202 - val_precision: 0.9207 - val_recall: 0.9989 - val_auc: 0.7492 - val_prc: 0.9641\n",
      "Epoch 12/100\n",
      "31/31 [==============================] - 0s 16ms/step - loss: 0.2542 - tp: 57360.0000 - fp: 5330.0000 - tn: 295.0000 - fn: 32.0000 - accuracy: 0.9149 - precision: 0.9150 - recall: 0.9994 - auc: 0.7522 - prc: 0.9611 - val_loss: 0.2450 - val_tp: 6417.0000 - val_fp: 559.0000 - val_tn: 26.0000 - val_fn: 0.0000e+00 - val_accuracy: 0.9202 - val_precision: 0.9199 - val_recall: 1.0000 - val_auc: 0.7519 - val_prc: 0.9643\n",
      "Epoch 13/100\n",
      "31/31 [==============================] - 0s 16ms/step - loss: 0.2541 - tp: 57342.0000 - fp: 5320.0000 - tn: 305.0000 - fn: 50.0000 - accuracy: 0.9148 - precision: 0.9151 - recall: 0.9991 - auc: 0.7517 - prc: 0.9608 - val_loss: 0.2440 - val_tp: 6417.0000 - val_fp: 559.0000 - val_tn: 26.0000 - val_fn: 0.0000e+00 - val_accuracy: 0.9202 - val_precision: 0.9199 - val_recall: 1.0000 - val_auc: 0.7511 - val_prc: 0.9641\n",
      "Epoch 14/100\n",
      "31/31 [==============================] - 1s 17ms/step - loss: 0.2524 - tp: 57346.0000 - fp: 5312.0000 - tn: 313.0000 - fn: 46.0000 - accuracy: 0.9150 - precision: 0.9152 - recall: 0.9992 - auc: 0.7545 - prc: 0.9610 - val_loss: 0.2436 - val_tp: 6417.0000 - val_fp: 559.0000 - val_tn: 26.0000 - val_fn: 0.0000e+00 - val_accuracy: 0.9202 - val_precision: 0.9199 - val_recall: 1.0000 - val_auc: 0.7561 - val_prc: 0.9645\n",
      "Epoch 15/100\n",
      "31/31 [==============================] - 0s 16ms/step - loss: 0.2515 - tp: 57322.0000 - fp: 5303.0000 - tn: 322.0000 - fn: 70.0000 - accuracy: 0.9147 - precision: 0.9153 - recall: 0.9988 - auc: 0.7559 - prc: 0.9610 - val_loss: 0.2445 - val_tp: 6417.0000 - val_fp: 559.0000 - val_tn: 26.0000 - val_fn: 0.0000e+00 - val_accuracy: 0.9202 - val_precision: 0.9199 - val_recall: 1.0000 - val_auc: 0.7559 - val_prc: 0.9652\n",
      "Epoch 16/100\n",
      "31/31 [==============================] - 0s 14ms/step - loss: 0.2512 - tp: 57361.0000 - fp: 5315.0000 - tn: 310.0000 - fn: 31.0000 - accuracy: 0.9152 - precision: 0.9152 - recall: 0.9995 - auc: 0.7558 - prc: 0.9611 - val_loss: 0.2470 - val_tp: 6381.0000 - val_fp: 517.0000 - val_tn: 68.0000 - val_fn: 36.0000 - val_accuracy: 0.9210 - val_precision: 0.9251 - val_recall: 0.9944 - val_auc: 0.7566 - val_prc: 0.9640\n",
      "Epoch 17/100\n",
      "31/31 [==============================] - 0s 15ms/step - loss: 0.2508 - tp: 57320.0000 - fp: 5291.0000 - tn: 334.0000 - fn: 72.0000 - accuracy: 0.9149 - precision: 0.9155 - recall: 0.9987 - auc: 0.7578 - prc: 0.9614 - val_loss: 0.2419 - val_tp: 6417.0000 - val_fp: 559.0000 - val_tn: 26.0000 - val_fn: 0.0000e+00 - val_accuracy: 0.9202 - val_precision: 0.9199 - val_recall: 1.0000 - val_auc: 0.7600 - val_prc: 0.9653\n",
      "Epoch 18/100\n",
      "31/31 [==============================] - 0s 14ms/step - loss: 0.2501 - tp: 57205.0000 - fp: 5179.0000 - tn: 446.0000 - fn: 187.0000 - accuracy: 0.9148 - precision: 0.9170 - recall: 0.9967 - auc: 0.7613 - prc: 0.9625 - val_loss: 0.2422 - val_tp: 6400.0000 - val_fp: 544.0000 - val_tn: 41.0000 - val_fn: 17.0000 - val_accuracy: 0.9199 - val_precision: 0.9217 - val_recall: 0.9974 - val_auc: 0.7584 - val_prc: 0.9652\n",
      "Epoch 19/100\n",
      "31/31 [==============================] - 0s 13ms/step - loss: 0.2501 - tp: 57242.0000 - fp: 5222.0000 - tn: 403.0000 - fn: 150.0000 - accuracy: 0.9148 - precision: 0.9164 - recall: 0.9974 - auc: 0.7609 - prc: 0.9626 - val_loss: 0.2415 - val_tp: 6410.0000 - val_fp: 552.0000 - val_tn: 33.0000 - val_fn: 7.0000 - val_accuracy: 0.9202 - val_precision: 0.9207 - val_recall: 0.9989 - val_auc: 0.7604 - val_prc: 0.9652\n",
      "Epoch 20/100\n",
      "31/31 [==============================] - 0s 14ms/step - loss: 0.2494 - tp: 57279.0000 - fp: 5185.0000 - tn: 440.0000 - fn: 113.0000 - accuracy: 0.9159 - precision: 0.9170 - recall: 0.9980 - auc: 0.7615 - prc: 0.9624 - val_loss: 0.2407 - val_tp: 6417.0000 - val_fp: 559.0000 - val_tn: 26.0000 - val_fn: 0.0000e+00 - val_accuracy: 0.9202 - val_precision: 0.9199 - val_recall: 1.0000 - val_auc: 0.7621 - val_prc: 0.9654\n",
      "Epoch 21/100\n",
      "31/31 [==============================] - 0s 14ms/step - loss: 0.2484 - tp: 57199.0000 - fp: 5160.0000 - tn: 465.0000 - fn: 193.0000 - accuracy: 0.9151 - precision: 0.9173 - recall: 0.9966 - auc: 0.7637 - prc: 0.9628 - val_loss: 0.2403 - val_tp: 6417.0000 - val_fp: 559.0000 - val_tn: 26.0000 - val_fn: 0.0000e+00 - val_accuracy: 0.9202 - val_precision: 0.9199 - val_recall: 1.0000 - val_auc: 0.7638 - val_prc: 0.9658\n",
      "Epoch 22/100\n",
      "31/31 [==============================] - 0s 14ms/step - loss: 0.2499 - tp: 57211.0000 - fp: 5166.0000 - tn: 459.0000 - fn: 181.0000 - accuracy: 0.9151 - precision: 0.9172 - recall: 0.9968 - auc: 0.7589 - prc: 0.9617 - val_loss: 0.2396 - val_tp: 6399.0000 - val_fp: 531.0000 - val_tn: 54.0000 - val_fn: 18.0000 - val_accuracy: 0.9216 - val_precision: 0.9234 - val_recall: 0.9972 - val_auc: 0.7664 - val_prc: 0.9672\n",
      "Epoch 23/100\n",
      "31/31 [==============================] - 0s 15ms/step - loss: 0.2479 - tp: 57237.0000 - fp: 5163.0000 - tn: 462.0000 - fn: 155.0000 - accuracy: 0.9156 - precision: 0.9173 - recall: 0.9973 - auc: 0.7647 - prc: 0.9630 - val_loss: 0.2391 - val_tp: 6417.0000 - val_fp: 559.0000 - val_tn: 26.0000 - val_fn: 0.0000e+00 - val_accuracy: 0.9202 - val_precision: 0.9199 - val_recall: 1.0000 - val_auc: 0.7666 - val_prc: 0.9666\n",
      "Epoch 24/100\n",
      "31/31 [==============================] - 0s 15ms/step - loss: 0.2473 - tp: 57207.0000 - fp: 5129.0000 - tn: 496.0000 - fn: 185.0000 - accuracy: 0.9157 - precision: 0.9177 - recall: 0.9968 - auc: 0.7664 - prc: 0.9634 - val_loss: 0.2387 - val_tp: 6399.0000 - val_fp: 531.0000 - val_tn: 54.0000 - val_fn: 18.0000 - val_accuracy: 0.9216 - val_precision: 0.9234 - val_recall: 0.9972 - val_auc: 0.7681 - val_prc: 0.9666\n",
      "Epoch 25/100\n",
      "31/31 [==============================] - 0s 13ms/step - loss: 0.2472 - tp: 57184.0000 - fp: 5078.0000 - tn: 547.0000 - fn: 208.0000 - accuracy: 0.9161 - precision: 0.9184 - recall: 0.9964 - auc: 0.7671 - prc: 0.9634 - val_loss: 0.2396 - val_tp: 6391.0000 - val_fp: 524.0000 - val_tn: 61.0000 - val_fn: 26.0000 - val_accuracy: 0.9215 - val_precision: 0.9242 - val_recall: 0.9959 - val_auc: 0.7667 - val_prc: 0.9656\n",
      "Epoch 26/100\n",
      "31/31 [==============================] - 0s 14ms/step - loss: 0.2470 - tp: 57196.0000 - fp: 5105.0000 - tn: 520.0000 - fn: 196.0000 - accuracy: 0.9159 - precision: 0.9181 - recall: 0.9966 - auc: 0.7669 - prc: 0.9633 - val_loss: 0.2383 - val_tp: 6399.0000 - val_fp: 531.0000 - val_tn: 54.0000 - val_fn: 18.0000 - val_accuracy: 0.9216 - val_precision: 0.9234 - val_recall: 0.9972 - val_auc: 0.7694 - val_prc: 0.9668\n",
      "Epoch 27/100\n",
      "31/31 [==============================] - 0s 14ms/step - loss: 0.2472 - tp: 57143.0000 - fp: 5051.0000 - tn: 574.0000 - fn: 249.0000 - accuracy: 0.9159 - precision: 0.9188 - recall: 0.9957 - auc: 0.7683 - prc: 0.9640 - val_loss: 0.2409 - val_tp: 6321.0000 - val_fp: 483.0000 - val_tn: 102.0000 - val_fn: 96.0000 - val_accuracy: 0.9173 - val_precision: 0.9290 - val_recall: 0.9850 - val_auc: 0.7668 - val_prc: 0.9671\n",
      "Epoch 28/100\n",
      "31/31 [==============================] - 0s 14ms/step - loss: 0.2467 - tp: 57146.0000 - fp: 5036.0000 - tn: 589.0000 - fn: 246.0000 - accuracy: 0.9162 - precision: 0.9190 - recall: 0.9957 - auc: 0.7683 - prc: 0.9637 - val_loss: 0.2382 - val_tp: 6399.0000 - val_fp: 531.0000 - val_tn: 54.0000 - val_fn: 18.0000 - val_accuracy: 0.9216 - val_precision: 0.9234 - val_recall: 0.9972 - val_auc: 0.7696 - val_prc: 0.9663\n",
      "Epoch 29/100\n",
      "31/31 [==============================] - 0s 13ms/step - loss: 0.2471 - tp: 57115.0000 - fp: 5044.0000 - tn: 581.0000 - fn: 277.0000 - accuracy: 0.9156 - precision: 0.9189 - recall: 0.9952 - auc: 0.7674 - prc: 0.9633 - val_loss: 0.2380 - val_tp: 6399.0000 - val_fp: 531.0000 - val_tn: 54.0000 - val_fn: 18.0000 - val_accuracy: 0.9216 - val_precision: 0.9234 - val_recall: 0.9972 - val_auc: 0.7696 - val_prc: 0.9671\n",
      "Epoch 30/100\n",
      "31/31 [==============================] - 1s 17ms/step - loss: 0.2463 - tp: 57139.0000 - fp: 5039.0000 - tn: 586.0000 - fn: 253.0000 - accuracy: 0.9160 - precision: 0.9190 - recall: 0.9956 - auc: 0.7705 - prc: 0.9643 - val_loss: 0.2381 - val_tp: 6395.0000 - val_fp: 531.0000 - val_tn: 54.0000 - val_fn: 22.0000 - val_accuracy: 0.9210 - val_precision: 0.9233 - val_recall: 0.9966 - val_auc: 0.7735 - val_prc: 0.9680\n",
      "Epoch 31/100\n",
      "31/31 [==============================] - 1s 17ms/step - loss: 0.2464 - tp: 57064.0000 - fp: 4981.0000 - tn: 644.0000 - fn: 328.0000 - accuracy: 0.9158 - precision: 0.9197 - recall: 0.9943 - auc: 0.7702 - prc: 0.9643 - val_loss: 0.2385 - val_tp: 6399.0000 - val_fp: 531.0000 - val_tn: 54.0000 - val_fn: 18.0000 - val_accuracy: 0.9216 - val_precision: 0.9234 - val_recall: 0.9972 - val_auc: 0.7712 - val_prc: 0.9670\n",
      "Epoch 32/100\n",
      "31/31 [==============================] - 1s 22ms/step - loss: 0.2467 - tp: 57118.0000 - fp: 5028.0000 - tn: 597.0000 - fn: 274.0000 - accuracy: 0.9159 - precision: 0.9191 - recall: 0.9952 - auc: 0.7689 - prc: 0.9640 - val_loss: 0.2396 - val_tp: 6378.0000 - val_fp: 515.0000 - val_tn: 70.0000 - val_fn: 39.0000 - val_accuracy: 0.9209 - val_precision: 0.9253 - val_recall: 0.9939 - val_auc: 0.7722 - val_prc: 0.9681\n",
      "Epoch 33/100\n",
      "31/31 [==============================] - 1s 17ms/step - loss: 0.2466 - tp: 57113.0000 - fp: 5037.0000 - tn: 588.0000 - fn: 279.0000 - accuracy: 0.9156 - precision: 0.9190 - recall: 0.9951 - auc: 0.7685 - prc: 0.9641 - val_loss: 0.2395 - val_tp: 6417.0000 - val_fp: 559.0000 - val_tn: 26.0000 - val_fn: 0.0000e+00 - val_accuracy: 0.9202 - val_precision: 0.9199 - val_recall: 1.0000 - val_auc: 0.7702 - val_prc: 0.9671\n",
      "Epoch 34/100\n",
      "31/31 [==============================] - 1s 16ms/step - loss: 0.2458 - tp: 57092.0000 - fp: 5008.0000 - tn: 617.0000 - fn: 300.0000 - accuracy: 0.9158 - precision: 0.9194 - recall: 0.9948 - auc: 0.7718 - prc: 0.9644 - val_loss: 0.2366 - val_tp: 6399.0000 - val_fp: 531.0000 - val_tn: 54.0000 - val_fn: 18.0000 - val_accuracy: 0.9216 - val_precision: 0.9234 - val_recall: 0.9972 - val_auc: 0.7760 - val_prc: 0.9674\n",
      "Epoch 35/100\n",
      "31/31 [==============================] - 0s 14ms/step - loss: 0.2451 - tp: 57126.0000 - fp: 5041.0000 - tn: 584.0000 - fn: 266.0000 - accuracy: 0.9158 - precision: 0.9189 - recall: 0.9954 - auc: 0.7741 - prc: 0.9649 - val_loss: 0.2384 - val_tp: 6384.0000 - val_fp: 510.0000 - val_tn: 75.0000 - val_fn: 33.0000 - val_accuracy: 0.9225 - val_precision: 0.9260 - val_recall: 0.9949 - val_auc: 0.7741 - val_prc: 0.9677\n",
      "Epoch 36/100\n",
      "31/31 [==============================] - 0s 13ms/step - loss: 0.2451 - tp: 57124.0000 - fp: 5017.0000 - tn: 608.0000 - fn: 268.0000 - accuracy: 0.9161 - precision: 0.9193 - recall: 0.9953 - auc: 0.7725 - prc: 0.9646 - val_loss: 0.2378 - val_tp: 6375.0000 - val_fp: 501.0000 - val_tn: 84.0000 - val_fn: 42.0000 - val_accuracy: 0.9225 - val_precision: 0.9271 - val_recall: 0.9935 - val_auc: 0.7746 - val_prc: 0.9683\n",
      "Epoch 37/100\n",
      "31/31 [==============================] - 0s 12ms/step - loss: 0.2452 - tp: 57038.0000 - fp: 4911.0000 - tn: 714.0000 - fn: 354.0000 - accuracy: 0.9165 - precision: 0.9207 - recall: 0.9938 - auc: 0.7734 - prc: 0.9647 - val_loss: 0.2361 - val_tp: 6399.0000 - val_fp: 531.0000 - val_tn: 54.0000 - val_fn: 18.0000 - val_accuracy: 0.9216 - val_precision: 0.9234 - val_recall: 0.9972 - val_auc: 0.7786 - val_prc: 0.9687\n",
      "Epoch 38/100\n",
      "31/31 [==============================] - 0s 13ms/step - loss: 0.2453 - tp: 57050.0000 - fp: 4929.0000 - tn: 696.0000 - fn: 342.0000 - accuracy: 0.9164 - precision: 0.9205 - recall: 0.9940 - auc: 0.7741 - prc: 0.9650 - val_loss: 0.2378 - val_tp: 6349.0000 - val_fp: 477.0000 - val_tn: 108.0000 - val_fn: 68.0000 - val_accuracy: 0.9222 - val_precision: 0.9301 - val_recall: 0.9894 - val_auc: 0.7738 - val_prc: 0.9673\n",
      "Epoch 39/100\n",
      "31/31 [==============================] - 0s 14ms/step - loss: 0.2447 - tp: 56996.0000 - fp: 4891.0000 - tn: 734.0000 - fn: 396.0000 - accuracy: 0.9161 - precision: 0.9210 - recall: 0.9931 - auc: 0.7747 - prc: 0.9650 - val_loss: 0.2361 - val_tp: 6399.0000 - val_fp: 531.0000 - val_tn: 54.0000 - val_fn: 18.0000 - val_accuracy: 0.9216 - val_precision: 0.9234 - val_recall: 0.9972 - val_auc: 0.7780 - val_prc: 0.9681\n",
      "Epoch 40/100\n",
      "31/31 [==============================] - 0s 15ms/step - loss: 0.2446 - tp: 57109.0000 - fp: 4994.0000 - tn: 631.0000 - fn: 283.0000 - accuracy: 0.9163 - precision: 0.9196 - recall: 0.9951 - auc: 0.7751 - prc: 0.9655 - val_loss: 0.2357 - val_tp: 6392.0000 - val_fp: 524.0000 - val_tn: 61.0000 - val_fn: 25.0000 - val_accuracy: 0.9216 - val_precision: 0.9242 - val_recall: 0.9961 - val_auc: 0.7761 - val_prc: 0.9673\n",
      "Epoch 41/100\n",
      "31/31 [==============================] - 0s 15ms/step - loss: 0.2453 - tp: 57002.0000 - fp: 4892.0000 - tn: 733.0000 - fn: 390.0000 - accuracy: 0.9162 - precision: 0.9210 - recall: 0.9932 - auc: 0.7744 - prc: 0.9651 - val_loss: 0.2358 - val_tp: 6381.0000 - val_fp: 516.0000 - val_tn: 69.0000 - val_fn: 36.0000 - val_accuracy: 0.9212 - val_precision: 0.9252 - val_recall: 0.9944 - val_auc: 0.7775 - val_prc: 0.9684\n",
      "Epoch 42/100\n",
      "31/31 [==============================] - 0s 14ms/step - loss: 0.2445 - tp: 57096.0000 - fp: 4974.0000 - tn: 651.0000 - fn: 296.0000 - accuracy: 0.9164 - precision: 0.9199 - recall: 0.9948 - auc: 0.7759 - prc: 0.9653 - val_loss: 0.2364 - val_tp: 6413.0000 - val_fp: 555.0000 - val_tn: 30.0000 - val_fn: 4.0000 - val_accuracy: 0.9202 - val_precision: 0.9204 - val_recall: 0.9994 - val_auc: 0.7772 - val_prc: 0.9682\n",
      "Epoch 43/100\n",
      "31/31 [==============================] - 0s 14ms/step - loss: 0.2442 - tp: 57030.0000 - fp: 4906.0000 - tn: 719.0000 - fn: 362.0000 - accuracy: 0.9164 - precision: 0.9208 - recall: 0.9937 - auc: 0.7790 - prc: 0.9660 - val_loss: 0.2389 - val_tp: 6376.0000 - val_fp: 500.0000 - val_tn: 85.0000 - val_fn: 41.0000 - val_accuracy: 0.9227 - val_precision: 0.9273 - val_recall: 0.9936 - val_auc: 0.7794 - val_prc: 0.9685\n",
      "Epoch 44/100\n",
      "31/31 [==============================] - 0s 13ms/step - loss: 0.2444 - tp: 56988.0000 - fp: 4868.0000 - tn: 757.0000 - fn: 404.0000 - accuracy: 0.9163 - precision: 0.9213 - recall: 0.9930 - auc: 0.7758 - prc: 0.9651 - val_loss: 0.2354 - val_tp: 6398.0000 - val_fp: 531.0000 - val_tn: 54.0000 - val_fn: 19.0000 - val_accuracy: 0.9215 - val_precision: 0.9234 - val_recall: 0.9970 - val_auc: 0.7793 - val_prc: 0.9685\n",
      "Epoch 45/100\n",
      "31/31 [==============================] - 0s 14ms/step - loss: 0.2439 - tp: 57040.0000 - fp: 4909.0000 - tn: 716.0000 - fn: 352.0000 - accuracy: 0.9165 - precision: 0.9208 - recall: 0.9939 - auc: 0.7778 - prc: 0.9659 - val_loss: 0.2355 - val_tp: 6370.0000 - val_fp: 495.0000 - val_tn: 90.0000 - val_fn: 47.0000 - val_accuracy: 0.9226 - val_precision: 0.9279 - val_recall: 0.9927 - val_auc: 0.7815 - val_prc: 0.9696\n",
      "Epoch 46/100\n",
      "31/31 [==============================] - 0s 13ms/step - loss: 0.2438 - tp: 57000.0000 - fp: 4859.0000 - tn: 766.0000 - fn: 392.0000 - accuracy: 0.9167 - precision: 0.9215 - recall: 0.9932 - auc: 0.7785 - prc: 0.9659 - val_loss: 0.2365 - val_tp: 6398.0000 - val_fp: 531.0000 - val_tn: 54.0000 - val_fn: 19.0000 - val_accuracy: 0.9215 - val_precision: 0.9234 - val_recall: 0.9970 - val_auc: 0.7768 - val_prc: 0.9684\n",
      "Epoch 47/100\n",
      "31/31 [==============================] - 0s 13ms/step - loss: 0.2434 - tp: 57033.0000 - fp: 4892.0000 - tn: 733.0000 - fn: 359.0000 - accuracy: 0.9167 - precision: 0.9210 - recall: 0.9937 - auc: 0.7798 - prc: 0.9661 - val_loss: 0.2348 - val_tp: 6396.0000 - val_fp: 530.0000 - val_tn: 55.0000 - val_fn: 21.0000 - val_accuracy: 0.9213 - val_precision: 0.9235 - val_recall: 0.9967 - val_auc: 0.7826 - val_prc: 0.9695\n",
      "Epoch 48/100\n",
      "31/31 [==============================] - 0s 13ms/step - loss: 0.2436 - tp: 56987.0000 - fp: 4850.0000 - tn: 775.0000 - fn: 405.0000 - accuracy: 0.9166 - precision: 0.9216 - recall: 0.9929 - auc: 0.7784 - prc: 0.9658 - val_loss: 0.2353 - val_tp: 6369.0000 - val_fp: 494.0000 - val_tn: 91.0000 - val_fn: 48.0000 - val_accuracy: 0.9226 - val_precision: 0.9280 - val_recall: 0.9925 - val_auc: 0.7815 - val_prc: 0.9690\n",
      "Epoch 49/100\n",
      "31/31 [==============================] - 0s 14ms/step - loss: 0.2442 - tp: 56946.0000 - fp: 4823.0000 - tn: 802.0000 - fn: 446.0000 - accuracy: 0.9164 - precision: 0.9219 - recall: 0.9922 - auc: 0.7768 - prc: 0.9655 - val_loss: 0.2366 - val_tp: 6399.0000 - val_fp: 531.0000 - val_tn: 54.0000 - val_fn: 18.0000 - val_accuracy: 0.9216 - val_precision: 0.9234 - val_recall: 0.9972 - val_auc: 0.7799 - val_prc: 0.9684\n",
      "Epoch 50/100\n",
      "31/31 [==============================] - 0s 14ms/step - loss: 0.2438 - tp: 57016.0000 - fp: 4864.0000 - tn: 761.0000 - fn: 376.0000 - accuracy: 0.9168 - precision: 0.9214 - recall: 0.9934 - auc: 0.7788 - prc: 0.9661 - val_loss: 0.2360 - val_tp: 6381.0000 - val_fp: 516.0000 - val_tn: 69.0000 - val_fn: 36.0000 - val_accuracy: 0.9212 - val_precision: 0.9252 - val_recall: 0.9944 - val_auc: 0.7830 - val_prc: 0.9695\n",
      "Epoch 51/100\n",
      "31/31 [==============================] - 0s 14ms/step - loss: 0.2434 - tp: 57023.0000 - fp: 4918.0000 - tn: 707.0000 - fn: 369.0000 - accuracy: 0.9161 - precision: 0.9206 - recall: 0.9936 - auc: 0.7815 - prc: 0.9665 - val_loss: 0.2375 - val_tp: 6383.0000 - val_fp: 508.0000 - val_tn: 77.0000 - val_fn: 34.0000 - val_accuracy: 0.9226 - val_precision: 0.9263 - val_recall: 0.9947 - val_auc: 0.7807 - val_prc: 0.9690\n",
      "Epoch 52/100\n",
      "31/31 [==============================] - 0s 14ms/step - loss: 0.2437 - tp: 56958.0000 - fp: 4820.0000 - tn: 805.0000 - fn: 434.0000 - accuracy: 0.9166 - precision: 0.9220 - recall: 0.9924 - auc: 0.7794 - prc: 0.9658 - val_loss: 0.2344 - val_tp: 6377.0000 - val_fp: 501.0000 - val_tn: 84.0000 - val_fn: 40.0000 - val_accuracy: 0.9227 - val_precision: 0.9272 - val_recall: 0.9938 - val_auc: 0.7817 - val_prc: 0.9685\n",
      "Epoch 53/100\n",
      "31/31 [==============================] - 0s 13ms/step - loss: 0.2433 - tp: 56998.0000 - fp: 4864.0000 - tn: 761.0000 - fn: 394.0000 - accuracy: 0.9166 - precision: 0.9214 - recall: 0.9931 - auc: 0.7807 - prc: 0.9662 - val_loss: 0.2338 - val_tp: 6398.0000 - val_fp: 531.0000 - val_tn: 54.0000 - val_fn: 19.0000 - val_accuracy: 0.9215 - val_precision: 0.9234 - val_recall: 0.9970 - val_auc: 0.7845 - val_prc: 0.9696\n",
      "Epoch 54/100\n",
      "31/31 [==============================] - 0s 15ms/step - loss: 0.2426 - tp: 56970.0000 - fp: 4835.0000 - tn: 790.0000 - fn: 422.0000 - accuracy: 0.9166 - precision: 0.9218 - recall: 0.9926 - auc: 0.7838 - prc: 0.9668 - val_loss: 0.2344 - val_tp: 6399.0000 - val_fp: 531.0000 - val_tn: 54.0000 - val_fn: 18.0000 - val_accuracy: 0.9216 - val_precision: 0.9234 - val_recall: 0.9972 - val_auc: 0.7846 - val_prc: 0.9691\n",
      "Epoch 55/100\n",
      "31/31 [==============================] - 0s 14ms/step - loss: 0.2439 - tp: 56957.0000 - fp: 4812.0000 - tn: 813.0000 - fn: 435.0000 - accuracy: 0.9167 - precision: 0.9221 - recall: 0.9924 - auc: 0.7788 - prc: 0.9660 - val_loss: 0.2352 - val_tp: 6369.0000 - val_fp: 494.0000 - val_tn: 91.0000 - val_fn: 48.0000 - val_accuracy: 0.9226 - val_precision: 0.9280 - val_recall: 0.9925 - val_auc: 0.7870 - val_prc: 0.9703\n",
      "Epoch 56/100\n",
      "31/31 [==============================] - 1s 16ms/step - loss: 0.2429 - tp: 56957.0000 - fp: 4842.0000 - tn: 783.0000 - fn: 435.0000 - accuracy: 0.9163 - precision: 0.9216 - recall: 0.9924 - auc: 0.7820 - prc: 0.9666 - val_loss: 0.2337 - val_tp: 6369.0000 - val_fp: 494.0000 - val_tn: 91.0000 - val_fn: 48.0000 - val_accuracy: 0.9226 - val_precision: 0.9280 - val_recall: 0.9925 - val_auc: 0.7878 - val_prc: 0.9703\n",
      "Epoch 57/100\n",
      "31/31 [==============================] - 0s 13ms/step - loss: 0.2423 - tp: 57052.0000 - fp: 4922.0000 - tn: 703.0000 - fn: 340.0000 - accuracy: 0.9165 - precision: 0.9206 - recall: 0.9941 - auc: 0.7844 - prc: 0.9670 - val_loss: 0.2335 - val_tp: 6386.0000 - val_fp: 509.0000 - val_tn: 76.0000 - val_fn: 31.0000 - val_accuracy: 0.9229 - val_precision: 0.9262 - val_recall: 0.9952 - val_auc: 0.7857 - val_prc: 0.9698\n",
      "Epoch 58/100\n",
      "31/31 [==============================] - 0s 15ms/step - loss: 0.2421 - tp: 56875.0000 - fp: 4736.0000 - tn: 889.0000 - fn: 517.0000 - accuracy: 0.9166 - precision: 0.9231 - recall: 0.9910 - auc: 0.7857 - prc: 0.9672 - val_loss: 0.2335 - val_tp: 6398.0000 - val_fp: 530.0000 - val_tn: 55.0000 - val_fn: 19.0000 - val_accuracy: 0.9216 - val_precision: 0.9235 - val_recall: 0.9970 - val_auc: 0.7886 - val_prc: 0.9703\n",
      "Epoch 59/100\n",
      "31/31 [==============================] - 0s 15ms/step - loss: 0.2422 - tp: 56961.0000 - fp: 4824.0000 - tn: 801.0000 - fn: 431.0000 - accuracy: 0.9166 - precision: 0.9219 - recall: 0.9925 - auc: 0.7844 - prc: 0.9671 - val_loss: 0.2344 - val_tp: 6349.0000 - val_fp: 483.0000 - val_tn: 102.0000 - val_fn: 68.0000 - val_accuracy: 0.9213 - val_precision: 0.9293 - val_recall: 0.9894 - val_auc: 0.7859 - val_prc: 0.9698\n",
      "Epoch 60/100\n",
      "31/31 [==============================] - 0s 14ms/step - loss: 0.2419 - tp: 56889.0000 - fp: 4695.0000 - tn: 930.0000 - fn: 503.0000 - accuracy: 0.9175 - precision: 0.9238 - recall: 0.9912 - auc: 0.7870 - prc: 0.9677 - val_loss: 0.2332 - val_tp: 6371.0000 - val_fp: 492.0000 - val_tn: 93.0000 - val_fn: 46.0000 - val_accuracy: 0.9232 - val_precision: 0.9283 - val_recall: 0.9928 - val_auc: 0.7877 - val_prc: 0.9704\n",
      "Epoch 61/100\n",
      "31/31 [==============================] - 0s 14ms/step - loss: 0.2418 - tp: 56901.0000 - fp: 4733.0000 - tn: 892.0000 - fn: 491.0000 - accuracy: 0.9171 - precision: 0.9232 - recall: 0.9914 - auc: 0.7875 - prc: 0.9676 - val_loss: 0.2338 - val_tp: 6359.0000 - val_fp: 490.0000 - val_tn: 95.0000 - val_fn: 58.0000 - val_accuracy: 0.9217 - val_precision: 0.9285 - val_recall: 0.9910 - val_auc: 0.7860 - val_prc: 0.9693\n",
      "Epoch 62/100\n",
      "31/31 [==============================] - 0s 14ms/step - loss: 0.2417 - tp: 56930.0000 - fp: 4778.0000 - tn: 847.0000 - fn: 462.0000 - accuracy: 0.9168 - precision: 0.9226 - recall: 0.9920 - auc: 0.7861 - prc: 0.9673 - val_loss: 0.2350 - val_tp: 6368.0000 - val_fp: 493.0000 - val_tn: 92.0000 - val_fn: 49.0000 - val_accuracy: 0.9226 - val_precision: 0.9281 - val_recall: 0.9924 - val_auc: 0.7879 - val_prc: 0.9700\n",
      "Epoch 63/100\n",
      "31/31 [==============================] - 0s 14ms/step - loss: 0.2420 - tp: 56831.0000 - fp: 4691.0000 - tn: 934.0000 - fn: 561.0000 - accuracy: 0.9167 - precision: 0.9238 - recall: 0.9902 - auc: 0.7864 - prc: 0.9675 - val_loss: 0.2328 - val_tp: 6398.0000 - val_fp: 530.0000 - val_tn: 55.0000 - val_fn: 19.0000 - val_accuracy: 0.9216 - val_precision: 0.9235 - val_recall: 0.9970 - val_auc: 0.7900 - val_prc: 0.9700\n",
      "Epoch 64/100\n",
      "31/31 [==============================] - 0s 14ms/step - loss: 0.2413 - tp: 56967.0000 - fp: 4820.0000 - tn: 805.0000 - fn: 425.0000 - accuracy: 0.9168 - precision: 0.9220 - recall: 0.9926 - auc: 0.7881 - prc: 0.9676 - val_loss: 0.2344 - val_tp: 6366.0000 - val_fp: 493.0000 - val_tn: 92.0000 - val_fn: 51.0000 - val_accuracy: 0.9223 - val_precision: 0.9281 - val_recall: 0.9921 - val_auc: 0.7902 - val_prc: 0.9700\n",
      "Epoch 65/100\n",
      "31/31 [==============================] - 0s 13ms/step - loss: 0.2417 - tp: 56997.0000 - fp: 4847.0000 - tn: 778.0000 - fn: 395.0000 - accuracy: 0.9168 - precision: 0.9216 - recall: 0.9931 - auc: 0.7868 - prc: 0.9677 - val_loss: 0.2338 - val_tp: 6351.0000 - val_fp: 476.0000 - val_tn: 109.0000 - val_fn: 66.0000 - val_accuracy: 0.9226 - val_precision: 0.9303 - val_recall: 0.9897 - val_auc: 0.7865 - val_prc: 0.9707\n",
      "Epoch 66/100\n",
      "31/31 [==============================] - 0s 13ms/step - loss: 0.2415 - tp: 56909.0000 - fp: 4752.0000 - tn: 873.0000 - fn: 483.0000 - accuracy: 0.9169 - precision: 0.9229 - recall: 0.9916 - auc: 0.7883 - prc: 0.9679 - val_loss: 0.2330 - val_tp: 6387.0000 - val_fp: 509.0000 - val_tn: 76.0000 - val_fn: 30.0000 - val_accuracy: 0.9230 - val_precision: 0.9262 - val_recall: 0.9953 - val_auc: 0.7910 - val_prc: 0.9712\n",
      "Epoch 67/100\n",
      "31/31 [==============================] - 0s 14ms/step - loss: 0.2418 - tp: 56934.0000 - fp: 4786.0000 - tn: 839.0000 - fn: 458.0000 - accuracy: 0.9168 - precision: 0.9225 - recall: 0.9920 - auc: 0.7876 - prc: 0.9678 - val_loss: 0.2338 - val_tp: 6387.0000 - val_fp: 509.0000 - val_tn: 76.0000 - val_fn: 30.0000 - val_accuracy: 0.9230 - val_precision: 0.9262 - val_recall: 0.9953 - val_auc: 0.7875 - val_prc: 0.9702\n",
      "Epoch 68/100\n",
      "31/31 [==============================] - 0s 15ms/step - loss: 0.2416 - tp: 56935.0000 - fp: 4772.0000 - tn: 853.0000 - fn: 457.0000 - accuracy: 0.9170 - precision: 0.9227 - recall: 0.9920 - auc: 0.7872 - prc: 0.9679 - val_loss: 0.2322 - val_tp: 6384.0000 - val_fp: 508.0000 - val_tn: 77.0000 - val_fn: 33.0000 - val_accuracy: 0.9227 - val_precision: 0.9263 - val_recall: 0.9949 - val_auc: 0.7917 - val_prc: 0.9710\n",
      "Epoch 69/100\n",
      "31/31 [==============================] - 0s 14ms/step - loss: 0.2414 - tp: 56925.0000 - fp: 4743.0000 - tn: 882.0000 - fn: 467.0000 - accuracy: 0.9173 - precision: 0.9231 - recall: 0.9919 - auc: 0.7882 - prc: 0.9677 - val_loss: 0.2338 - val_tp: 6399.0000 - val_fp: 531.0000 - val_tn: 54.0000 - val_fn: 18.0000 - val_accuracy: 0.9216 - val_precision: 0.9234 - val_recall: 0.9972 - val_auc: 0.7876 - val_prc: 0.9696\n",
      "Epoch 70/100\n",
      "31/31 [==============================] - 0s 14ms/step - loss: 0.2413 - tp: 56846.0000 - fp: 4692.0000 - tn: 933.0000 - fn: 546.0000 - accuracy: 0.9169 - precision: 0.9238 - recall: 0.9905 - auc: 0.7898 - prc: 0.9685 - val_loss: 0.2326 - val_tp: 6354.0000 - val_fp: 479.0000 - val_tn: 106.0000 - val_fn: 63.0000 - val_accuracy: 0.9226 - val_precision: 0.9299 - val_recall: 0.9902 - val_auc: 0.7912 - val_prc: 0.9705\n",
      "Epoch 71/100\n",
      "31/31 [==============================] - 0s 14ms/step - loss: 0.2420 - tp: 56888.0000 - fp: 4748.0000 - tn: 877.0000 - fn: 504.0000 - accuracy: 0.9167 - precision: 0.9230 - recall: 0.9912 - auc: 0.7864 - prc: 0.9673 - val_loss: 0.2324 - val_tp: 6377.0000 - val_fp: 514.0000 - val_tn: 71.0000 - val_fn: 40.0000 - val_accuracy: 0.9209 - val_precision: 0.9254 - val_recall: 0.9938 - val_auc: 0.7910 - val_prc: 0.9708\n",
      "Epoch 72/100\n",
      "31/31 [==============================] - 0s 14ms/step - loss: 0.2419 - tp: 56895.0000 - fp: 4753.0000 - tn: 872.0000 - fn: 497.0000 - accuracy: 0.9167 - precision: 0.9229 - recall: 0.9913 - auc: 0.7870 - prc: 0.9676 - val_loss: 0.2336 - val_tp: 6331.0000 - val_fp: 468.0000 - val_tn: 117.0000 - val_fn: 86.0000 - val_accuracy: 0.9209 - val_precision: 0.9312 - val_recall: 0.9866 - val_auc: 0.7901 - val_prc: 0.9708\n",
      "Epoch 73/100\n",
      "31/31 [==============================] - 0s 13ms/step - loss: 0.2412 - tp: 56905.0000 - fp: 4758.0000 - tn: 867.0000 - fn: 487.0000 - accuracy: 0.9168 - precision: 0.9228 - recall: 0.9915 - auc: 0.7901 - prc: 0.9683 - val_loss: 0.2322 - val_tp: 6384.0000 - val_fp: 508.0000 - val_tn: 77.0000 - val_fn: 33.0000 - val_accuracy: 0.9227 - val_precision: 0.9263 - val_recall: 0.9949 - val_auc: 0.7913 - val_prc: 0.9710\n",
      "Epoch 74/100\n",
      "31/31 [==============================] - 0s 13ms/step - loss: 0.2414 - tp: 56923.0000 - fp: 4767.0000 - tn: 858.0000 - fn: 469.0000 - accuracy: 0.9169 - precision: 0.9227 - recall: 0.9918 - auc: 0.7876 - prc: 0.9677 - val_loss: 0.2332 - val_tp: 6394.0000 - val_fp: 529.0000 - val_tn: 56.0000 - val_fn: 23.0000 - val_accuracy: 0.9212 - val_precision: 0.9236 - val_recall: 0.9964 - val_auc: 0.7865 - val_prc: 0.9690\n",
      "Epoch 75/100\n",
      "31/31 [==============================] - 0s 13ms/step - loss: 0.2407 - tp: 56883.0000 - fp: 4694.0000 - tn: 931.0000 - fn: 509.0000 - accuracy: 0.9174 - precision: 0.9238 - recall: 0.9911 - auc: 0.7913 - prc: 0.9684 - val_loss: 0.2324 - val_tp: 6366.0000 - val_fp: 493.0000 - val_tn: 92.0000 - val_fn: 51.0000 - val_accuracy: 0.9223 - val_precision: 0.9281 - val_recall: 0.9921 - val_auc: 0.7907 - val_prc: 0.9707\n",
      "Epoch 76/100\n",
      "30/31 [============================>.] - ETA: 0s - loss: 0.2405 - tp: 55497.0000 - fp: 4607.0000 - tn: 863.0000 - fn: 473.0000 - accuracy: 0.9173 - precision: 0.9233 - recall: 0.9915 - auc: 0.7887 - prc: 0.9679Restoring model weights from the end of the best epoch: 66.\n",
      "31/31 [==============================] - 0s 14ms/step - loss: 0.2412 - tp: 56911.0000 - fp: 4748.0000 - tn: 877.0000 - fn: 481.0000 - accuracy: 0.9170 - precision: 0.9230 - recall: 0.9916 - auc: 0.7883 - prc: 0.9678 - val_loss: 0.2322 - val_tp: 6385.0000 - val_fp: 509.0000 - val_tn: 76.0000 - val_fn: 32.0000 - val_accuracy: 0.9227 - val_precision: 0.9262 - val_recall: 0.9950 - val_auc: 0.7923 - val_prc: 0.9710\n",
      "Epoch 00076: early stopping\n"
     ]
    }
   ],
   "source": [
    "model = super_model(hp=best_hps)\n",
    "model.load_weights(initial_weights)\n",
    "baseline_history=model.fit(x=X_train,y=y_train, validation_split=0.1,batch_size=BATCH_SIZE,epochs=100,callbacks=[early_stopping] , verbose=1)\n",
    "\n"
   ]
  },
  {
   "cell_type": "markdown",
   "metadata": {},
   "source": [
    "Esto me va a decir cual es el best epoch, reentreno el modelo definiendo el best epoch."
   ]
  },
  {
   "cell_type": "code",
   "execution_count": 212,
   "metadata": {},
   "outputs": [
    {
     "name": "stdout",
     "output_type": "stream",
     "text": [
      "Epoch 1/50\n",
      "28/28 [==============================] - 3s 54ms/step - loss: 0.3624 - tp: 55743.0000 - fp: 5364.0000 - tn: 220.0000 - fn: 1690.0000 - accuracy: 0.8881 - precision: 0.9122 - recall: 0.9706 - auc: 0.5571 - prc: 0.9247 - val_loss: 0.2952 - val_tp: 12793.0000 - val_fp: 1211.0000 - val_tn: 0.0000e+00 - val_fn: 0.0000e+00 - val_accuracy: 0.9135 - val_precision: 0.9135 - val_recall: 1.0000 - val_auc: 0.5720 - val_prc: 0.9236\n",
      "Epoch 2/50\n",
      "28/28 [==============================] - 0s 14ms/step - loss: 0.2921 - tp: 51016.0000 - fp: 4999.0000 - tn: 0.0000e+00 - fn: 0.0000e+00 - accuracy: 0.9108 - precision: 0.9108 - recall: 1.0000 - auc: 0.6173 - prc: 0.9336 - val_loss: 0.2829 - val_tp: 12793.0000 - val_fp: 1211.0000 - val_tn: 0.0000e+00 - val_fn: 0.0000e+00 - val_accuracy: 0.9135 - val_precision: 0.9135 - val_recall: 1.0000 - val_auc: 0.6293 - val_prc: 0.9344\n",
      "Epoch 3/50\n",
      "28/28 [==============================] - 0s 14ms/step - loss: 0.2837 - tp: 51016.0000 - fp: 4952.0000 - tn: 47.0000 - fn: 0.0000e+00 - accuracy: 0.9116 - precision: 0.9115 - recall: 1.0000 - auc: 0.6599 - prc: 0.9389 - val_loss: 0.2771 - val_tp: 12793.0000 - val_fp: 1196.0000 - val_tn: 15.0000 - val_fn: 0.0000e+00 - val_accuracy: 0.9146 - val_precision: 0.9145 - val_recall: 1.0000 - val_auc: 0.6613 - val_prc: 0.9411\n",
      "Epoch 4/50\n",
      "28/28 [==============================] - 0s 15ms/step - loss: 0.2784 - tp: 51016.0000 - fp: 4911.0000 - tn: 88.0000 - fn: 0.0000e+00 - accuracy: 0.9123 - precision: 0.9122 - recall: 1.0000 - auc: 0.6850 - prc: 0.9449 - val_loss: 0.2716 - val_tp: 12793.0000 - val_fp: 1185.0000 - val_tn: 26.0000 - val_fn: 0.0000e+00 - val_accuracy: 0.9154 - val_precision: 0.9152 - val_recall: 1.0000 - val_auc: 0.6879 - val_prc: 0.9471\n",
      "Epoch 5/50\n",
      "28/28 [==============================] - 0s 14ms/step - loss: 0.2740 - tp: 51016.0000 - fp: 4858.0000 - tn: 141.0000 - fn: 0.0000e+00 - accuracy: 0.9133 - precision: 0.9131 - recall: 1.0000 - auc: 0.6987 - prc: 0.9471 - val_loss: 0.2672 - val_tp: 12792.0000 - val_fp: 1174.0000 - val_tn: 37.0000 - val_fn: 1.0000 - val_accuracy: 0.9161 - val_precision: 0.9159 - val_recall: 0.9999 - val_auc: 0.7082 - val_prc: 0.9511\n",
      "Epoch 6/50\n",
      "28/28 [==============================] - 0s 14ms/step - loss: 0.2691 - tp: 51015.0000 - fp: 4829.0000 - tn: 170.0000 - fn: 1.0000 - accuracy: 0.9138 - precision: 0.9135 - recall: 1.0000 - auc: 0.7164 - prc: 0.9510 - val_loss: 0.2619 - val_tp: 12792.0000 - val_fp: 1172.0000 - val_tn: 39.0000 - val_fn: 1.0000 - val_accuracy: 0.9162 - val_precision: 0.9161 - val_recall: 0.9999 - val_auc: 0.7180 - val_prc: 0.9533\n",
      "Epoch 7/50\n",
      "28/28 [==============================] - 0s 15ms/step - loss: 0.2653 - tp: 51002.0000 - fp: 4801.0000 - tn: 198.0000 - fn: 14.0000 - accuracy: 0.9140 - precision: 0.9140 - recall: 0.9997 - auc: 0.7215 - prc: 0.9527 - val_loss: 0.2582 - val_tp: 12792.0000 - val_fp: 1171.0000 - val_tn: 40.0000 - val_fn: 1.0000 - val_accuracy: 0.9163 - val_precision: 0.9161 - val_recall: 0.9999 - val_auc: 0.7263 - val_prc: 0.9562\n",
      "Epoch 8/50\n",
      "28/28 [==============================] - 0s 14ms/step - loss: 0.2620 - tp: 50992.0000 - fp: 4776.0000 - tn: 223.0000 - fn: 24.0000 - accuracy: 0.9143 - precision: 0.9144 - recall: 0.9995 - auc: 0.7279 - prc: 0.9552 - val_loss: 0.2534 - val_tp: 12792.0000 - val_fp: 1162.0000 - val_tn: 49.0000 - val_fn: 1.0000 - val_accuracy: 0.9170 - val_precision: 0.9167 - val_recall: 0.9999 - val_auc: 0.7410 - val_prc: 0.9607\n",
      "Epoch 9/50\n",
      "28/28 [==============================] - 0s 14ms/step - loss: 0.2584 - tp: 50984.0000 - fp: 4747.0000 - tn: 252.0000 - fn: 32.0000 - accuracy: 0.9147 - precision: 0.9148 - recall: 0.9994 - auc: 0.7403 - prc: 0.9590 - val_loss: 0.2513 - val_tp: 12792.0000 - val_fp: 1162.0000 - val_tn: 49.0000 - val_fn: 1.0000 - val_accuracy: 0.9170 - val_precision: 0.9167 - val_recall: 0.9999 - val_auc: 0.7453 - val_prc: 0.9610\n",
      "Epoch 10/50\n",
      "28/28 [==============================] - 0s 14ms/step - loss: 0.2567 - tp: 50955.0000 - fp: 4719.0000 - tn: 280.0000 - fn: 61.0000 - accuracy: 0.9147 - precision: 0.9152 - recall: 0.9988 - auc: 0.7429 - prc: 0.9591 - val_loss: 0.2498 - val_tp: 12792.0000 - val_fp: 1162.0000 - val_tn: 49.0000 - val_fn: 1.0000 - val_accuracy: 0.9170 - val_precision: 0.9167 - val_recall: 0.9999 - val_auc: 0.7486 - val_prc: 0.9621\n",
      "Epoch 11/50\n",
      "28/28 [==============================] - 0s 15ms/step - loss: 0.2547 - tp: 50938.0000 - fp: 4700.0000 - tn: 299.0000 - fn: 78.0000 - accuracy: 0.9147 - precision: 0.9155 - recall: 0.9985 - auc: 0.7485 - prc: 0.9605 - val_loss: 0.2482 - val_tp: 12792.0000 - val_fp: 1161.0000 - val_tn: 50.0000 - val_fn: 1.0000 - val_accuracy: 0.9170 - val_precision: 0.9168 - val_recall: 0.9999 - val_auc: 0.7566 - val_prc: 0.9628\n",
      "Epoch 12/50\n",
      "28/28 [==============================] - 0s 16ms/step - loss: 0.2542 - tp: 50924.0000 - fp: 4689.0000 - tn: 310.0000 - fn: 92.0000 - accuracy: 0.9146 - precision: 0.9157 - recall: 0.9982 - auc: 0.7500 - prc: 0.9606 - val_loss: 0.2475 - val_tp: 12792.0000 - val_fp: 1161.0000 - val_tn: 50.0000 - val_fn: 1.0000 - val_accuracy: 0.9170 - val_precision: 0.9168 - val_recall: 0.9999 - val_auc: 0.7552 - val_prc: 0.9641\n",
      "Epoch 13/50\n",
      "28/28 [==============================] - 0s 15ms/step - loss: 0.2533 - tp: 50957.0000 - fp: 4730.0000 - tn: 269.0000 - fn: 59.0000 - accuracy: 0.9145 - precision: 0.9151 - recall: 0.9988 - auc: 0.7515 - prc: 0.9609 - val_loss: 0.2448 - val_tp: 12792.0000 - val_fp: 1160.0000 - val_tn: 51.0000 - val_fn: 1.0000 - val_accuracy: 0.9171 - val_precision: 0.9169 - val_recall: 0.9999 - val_auc: 0.7659 - val_prc: 0.9648\n",
      "Epoch 14/50\n",
      "28/28 [==============================] - 0s 15ms/step - loss: 0.2514 - tp: 50959.0000 - fp: 4712.0000 - tn: 287.0000 - fn: 57.0000 - accuracy: 0.9149 - precision: 0.9154 - recall: 0.9989 - auc: 0.7565 - prc: 0.9619 - val_loss: 0.2449 - val_tp: 12755.0000 - val_fp: 1094.0000 - val_tn: 117.0000 - val_fn: 38.0000 - val_accuracy: 0.9192 - val_precision: 0.9210 - val_recall: 0.9970 - val_auc: 0.7640 - val_prc: 0.9651\n",
      "Epoch 15/50\n",
      "28/28 [==============================] - 0s 15ms/step - loss: 0.2515 - tp: 50917.0000 - fp: 4656.0000 - tn: 343.0000 - fn: 99.0000 - accuracy: 0.9151 - precision: 0.9162 - recall: 0.9981 - auc: 0.7566 - prc: 0.9620 - val_loss: 0.2430 - val_tp: 12775.0000 - val_fp: 1140.0000 - val_tn: 71.0000 - val_fn: 18.0000 - val_accuracy: 0.9173 - val_precision: 0.9181 - val_recall: 0.9986 - val_auc: 0.7688 - val_prc: 0.9654\n",
      "Epoch 16/50\n",
      "28/28 [==============================] - 0s 15ms/step - loss: 0.2510 - tp: 50793.0000 - fp: 4539.0000 - tn: 460.0000 - fn: 223.0000 - accuracy: 0.9150 - precision: 0.9180 - recall: 0.9956 - auc: 0.7567 - prc: 0.9618 - val_loss: 0.2456 - val_tp: 12792.0000 - val_fp: 1161.0000 - val_tn: 50.0000 - val_fn: 1.0000 - val_accuracy: 0.9170 - val_precision: 0.9168 - val_recall: 0.9999 - val_auc: 0.7647 - val_prc: 0.9650\n",
      "Epoch 17/50\n",
      "28/28 [==============================] - 0s 15ms/step - loss: 0.2495 - tp: 50875.0000 - fp: 4591.0000 - tn: 408.0000 - fn: 141.0000 - accuracy: 0.9155 - precision: 0.9172 - recall: 0.9972 - auc: 0.7606 - prc: 0.9625 - val_loss: 0.2428 - val_tp: 12726.0000 - val_fp: 1056.0000 - val_tn: 155.0000 - val_fn: 67.0000 - val_accuracy: 0.9198 - val_precision: 0.9234 - val_recall: 0.9948 - val_auc: 0.7685 - val_prc: 0.9659\n",
      "Epoch 18/50\n",
      "28/28 [==============================] - 0s 14ms/step - loss: 0.2492 - tp: 50820.0000 - fp: 4505.0000 - tn: 494.0000 - fn: 196.0000 - accuracy: 0.9161 - precision: 0.9186 - recall: 0.9962 - auc: 0.7614 - prc: 0.9630 - val_loss: 0.2425 - val_tp: 12783.0000 - val_fp: 1153.0000 - val_tn: 58.0000 - val_fn: 10.0000 - val_accuracy: 0.9170 - val_precision: 0.9173 - val_recall: 0.9992 - val_auc: 0.7709 - val_prc: 0.9661\n",
      "Epoch 19/50\n",
      "28/28 [==============================] - 0s 15ms/step - loss: 0.2480 - tp: 50839.0000 - fp: 4535.0000 - tn: 464.0000 - fn: 177.0000 - accuracy: 0.9159 - precision: 0.9181 - recall: 0.9965 - auc: 0.7659 - prc: 0.9636 - val_loss: 0.2412 - val_tp: 12770.0000 - val_fp: 1137.0000 - val_tn: 74.0000 - val_fn: 23.0000 - val_accuracy: 0.9172 - val_precision: 0.9182 - val_recall: 0.9982 - val_auc: 0.7731 - val_prc: 0.9661\n",
      "Epoch 20/50\n",
      "28/28 [==============================] - 0s 15ms/step - loss: 0.2483 - tp: 50833.0000 - fp: 4508.0000 - tn: 491.0000 - fn: 183.0000 - accuracy: 0.9163 - precision: 0.9185 - recall: 0.9964 - auc: 0.7643 - prc: 0.9635 - val_loss: 0.2420 - val_tp: 12721.0000 - val_fp: 1062.0000 - val_tn: 149.0000 - val_fn: 72.0000 - val_accuracy: 0.9190 - val_precision: 0.9229 - val_recall: 0.9944 - val_auc: 0.7779 - val_prc: 0.9667\n",
      "Epoch 21/50\n",
      "28/28 [==============================] - 0s 16ms/step - loss: 0.2484 - tp: 50715.0000 - fp: 4401.0000 - tn: 598.0000 - fn: 301.0000 - accuracy: 0.9161 - precision: 0.9202 - recall: 0.9941 - auc: 0.7649 - prc: 0.9633 - val_loss: 0.2447 - val_tp: 12731.0000 - val_fp: 1080.0000 - val_tn: 131.0000 - val_fn: 62.0000 - val_accuracy: 0.9185 - val_precision: 0.9218 - val_recall: 0.9952 - val_auc: 0.7762 - val_prc: 0.9671\n",
      "Epoch 22/50\n",
      "28/28 [==============================] - 0s 15ms/step - loss: 0.2478 - tp: 50810.0000 - fp: 4486.0000 - tn: 513.0000 - fn: 206.0000 - accuracy: 0.9162 - precision: 0.9189 - recall: 0.9960 - auc: 0.7654 - prc: 0.9637 - val_loss: 0.2408 - val_tp: 12752.0000 - val_fp: 1092.0000 - val_tn: 119.0000 - val_fn: 41.0000 - val_accuracy: 0.9191 - val_precision: 0.9211 - val_recall: 0.9968 - val_auc: 0.7767 - val_prc: 0.9678\n",
      "Epoch 23/50\n",
      "28/28 [==============================] - 0s 15ms/step - loss: 0.2480 - tp: 50772.0000 - fp: 4479.0000 - tn: 520.0000 - fn: 244.0000 - accuracy: 0.9157 - precision: 0.9189 - recall: 0.9952 - auc: 0.7644 - prc: 0.9632 - val_loss: 0.2416 - val_tp: 12643.0000 - val_fp: 982.0000 - val_tn: 229.0000 - val_fn: 150.0000 - val_accuracy: 0.9192 - val_precision: 0.9279 - val_recall: 0.9883 - val_auc: 0.7788 - val_prc: 0.9673\n",
      "Epoch 24/50\n",
      "28/28 [==============================] - 0s 14ms/step - loss: 0.2471 - tp: 50754.0000 - fp: 4430.0000 - tn: 569.0000 - fn: 262.0000 - accuracy: 0.9162 - precision: 0.9197 - recall: 0.9949 - auc: 0.7691 - prc: 0.9644 - val_loss: 0.2405 - val_tp: 12751.0000 - val_fp: 1092.0000 - val_tn: 119.0000 - val_fn: 42.0000 - val_accuracy: 0.9190 - val_precision: 0.9211 - val_recall: 0.9967 - val_auc: 0.7727 - val_prc: 0.9675\n",
      "Epoch 25/50\n",
      "28/28 [==============================] - 0s 15ms/step - loss: 0.2471 - tp: 50801.0000 - fp: 4489.0000 - tn: 510.0000 - fn: 215.0000 - accuracy: 0.9160 - precision: 0.9188 - recall: 0.9958 - auc: 0.7693 - prc: 0.9644 - val_loss: 0.2403 - val_tp: 12750.0000 - val_fp: 1092.0000 - val_tn: 119.0000 - val_fn: 43.0000 - val_accuracy: 0.9190 - val_precision: 0.9211 - val_recall: 0.9966 - val_auc: 0.7806 - val_prc: 0.9674\n",
      "Epoch 26/50\n",
      "28/28 [==============================] - 0s 15ms/step - loss: 0.2462 - tp: 50736.0000 - fp: 4411.0000 - tn: 588.0000 - fn: 280.0000 - accuracy: 0.9163 - precision: 0.9200 - recall: 0.9945 - auc: 0.7716 - prc: 0.9649 - val_loss: 0.2385 - val_tp: 12751.0000 - val_fp: 1092.0000 - val_tn: 119.0000 - val_fn: 42.0000 - val_accuracy: 0.9190 - val_precision: 0.9211 - val_recall: 0.9967 - val_auc: 0.7814 - val_prc: 0.9687\n",
      "Epoch 27/50\n",
      "28/28 [==============================] - 0s 14ms/step - loss: 0.2454 - tp: 50792.0000 - fp: 4438.0000 - tn: 561.0000 - fn: 224.0000 - accuracy: 0.9168 - precision: 0.9196 - recall: 0.9956 - auc: 0.7749 - prc: 0.9654 - val_loss: 0.2380 - val_tp: 12752.0000 - val_fp: 1092.0000 - val_tn: 119.0000 - val_fn: 41.0000 - val_accuracy: 0.9191 - val_precision: 0.9211 - val_recall: 0.9968 - val_auc: 0.7859 - val_prc: 0.9688\n",
      "Epoch 28/50\n",
      "28/28 [==============================] - 0s 14ms/step - loss: 0.2457 - tp: 50773.0000 - fp: 4456.0000 - tn: 543.0000 - fn: 243.0000 - accuracy: 0.9161 - precision: 0.9193 - recall: 0.9952 - auc: 0.7742 - prc: 0.9656 - val_loss: 0.2391 - val_tp: 12689.0000 - val_fp: 1022.0000 - val_tn: 189.0000 - val_fn: 104.0000 - val_accuracy: 0.9196 - val_precision: 0.9255 - val_recall: 0.9919 - val_auc: 0.7874 - val_prc: 0.9692\n",
      "Epoch 29/50\n",
      "28/28 [==============================] - 0s 14ms/step - loss: 0.2458 - tp: 50671.0000 - fp: 4329.0000 - tn: 670.0000 - fn: 345.0000 - accuracy: 0.9166 - precision: 0.9213 - recall: 0.9932 - auc: 0.7735 - prc: 0.9650 - val_loss: 0.2398 - val_tp: 12751.0000 - val_fp: 1092.0000 - val_tn: 119.0000 - val_fn: 42.0000 - val_accuracy: 0.9190 - val_precision: 0.9211 - val_recall: 0.9967 - val_auc: 0.7823 - val_prc: 0.9689\n",
      "Epoch 30/50\n",
      "28/28 [==============================] - 0s 16ms/step - loss: 0.2454 - tp: 50749.0000 - fp: 4411.0000 - tn: 588.0000 - fn: 267.0000 - accuracy: 0.9165 - precision: 0.9200 - recall: 0.9948 - auc: 0.7744 - prc: 0.9651 - val_loss: 0.2374 - val_tp: 12752.0000 - val_fp: 1092.0000 - val_tn: 119.0000 - val_fn: 41.0000 - val_accuracy: 0.9191 - val_precision: 0.9211 - val_recall: 0.9968 - val_auc: 0.7899 - val_prc: 0.9691\n",
      "Epoch 31/50\n",
      "28/28 [==============================] - 0s 15ms/step - loss: 0.2448 - tp: 50709.0000 - fp: 4390.0000 - tn: 609.0000 - fn: 307.0000 - accuracy: 0.9161 - precision: 0.9203 - recall: 0.9940 - auc: 0.7763 - prc: 0.9655 - val_loss: 0.2382 - val_tp: 12723.0000 - val_fp: 1046.0000 - val_tn: 165.0000 - val_fn: 70.0000 - val_accuracy: 0.9203 - val_precision: 0.9240 - val_recall: 0.9945 - val_auc: 0.7875 - val_prc: 0.9693\n",
      "Epoch 32/50\n",
      "28/28 [==============================] - 0s 14ms/step - loss: 0.2445 - tp: 50704.0000 - fp: 4373.0000 - tn: 626.0000 - fn: 312.0000 - accuracy: 0.9164 - precision: 0.9206 - recall: 0.9939 - auc: 0.7792 - prc: 0.9664 - val_loss: 0.2366 - val_tp: 12733.0000 - val_fp: 1070.0000 - val_tn: 141.0000 - val_fn: 60.0000 - val_accuracy: 0.9193 - val_precision: 0.9225 - val_recall: 0.9953 - val_auc: 0.7902 - val_prc: 0.9689\n",
      "Epoch 33/50\n",
      "28/28 [==============================] - 0s 15ms/step - loss: 0.2438 - tp: 50724.0000 - fp: 4367.0000 - tn: 632.0000 - fn: 292.0000 - accuracy: 0.9168 - precision: 0.9207 - recall: 0.9943 - auc: 0.7808 - prc: 0.9666 - val_loss: 0.2375 - val_tp: 12724.0000 - val_fp: 1047.0000 - val_tn: 164.0000 - val_fn: 69.0000 - val_accuracy: 0.9203 - val_precision: 0.9240 - val_recall: 0.9946 - val_auc: 0.7896 - val_prc: 0.9695\n",
      "Epoch 34/50\n",
      "28/28 [==============================] - 0s 14ms/step - loss: 0.2454 - tp: 50657.0000 - fp: 4324.0000 - tn: 675.0000 - fn: 359.0000 - accuracy: 0.9164 - precision: 0.9214 - recall: 0.9930 - auc: 0.7748 - prc: 0.9654 - val_loss: 0.2400 - val_tp: 12667.0000 - val_fp: 986.0000 - val_tn: 225.0000 - val_fn: 126.0000 - val_accuracy: 0.9206 - val_precision: 0.9278 - val_recall: 0.9902 - val_auc: 0.7899 - val_prc: 0.9699\n",
      "Epoch 35/50\n",
      "28/28 [==============================] - 0s 15ms/step - loss: 0.2442 - tp: 50699.0000 - fp: 4346.0000 - tn: 653.0000 - fn: 317.0000 - accuracy: 0.9168 - precision: 0.9210 - recall: 0.9938 - auc: 0.7788 - prc: 0.9661 - val_loss: 0.2385 - val_tp: 12631.0000 - val_fp: 944.0000 - val_tn: 267.0000 - val_fn: 162.0000 - val_accuracy: 0.9210 - val_precision: 0.9305 - val_recall: 0.9873 - val_auc: 0.7905 - val_prc: 0.9696\n",
      "Epoch 36/50\n",
      "28/28 [==============================] - 0s 14ms/step - loss: 0.2441 - tp: 50626.0000 - fp: 4263.0000 - tn: 736.0000 - fn: 390.0000 - accuracy: 0.9169 - precision: 0.9223 - recall: 0.9924 - auc: 0.7804 - prc: 0.9667 - val_loss: 0.2363 - val_tp: 12705.0000 - val_fp: 1034.0000 - val_tn: 177.0000 - val_fn: 88.0000 - val_accuracy: 0.9199 - val_precision: 0.9247 - val_recall: 0.9931 - val_auc: 0.7939 - val_prc: 0.9707\n",
      "Epoch 37/50\n",
      "28/28 [==============================] - 0s 14ms/step - loss: 0.2442 - tp: 50666.0000 - fp: 4345.0000 - tn: 654.0000 - fn: 350.0000 - accuracy: 0.9162 - precision: 0.9210 - recall: 0.9931 - auc: 0.7793 - prc: 0.9663 - val_loss: 0.2374 - val_tp: 12723.0000 - val_fp: 1046.0000 - val_tn: 165.0000 - val_fn: 70.0000 - val_accuracy: 0.9203 - val_precision: 0.9240 - val_recall: 0.9945 - val_auc: 0.7935 - val_prc: 0.9696\n",
      "Epoch 38/50\n",
      "28/28 [==============================] - 0s 15ms/step - loss: 0.2444 - tp: 50660.0000 - fp: 4339.0000 - tn: 660.0000 - fn: 356.0000 - accuracy: 0.9162 - precision: 0.9211 - recall: 0.9930 - auc: 0.7792 - prc: 0.9665 - val_loss: 0.2354 - val_tp: 12751.0000 - val_fp: 1092.0000 - val_tn: 119.0000 - val_fn: 42.0000 - val_accuracy: 0.9190 - val_precision: 0.9211 - val_recall: 0.9967 - val_auc: 0.7947 - val_prc: 0.9702\n",
      "Epoch 39/50\n",
      "28/28 [==============================] - 0s 16ms/step - loss: 0.2432 - tp: 50679.0000 - fp: 4321.0000 - tn: 678.0000 - fn: 337.0000 - accuracy: 0.9168 - precision: 0.9214 - recall: 0.9934 - auc: 0.7834 - prc: 0.9668 - val_loss: 0.2368 - val_tp: 12753.0000 - val_fp: 1093.0000 - val_tn: 118.0000 - val_fn: 40.0000 - val_accuracy: 0.9191 - val_precision: 0.9211 - val_recall: 0.9969 - val_auc: 0.7930 - val_prc: 0.9703\n",
      "Epoch 40/50\n",
      "28/28 [==============================] - 0s 16ms/step - loss: 0.2442 - tp: 50721.0000 - fp: 4338.0000 - tn: 661.0000 - fn: 295.0000 - accuracy: 0.9173 - precision: 0.9212 - recall: 0.9942 - auc: 0.7801 - prc: 0.9665 - val_loss: 0.2362 - val_tp: 12671.0000 - val_fp: 990.0000 - val_tn: 221.0000 - val_fn: 122.0000 - val_accuracy: 0.9206 - val_precision: 0.9275 - val_recall: 0.9905 - val_auc: 0.7953 - val_prc: 0.9704\n",
      "Epoch 41/50\n",
      "28/28 [==============================] - 0s 15ms/step - loss: 0.2430 - tp: 50685.0000 - fp: 4328.0000 - tn: 671.0000 - fn: 331.0000 - accuracy: 0.9168 - precision: 0.9213 - recall: 0.9935 - auc: 0.7847 - prc: 0.9674 - val_loss: 0.2353 - val_tp: 12684.0000 - val_fp: 1001.0000 - val_tn: 210.0000 - val_fn: 109.0000 - val_accuracy: 0.9207 - val_precision: 0.9269 - val_recall: 0.9915 - val_auc: 0.7973 - val_prc: 0.9705\n",
      "Epoch 42/50\n",
      "28/28 [==============================] - 0s 16ms/step - loss: 0.2434 - tp: 50669.0000 - fp: 4327.0000 - tn: 672.0000 - fn: 347.0000 - accuracy: 0.9166 - precision: 0.9213 - recall: 0.9932 - auc: 0.7834 - prc: 0.9670 - val_loss: 0.2347 - val_tp: 12711.0000 - val_fp: 1045.0000 - val_tn: 166.0000 - val_fn: 82.0000 - val_accuracy: 0.9195 - val_precision: 0.9240 - val_recall: 0.9936 - val_auc: 0.7963 - val_prc: 0.9706\n",
      "Epoch 43/50\n",
      "28/28 [==============================] - 0s 15ms/step - loss: 0.2428 - tp: 50625.0000 - fp: 4290.0000 - tn: 709.0000 - fn: 391.0000 - accuracy: 0.9164 - precision: 0.9219 - recall: 0.9923 - auc: 0.7849 - prc: 0.9673 - val_loss: 0.2344 - val_tp: 12751.0000 - val_fp: 1092.0000 - val_tn: 119.0000 - val_fn: 42.0000 - val_accuracy: 0.9190 - val_precision: 0.9211 - val_recall: 0.9967 - val_auc: 0.8005 - val_prc: 0.9718\n",
      "Epoch 44/50\n",
      "28/28 [==============================] - 0s 15ms/step - loss: 0.2429 - tp: 50642.0000 - fp: 4330.0000 - tn: 669.0000 - fn: 374.0000 - accuracy: 0.9160 - precision: 0.9212 - recall: 0.9927 - auc: 0.7846 - prc: 0.9674 - val_loss: 0.2358 - val_tp: 12733.0000 - val_fp: 1066.0000 - val_tn: 145.0000 - val_fn: 60.0000 - val_accuracy: 0.9196 - val_precision: 0.9227 - val_recall: 0.9953 - val_auc: 0.7957 - val_prc: 0.9716\n",
      "Epoch 45/50\n",
      "28/28 [==============================] - 0s 15ms/step - loss: 0.2421 - tp: 50642.0000 - fp: 4282.0000 - tn: 717.0000 - fn: 374.0000 - accuracy: 0.9169 - precision: 0.9220 - recall: 0.9927 - auc: 0.7873 - prc: 0.9680 - val_loss: 0.2358 - val_tp: 12752.0000 - val_fp: 1092.0000 - val_tn: 119.0000 - val_fn: 41.0000 - val_accuracy: 0.9191 - val_precision: 0.9211 - val_recall: 0.9968 - val_auc: 0.7978 - val_prc: 0.9714\n",
      "Epoch 46/50\n",
      "28/28 [==============================] - 0s 14ms/step - loss: 0.2425 - tp: 50704.0000 - fp: 4370.0000 - tn: 629.0000 - fn: 312.0000 - accuracy: 0.9164 - precision: 0.9207 - recall: 0.9939 - auc: 0.7855 - prc: 0.9675 - val_loss: 0.2336 - val_tp: 12734.0000 - val_fp: 1069.0000 - val_tn: 142.0000 - val_fn: 59.0000 - val_accuracy: 0.9195 - val_precision: 0.9226 - val_recall: 0.9954 - val_auc: 0.8010 - val_prc: 0.9719\n",
      "Epoch 47/50\n",
      "28/28 [==============================] - 0s 15ms/step - loss: 0.2420 - tp: 50666.0000 - fp: 4323.0000 - tn: 676.0000 - fn: 350.0000 - accuracy: 0.9166 - precision: 0.9214 - recall: 0.9931 - auc: 0.7875 - prc: 0.9679 - val_loss: 0.2341 - val_tp: 12752.0000 - val_fp: 1092.0000 - val_tn: 119.0000 - val_fn: 41.0000 - val_accuracy: 0.9191 - val_precision: 0.9211 - val_recall: 0.9968 - val_auc: 0.8028 - val_prc: 0.9720\n",
      "Epoch 48/50\n",
      "28/28 [==============================] - 0s 15ms/step - loss: 0.2429 - tp: 50638.0000 - fp: 4299.0000 - tn: 700.0000 - fn: 378.0000 - accuracy: 0.9165 - precision: 0.9217 - recall: 0.9926 - auc: 0.7849 - prc: 0.9674 - val_loss: 0.2348 - val_tp: 12653.0000 - val_fp: 952.0000 - val_tn: 259.0000 - val_fn: 140.0000 - val_accuracy: 0.9220 - val_precision: 0.9300 - val_recall: 0.9891 - val_auc: 0.7983 - val_prc: 0.9714\n",
      "Epoch 49/50\n",
      "28/28 [==============================] - 0s 16ms/step - loss: 0.2417 - tp: 50674.0000 - fp: 4323.0000 - tn: 676.0000 - fn: 342.0000 - accuracy: 0.9167 - precision: 0.9214 - recall: 0.9933 - auc: 0.7906 - prc: 0.9688 - val_loss: 0.2343 - val_tp: 12723.0000 - val_fp: 1046.0000 - val_tn: 165.0000 - val_fn: 70.0000 - val_accuracy: 0.9203 - val_precision: 0.9240 - val_recall: 0.9945 - val_auc: 0.8035 - val_prc: 0.9726\n",
      "Epoch 50/50\n",
      "28/28 [==============================] - 0s 15ms/step - loss: 0.2431 - tp: 50647.0000 - fp: 4299.0000 - tn: 700.0000 - fn: 369.0000 - accuracy: 0.9167 - precision: 0.9218 - recall: 0.9928 - auc: 0.7841 - prc: 0.9672 - val_loss: 0.2341 - val_tp: 12706.0000 - val_fp: 1023.0000 - val_tn: 188.0000 - val_fn: 87.0000 - val_accuracy: 0.9207 - val_precision: 0.9255 - val_recall: 0.9932 - val_auc: 0.7971 - val_prc: 0.9719\n",
      "Best epoch: 48\n"
     ]
    }
   ],
   "source": [
    "# Build the model with the optimal hyperparameters and train it on the data for 50 epochs\n",
    "\n",
    "model1 = tuner.hypermodel.build(best_hps)\n",
    "history1 = model1.fit(X_train, y_train, epochs=50,batch_size=BATCH_SIZE, validation_split=0.2)\n",
    "\n",
    "val_acc_per_epoch = history1.history['val_accuracy']\n",
    "best_epoch = val_acc_per_epoch.index(max(val_acc_per_epoch)) + 1\n",
    "print('Best epoch: %d' % (best_epoch,))"
   ]
  },
  {
   "cell_type": "code",
   "execution_count": 213,
   "metadata": {},
   "outputs": [],
   "source": [
    "def plot_metrics(history):\n",
    "  metrics = ['loss', 'prc', 'precision', 'recall']\n",
    "  for n, metric in enumerate(metrics):\n",
    "    name = metric.replace(\"_\",\" \").capitalize()\n",
    "    plt.subplot(2,2,n+1)\n",
    "    plt.plot(history.epoch, history.history[metric], color=colors[0], label='Train')\n",
    "    plt.plot(history.epoch, history.history['val_'+metric],\n",
    "             color=colors[0], linestyle=\"--\", label='Val')\n",
    "    plt.xlabel('Epoch')\n",
    "    plt.ylabel(name)\n",
    "    if metric == 'loss':\n",
    "      plt.ylim([0, plt.ylim()[1]])\n",
    "    elif metric == 'auc':\n",
    "      plt.ylim([0.8,1])\n",
    "    else:\n",
    "      plt.ylim([0,1])\n",
    "\n",
    "    plt.legend()\n"
   ]
  },
  {
   "cell_type": "code",
   "execution_count": 214,
   "metadata": {},
   "outputs": [
    {
     "data": {
      "image/png": "[encoded data removed]",
      "text/plain": [
       "<Figure size 864x720 with 4 Axes>"
      ]
     },
     "metadata": {
      "needs_background": "light"
     },
     "output_type": "display_data"
    }
   ],
   "source": [
    "plot_metrics(baseline_history)"
   ]
  },
  {
   "cell_type": "markdown",
   "metadata": {},
   "source": [
    "## Predictions and confusion matrix"
   ]
  },
  {
   "cell_type": "markdown",
   "metadata": {},
   "source": [
    "Calculate predictions"
   ]
  },
  {
   "cell_type": "markdown",
   "metadata": {},
   "source": [
    "### Predicciones del modelo con pesos y sesgo de partida"
   ]
  },
  {
   "cell_type": "code",
   "execution_count": 215,
   "metadata": {},
   "outputs": [],
   "source": [
    "train_predictions_baseline = model.predict(X_train, batch_size=BATCH_SIZE)\n",
    "test_predictions_baseline = model.predict(X_test, batch_size=BATCH_SIZE)"
   ]
  },
  {
   "cell_type": "markdown",
   "metadata": {},
   "source": [
    "### Predicciones del modelo incial"
   ]
  },
  {
   "cell_type": "code",
   "execution_count": 216,
   "metadata": {},
   "outputs": [
    {
     "name": "stdout",
     "output_type": "stream",
     "text": [
      "[[0.9614762 ]\n",
      " [0.9607816 ]\n",
      " [0.9284348 ]\n",
      " ...\n",
      " [0.74548745]\n",
      " [0.9721085 ]\n",
      " [0.980607  ]]\n"
     ]
    }
   ],
   "source": [
    "precictions=model.predict(x=X_test.tolist(),batch_size=10,verbose=0)\n",
    "print(precictions)"
   ]
  },
  {
   "cell_type": "markdown",
   "metadata": {},
   "source": [
    "Plot confusion matrix"
   ]
  },
  {
   "cell_type": "code",
   "execution_count": 217,
   "metadata": {},
   "outputs": [],
   "source": [
    "rounded_predictions=np.argmax(precictions,axis=-1)"
   ]
  },
  {
   "cell_type": "code",
   "execution_count": 218,
   "metadata": {},
   "outputs": [],
   "source": [
    "\n",
    "import numpy as np\n",
    "import  itertools\n",
    "import matplotlib.pyplot as plt\n",
    "\n",
    "\n",
    "def plot_confusion_matrix(cm, classes,\n",
    "                        normalize=False,\n",
    "                        title='Confusion matrix',\n",
    "                        cmap=plt.cm.Blues):\n",
    "    \"\"\"\n",
    "    This function prints and plots the confusion matrix.\n",
    "    Normalization can be applied by setting `normalize=True`.\n",
    "    \"\"\"\n",
    "    plt.imshow(cm, interpolation='nearest', cmap=cmap)\n",
    "    plt.title(title)\n",
    "    plt.colorbar()\n",
    "    tick_marks = np.arange(len(classes))\n",
    "    plt.xticks(tick_marks, classes, rotation=45)\n",
    "    plt.yticks(tick_marks, classes)\n",
    "\n",
    "    if normalize:\n",
    "        cm = cm.astype('float') / cm.sum(axis=1)[:, np.newaxis]\n",
    "        print(\"Normalized confusion matrix\")\n",
    "    else:\n",
    "        print('Confusion matrix, without normalization')\n",
    "\n",
    "    print(cm)\n",
    "\n",
    "    thresh = cm.max() / 2.\n",
    "    for i, j in itertools.product(range(cm.shape[0]), range(cm.shape[1])):\n",
    "        plt.text(j, i, cm[i, j],\n",
    "            horizontalalignment=\"center\",\n",
    "            color=\"white\" if cm[i, j] > thresh else \"black\")\n",
    "\n",
    "    plt.tight_layout()\n",
    "    plt.ylabel('True label')\n",
    "    plt.xlabel('Predicted label')\n",
    "    \n"
   ]
  },
  {
   "cell_type": "code",
   "execution_count": 219,
   "metadata": {},
   "outputs": [],
   "source": [
    "from sklearn.metrics import confusion_matrix"
   ]
  },
  {
   "cell_type": "markdown",
   "metadata": {},
   "source": [
    "Ploteo la confusion matrix para ver que tal ha aprendido mi modelo"
   ]
  },
  {
   "cell_type": "code",
   "execution_count": 220,
   "metadata": {},
   "outputs": [
    {
     "name": "stdout",
     "output_type": "stream",
     "text": [
      "Confusion matrix, without normalization\n",
      "[[  830  5380]\n",
      " [  366 63443]]\n"
     ]
    },
    {
     "data": {
      "image/png": "[encoded data removed]",
      "text/plain": [
       "<Figure size 864x720 with 2 Axes>"
      ]
     },
     "metadata": {
      "needs_background": "light"
     },
     "output_type": "display_data"
    }
   ],
   "source": [
    "cm_new = confusion_matrix(y_true=y_train,y_pred=train_predictions_baseline>0.5)\n",
    "cm_plot_labels=['no OK','OK']\n",
    "plot_confusion_matrix (cm_new,cm_plot_labels,title='Confusion matrix')\n",
    "plt.show()"
   ]
  },
  {
   "cell_type": "code",
   "execution_count": 221,
   "metadata": {},
   "outputs": [
    {
     "name": "stdout",
     "output_type": "stream",
     "text": [
      "NOK torques detected (True Negatives):  830\n",
      "NOK torques Incorrectly Detected (False Positives):  5380\n",
      "OK torques Missed (False Negatives):  366\n",
      "OK torques Detected (True Positives):  63443\n",
      "Total NOK torques:  6210\n"
     ]
    }
   ],
   "source": [
    "print('NOK torques detected (True Negatives): ', cm_new[0][0])\n",
    "print('NOK torques Incorrectly Detected (False Positives): ', cm_new[0][1])\n",
    "print('OK torques Missed (False Negatives): ', cm_new[1][0])\n",
    "print('OK torques Detected (True Positives): ', cm_new[1][1])\n",
    "print('Total NOK torques: ', np.sum(cm_new[0]))"
   ]
  },
  {
   "cell_type": "markdown",
   "metadata": {},
   "source": [
    "# ROC"
   ]
  },
  {
   "cell_type": "code",
   "execution_count": 222,
   "metadata": {},
   "outputs": [],
   "source": [
    "def plot_roc(name, labels, predictions, **kwargs):\n",
    "  fp, tp, _ = sklearn.metrics.roc_curve(labels, predictions)\n",
    "\n",
    "  plt.plot(100*fp, 100*tp, label=name, linewidth=2, **kwargs)\n",
    "  plt.xlabel('False positives [%]')\n",
    "  plt.ylabel('True positives [%]')\n",
    "  plt.xlim([-0.5,20])\n",
    "  plt.ylim([80,100.5])\n",
    "  plt.grid(True)\n",
    "  ax = plt.gca()\n",
    "  ax.set_aspect('equal')"
   ]
  },
  {
   "cell_type": "code",
   "execution_count": 223,
   "metadata": {},
   "outputs": [
    {
     "data": {
      "text/plain": [
       "<matplotlib.legend.Legend at 0x1bf045ff910>"
      ]
     },
     "execution_count": 223,
     "metadata": {},
     "output_type": "execute_result"
    },
    {
     "data": {
      "image/png": "[encoded data removed]",
      "text/plain": [
       "<Figure size 864x720 with 1 Axes>"
      ]
     },
     "metadata": {
      "needs_background": "light"
     },
     "output_type": "display_data"
    }
   ],
   "source": [
    "plot_roc(\"Train Baseline\", y_train, train_predictions_baseline, color=colors[0])\n",
    "plot_roc(\"Test Baseline\", y_test, test_predictions_baseline, color=colors[0], linestyle='--')\n",
    "plt.legend(loc='lower right')"
   ]
  },
  {
   "cell_type": "markdown",
   "metadata": {},
   "source": [
    "Si el modelo había predicho todo a la perfección, esto sería una matriz diagonal donde los valores fuera de la diagonal principal, lo que indica predicciones incorrectas, sería cero. En este caso, la matriz muestra que tiene relativamente pocos falsos positivos"
   ]
  },
  {
   "cell_type": "markdown",
   "metadata": {},
   "source": [
    "Me pasa lo mismo que con el modelo de regresion lineal => hay que tratar los datos para incrementar el numero de resultados NOK porcentualmente sobre el total de datos."
   ]
  },
  {
   "cell_type": "markdown",
   "metadata": {},
   "source": [
    "### confusion matrix logistic regresion in TTM_Pamplona\n",
    "\n",
    "[   12,  2308]\n",
    "\n",
    "\n",
    "[    0, 39686]\n",
    "con todo el dataframe  Neural Network % nok predicted good = 0,005\n",
    "tras reducir el número de pares Ok un 40% me sale la siguiente cm: Neural Network % nok predicted good 0.027\n",
    "\n",
    "[   80  2905]\n",
    "\n",
    "\n",
    "[    0 52462]\n",
    "\n",
    "quitando el angulo minimo. Neural Network % nok predicted good: 0.017\n",
    "\n",
    "[   53  3039]\n",
    "\n",
    "\n",
    "[    0 52355]\n",
    "\n",
    "vamos a volver a añadir  los pares ok a ver que hace but still i am too far\n",
    "\n",
    "con el 60% de los pares ok quitados: Neural Network % nok predicted NOK: 0.016\n",
    "\n",
    "[   48  3026]\n",
    "\n",
    "\n",
    "[    0 52373]\n",
    "\n",
    "vuelvo a poner el angulo mímimo.\n"
   ]
  },
  {
   "cell_type": "code",
   "execution_count": 224,
   "metadata": {},
   "outputs": [
    {
     "name": "stdout",
     "output_type": "stream",
     "text": [
      "Logistic regresion % nok predicted as NOK: 0.005\n",
      "Neural Network % nok predicted NOK: 1.0\n"
     ]
    }
   ],
   "source": [
    "porcentaje_pares_LR=12/(12+2308)\n",
    "porcentaje_pares_NN=cm[0,0]/(cm[0,0]+cm[0,1])\n",
    "\n",
    "print(\"Logistic regresion % nok predicted as NOK: \"+str(round(porcentaje_pares_LR,3)))\n",
    "print(\"Neural Network % nok predicted NOK: \"+str(round(porcentaje_pares_NN,3)))"
   ]
  },
  {
   "cell_type": "markdown",
   "metadata": {},
   "source": [
    "1. **Use weight regularization.** It tries to keep weights low which very often leads to better generalization. Experiment with different regularization coefficients. Try 0.1, 0.01, 0.001 and see what impact they have on accuracy.\n",
    "\n",
    "\n",
    "2. **Corrupt your input** (e.g., randomly substitute some pixels with black or white). This way you remove information from your input and 'force' the network to pick up on important general features. Experiment with noising coefficients which determines how much of your input should be corrupted. Research shows that anything in the range of 15% - 45% works well.\n",
    "\n",
    "\n",
    "3. **Expand your training set.** Since you're dealing with images you can expand your set by rotating / scaling etc. your existing images (as suggested). You could also experiment with pre-processing your images (e.g., mapping them to black and white, grayscale etc. but the effectiveness of this technique will depend on your exact images and classes)\n",
    "\n",
    "\n",
    "4. **Pre-train your layers with denoising critera.** Here you pre-train each layer of your network individually before fine tuning the entire network. Pre-training 'forces' layers to pick up on important general features that are useful for reconstructing the input signal. Look into auto-encoders for example (they've been applied to image classification in the past).\n",
    "\n",
    "\n",
    "5. **Experiment with network architecture.** Your network might not have sufficient learning capacity. Experiment with different neuron types, number of layers, and number of hidden neurons. Make sure to try compressing architectures (less neurons than inputs) and sparse architectures (more neurons than inputs)."
   ]
  },
  {
   "cell_type": "markdown",
   "metadata": {},
   "source": [
    "1. reducir aun mas los ok => cuanto mas?\n",
    "\n",
    "2. meter mas layers => done\n",
    "\n",
    "3. cambiar de softmax a sigmoid => done\n",
    "\n",
    "4. tune hiper parameters => done\n",
    "\n",
    "5. Ampliar el dataset con más NOK results\n"
   ]
  },
  {
   "cell_type": "markdown",
   "metadata": {},
   "source": [
    "## Random forest clasifier"
   ]
  },
  {
   "cell_type": "code",
   "execution_count": 225,
   "metadata": {},
   "outputs": [],
   "source": [
    "from sklearn.ensemble import RandomForestClassifier\n",
    "from sklearn.metrics import roc_auc_score\n",
    "from sklearn.metrics import accuracy_score"
   ]
  },
  {
   "cell_type": "code",
   "execution_count": 226,
   "metadata": {},
   "outputs": [
    {
     "data": {
      "text/plain": [
       "RandomForestClassifier()"
      ]
     },
     "execution_count": 226,
     "metadata": {},
     "output_type": "execute_result"
    }
   ],
   "source": [
    "rf = RandomForestClassifier()\n",
    "rf.fit(X_train, y_train)"
   ]
  },
  {
   "cell_type": "markdown",
   "metadata": {},
   "source": [
    "predict:"
   ]
  },
  {
   "cell_type": "code",
   "execution_count": 227,
   "metadata": {},
   "outputs": [
    {
     "name": "stdout",
     "output_type": "stream",
     "text": [
      "[0 1]\n",
      "0.9213642011454034\n",
      "0.9153241195941318\n"
     ]
    }
   ],
   "source": [
    "prediction_rf = rf.predict(X_train)\n",
    "\n",
    "print( np.unique( prediction_rf ) )\n",
    "\n",
    "print( accuracy_score(y_train, prediction_rf) )\n",
    "\n",
    " \n",
    "\n",
    "prob_y_4 = rf.predict_proba(X_train)\n",
    "prob_y_4 = [p[1] for p in prob_y_4]\n",
    "print( roc_auc_score(y_train, prob_y_4) )\n"
   ]
  },
  {
   "cell_type": "markdown",
   "metadata": {},
   "source": [
    "parece que estamos en las mismas..."
   ]
  },
  {
   "cell_type": "code",
   "execution_count": 228,
   "metadata": {},
   "outputs": [
    {
     "name": "stdout",
     "output_type": "stream",
     "text": [
      "Confusion matrix, without normalization\n",
      "[[  721  2305]\n",
      " [  567 30895]]\n"
     ]
    },
    {
     "data": {
      "image/png": "[encoded data removed]",
      "text/plain": [
       "<Figure size 864x720 with 2 Axes>"
      ]
     },
     "metadata": {
      "needs_background": "light"
     },
     "output_type": "display_data"
    }
   ],
   "source": [
    "prediction_rf_test=rf.predict(X_test)\n",
    "cm_rf = confusion_matrix(y_true=y_test,y_pred=prediction_rf_test)\n",
    "cm_plot_labels_rf=['no OK','OK']\n",
    "plot_confusion_matrix (cm_rf,cm_plot_labels_rf,title='Confusion matrix Random forest clasifier')\n",
    "plt.show()"
   ]
  },
  {
   "cell_type": "code",
   "execution_count": 229,
   "metadata": {},
   "outputs": [
    {
     "name": "stdout",
     "output_type": "stream",
     "text": [
      "[1 1 1 ... 1 1 1]\n"
     ]
    }
   ],
   "source": [
    "print(prediction_rf)"
   ]
  },
  {
   "cell_type": "code",
   "execution_count": 230,
   "metadata": {},
   "outputs": [
    {
     "ename": "FileNotFoundError",
     "evalue": "[WinError 2] El sistema no puede encontrar el archivo especificado",
     "output_type": "error",
     "traceback": [
      "\u001b[1;31m---------------------------------------------------------------------------\u001b[0m",
      "\u001b[1;31mFileNotFoundError\u001b[0m                         Traceback (most recent call last)",
      "\u001b[1;32m<ipython-input-230-c601e6f42e8f>\u001b[0m in \u001b[0;36m<module>\u001b[1;34m\u001b[0m\n\u001b[0;32m     14\u001b[0m \u001b[1;31m# Convert to png using system command (requires Graphviz)\u001b[0m\u001b[1;33m\u001b[0m\u001b[1;33m\u001b[0m\u001b[1;33m\u001b[0m\u001b[0m\n\u001b[0;32m     15\u001b[0m \u001b[1;32mfrom\u001b[0m \u001b[0msubprocess\u001b[0m \u001b[1;32mimport\u001b[0m \u001b[0mcall\u001b[0m\u001b[1;33m\u001b[0m\u001b[1;33m\u001b[0m\u001b[0m\n\u001b[1;32m---> 16\u001b[1;33m \u001b[0mcall\u001b[0m\u001b[1;33m(\u001b[0m\u001b[1;33m[\u001b[0m\u001b[1;34m'dot'\u001b[0m\u001b[1;33m,\u001b[0m \u001b[1;34m'-Tpng'\u001b[0m\u001b[1;33m,\u001b[0m \u001b[1;34m'tree.dot'\u001b[0m\u001b[1;33m,\u001b[0m \u001b[1;34m'-o'\u001b[0m\u001b[1;33m,\u001b[0m \u001b[1;34m'tree.png'\u001b[0m\u001b[1;33m,\u001b[0m \u001b[1;34m'-Gdpi=600'\u001b[0m\u001b[1;33m]\u001b[0m\u001b[1;33m,\u001b[0m\u001b[0mshell\u001b[0m\u001b[1;33m=\u001b[0m\u001b[1;32mFalse\u001b[0m\u001b[1;33m)\u001b[0m\u001b[1;33m\u001b[0m\u001b[1;33m\u001b[0m\u001b[0m\n\u001b[0m\u001b[0;32m     17\u001b[0m \u001b[1;33m\u001b[0m\u001b[0m\n\u001b[0;32m     18\u001b[0m \u001b[1;31m# Find the image on src\u001b[0m\u001b[1;33m\u001b[0m\u001b[1;33m\u001b[0m\u001b[1;33m\u001b[0m\u001b[0m\n",
      "\u001b[1;32mC:\\ProgramData\\Anaconda3\\lib\\subprocess.py\u001b[0m in \u001b[0;36mcall\u001b[1;34m(timeout, *popenargs, **kwargs)\u001b[0m\n\u001b[0;32m    338\u001b[0m     \u001b[0mretcode\u001b[0m \u001b[1;33m=\u001b[0m \u001b[0mcall\u001b[0m\u001b[1;33m(\u001b[0m\u001b[1;33m[\u001b[0m\u001b[1;34m\"ls\"\u001b[0m\u001b[1;33m,\u001b[0m \u001b[1;34m\"-l\"\u001b[0m\u001b[1;33m]\u001b[0m\u001b[1;33m)\u001b[0m\u001b[1;33m\u001b[0m\u001b[1;33m\u001b[0m\u001b[0m\n\u001b[0;32m    339\u001b[0m     \"\"\"\n\u001b[1;32m--> 340\u001b[1;33m     \u001b[1;32mwith\u001b[0m \u001b[0mPopen\u001b[0m\u001b[1;33m(\u001b[0m\u001b[1;33m*\u001b[0m\u001b[0mpopenargs\u001b[0m\u001b[1;33m,\u001b[0m \u001b[1;33m**\u001b[0m\u001b[0mkwargs\u001b[0m\u001b[1;33m)\u001b[0m \u001b[1;32mas\u001b[0m \u001b[0mp\u001b[0m\u001b[1;33m:\u001b[0m\u001b[1;33m\u001b[0m\u001b[1;33m\u001b[0m\u001b[0m\n\u001b[0m\u001b[0;32m    341\u001b[0m         \u001b[1;32mtry\u001b[0m\u001b[1;33m:\u001b[0m\u001b[1;33m\u001b[0m\u001b[1;33m\u001b[0m\u001b[0m\n\u001b[0;32m    342\u001b[0m             \u001b[1;32mreturn\u001b[0m \u001b[0mp\u001b[0m\u001b[1;33m.\u001b[0m\u001b[0mwait\u001b[0m\u001b[1;33m(\u001b[0m\u001b[0mtimeout\u001b[0m\u001b[1;33m=\u001b[0m\u001b[0mtimeout\u001b[0m\u001b[1;33m)\u001b[0m\u001b[1;33m\u001b[0m\u001b[1;33m\u001b[0m\u001b[0m\n",
      "\u001b[1;32mC:\\ProgramData\\Anaconda3\\lib\\subprocess.py\u001b[0m in \u001b[0;36m__init__\u001b[1;34m(self, args, bufsize, executable, stdin, stdout, stderr, preexec_fn, close_fds, shell, cwd, env, universal_newlines, startupinfo, creationflags, restore_signals, start_new_session, pass_fds, encoding, errors, text)\u001b[0m\n\u001b[0;32m    856\u001b[0m                             encoding=encoding, errors=errors)\n\u001b[0;32m    857\u001b[0m \u001b[1;33m\u001b[0m\u001b[0m\n\u001b[1;32m--> 858\u001b[1;33m             self._execute_child(args, executable, preexec_fn, close_fds,\n\u001b[0m\u001b[0;32m    859\u001b[0m                                 \u001b[0mpass_fds\u001b[0m\u001b[1;33m,\u001b[0m \u001b[0mcwd\u001b[0m\u001b[1;33m,\u001b[0m \u001b[0menv\u001b[0m\u001b[1;33m,\u001b[0m\u001b[1;33m\u001b[0m\u001b[1;33m\u001b[0m\u001b[0m\n\u001b[0;32m    860\u001b[0m                                 \u001b[0mstartupinfo\u001b[0m\u001b[1;33m,\u001b[0m \u001b[0mcreationflags\u001b[0m\u001b[1;33m,\u001b[0m \u001b[0mshell\u001b[0m\u001b[1;33m,\u001b[0m\u001b[1;33m\u001b[0m\u001b[1;33m\u001b[0m\u001b[0m\n",
      "\u001b[1;32mC:\\ProgramData\\Anaconda3\\lib\\subprocess.py\u001b[0m in \u001b[0;36m_execute_child\u001b[1;34m(self, args, executable, preexec_fn, close_fds, pass_fds, cwd, env, startupinfo, creationflags, shell, p2cread, p2cwrite, c2pread, c2pwrite, errread, errwrite, unused_restore_signals, unused_start_new_session)\u001b[0m\n\u001b[0;32m   1309\u001b[0m             \u001b[1;31m# Start the process\u001b[0m\u001b[1;33m\u001b[0m\u001b[1;33m\u001b[0m\u001b[1;33m\u001b[0m\u001b[0m\n\u001b[0;32m   1310\u001b[0m             \u001b[1;32mtry\u001b[0m\u001b[1;33m:\u001b[0m\u001b[1;33m\u001b[0m\u001b[1;33m\u001b[0m\u001b[0m\n\u001b[1;32m-> 1311\u001b[1;33m                 hp, ht, pid, tid = _winapi.CreateProcess(executable, args,\n\u001b[0m\u001b[0;32m   1312\u001b[0m                                          \u001b[1;31m# no special security\u001b[0m\u001b[1;33m\u001b[0m\u001b[1;33m\u001b[0m\u001b[1;33m\u001b[0m\u001b[0m\n\u001b[0;32m   1313\u001b[0m                                          \u001b[1;32mNone\u001b[0m\u001b[1;33m,\u001b[0m \u001b[1;32mNone\u001b[0m\u001b[1;33m,\u001b[0m\u001b[1;33m\u001b[0m\u001b[1;33m\u001b[0m\u001b[0m\n",
      "\u001b[1;31mFileNotFoundError\u001b[0m: [WinError 2] El sistema no puede encontrar el archivo especificado"
     ]
    }
   ],
   "source": [
    "estimator = rf.estimators_[5]\n",
    "feature_names=[]\n",
    "for col in dfX.columns:\n",
    "    feature_names.append(col)\n",
    "\n",
    "from sklearn.tree import export_graphviz\n",
    "# Export as dot file\n",
    "export_graphviz(estimator, out_file='tree.dot', \n",
    "                feature_names = feature_names,\n",
    "                class_names = feature_names,\n",
    "                rounded = True, proportion = False, \n",
    "                precision = 2, filled = True)\n",
    "\n",
    "# Convert to png using system command (requires Graphviz)\n",
    "from subprocess import call\n",
    "call(['dot', '-Tpng', 'tree.dot', '-o', 'tree.png', '-Gdpi=600'],shell=False)\n",
    "\n",
    "# Find the image on src"
   ]
  }
 ],
 "metadata": {
  "interpreter": {
   "hash": "1275a05ae34f0c315803f9d1758b76ed30a4d7265e5e486823be65aff6a6df27"
  },
  "kernelspec": {
   "display_name": "Python 3.8.10 64-bit (windows store)",
   "name": "python3"
  },
  "language_info": {
   "codemirror_mode": {
    "name": "ipython",
    "version": 3
   },
   "file_extension": ".py",
   "mimetype": "text/x-python",
   "name": "python",
   "nbconvert_exporter": "python",
   "pygments_lexer": "ipython3",
   "version": "3.8.8"
  },
  "orig_nbformat": 4
 },
 "nbformat": 4,
 "nbformat_minor": 2
}

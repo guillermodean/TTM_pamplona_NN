{
 "cells": [
  {
   "cell_type": "code",
   "execution_count": 29,
   "metadata": {},
   "outputs": [],
   "source": [
    "#to install with pip tensorflow i had to change the registry value for longpaths.\n",
    "import pandas as pd\n",
    "import matplotlib.pyplot as plt\n",
    "import re\n",
    "from sklearn.preprocessing import   LabelEncoder\n",
    "from sklearn.linear_model import LogisticRegression\n",
    "import numpy as np"
   ]
  },
  {
   "cell_type": "code",
   "execution_count": 30,
   "metadata": {},
   "outputs": [
    {
     "name": "stderr",
     "output_type": "stream",
     "text": [
      "C:\\Users\\guill\\AppData\\Local\\Packages\\PythonSoftwareFoundation.Python.3.8_qbz5n2kfra8p0\\LocalCache\\local-packages\\Python38\\site-packages\\IPython\\core\\interactiveshell.py:3444: DtypeWarning: Columns (45,46,63) have mixed types.Specify dtype option on import or set low_memory=False.\n",
      "  exec(code_obj, self.user_global_ns, self.user_ns)\n"
     ]
    }
   ],
   "source": [
    "df=pd.read_csv('data/Results_TTM.csv',sep=\";\",header=0)\n",
    "df=df.drop(columns=[\"Step status\",\"Current trend\",\"Torque rate min\",\"Torque rate max\",\"Torque rate trend\",\"CVILOGIX\",\"Identifier6\",\"Identifier7\",\"Identifier8\",\"Identifier9\",\"Identifier10\",\"Second transducer torque deviation\",\"Second transducer angle deviation\",\"Result type\",\"Pulse counter\",\"Angle offset\",\"AO torque rate\"])"
   ]
  },
  {
   "cell_type": "code",
   "execution_count": 31,
   "metadata": {},
   "outputs": [],
   "source": [
    "df=df[['Result status','Result number','Time result','Pset ID','Step ID','Error Code', 'Torque min','Torque','Torque max','Angle min','Angle','Angle max','Pset name','VIN','Identifier1','Identifier2','Identifier3','Identifier4','Identifier5']]"
   ]
  },
  {
   "cell_type": "code",
   "execution_count": 32,
   "metadata": {},
   "outputs": [
    {
     "name": "stdout",
     "output_type": "stream",
     "text": [
      "<class 'pandas.core.frame.DataFrame'>\n",
      "RangeIndex: 400000 entries, 0 to 399999\n",
      "Data columns (total 19 columns):\n",
      " #   Column         Non-Null Count   Dtype  \n",
      "---  ------         --------------   -----  \n",
      " 0   Result status  400000 non-null  object \n",
      " 1   Result number  400000 non-null  int64  \n",
      " 2   Time result    400000 non-null  object \n",
      " 3   Pset ID        399901 non-null  float64\n",
      " 4   Step ID        399901 non-null  float64\n",
      " 5   Error Code     22688 non-null   object \n",
      " 6   Torque min     399901 non-null  float64\n",
      " 7   Torque         400000 non-null  float64\n",
      " 8   Torque max     399901 non-null  float64\n",
      " 9   Angle min      399901 non-null  float64\n",
      " 10  Angle          400000 non-null  float64\n",
      " 11  Angle max      399901 non-null  float64\n",
      " 12  Pset name      399901 non-null  object \n",
      " 13  VIN            172013 non-null  object \n",
      " 14  Identifier1    172013 non-null  object \n",
      " 15  Identifier2    170608 non-null  object \n",
      " 16  Identifier3    168406 non-null  object \n",
      " 17  Identifier4    13920 non-null   object \n",
      " 18  Identifier5    12363 non-null   object \n",
      "dtypes: float64(8), int64(1), object(10)\n",
      "memory usage: 58.0+ MB\n"
     ]
    }
   ],
   "source": [
    "df.info()"
   ]
  },
  {
   "cell_type": "markdown",
   "metadata": {},
   "source": [
    "Rename de columns to avoid spaces."
   ]
  },
  {
   "cell_type": "code",
   "execution_count": 33,
   "metadata": {},
   "outputs": [],
   "source": [
    "df=df.rename(columns={\"Result status\":\"Result_status\",\"Result number\":\"Result_number\",\"Pset ID\":\"Pset_ID\",\"Step ID\":\"Step_ID\",\"Torque min\":\"Torque_min\",\"Torque max\":\"Torque_max\",\"Angle min\":\"Angle_min\",\"Angle max\":\"Angle_max\",\"Pset name\":\"Pset_name\",'Error code':'Error_code','Result_status':'Result_status','Time result':'Time_result'})\n"
   ]
  },
  {
   "cell_type": "markdown",
   "metadata": {},
   "source": [
    "Vamos a mirar a ver cuales de los pares son NOK, filtramos la columna de resultado"
   ]
  },
  {
   "cell_type": "code",
   "execution_count": 34,
   "metadata": {},
   "outputs": [
    {
     "name": "stdout",
     "output_type": "stream",
     "text": [
      "<class 'pandas.core.frame.DataFrame'>\n",
      "Int64Index: 22568 entries, 34 to 399969\n",
      "Data columns (total 19 columns):\n",
      " #   Column         Non-Null Count  Dtype  \n",
      "---  ------         --------------  -----  \n",
      " 0   Result_status  22568 non-null  object \n",
      " 1   Result_number  22568 non-null  int64  \n",
      " 2   Time_result    22568 non-null  object \n",
      " 3   Pset_ID        22568 non-null  float64\n",
      " 4   Step_ID        22568 non-null  float64\n",
      " 5   Error Code     22568 non-null  object \n",
      " 6   Torque_min     22568 non-null  float64\n",
      " 7   Torque         22568 non-null  float64\n",
      " 8   Torque_max     22568 non-null  float64\n",
      " 9   Angle_min      22568 non-null  float64\n",
      " 10  Angle          22568 non-null  float64\n",
      " 11  Angle_max      22568 non-null  float64\n",
      " 12  Pset_name      22568 non-null  object \n",
      " 13  VIN            9477 non-null   object \n",
      " 14  Identifier1    9477 non-null   object \n",
      " 15  Identifier2    9289 non-null   object \n",
      " 16  Identifier3    9301 non-null   object \n",
      " 17  Identifier4    1431 non-null   object \n",
      " 18  Identifier5    1354 non-null   object \n",
      "dtypes: float64(8), int64(1), object(10)\n",
      "memory usage: 3.4+ MB\n"
     ]
    }
   ],
   "source": [
    "df_nok=df[df['Result_status'].str.contains(\"NOK\")]\n",
    "df_nok.info()"
   ]
  },
  {
   "cell_type": "code",
   "execution_count": 35,
   "metadata": {},
   "outputs": [
    {
     "data": {
      "text/html": [
       "<div>\n",
       "<style scoped>\n",
       "    .dataframe tbody tr th:only-of-type {\n",
       "        vertical-align: middle;\n",
       "    }\n",
       "\n",
       "    .dataframe tbody tr th {\n",
       "        vertical-align: top;\n",
       "    }\n",
       "\n",
       "    .dataframe thead th {\n",
       "        text-align: right;\n",
       "    }\n",
       "</style>\n",
       "<table border=\"1\" class=\"dataframe\">\n",
       "  <thead>\n",
       "    <tr style=\"text-align: right;\">\n",
       "      <th></th>\n",
       "      <th>Result_status</th>\n",
       "    </tr>\n",
       "    <tr>\n",
       "      <th>Pset_name</th>\n",
       "      <th></th>\n",
       "    </tr>\n",
       "  </thead>\n",
       "  <tbody>\n",
       "    <tr>\n",
       "      <th>Seat frame front_35Nm</th>\n",
       "      <td>1109</td>\n",
       "    </tr>\n",
       "    <tr>\n",
       "      <th>Armrests 28Nm</th>\n",
       "      <td>990</td>\n",
       "    </tr>\n",
       "    <tr>\n",
       "      <th>Slides 22Nm TX40 ISC</th>\n",
       "      <td>920</td>\n",
       "    </tr>\n",
       "    <tr>\n",
       "      <th>Cross angle back - Swivel_22Nm</th>\n",
       "      <td>885</td>\n",
       "    </tr>\n",
       "    <tr>\n",
       "      <th>Seat frame assy_35Nm_2x59-2_ISC</th>\n",
       "      <td>877</td>\n",
       "    </tr>\n",
       "    <tr>\n",
       "      <th>...</th>\n",
       "      <td>...</td>\n",
       "    </tr>\n",
       "    <tr>\n",
       "      <th>Backrest segment 22Nm ISC_A_BAU</th>\n",
       "      <td>1</td>\n",
       "    </tr>\n",
       "    <tr>\n",
       "      <th>Poka Yoke Check_6xxx</th>\n",
       "      <td>1</td>\n",
       "    </tr>\n",
       "    <tr>\n",
       "      <th>Torque_35Nm</th>\n",
       "      <td>1</td>\n",
       "    </tr>\n",
       "    <tr>\n",
       "      <th>Cross static support to slides 22Nm ISC</th>\n",
       "      <td>1</td>\n",
       "    </tr>\n",
       "    <tr>\n",
       "      <th>Cushion slides_WOOD_10Nm+-2</th>\n",
       "      <td>1</td>\n",
       "    </tr>\n",
       "  </tbody>\n",
       "</table>\n",
       "<p>208 rows × 1 columns</p>\n",
       "</div>"
      ],
      "text/plain": [
       "                                         Result_status\n",
       "Pset_name                                             \n",
       "Seat frame front_35Nm                             1109\n",
       "Armrests 28Nm                                      990\n",
       "Slides 22Nm TX40 ISC                               920\n",
       "Cross angle back - Swivel_22Nm                     885\n",
       "Seat frame assy_35Nm_2x59-2_ISC                    877\n",
       "...                                                ...\n",
       "Backrest segment 22Nm ISC_A_BAU                      1\n",
       "Poka Yoke Check_6xxx                                 1\n",
       "Torque_35Nm                                          1\n",
       "Cross static support to slides 22Nm ISC              1\n",
       "Cushion slides_WOOD_10Nm+-2                          1\n",
       "\n",
       "[208 rows x 1 columns]"
      ]
     },
     "execution_count": 35,
     "metadata": {},
     "output_type": "execute_result"
    }
   ],
   "source": [
    "df_nok['Pset_name'].head()\n",
    "df_nok[['Pset_name','Result_status']].groupby(by='Pset_name').count().sort_values(by=['Result_status'], ascending=False)"
   ]
  },
  {
   "cell_type": "markdown",
   "metadata": {},
   "source": [
    "Vemos que hay un resultado POKA YOKE, es un resultado NOK forzado que se hace para comprobar la herramientas. hay que quitarlos de la muestra."
   ]
  },
  {
   "cell_type": "code",
   "execution_count": 36,
   "metadata": {},
   "outputs": [],
   "source": [
    "df = df[~df[\"Pset_name\"].str.contains(\"Poka\",na=False)]"
   ]
  },
  {
   "cell_type": "code",
   "execution_count": 37,
   "metadata": {},
   "outputs": [
    {
     "data": {
      "text/plain": [
       "Result_status                        object\n",
       "Result_number                         int64\n",
       "Time_result      datetime64[ns, US/Eastern]\n",
       "Pset_ID                             float64\n",
       "Step_ID                             float64\n",
       "Error Code                           object\n",
       "Torque_min                          float64\n",
       "Torque                              float64\n",
       "Torque_max                          float64\n",
       "Angle_min                           float64\n",
       "Angle                               float64\n",
       "Angle_max                           float64\n",
       "Pset_name                            object\n",
       "VIN                                  object\n",
       "Identifier1                          object\n",
       "Identifier2                          object\n",
       "Identifier3                          object\n",
       "Identifier4                          object\n",
       "Identifier5                          object\n",
       "dtype: object"
      ]
     },
     "execution_count": 37,
     "metadata": {},
     "output_type": "execute_result"
    }
   ],
   "source": [
    "df.astype({'Time_result': 'datetime64[ns, US/Eastern]'}).dtypes"
   ]
  },
  {
   "cell_type": "markdown",
   "metadata": {},
   "source": [
    "creamos una columna nueva la columna de resultado que contiene los tesxtos \"NOK\" y \"OK\" en valores numericos."
   ]
  },
  {
   "cell_type": "code",
   "execution_count": 38,
   "metadata": {},
   "outputs": [],
   "source": [
    "df['Resultbin']=df['Result_status']=='OK'"
   ]
  },
  {
   "cell_type": "code",
   "execution_count": 39,
   "metadata": {},
   "outputs": [
    {
     "data": {
      "text/html": [
       "<div>\n",
       "<style scoped>\n",
       "    .dataframe tbody tr th:only-of-type {\n",
       "        vertical-align: middle;\n",
       "    }\n",
       "\n",
       "    .dataframe tbody tr th {\n",
       "        vertical-align: top;\n",
       "    }\n",
       "\n",
       "    .dataframe thead th {\n",
       "        text-align: right;\n",
       "    }\n",
       "</style>\n",
       "<table border=\"1\" class=\"dataframe\">\n",
       "  <thead>\n",
       "    <tr style=\"text-align: right;\">\n",
       "      <th></th>\n",
       "      <th>Result_status</th>\n",
       "      <th>Result_number</th>\n",
       "      <th>Time_result</th>\n",
       "      <th>Pset_ID</th>\n",
       "      <th>Step_ID</th>\n",
       "      <th>Error Code</th>\n",
       "      <th>Torque_min</th>\n",
       "      <th>Torque</th>\n",
       "      <th>Torque_max</th>\n",
       "      <th>Angle_min</th>\n",
       "      <th>Angle</th>\n",
       "      <th>Angle_max</th>\n",
       "      <th>Pset_name</th>\n",
       "      <th>VIN</th>\n",
       "      <th>Identifier1</th>\n",
       "      <th>Identifier2</th>\n",
       "      <th>Identifier3</th>\n",
       "      <th>Identifier4</th>\n",
       "      <th>Identifier5</th>\n",
       "      <th>Resultbin</th>\n",
       "    </tr>\n",
       "  </thead>\n",
       "  <tbody>\n",
       "    <tr>\n",
       "      <th>0</th>\n",
       "      <td>OK</td>\n",
       "      <td>613029</td>\n",
       "      <td>2020-12-10 23:59:12.0</td>\n",
       "      <td>10.0</td>\n",
       "      <td>1.0</td>\n",
       "      <td>NaN</td>\n",
       "      <td>18.0</td>\n",
       "      <td>20.126</td>\n",
       "      <td>22.0</td>\n",
       "      <td>3.0</td>\n",
       "      <td>40.213</td>\n",
       "      <td>100.0</td>\n",
       "      <td>Fixation screw_(60895R01)_20Nm_1x64-5_IF</td>\n",
       "      <td>NaN</td>\n",
       "      <td>NaN</td>\n",
       "      <td>NaN</td>\n",
       "      <td>NaN</td>\n",
       "      <td>NaN</td>\n",
       "      <td>NaN</td>\n",
       "      <td>True</td>\n",
       "    </tr>\n",
       "    <tr>\n",
       "      <th>1</th>\n",
       "      <td>OK</td>\n",
       "      <td>613028</td>\n",
       "      <td>2020-12-10 23:59:08.0</td>\n",
       "      <td>9.0</td>\n",
       "      <td>1.0</td>\n",
       "      <td>NaN</td>\n",
       "      <td>18.0</td>\n",
       "      <td>20.090</td>\n",
       "      <td>22.0</td>\n",
       "      <td>5.0</td>\n",
       "      <td>40.369</td>\n",
       "      <td>100.0</td>\n",
       "      <td>Fixation screw_(318327B01)_20Nm_1x64-4_I</td>\n",
       "      <td>NaN</td>\n",
       "      <td>NaN</td>\n",
       "      <td>NaN</td>\n",
       "      <td>NaN</td>\n",
       "      <td>NaN</td>\n",
       "      <td>NaN</td>\n",
       "      <td>True</td>\n",
       "    </tr>\n",
       "    <tr>\n",
       "      <th>2</th>\n",
       "      <td>OK</td>\n",
       "      <td>613027</td>\n",
       "      <td>2020-12-10 23:58:56.0</td>\n",
       "      <td>3.0</td>\n",
       "      <td>1.0</td>\n",
       "      <td>NaN</td>\n",
       "      <td>20.0</td>\n",
       "      <td>22.219</td>\n",
       "      <td>24.0</td>\n",
       "      <td>5.0</td>\n",
       "      <td>40.389</td>\n",
       "      <td>110.0</td>\n",
       "      <td>Sliders 22Nm_4x65-4_ISC</td>\n",
       "      <td>NaN</td>\n",
       "      <td>NaN</td>\n",
       "      <td>NaN</td>\n",
       "      <td>NaN</td>\n",
       "      <td>NaN</td>\n",
       "      <td>NaN</td>\n",
       "      <td>True</td>\n",
       "    </tr>\n",
       "    <tr>\n",
       "      <th>3</th>\n",
       "      <td>OK</td>\n",
       "      <td>613026</td>\n",
       "      <td>2020-12-10 23:58:48.0</td>\n",
       "      <td>3.0</td>\n",
       "      <td>1.0</td>\n",
       "      <td>NaN</td>\n",
       "      <td>20.0</td>\n",
       "      <td>22.138</td>\n",
       "      <td>24.0</td>\n",
       "      <td>5.0</td>\n",
       "      <td>33.650</td>\n",
       "      <td>110.0</td>\n",
       "      <td>Sliders 22Nm_4x65-4_ISC</td>\n",
       "      <td>NaN</td>\n",
       "      <td>NaN</td>\n",
       "      <td>NaN</td>\n",
       "      <td>NaN</td>\n",
       "      <td>NaN</td>\n",
       "      <td>NaN</td>\n",
       "      <td>True</td>\n",
       "    </tr>\n",
       "    <tr>\n",
       "      <th>4</th>\n",
       "      <td>OK</td>\n",
       "      <td>613025</td>\n",
       "      <td>2020-12-10 23:58:41.0</td>\n",
       "      <td>3.0</td>\n",
       "      <td>1.0</td>\n",
       "      <td>NaN</td>\n",
       "      <td>20.0</td>\n",
       "      <td>22.073</td>\n",
       "      <td>24.0</td>\n",
       "      <td>5.0</td>\n",
       "      <td>43.830</td>\n",
       "      <td>110.0</td>\n",
       "      <td>Sliders 22Nm_4x65-4_ISC</td>\n",
       "      <td>NaN</td>\n",
       "      <td>NaN</td>\n",
       "      <td>NaN</td>\n",
       "      <td>NaN</td>\n",
       "      <td>NaN</td>\n",
       "      <td>NaN</td>\n",
       "      <td>True</td>\n",
       "    </tr>\n",
       "  </tbody>\n",
       "</table>\n",
       "</div>"
      ],
      "text/plain": [
       "  Result_status  Result_number            Time_result  Pset_ID  Step_ID  \\\n",
       "0            OK         613029  2020-12-10 23:59:12.0     10.0      1.0   \n",
       "1            OK         613028  2020-12-10 23:59:08.0      9.0      1.0   \n",
       "2            OK         613027  2020-12-10 23:58:56.0      3.0      1.0   \n",
       "3            OK         613026  2020-12-10 23:58:48.0      3.0      1.0   \n",
       "4            OK         613025  2020-12-10 23:58:41.0      3.0      1.0   \n",
       "\n",
       "  Error Code  Torque_min  Torque  Torque_max  Angle_min   Angle  Angle_max  \\\n",
       "0        NaN        18.0  20.126        22.0        3.0  40.213      100.0   \n",
       "1        NaN        18.0  20.090        22.0        5.0  40.369      100.0   \n",
       "2        NaN        20.0  22.219        24.0        5.0  40.389      110.0   \n",
       "3        NaN        20.0  22.138        24.0        5.0  33.650      110.0   \n",
       "4        NaN        20.0  22.073        24.0        5.0  43.830      110.0   \n",
       "\n",
       "                                  Pset_name  VIN Identifier1 Identifier2  \\\n",
       "0  Fixation screw_(60895R01)_20Nm_1x64-5_IF  NaN         NaN         NaN   \n",
       "1  Fixation screw_(318327B01)_20Nm_1x64-4_I  NaN         NaN         NaN   \n",
       "2                   Sliders 22Nm_4x65-4_ISC  NaN         NaN         NaN   \n",
       "3                   Sliders 22Nm_4x65-4_ISC  NaN         NaN         NaN   \n",
       "4                   Sliders 22Nm_4x65-4_ISC  NaN         NaN         NaN   \n",
       "\n",
       "  Identifier3 Identifier4 Identifier5  Resultbin  \n",
       "0         NaN         NaN         NaN       True  \n",
       "1         NaN         NaN         NaN       True  \n",
       "2         NaN         NaN         NaN       True  \n",
       "3         NaN         NaN         NaN       True  \n",
       "4         NaN         NaN         NaN       True  "
      ]
     },
     "execution_count": 39,
     "metadata": {},
     "output_type": "execute_result"
    }
   ],
   "source": [
    "df.head()\n"
   ]
  },
  {
   "cell_type": "markdown",
   "metadata": {},
   "source": [
    "Aun tenemos columnas que no van a aportar nada a nuestro modelo."
   ]
  },
  {
   "cell_type": "code",
   "execution_count": 40,
   "metadata": {},
   "outputs": [],
   "source": [
    "dfX=df.drop(columns={'Result_status','Result_number','Time_result','Pset_ID','Identifier4','Identifier5','Identifier2','Error Code','Torque','Angle'})"
   ]
  },
  {
   "cell_type": "markdown",
   "metadata": {},
   "source": [
    "con df.info() vamos a ver cuantas columnas contienen resultados nulos y vamos a hacer que toda la muestra tenga columnas con datos que podamos utilizar.\n",
    "Con esta accion podemos hacer que nuestro modelo posterior no sea tan bueno prediciendo los resultados de las columnas que tienen nulls."
   ]
  },
  {
   "cell_type": "code",
   "execution_count": 41,
   "metadata": {},
   "outputs": [
    {
     "name": "stdout",
     "output_type": "stream",
     "text": [
      "<class 'pandas.core.frame.DataFrame'>\n",
      "Int64Index: 398943 entries, 0 to 399999\n",
      "Data columns (total 10 columns):\n",
      " #   Column       Non-Null Count   Dtype  \n",
      "---  ------       --------------   -----  \n",
      " 0   Step_ID      398844 non-null  float64\n",
      " 1   Torque_min   398844 non-null  float64\n",
      " 2   Torque_max   398844 non-null  float64\n",
      " 3   Angle_min    398844 non-null  float64\n",
      " 4   Angle_max    398844 non-null  float64\n",
      " 5   Pset_name    398844 non-null  object \n",
      " 6   VIN          172013 non-null  object \n",
      " 7   Identifier1  172013 non-null  object \n",
      " 8   Identifier3  168406 non-null  object \n",
      " 9   Resultbin    398943 non-null  bool   \n",
      "dtypes: bool(1), float64(5), object(4)\n",
      "memory usage: 30.8+ MB\n"
     ]
    }
   ],
   "source": [
    "dfX.info()"
   ]
  },
  {
   "cell_type": "markdown",
   "metadata": {},
   "source": [
    "Vamos a echar un vistazo a los valores que vamos a quitar. porque se va a reducir mucho la muestra."
   ]
  },
  {
   "cell_type": "code",
   "execution_count": 42,
   "metadata": {},
   "outputs": [
    {
     "name": "stderr",
     "output_type": "stream",
     "text": [
      "C:\\Users\\guill\\AppData\\Local\\Packages\\PythonSoftwareFoundation.Python.3.8_qbz5n2kfra8p0\\LocalCache\\local-packages\\Python38\\site-packages\\pandas\\core\\indexing.py:1684: SettingWithCopyWarning: \n",
      "A value is trying to be set on a copy of a slice from a DataFrame.\n",
      "Try using .loc[row_indexer,col_indexer] = value instead\n",
      "\n",
      "See the caveats in the documentation: https://pandas.pydata.org/pandas-docs/stable/user_guide/indexing.html#returning-a-view-versus-a-copy\n",
      "  self.obj[key] = infer_fill_value(value)\n",
      "C:\\Users\\guill\\AppData\\Local\\Packages\\PythonSoftwareFoundation.Python.3.8_qbz5n2kfra8p0\\LocalCache\\local-packages\\Python38\\site-packages\\pandas\\core\\indexing.py:1817: SettingWithCopyWarning: \n",
      "A value is trying to be set on a copy of a slice from a DataFrame.\n",
      "Try using .loc[row_indexer,col_indexer] = value instead\n",
      "\n",
      "See the caveats in the documentation: https://pandas.pydata.org/pandas-docs/stable/user_guide/indexing.html#returning-a-view-versus-a-copy\n",
      "  self._setitem_single_column(loc, value, pi)\n"
     ]
    },
    {
     "data": {
      "text/html": [
       "<div>\n",
       "<style scoped>\n",
       "    .dataframe tbody tr th:only-of-type {\n",
       "        vertical-align: middle;\n",
       "    }\n",
       "\n",
       "    .dataframe tbody tr th {\n",
       "        vertical-align: top;\n",
       "    }\n",
       "\n",
       "    .dataframe thead th {\n",
       "        text-align: right;\n",
       "    }\n",
       "</style>\n",
       "<table border=\"1\" class=\"dataframe\">\n",
       "  <thead>\n",
       "    <tr style=\"text-align: right;\">\n",
       "      <th></th>\n",
       "      <th>Resultbin</th>\n",
       "    </tr>\n",
       "    <tr>\n",
       "      <th>Pset_name</th>\n",
       "      <th></th>\n",
       "    </tr>\n",
       "  </thead>\n",
       "  <tbody>\n",
       "    <tr>\n",
       "      <th>Sliders 22Nm_4x65-4_ISC</th>\n",
       "      <td>19342</td>\n",
       "    </tr>\n",
       "    <tr>\n",
       "      <th>Backrest_40Nm</th>\n",
       "      <td>10887</td>\n",
       "    </tr>\n",
       "    <tr>\n",
       "      <th>Seat frame assy_35Nm_2x59-2_ISC</th>\n",
       "      <td>10709</td>\n",
       "    </tr>\n",
       "    <tr>\n",
       "      <th>Bearing inclination cap_22Nm_2x59-1_ISC</th>\n",
       "      <td>10022</td>\n",
       "    </tr>\n",
       "    <tr>\n",
       "      <th>Inner carrier_22Nm_2x59-3_ISC</th>\n",
       "      <td>9927</td>\n",
       "    </tr>\n",
       "    <tr>\n",
       "      <th>...</th>\n",
       "      <td>...</td>\n",
       "    </tr>\n",
       "    <tr>\n",
       "      <th>Cushion slides_WOOD_10Nm+-2</th>\n",
       "      <td>80</td>\n",
       "    </tr>\n",
       "    <tr>\n",
       "      <th>Embocar Profiles 30Nm ISC</th>\n",
       "      <td>77</td>\n",
       "    </tr>\n",
       "    <tr>\n",
       "      <th>Slides 22Nm TX40 ISC</th>\n",
       "      <td>6</td>\n",
       "    </tr>\n",
       "    <tr>\n",
       "      <th>Torque 35Nm</th>\n",
       "      <td>4</td>\n",
       "    </tr>\n",
       "    <tr>\n",
       "      <th>Inner carrier 22Nm HEX8 ISC</th>\n",
       "      <td>1</td>\n",
       "    </tr>\n",
       "  </tbody>\n",
       "</table>\n",
       "<p>61 rows × 1 columns</p>\n",
       "</div>"
      ],
      "text/plain": [
       "                                         Resultbin\n",
       "Pset_name                                         \n",
       "Sliders 22Nm_4x65-4_ISC                      19342\n",
       "Backrest_40Nm                                10887\n",
       "Seat frame assy_35Nm_2x59-2_ISC              10709\n",
       "Bearing inclination cap_22Nm_2x59-1_ISC      10022\n",
       "Inner carrier_22Nm_2x59-3_ISC                 9927\n",
       "...                                            ...\n",
       "Cushion slides_WOOD_10Nm+-2                     80\n",
       "Embocar Profiles 30Nm ISC                       77\n",
       "Slides 22Nm TX40 ISC                             6\n",
       "Torque 35Nm                                      4\n",
       "Inner carrier 22Nm HEX8 ISC                      1\n",
       "\n",
       "[61 rows x 1 columns]"
      ]
     },
     "execution_count": 42,
     "metadata": {},
     "output_type": "execute_result"
    }
   ],
   "source": [
    "\n",
    "df_NANs=dfX[['Pset_name','Identifier1','Identifier3','Resultbin']]\n",
    "df_NANs.loc[df_NANs['Identifier1'].isnull(),'value_is_NaN'] = 'Yes'\n",
    "df_NANs.loc[df_NANs['Identifier1'].notnull(), 'value_is_NaN'] = 'No'\n",
    "df_NANs = df_NANs[df_NANs[\"value_is_NaN\"].str.contains(\"Yes\",na=False)]\n",
    "df_NANs[['Pset_name','Resultbin']].groupby(by='Pset_name').count().sort_values(by='Resultbin',ascending=False)\n",
    "\n"
   ]
  },
  {
   "cell_type": "markdown",
   "metadata": {},
   "source": [
    "Estamos perdiendo valores OK y NOK de las líneas NTS1 y NTS2 que no guardan valueIdentifiers. Es decir que el analisis se va a focalizar en las líneas:\n",
    "1. ALter BAU\n",
    "2. Alter BUS\n",
    "3. Tapizado NTS1\n",
    "4. Tapizado NTS2\n",
    "5. NTS1 BAU\n",
    "Vamos a proceder a eliminar los resultados nulos del Df"
   ]
  },
  {
   "cell_type": "code",
   "execution_count": 43,
   "metadata": {},
   "outputs": [
    {
     "name": "stdout",
     "output_type": "stream",
     "text": [
      "<class 'pandas.core.frame.DataFrame'>\n",
      "Int64Index: 168002 entries, 10 to 399996\n",
      "Data columns (total 10 columns):\n",
      " #   Column       Non-Null Count   Dtype  \n",
      "---  ------       --------------   -----  \n",
      " 0   Step_ID      168002 non-null  float64\n",
      " 1   Torque_min   168002 non-null  float64\n",
      " 2   Torque_max   168002 non-null  float64\n",
      " 3   Angle_min    168002 non-null  float64\n",
      " 4   Angle_max    168002 non-null  float64\n",
      " 5   Pset_name    168002 non-null  object \n",
      " 6   VIN          168002 non-null  object \n",
      " 7   Identifier1  168002 non-null  object \n",
      " 8   Identifier3  168002 non-null  object \n",
      " 9   Resultbin    168002 non-null  bool   \n",
      "dtypes: bool(1), float64(5), object(4)\n",
      "memory usage: 13.0+ MB\n"
     ]
    }
   ],
   "source": [
    "dfX=dfX.dropna()\n",
    "dfX = dfX[pd.to_numeric(dfX['Identifier3'],errors='coerce').notna()]\n",
    "dfX.info()"
   ]
  },
  {
   "cell_type": "markdown",
   "metadata": {},
   "source": [
    "Observamos ahora que tenemos 168.002 registros no nulos con los que podemos elaborar un modelo. vamos a ver el porcentaje de aprietes NOK totales.  "
   ]
  },
  {
   "cell_type": "code",
   "execution_count": 44,
   "metadata": {},
   "outputs": [
    {
     "data": {
      "text/html": [
       "<div>\n",
       "<style scoped>\n",
       "    .dataframe tbody tr th:only-of-type {\n",
       "        vertical-align: middle;\n",
       "    }\n",
       "\n",
       "    .dataframe tbody tr th {\n",
       "        vertical-align: top;\n",
       "    }\n",
       "\n",
       "    .dataframe thead th {\n",
       "        text-align: right;\n",
       "    }\n",
       "</style>\n",
       "<table border=\"1\" class=\"dataframe\">\n",
       "  <thead>\n",
       "    <tr style=\"text-align: right;\">\n",
       "      <th></th>\n",
       "      <th>Step_ID</th>\n",
       "    </tr>\n",
       "    <tr>\n",
       "      <th>Resultbin</th>\n",
       "      <th></th>\n",
       "    </tr>\n",
       "  </thead>\n",
       "  <tbody>\n",
       "    <tr>\n",
       "      <th>False</th>\n",
       "      <td>9236</td>\n",
       "    </tr>\n",
       "    <tr>\n",
       "      <th>True</th>\n",
       "      <td>158766</td>\n",
       "    </tr>\n",
       "  </tbody>\n",
       "</table>\n",
       "</div>"
      ],
      "text/plain": [
       "           Step_ID\n",
       "Resultbin         \n",
       "False         9236\n",
       "True        158766"
      ]
     },
     "execution_count": 44,
     "metadata": {},
     "output_type": "execute_result"
    }
   ],
   "source": [
    "dfX[['Resultbin','Step_ID']].groupby(by='Resultbin').count()"
   ]
  },
  {
   "cell_type": "code",
   "execution_count": 45,
   "metadata": {},
   "outputs": [
    {
     "data": {
      "text/plain": [
       "0.05391998355654818"
      ]
     },
     "execution_count": 45,
     "metadata": {},
     "output_type": "execute_result"
    }
   ],
   "source": [
    "OKS = len(df[df[\"Result_status\"].str.contains(\"OK\",na=False)])\n",
    "NOKS=len(df[df[\"Result_status\"].str.contains(\"NOK\",na=False)])\n",
    "NOKS/OKS"
   ]
  },
  {
   "cell_type": "markdown",
   "metadata": {},
   "source": [
    "Tenemos un 5% de pares malos en este conjunto de datos."
   ]
  },
  {
   "cell_type": "code",
   "execution_count": 46,
   "metadata": {},
   "outputs": [],
   "source": [
    "enc=LabelEncoder()\n",
    "dfX=df[['Torque_min','Torque_max','Angle_min','Angle_max','Pset_name',\t'Identifier1','Identifier3','Resultbin']].dropna()\n",
    "dfX['Identifier3'] = df['Identifier3'].astype('string',copy=False)\n",
    "dfX['Pset_name_cat'] = enc.fit_transform(dfX['Pset_name'])\n",
    "dfX['Modelo'] = enc.fit_transform(dfX['Identifier1'])\n",
    "dfX[['Identifier3','Resultbin']].groupby(by=\"Identifier3\").count()\n",
    "dfX[dfX['Identifier3'].apply(lambda x: x.isnumeric())]\n",
    "dfX['Trabajador'] = enc.fit_transform(dfX['Identifier3'])\n"
   ]
  },
  {
   "cell_type": "code",
   "execution_count": 47,
   "metadata": {},
   "outputs": [
    {
     "data": {
      "text/html": [
       "<div>\n",
       "<style scoped>\n",
       "    .dataframe tbody tr th:only-of-type {\n",
       "        vertical-align: middle;\n",
       "    }\n",
       "\n",
       "    .dataframe tbody tr th {\n",
       "        vertical-align: top;\n",
       "    }\n",
       "\n",
       "    .dataframe thead th {\n",
       "        text-align: right;\n",
       "    }\n",
       "</style>\n",
       "<table border=\"1\" class=\"dataframe\">\n",
       "  <thead>\n",
       "    <tr style=\"text-align: right;\">\n",
       "      <th></th>\n",
       "      <th>Torque_min</th>\n",
       "      <th>Torque_max</th>\n",
       "      <th>Angle_min</th>\n",
       "      <th>Angle_max</th>\n",
       "      <th>Pset_name</th>\n",
       "      <th>Identifier1</th>\n",
       "      <th>Identifier3</th>\n",
       "      <th>Resultbin</th>\n",
       "      <th>Pset_name_cat</th>\n",
       "      <th>Modelo</th>\n",
       "      <th>Trabajador</th>\n",
       "    </tr>\n",
       "  </thead>\n",
       "  <tbody>\n",
       "    <tr>\n",
       "      <th>10</th>\n",
       "      <td>14.0</td>\n",
       "      <td>18.0</td>\n",
       "      <td>0.0</td>\n",
       "      <td>3000.0</td>\n",
       "      <td>Guide bolt 16Nm TX40 N</td>\n",
       "      <td>######814821-01/00</td>\n",
       "      <td>2356.0</td>\n",
       "      <td>True</td>\n",
       "      <td>70</td>\n",
       "      <td>115</td>\n",
       "      <td>38</td>\n",
       "    </tr>\n",
       "    <tr>\n",
       "      <th>12</th>\n",
       "      <td>30.0</td>\n",
       "      <td>40.0</td>\n",
       "      <td>0.0</td>\n",
       "      <td>3000.0</td>\n",
       "      <td>Belt 3rd point 35Nm TX45 ISC</td>\n",
       "      <td>######814821-01/00</td>\n",
       "      <td>2356.0</td>\n",
       "      <td>True</td>\n",
       "      <td>24</td>\n",
       "      <td>115</td>\n",
       "      <td>38</td>\n",
       "    </tr>\n",
       "    <tr>\n",
       "      <th>13</th>\n",
       "      <td>30.0</td>\n",
       "      <td>40.0</td>\n",
       "      <td>0.0</td>\n",
       "      <td>3000.0</td>\n",
       "      <td>Belt reel 35Nm TX45 ISC</td>\n",
       "      <td>######814821-01/00</td>\n",
       "      <td>2356.0</td>\n",
       "      <td>True</td>\n",
       "      <td>36</td>\n",
       "      <td>115</td>\n",
       "      <td>38</td>\n",
       "    </tr>\n",
       "    <tr>\n",
       "      <th>17</th>\n",
       "      <td>7.0</td>\n",
       "      <td>13.0</td>\n",
       "      <td>0.0</td>\n",
       "      <td>3000.0</td>\n",
       "      <td>Bearing bolt 10Nm TX30 N</td>\n",
       "      <td>######814821-01/00</td>\n",
       "      <td>2369.0</td>\n",
       "      <td>True</td>\n",
       "      <td>19</td>\n",
       "      <td>115</td>\n",
       "      <td>45</td>\n",
       "    </tr>\n",
       "    <tr>\n",
       "      <th>18</th>\n",
       "      <td>20.0</td>\n",
       "      <td>22.0</td>\n",
       "      <td>0.0</td>\n",
       "      <td>4000.0</td>\n",
       "      <td>Inner carrier 21Nm HEX8 ISC</td>\n",
       "      <td>552002110602000</td>\n",
       "      <td>2401.0</td>\n",
       "      <td>True</td>\n",
       "      <td>73</td>\n",
       "      <td>312</td>\n",
       "      <td>73</td>\n",
       "    </tr>\n",
       "    <tr>\n",
       "      <th>...</th>\n",
       "      <td>...</td>\n",
       "      <td>...</td>\n",
       "      <td>...</td>\n",
       "      <td>...</td>\n",
       "      <td>...</td>\n",
       "      <td>...</td>\n",
       "      <td>...</td>\n",
       "      <td>...</td>\n",
       "      <td>...</td>\n",
       "      <td>...</td>\n",
       "      <td>...</td>\n",
       "    </tr>\n",
       "    <tr>\n",
       "      <th>399990</th>\n",
       "      <td>20.0</td>\n",
       "      <td>30.0</td>\n",
       "      <td>0.0</td>\n",
       "      <td>500.0</td>\n",
       "      <td>Belt in backrest frame 25Nm TX45 ISC</td>\n",
       "      <td>######815202-02/00</td>\n",
       "      <td>2395.0</td>\n",
       "      <td>True</td>\n",
       "      <td>29</td>\n",
       "      <td>120</td>\n",
       "      <td>67</td>\n",
       "    </tr>\n",
       "    <tr>\n",
       "      <th>399991</th>\n",
       "      <td>30.0</td>\n",
       "      <td>40.0</td>\n",
       "      <td>0.0</td>\n",
       "      <td>3000.0</td>\n",
       "      <td>Seat frame assy 35Nm TX40 ISC</td>\n",
       "      <td>#######89161-05/00</td>\n",
       "      <td>2362.0</td>\n",
       "      <td>True</td>\n",
       "      <td>90</td>\n",
       "      <td>41</td>\n",
       "      <td>42</td>\n",
       "    </tr>\n",
       "    <tr>\n",
       "      <th>399994</th>\n",
       "      <td>30.0</td>\n",
       "      <td>40.0</td>\n",
       "      <td>0.0</td>\n",
       "      <td>350.0</td>\n",
       "      <td>Belt buckle 35Nm TX45 ISC</td>\n",
       "      <td>#######89161-05/00</td>\n",
       "      <td>2455.0</td>\n",
       "      <td>True</td>\n",
       "      <td>27</td>\n",
       "      <td>41</td>\n",
       "      <td>89</td>\n",
       "    </tr>\n",
       "    <tr>\n",
       "      <th>399995</th>\n",
       "      <td>20.0</td>\n",
       "      <td>24.0</td>\n",
       "      <td>0.0</td>\n",
       "      <td>220.0</td>\n",
       "      <td>Bearing inclination cap 22Nm HEX8 ISC</td>\n",
       "      <td>#######89161-05/00</td>\n",
       "      <td>2362.0</td>\n",
       "      <td>True</td>\n",
       "      <td>21</td>\n",
       "      <td>41</td>\n",
       "      <td>42</td>\n",
       "    </tr>\n",
       "    <tr>\n",
       "      <th>399996</th>\n",
       "      <td>20.0</td>\n",
       "      <td>24.0</td>\n",
       "      <td>0.0</td>\n",
       "      <td>220.0</td>\n",
       "      <td>Bearing inclination cap 22Nm HEX8 ISC</td>\n",
       "      <td>#######89161-05/00</td>\n",
       "      <td>2362.0</td>\n",
       "      <td>True</td>\n",
       "      <td>21</td>\n",
       "      <td>41</td>\n",
       "      <td>42</td>\n",
       "    </tr>\n",
       "  </tbody>\n",
       "</table>\n",
       "<p>168021 rows × 11 columns</p>\n",
       "</div>"
      ],
      "text/plain": [
       "        Torque_min  Torque_max  Angle_min  Angle_max  \\\n",
       "10            14.0        18.0        0.0     3000.0   \n",
       "12            30.0        40.0        0.0     3000.0   \n",
       "13            30.0        40.0        0.0     3000.0   \n",
       "17             7.0        13.0        0.0     3000.0   \n",
       "18            20.0        22.0        0.0     4000.0   \n",
       "...            ...         ...        ...        ...   \n",
       "399990        20.0        30.0        0.0      500.0   \n",
       "399991        30.0        40.0        0.0     3000.0   \n",
       "399994        30.0        40.0        0.0      350.0   \n",
       "399995        20.0        24.0        0.0      220.0   \n",
       "399996        20.0        24.0        0.0      220.0   \n",
       "\n",
       "                                    Pset_name         Identifier1 Identifier3  \\\n",
       "10                     Guide bolt 16Nm TX40 N  ######814821-01/00      2356.0   \n",
       "12               Belt 3rd point 35Nm TX45 ISC  ######814821-01/00      2356.0   \n",
       "13                    Belt reel 35Nm TX45 ISC  ######814821-01/00      2356.0   \n",
       "17                   Bearing bolt 10Nm TX30 N  ######814821-01/00      2369.0   \n",
       "18                Inner carrier 21Nm HEX8 ISC     552002110602000      2401.0   \n",
       "...                                       ...                 ...         ...   \n",
       "399990   Belt in backrest frame 25Nm TX45 ISC  ######815202-02/00      2395.0   \n",
       "399991          Seat frame assy 35Nm TX40 ISC  #######89161-05/00      2362.0   \n",
       "399994              Belt buckle 35Nm TX45 ISC  #######89161-05/00      2455.0   \n",
       "399995  Bearing inclination cap 22Nm HEX8 ISC  #######89161-05/00      2362.0   \n",
       "399996  Bearing inclination cap 22Nm HEX8 ISC  #######89161-05/00      2362.0   \n",
       "\n",
       "        Resultbin  Pset_name_cat  Modelo  Trabajador  \n",
       "10           True             70     115          38  \n",
       "12           True             24     115          38  \n",
       "13           True             36     115          38  \n",
       "17           True             19     115          45  \n",
       "18           True             73     312          73  \n",
       "...           ...            ...     ...         ...  \n",
       "399990       True             29     120          67  \n",
       "399991       True             90      41          42  \n",
       "399994       True             27      41          89  \n",
       "399995       True             21      41          42  \n",
       "399996       True             21      41          42  \n",
       "\n",
       "[168021 rows x 11 columns]"
      ]
     },
     "execution_count": 47,
     "metadata": {},
     "output_type": "execute_result"
    }
   ],
   "source": [
    "dfX\n"
   ]
  },
  {
   "cell_type": "markdown",
   "metadata": {},
   "source": [
    "Ok, ahora vamos a dejar el df solo con las columnas que nos interesan y empezaremos a preparar nuestro modelo."
   ]
  },
  {
   "cell_type": "code",
   "execution_count": 48,
   "metadata": {},
   "outputs": [],
   "source": [
    "y=np.array(dfX['Resultbin'])\n",
    "dfX=dfX.drop(columns={'Resultbin','Pset_name','Identifier1','Identifier3'})\n",
    "X=dfX.values\n"
   ]
  },
  {
   "cell_type": "code",
   "execution_count": 49,
   "metadata": {},
   "outputs": [],
   "source": [
    "from sklearn.model_selection import KFold\n",
    "from sklearn.preprocessing import MinMaxScaler\n",
    "import tensorflow as tf\n",
    "from tensorflow.keras.models import Sequential\n",
    "from tensorflow.keras.layers import Activation, Dense\n",
    "from tensorflow.keras.optimizers import Adam\n",
    "from tensorflow.keras.metrics import categorical_crossentropy\n",
    "\n",
    "scaler = MinMaxScaler(feature_range=(0,1))\n",
    "scaled_samples= scaler.fit_transform(y.reshape(-1,1))\n",
    "\n",
    "\n",
    "\n",
    "kf=KFold(n_splits=3, shuffle=True)"
   ]
  }
 ],
 "metadata": {
  "interpreter": {
   "hash": "1275a05ae34f0c315803f9d1758b76ed30a4d7265e5e486823be65aff6a6df27"
  },
  "kernelspec": {
   "display_name": "Python 3.8.10 64-bit (windows store)",
   "name": "python3"
  },
  "language_info": {
   "codemirror_mode": {
    "name": "ipython",
    "version": 3
   },
   "file_extension": ".py",
   "mimetype": "text/x-python",
   "name": "python",
   "nbconvert_exporter": "python",
   "pygments_lexer": "ipython3",
   "version": "3.8.10"
  },
  "orig_nbformat": 4
 },
 "nbformat": 4,
 "nbformat_minor": 2
}

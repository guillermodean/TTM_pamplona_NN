{
 "cells": [
  {
   "cell_type": "markdown",
   "metadata": {},
   "source": [
    "# Analyzing and predicting nok torques given by electronic screwdrivers in a seat factory.\n",
    "---\n",
    "## Author: Guillermo Dean\n",
    "\n",
    "\n",
    "### **Interpreter:** conda env with python 3.8.8\n",
    "### **Data:** Isringhausen Spain SLU 2 months of torque results from  CVINET\n",
    "\n",
    "---\n",
    "\n",
    "#### Needed Nvidia CUDA  [CuDNN](https://www.tensorflow.org/install/gpu?hl=es-419) and all intallation on the link\n",
    "#### to install with pip tensorflow i had to change the registry value for longpaths."
   ]
  },
  {
   "cell_type": "code",
   "execution_count": 87,
   "metadata": {},
   "outputs": [],
   "source": [
    "\n",
    "import pandas as pd\n",
    "import matplotlib.pyplot as plt\n",
    "from sklearn.preprocessing import   LabelEncoder\n",
    "from sklearn.linear_model import LogisticRegression\n",
    "import numpy as np\n",
    "import sklearn"
   ]
  },
  {
   "cell_type": "markdown",
   "metadata": {},
   "source": [
    "## Data processing and exploration\n",
    "\n",
    "Let's read the data set that is stored in data folder"
   ]
  },
  {
   "cell_type": "code",
   "execution_count": 88,
   "metadata": {},
   "outputs": [
    {
     "name": "stderr",
     "output_type": "stream",
     "text": [
      "C:\\ProgramData\\Anaconda3\\lib\\site-packages\\IPython\\core\\interactiveshell.py:3165: DtypeWarning: Columns (45,46,63) have mixed types.Specify dtype option on import or set low_memory=False.\n",
      "  has_raised = await self.run_ast_nodes(code_ast.body, cell_name,\n"
     ]
    },
    {
     "name": "stdout",
     "output_type": "stream",
     "text": [
      "<class 'pandas.core.frame.DataFrame'>\n",
      "RangeIndex: 400000 entries, 0 to 399999\n",
      "Data columns (total 64 columns):\n",
      " #   Column                              Non-Null Count   Dtype  \n",
      "---  ------                              --------------   -----  \n",
      " 0   Result status                       400000 non-null  object \n",
      " 1   Tool status                         400000 non-null  object \n",
      " 2   Step status                         0 non-null       float64\n",
      " 3   Result number                       400000 non-null  int64  \n",
      " 4   Time result                         400000 non-null  object \n",
      " 5   Pset ID                             399901 non-null  float64\n",
      " 6   Step ID                             399901 non-null  float64\n",
      " 7   Error Code                          22688 non-null   object \n",
      " 8   Stop source                         400000 non-null  object \n",
      " 9   Torque min                          399901 non-null  float64\n",
      " 10  Torque                              400000 non-null  float64\n",
      " 11  Torque max                          399901 non-null  float64\n",
      " 12  Torque trend                        399712 non-null  object \n",
      " 13  Angle min                           399901 non-null  float64\n",
      " 14  Angle                               400000 non-null  float64\n",
      " 15  Angle max                           399901 non-null  float64\n",
      " 16  Angle trend                         399901 non-null  object \n",
      " 17  Current min (A)                     399901 non-null  float64\n",
      " 18  Current (A)                         400000 non-null  float64\n",
      " 19  Current max (A)                     399901 non-null  float64\n",
      " 20  Current min (%)                     399901 non-null  float64\n",
      " 21  Current (%)                         400000 non-null  float64\n",
      " 22  Current max (%)                     399901 non-null  float64\n",
      " 23  Current trend                       0 non-null       float64\n",
      " 24  Torque rate min                     0 non-null       float64\n",
      " 25  Torque rate                         400000 non-null  float64\n",
      " 26  Torque rate max                     0 non-null       float64\n",
      " 27  Torque rate trend                   0 non-null       float64\n",
      " 28  Spindle comment                     400000 non-null  object \n",
      " 29  Controller name                     400000 non-null  object \n",
      " 30  Controller type                     400000 non-null  object \n",
      " 31  Controller serial no.               400000 non-null  int64  \n",
      " 32  IP address                          400000 non-null  object \n",
      " 33  Tightening unit name                400000 non-null  object \n",
      " 34  Tightening unit ID                  400000 non-null  int64  \n",
      " 35  Tool ID                             400000 non-null  int64  \n",
      " 36  Tool serial no.                     400000 non-null  object \n",
      " 37  Cable serial number                 400000 non-null  int64  \n",
      " 38  Pset name                           399901 non-null  object \n",
      " 39  VIN                                 172013 non-null  object \n",
      " 40  CVILOGIX                            0 non-null       float64\n",
      " 41  Torque trend (monitoring)           400000 non-null  object \n",
      " 42  Angle trend (monitoring)            400000 non-null  object \n",
      " 43  Batch                               400000 non-null  object \n",
      " 44  Identifier1                         172013 non-null  object \n",
      " 45  Identifier2                         170608 non-null  object \n",
      " 46  Identifier3                         168406 non-null  object \n",
      " 47  Identifier4                         13920 non-null   object \n",
      " 48  Identifier5                         12363 non-null   object \n",
      " 49  Identifier6                         0 non-null       float64\n",
      " 50  Identifier7                         0 non-null       float64\n",
      " 51  Identifier8                         0 non-null       float64\n",
      " 52  Identifier9                         0 non-null       float64\n",
      " 53  Identifier10                        0 non-null       float64\n",
      " 54  Torque (monitoring)                 400000 non-null  object \n",
      " 55  Second transducer torque deviation  0 non-null       float64\n",
      " 56  Angle (monitoring)                  400000 non-null  object \n",
      " 57  Second transducer angle deviation   0 non-null       float64\n",
      " 58  Controlling transducer              400000 non-null  int64  \n",
      " 59  Result type                         0 non-null       float64\n",
      " 60  Pulse counter                       0 non-null       float64\n",
      " 61  Angle offset                        0 non-null       float64\n",
      " 62  AO torque rate                      0 non-null       float64\n",
      " 63  Angle Threshold                     400000 non-null  object \n",
      "dtypes: float64(32), int64(6), object(26)\n",
      "memory usage: 195.3+ MB\n"
     ]
    }
   ],
   "source": [
    "df=pd.read_csv('data/Results_TTM.csv',sep=\";\",header=0)\n",
    "df.info()\n"
   ]
  },
  {
   "cell_type": "markdown",
   "metadata": {},
   "source": [
    "We remove all the columns with all null values"
   ]
  },
  {
   "cell_type": "code",
   "execution_count": 89,
   "metadata": {},
   "outputs": [],
   "source": [
    "df=df.drop(columns=[\"Step status\",\"Current trend\",\"Torque rate min\",\"Torque rate max\",\"Torque rate trend\",\"CVILOGIX\",\"Identifier6\",\"Identifier7\",\"Identifier8\",\"Identifier9\",\"Identifier10\",\"Second transducer torque deviation\",\"Second transducer angle deviation\",\"Result type\",\"Pulse counter\",\"Angle offset\",\"AO torque rate\"])"
   ]
  },
  {
   "cell_type": "code",
   "execution_count": 90,
   "metadata": {},
   "outputs": [
    {
     "name": "stdout",
     "output_type": "stream",
     "text": [
      "<bound method NDFrame.describe of        Result status Tool status  Result number            Time result  \\\n",
      "0                 OK          OK         613029  2020-12-10 23:59:12.0   \n",
      "1                 OK          OK         613028  2020-12-10 23:59:08.0   \n",
      "2                 OK          OK         613027  2020-12-10 23:58:56.0   \n",
      "3                 OK          OK         613026  2020-12-10 23:58:48.0   \n",
      "4                 OK          OK         613025  2020-12-10 23:58:41.0   \n",
      "...              ...         ...            ...                    ...   \n",
      "399995            OK          OK         286841  2020-09-29 18:51:08.0   \n",
      "399996            OK          OK         286840  2020-09-29 18:51:03.0   \n",
      "399997            OK          OK         760759  2020-09-29 18:50:45.0   \n",
      "399998            OK          OK         487287  2020-09-29 18:50:40.0   \n",
      "399999            OK          OK         356116  2020-09-29 18:50:37.0   \n",
      "\n",
      "        Pset ID  Step ID Error Code     Stop source  Torque min  Torque  ...  \\\n",
      "0          10.0      1.0        NaN  Target reached        18.0  20.126  ...   \n",
      "1           9.0      1.0        NaN  Target reached        18.0  20.090  ...   \n",
      "2           3.0      1.0        NaN  Target reached        20.0  22.219  ...   \n",
      "3           3.0      1.0        NaN  Target reached        20.0  22.138  ...   \n",
      "4           3.0      1.0        NaN  Target reached        20.0  22.073  ...   \n",
      "...         ...      ...        ...             ...         ...     ...  ...   \n",
      "399995      5.0      1.0        NaN  Target reached        20.0  22.422  ...   \n",
      "399996      5.0      1.0        NaN  Target reached        20.0  22.154  ...   \n",
      "399997     16.0      1.0        NaN  Target reached         8.0  10.049  ...   \n",
      "399998     21.0      1.0        NaN  Target reached         3.5   4.543  ...   \n",
      "399999     18.0      1.0        NaN  Target reached        35.0  37.966  ...   \n",
      "\n",
      "        Batch         Identifier1        Identifier2  Identifier3  \\\n",
      "0        1(0)                 NaN                NaN          NaN   \n",
      "1        1(0)                 NaN                NaN          NaN   \n",
      "2        1(0)                 NaN                NaN          NaN   \n",
      "3        1(0)                 NaN                NaN          NaN   \n",
      "4        1(0)                 NaN                NaN          NaN   \n",
      "...       ...                 ...                ...          ...   \n",
      "399995   2(2)  #######89161-05/00  552001922428000.0       2362.0   \n",
      "399996   1(2)  #######89161-05/00  552001922428000.0       2362.0   \n",
      "399997   1(0)                 NaN                NaN          NaN   \n",
      "399998   1(0)                 NaN                NaN          NaN   \n",
      "399999   1(0)                 NaN                NaN          NaN   \n",
      "\n",
      "        Identifier4 Identifier5  Torque (monitoring)  Angle (monitoring)  \\\n",
      "0               NaN         NaN                  ---                 ---   \n",
      "1               NaN         NaN                  ---                 ---   \n",
      "2               NaN         NaN                  ---                 ---   \n",
      "3               NaN         NaN                  ---                 ---   \n",
      "4               NaN         NaN                  ---                 ---   \n",
      "...             ...         ...                  ...                 ...   \n",
      "399995          NaN         NaN                  ---                 ---   \n",
      "399996          NaN         NaN                  ---                 ---   \n",
      "399997          NaN         NaN                  ---                 ---   \n",
      "399998          NaN         NaN                  ---                 ---   \n",
      "399999          NaN         NaN                  ---                 ---   \n",
      "\n",
      "        Controlling transducer  Angle Threshold   \n",
      "0                            0              10.0  \n",
      "1                            0              10.0  \n",
      "2                            0              11.0  \n",
      "3                            0              11.0  \n",
      "4                            0              11.0  \n",
      "...                        ...               ...  \n",
      "399995                       0               7.0  \n",
      "399996                       0               7.0  \n",
      "399997                       0               4.0  \n",
      "399998                       0               3.7  \n",
      "399999                       0              19.0  \n",
      "\n",
      "[400000 rows x 47 columns]>\n"
     ]
    }
   ],
   "source": [
    "print(df.describe)\n",
    "df=df[['Result status','Result number','Time result','Pset ID','Step ID','Error Code', 'Torque min','Torque','Torque max','Angle min','Angle','Angle max','Pset name','VIN','Identifier1','Identifier2','Identifier3','Identifier4','Identifier5']]"
   ]
  },
  {
   "cell_type": "markdown",
   "metadata": {},
   "source": [
    "We are left with the columns that have interesting values and we remove all the columns that contain many nulls"
   ]
  },
  {
   "cell_type": "code",
   "execution_count": 91,
   "metadata": {},
   "outputs": [
    {
     "name": "stdout",
     "output_type": "stream",
     "text": [
      "<class 'pandas.core.frame.DataFrame'>\n",
      "RangeIndex: 400000 entries, 0 to 399999\n",
      "Data columns (total 19 columns):\n",
      " #   Column         Non-Null Count   Dtype  \n",
      "---  ------         --------------   -----  \n",
      " 0   Result status  400000 non-null  object \n",
      " 1   Result number  400000 non-null  int64  \n",
      " 2   Time result    400000 non-null  object \n",
      " 3   Pset ID        399901 non-null  float64\n",
      " 4   Step ID        399901 non-null  float64\n",
      " 5   Error Code     22688 non-null   object \n",
      " 6   Torque min     399901 non-null  float64\n",
      " 7   Torque         400000 non-null  float64\n",
      " 8   Torque max     399901 non-null  float64\n",
      " 9   Angle min      399901 non-null  float64\n",
      " 10  Angle          400000 non-null  float64\n",
      " 11  Angle max      399901 non-null  float64\n",
      " 12  Pset name      399901 non-null  object \n",
      " 13  VIN            172013 non-null  object \n",
      " 14  Identifier1    172013 non-null  object \n",
      " 15  Identifier2    170608 non-null  object \n",
      " 16  Identifier3    168406 non-null  object \n",
      " 17  Identifier4    13920 non-null   object \n",
      " 18  Identifier5    12363 non-null   object \n",
      "dtypes: float64(8), int64(1), object(10)\n",
      "memory usage: 58.0+ MB\n"
     ]
    }
   ],
   "source": [
    "df.info()"
   ]
  },
  {
   "cell_type": "markdown",
   "metadata": {},
   "source": [
    "We rename the columns to eliminate the spaces."
   ]
  },
  {
   "cell_type": "code",
   "execution_count": 92,
   "metadata": {},
   "outputs": [],
   "source": [
    "df=df.rename(columns={\"Result status\":\"Result_status\",\"Result number\":\"Result_number\",\"Pset ID\":\"Pset_ID\",\"Step ID\":\"Step_ID\",\"Torque min\":\"Torque_min\",\"Torque max\":\"Torque_max\",\"Angle min\":\"Angle_min\",\"Angle max\":\"Angle_max\",\"Pset name\":\"Pset_name\",'Error code':'Error_code','Result_status':'Result_status','Time result':'Time_result'})\n"
   ]
  },
  {
   "cell_type": "markdown",
   "metadata": {},
   "source": [
    "We are going to see which of the torques are NOK, we filter the result column"
   ]
  },
  {
   "cell_type": "code",
   "execution_count": 93,
   "metadata": {},
   "outputs": [
    {
     "name": "stdout",
     "output_type": "stream",
     "text": [
      "<class 'pandas.core.frame.DataFrame'>\n",
      "Int64Index: 22568 entries, 34 to 399969\n",
      "Data columns (total 19 columns):\n",
      " #   Column         Non-Null Count  Dtype  \n",
      "---  ------         --------------  -----  \n",
      " 0   Result_status  22568 non-null  object \n",
      " 1   Result_number  22568 non-null  int64  \n",
      " 2   Time_result    22568 non-null  object \n",
      " 3   Pset_ID        22568 non-null  float64\n",
      " 4   Step_ID        22568 non-null  float64\n",
      " 5   Error Code     22568 non-null  object \n",
      " 6   Torque_min     22568 non-null  float64\n",
      " 7   Torque         22568 non-null  float64\n",
      " 8   Torque_max     22568 non-null  float64\n",
      " 9   Angle_min      22568 non-null  float64\n",
      " 10  Angle          22568 non-null  float64\n",
      " 11  Angle_max      22568 non-null  float64\n",
      " 12  Pset_name      22568 non-null  object \n",
      " 13  VIN            9477 non-null   object \n",
      " 14  Identifier1    9477 non-null   object \n",
      " 15  Identifier2    9289 non-null   object \n",
      " 16  Identifier3    9301 non-null   object \n",
      " 17  Identifier4    1431 non-null   object \n",
      " 18  Identifier5    1354 non-null   object \n",
      "dtypes: float64(8), int64(1), object(10)\n",
      "memory usage: 3.4+ MB\n"
     ]
    }
   ],
   "source": [
    "df_nok=df[df['Result_status'].str.contains(\"NOK\")]\n",
    "df_nok.info()"
   ]
  },
  {
   "cell_type": "markdown",
   "metadata": {},
   "source": [
    "We have 22568 NOK results but lets see which of the Pset programmed are the ones which fails the most."
   ]
  },
  {
   "cell_type": "code",
   "execution_count": 94,
   "metadata": {},
   "outputs": [
    {
     "data": {
      "text/html": [
       "<div>\n",
       "<style scoped>\n",
       "    .dataframe tbody tr th:only-of-type {\n",
       "        vertical-align: middle;\n",
       "    }\n",
       "\n",
       "    .dataframe tbody tr th {\n",
       "        vertical-align: top;\n",
       "    }\n",
       "\n",
       "    .dataframe thead th {\n",
       "        text-align: right;\n",
       "    }\n",
       "</style>\n",
       "<table border=\"1\" class=\"dataframe\">\n",
       "  <thead>\n",
       "    <tr style=\"text-align: right;\">\n",
       "      <th></th>\n",
       "      <th>Result_status</th>\n",
       "    </tr>\n",
       "    <tr>\n",
       "      <th>Pset_name</th>\n",
       "      <th></th>\n",
       "    </tr>\n",
       "  </thead>\n",
       "  <tbody>\n",
       "    <tr>\n",
       "      <th>Seat frame front_35Nm</th>\n",
       "      <td>1109</td>\n",
       "    </tr>\n",
       "    <tr>\n",
       "      <th>Armrests 28Nm</th>\n",
       "      <td>990</td>\n",
       "    </tr>\n",
       "    <tr>\n",
       "      <th>Slides 22Nm TX40 ISC</th>\n",
       "      <td>920</td>\n",
       "    </tr>\n",
       "    <tr>\n",
       "      <th>Cross angle back - Swivel_22Nm</th>\n",
       "      <td>885</td>\n",
       "    </tr>\n",
       "    <tr>\n",
       "      <th>Seat frame assy_35Nm_2x59-2_ISC</th>\n",
       "      <td>877</td>\n",
       "    </tr>\n",
       "    <tr>\n",
       "      <th>...</th>\n",
       "      <td>...</td>\n",
       "    </tr>\n",
       "    <tr>\n",
       "      <th>Backrest segment 22Nm ISC_A_BAU</th>\n",
       "      <td>1</td>\n",
       "    </tr>\n",
       "    <tr>\n",
       "      <th>Poka Yoke Check_6xxx</th>\n",
       "      <td>1</td>\n",
       "    </tr>\n",
       "    <tr>\n",
       "      <th>Torque_35Nm</th>\n",
       "      <td>1</td>\n",
       "    </tr>\n",
       "    <tr>\n",
       "      <th>Cross static support to slides 22Nm ISC</th>\n",
       "      <td>1</td>\n",
       "    </tr>\n",
       "    <tr>\n",
       "      <th>Cushion slides_WOOD_10Nm+-2</th>\n",
       "      <td>1</td>\n",
       "    </tr>\n",
       "  </tbody>\n",
       "</table>\n",
       "<p>208 rows × 1 columns</p>\n",
       "</div>"
      ],
      "text/plain": [
       "                                         Result_status\n",
       "Pset_name                                             \n",
       "Seat frame front_35Nm                             1109\n",
       "Armrests 28Nm                                      990\n",
       "Slides 22Nm TX40 ISC                               920\n",
       "Cross angle back - Swivel_22Nm                     885\n",
       "Seat frame assy_35Nm_2x59-2_ISC                    877\n",
       "...                                                ...\n",
       "Backrest segment 22Nm ISC_A_BAU                      1\n",
       "Poka Yoke Check_6xxx                                 1\n",
       "Torque_35Nm                                          1\n",
       "Cross static support to slides 22Nm ISC              1\n",
       "Cushion slides_WOOD_10Nm+-2                          1\n",
       "\n",
       "[208 rows x 1 columns]"
      ]
     },
     "execution_count": 94,
     "metadata": {},
     "output_type": "execute_result"
    }
   ],
   "source": [
    "df_nok['Pset_name'].head()\n",
    "df_nok[['Pset_name','Result_status']].groupby(by='Pset_name').count().sort_values(by=['Result_status'], ascending=False)"
   ]
  },
  {
   "cell_type": "markdown",
   "metadata": {},
   "source": [
    "The worst pset is seat fram front_35Nm with 1109 nok results\n",
    "We see also that there is a POKA YOKE result, it is a forced NOK result that is done to check the tools. they must be removed from the sample."
   ]
  },
  {
   "cell_type": "code",
   "execution_count": 95,
   "metadata": {},
   "outputs": [],
   "source": [
    "df = df[~df[\"Pset_name\"].str.contains(\"Poka\",na=False)]"
   ]
  },
  {
   "cell_type": "markdown",
   "metadata": {},
   "source": [
    "We change the type of the Time_result column to make it match the date type"
   ]
  },
  {
   "cell_type": "code",
   "execution_count": 96,
   "metadata": {},
   "outputs": [
    {
     "data": {
      "text/plain": [
       "Result_status                        object\n",
       "Result_number                         int64\n",
       "Time_result      datetime64[ns, US/Eastern]\n",
       "Pset_ID                             float64\n",
       "Step_ID                             float64\n",
       "Error Code                           object\n",
       "Torque_min                          float64\n",
       "Torque                              float64\n",
       "Torque_max                          float64\n",
       "Angle_min                           float64\n",
       "Angle                               float64\n",
       "Angle_max                           float64\n",
       "Pset_name                            object\n",
       "VIN                                  object\n",
       "Identifier1                          object\n",
       "Identifier2                          object\n",
       "Identifier3                          object\n",
       "Identifier4                          object\n",
       "Identifier5                          object\n",
       "dtype: object"
      ]
     },
     "execution_count": 96,
     "metadata": {},
     "output_type": "execute_result"
    }
   ],
   "source": [
    "df.astype({'Time_result': 'datetime64[ns, US/Eastern]'}).dtypes"
   ]
  },
  {
   "cell_type": "markdown",
   "metadata": {},
   "source": [
    "We create a new column the result column that contains the texts \"NOK\" and \"OK\" in numerical values."
   ]
  },
  {
   "cell_type": "code",
   "execution_count": 97,
   "metadata": {},
   "outputs": [],
   "source": [
    "df['Resultbin']=df['Result_status']=='OK'"
   ]
  },
  {
   "cell_type": "code",
   "execution_count": 98,
   "metadata": {},
   "outputs": [
    {
     "data": {
      "text/html": [
       "<div>\n",
       "<style scoped>\n",
       "    .dataframe tbody tr th:only-of-type {\n",
       "        vertical-align: middle;\n",
       "    }\n",
       "\n",
       "    .dataframe tbody tr th {\n",
       "        vertical-align: top;\n",
       "    }\n",
       "\n",
       "    .dataframe thead th {\n",
       "        text-align: right;\n",
       "    }\n",
       "</style>\n",
       "<table border=\"1\" class=\"dataframe\">\n",
       "  <thead>\n",
       "    <tr style=\"text-align: right;\">\n",
       "      <th></th>\n",
       "      <th>Result_status</th>\n",
       "      <th>Result_number</th>\n",
       "      <th>Time_result</th>\n",
       "      <th>Pset_ID</th>\n",
       "      <th>Step_ID</th>\n",
       "      <th>Error Code</th>\n",
       "      <th>Torque_min</th>\n",
       "      <th>Torque</th>\n",
       "      <th>Torque_max</th>\n",
       "      <th>Angle_min</th>\n",
       "      <th>Angle</th>\n",
       "      <th>Angle_max</th>\n",
       "      <th>Pset_name</th>\n",
       "      <th>VIN</th>\n",
       "      <th>Identifier1</th>\n",
       "      <th>Identifier2</th>\n",
       "      <th>Identifier3</th>\n",
       "      <th>Identifier4</th>\n",
       "      <th>Identifier5</th>\n",
       "      <th>Resultbin</th>\n",
       "    </tr>\n",
       "  </thead>\n",
       "  <tbody>\n",
       "    <tr>\n",
       "      <th>0</th>\n",
       "      <td>OK</td>\n",
       "      <td>613029</td>\n",
       "      <td>2020-12-10 23:59:12.0</td>\n",
       "      <td>10.0</td>\n",
       "      <td>1.0</td>\n",
       "      <td>NaN</td>\n",
       "      <td>18.0</td>\n",
       "      <td>20.126</td>\n",
       "      <td>22.0</td>\n",
       "      <td>3.0</td>\n",
       "      <td>40.213</td>\n",
       "      <td>100.0</td>\n",
       "      <td>Fixation screw_(60895R01)_20Nm_1x64-5_IF</td>\n",
       "      <td>NaN</td>\n",
       "      <td>NaN</td>\n",
       "      <td>NaN</td>\n",
       "      <td>NaN</td>\n",
       "      <td>NaN</td>\n",
       "      <td>NaN</td>\n",
       "      <td>True</td>\n",
       "    </tr>\n",
       "    <tr>\n",
       "      <th>1</th>\n",
       "      <td>OK</td>\n",
       "      <td>613028</td>\n",
       "      <td>2020-12-10 23:59:08.0</td>\n",
       "      <td>9.0</td>\n",
       "      <td>1.0</td>\n",
       "      <td>NaN</td>\n",
       "      <td>18.0</td>\n",
       "      <td>20.090</td>\n",
       "      <td>22.0</td>\n",
       "      <td>5.0</td>\n",
       "      <td>40.369</td>\n",
       "      <td>100.0</td>\n",
       "      <td>Fixation screw_(318327B01)_20Nm_1x64-4_I</td>\n",
       "      <td>NaN</td>\n",
       "      <td>NaN</td>\n",
       "      <td>NaN</td>\n",
       "      <td>NaN</td>\n",
       "      <td>NaN</td>\n",
       "      <td>NaN</td>\n",
       "      <td>True</td>\n",
       "    </tr>\n",
       "    <tr>\n",
       "      <th>2</th>\n",
       "      <td>OK</td>\n",
       "      <td>613027</td>\n",
       "      <td>2020-12-10 23:58:56.0</td>\n",
       "      <td>3.0</td>\n",
       "      <td>1.0</td>\n",
       "      <td>NaN</td>\n",
       "      <td>20.0</td>\n",
       "      <td>22.219</td>\n",
       "      <td>24.0</td>\n",
       "      <td>5.0</td>\n",
       "      <td>40.389</td>\n",
       "      <td>110.0</td>\n",
       "      <td>Sliders 22Nm_4x65-4_ISC</td>\n",
       "      <td>NaN</td>\n",
       "      <td>NaN</td>\n",
       "      <td>NaN</td>\n",
       "      <td>NaN</td>\n",
       "      <td>NaN</td>\n",
       "      <td>NaN</td>\n",
       "      <td>True</td>\n",
       "    </tr>\n",
       "    <tr>\n",
       "      <th>3</th>\n",
       "      <td>OK</td>\n",
       "      <td>613026</td>\n",
       "      <td>2020-12-10 23:58:48.0</td>\n",
       "      <td>3.0</td>\n",
       "      <td>1.0</td>\n",
       "      <td>NaN</td>\n",
       "      <td>20.0</td>\n",
       "      <td>22.138</td>\n",
       "      <td>24.0</td>\n",
       "      <td>5.0</td>\n",
       "      <td>33.650</td>\n",
       "      <td>110.0</td>\n",
       "      <td>Sliders 22Nm_4x65-4_ISC</td>\n",
       "      <td>NaN</td>\n",
       "      <td>NaN</td>\n",
       "      <td>NaN</td>\n",
       "      <td>NaN</td>\n",
       "      <td>NaN</td>\n",
       "      <td>NaN</td>\n",
       "      <td>True</td>\n",
       "    </tr>\n",
       "    <tr>\n",
       "      <th>4</th>\n",
       "      <td>OK</td>\n",
       "      <td>613025</td>\n",
       "      <td>2020-12-10 23:58:41.0</td>\n",
       "      <td>3.0</td>\n",
       "      <td>1.0</td>\n",
       "      <td>NaN</td>\n",
       "      <td>20.0</td>\n",
       "      <td>22.073</td>\n",
       "      <td>24.0</td>\n",
       "      <td>5.0</td>\n",
       "      <td>43.830</td>\n",
       "      <td>110.0</td>\n",
       "      <td>Sliders 22Nm_4x65-4_ISC</td>\n",
       "      <td>NaN</td>\n",
       "      <td>NaN</td>\n",
       "      <td>NaN</td>\n",
       "      <td>NaN</td>\n",
       "      <td>NaN</td>\n",
       "      <td>NaN</td>\n",
       "      <td>True</td>\n",
       "    </tr>\n",
       "  </tbody>\n",
       "</table>\n",
       "</div>"
      ],
      "text/plain": [
       "  Result_status  Result_number            Time_result  Pset_ID  Step_ID  \\\n",
       "0            OK         613029  2020-12-10 23:59:12.0     10.0      1.0   \n",
       "1            OK         613028  2020-12-10 23:59:08.0      9.0      1.0   \n",
       "2            OK         613027  2020-12-10 23:58:56.0      3.0      1.0   \n",
       "3            OK         613026  2020-12-10 23:58:48.0      3.0      1.0   \n",
       "4            OK         613025  2020-12-10 23:58:41.0      3.0      1.0   \n",
       "\n",
       "  Error Code  Torque_min  Torque  Torque_max  Angle_min   Angle  Angle_max  \\\n",
       "0        NaN        18.0  20.126        22.0        3.0  40.213      100.0   \n",
       "1        NaN        18.0  20.090        22.0        5.0  40.369      100.0   \n",
       "2        NaN        20.0  22.219        24.0        5.0  40.389      110.0   \n",
       "3        NaN        20.0  22.138        24.0        5.0  33.650      110.0   \n",
       "4        NaN        20.0  22.073        24.0        5.0  43.830      110.0   \n",
       "\n",
       "                                  Pset_name  VIN Identifier1 Identifier2  \\\n",
       "0  Fixation screw_(60895R01)_20Nm_1x64-5_IF  NaN         NaN         NaN   \n",
       "1  Fixation screw_(318327B01)_20Nm_1x64-4_I  NaN         NaN         NaN   \n",
       "2                   Sliders 22Nm_4x65-4_ISC  NaN         NaN         NaN   \n",
       "3                   Sliders 22Nm_4x65-4_ISC  NaN         NaN         NaN   \n",
       "4                   Sliders 22Nm_4x65-4_ISC  NaN         NaN         NaN   \n",
       "\n",
       "  Identifier3 Identifier4 Identifier5  Resultbin  \n",
       "0         NaN         NaN         NaN       True  \n",
       "1         NaN         NaN         NaN       True  \n",
       "2         NaN         NaN         NaN       True  \n",
       "3         NaN         NaN         NaN       True  \n",
       "4         NaN         NaN         NaN       True  "
      ]
     },
     "execution_count": 98,
     "metadata": {},
     "output_type": "execute_result"
    }
   ],
   "source": [
    "df.head()\n"
   ]
  },
  {
   "cell_type": "code",
   "execution_count": 99,
   "metadata": {},
   "outputs": [
    {
     "name": "stdout",
     "output_type": "stream",
     "text": [
      "NOK percentage: 5.39%\n"
     ]
    }
   ],
   "source": [
    "OKS = len(df[df[\"Result_status\"].str.contains(\"OK\",na=False)])\n",
    "NOKS=len(df[df[\"Result_status\"].str.contains(\"NOK\",na=False)])\n",
    "result=NOKS/OKS\n",
    "print(\"NOK percentage: {:2.2%}\".format(result))\n"
   ]
  },
  {
   "cell_type": "markdown",
   "metadata": {},
   "source": [
    "We have 5% bad torques in the whole data set."
   ]
  },
  {
   "cell_type": "markdown",
   "metadata": {},
   "source": [
    "Data is biased we have lots of OK torques against a few of NOK torques which is good for the company but not for our puroposes.\n",
    "with the code below we will plot the difference between results\n"
   ]
  },
  {
   "cell_type": "code",
   "execution_count": 100,
   "metadata": {},
   "outputs": [
    {
     "data": {
      "image/png": "[encoded data removed]",
      "text/plain": [
       "<Figure size 864x720 with 1 Axes>"
      ]
     },
     "metadata": {
      "needs_background": "light"
     },
     "output_type": "display_data"
    }
   ],
   "source": [
    "dfX_plot=df[['Result_status','Step_ID']].groupby(by='Result_status').count()\n",
    "ax = dfX_plot.plot.bar(y='Step_ID',rot=0)"
   ]
  },
  {
   "cell_type": "markdown",
   "metadata": {},
   "source": [
    "We still have columns that are not going to contribute anything to our model."
   ]
  },
  {
   "cell_type": "code",
   "execution_count": 101,
   "metadata": {},
   "outputs": [],
   "source": [
    "dfX=df.drop(columns={'Result_status','Result_number','Time_result','Pset_ID','Identifier4','Identifier5','Identifier2','Error Code','Torque','Angle'})"
   ]
  },
  {
   "cell_type": "markdown",
   "metadata": {},
   "source": [
    "with df.info () we are going to see how many columns contain null results and we are going to make the whole sample have columns with data that we can use."
   ]
  },
  {
   "cell_type": "code",
   "execution_count": 102,
   "metadata": {},
   "outputs": [
    {
     "name": "stdout",
     "output_type": "stream",
     "text": [
      "<class 'pandas.core.frame.DataFrame'>\n",
      "Int64Index: 398943 entries, 0 to 399999\n",
      "Data columns (total 10 columns):\n",
      " #   Column       Non-Null Count   Dtype  \n",
      "---  ------       --------------   -----  \n",
      " 0   Step_ID      398844 non-null  float64\n",
      " 1   Torque_min   398844 non-null  float64\n",
      " 2   Torque_max   398844 non-null  float64\n",
      " 3   Angle_min    398844 non-null  float64\n",
      " 4   Angle_max    398844 non-null  float64\n",
      " 5   Pset_name    398844 non-null  object \n",
      " 6   VIN          172013 non-null  object \n",
      " 7   Identifier1  172013 non-null  object \n",
      " 8   Identifier3  168406 non-null  object \n",
      " 9   Resultbin    398943 non-null  bool   \n",
      "dtypes: bool(1), float64(5), object(4)\n",
      "memory usage: 30.8+ MB\n"
     ]
    }
   ],
   "source": [
    "dfX.info()"
   ]
  },
  {
   "cell_type": "markdown",
   "metadata": {},
   "source": [
    "Let's take a look at the values that we are going to remove. because the sample is going to be reduced a lot."
   ]
  },
  {
   "cell_type": "markdown",
   "metadata": {},
   "source": [
    "I am going to build a new colum called value_is_NAN which will contain yes or nos."
   ]
  },
  {
   "cell_type": "code",
   "execution_count": 103,
   "metadata": {},
   "outputs": [
    {
     "name": "stderr",
     "output_type": "stream",
     "text": [
      "C:\\ProgramData\\Anaconda3\\lib\\site-packages\\pandas\\core\\indexing.py:1599: SettingWithCopyWarning: \n",
      "A value is trying to be set on a copy of a slice from a DataFrame.\n",
      "Try using .loc[row_indexer,col_indexer] = value instead\n",
      "\n",
      "See the caveats in the documentation: https://pandas.pydata.org/pandas-docs/stable/user_guide/indexing.html#returning-a-view-versus-a-copy\n",
      "  self.obj[key] = infer_fill_value(value)\n",
      "C:\\ProgramData\\Anaconda3\\lib\\site-packages\\pandas\\core\\indexing.py:1720: SettingWithCopyWarning: \n",
      "A value is trying to be set on a copy of a slice from a DataFrame.\n",
      "Try using .loc[row_indexer,col_indexer] = value instead\n",
      "\n",
      "See the caveats in the documentation: https://pandas.pydata.org/pandas-docs/stable/user_guide/indexing.html#returning-a-view-versus-a-copy\n",
      "  self._setitem_single_column(loc, value, pi)\n"
     ]
    },
    {
     "data": {
      "text/html": [
       "<div>\n",
       "<style scoped>\n",
       "    .dataframe tbody tr th:only-of-type {\n",
       "        vertical-align: middle;\n",
       "    }\n",
       "\n",
       "    .dataframe tbody tr th {\n",
       "        vertical-align: top;\n",
       "    }\n",
       "\n",
       "    .dataframe thead th {\n",
       "        text-align: right;\n",
       "    }\n",
       "</style>\n",
       "<table border=\"1\" class=\"dataframe\">\n",
       "  <thead>\n",
       "    <tr style=\"text-align: right;\">\n",
       "      <th></th>\n",
       "      <th>Resultbin</th>\n",
       "    </tr>\n",
       "    <tr>\n",
       "      <th>Pset_name</th>\n",
       "      <th></th>\n",
       "    </tr>\n",
       "  </thead>\n",
       "  <tbody>\n",
       "    <tr>\n",
       "      <th>Sliders 22Nm_4x65-4_ISC</th>\n",
       "      <td>19342</td>\n",
       "    </tr>\n",
       "    <tr>\n",
       "      <th>Backrest_40Nm</th>\n",
       "      <td>10887</td>\n",
       "    </tr>\n",
       "    <tr>\n",
       "      <th>Seat frame assy_35Nm_2x59-2_ISC</th>\n",
       "      <td>10709</td>\n",
       "    </tr>\n",
       "    <tr>\n",
       "      <th>Bearing inclination cap_22Nm_2x59-1_ISC</th>\n",
       "      <td>10022</td>\n",
       "    </tr>\n",
       "    <tr>\n",
       "      <th>Inner carrier_22Nm_2x59-3_ISC</th>\n",
       "      <td>9927</td>\n",
       "    </tr>\n",
       "    <tr>\n",
       "      <th>...</th>\n",
       "      <td>...</td>\n",
       "    </tr>\n",
       "    <tr>\n",
       "      <th>Cushion slides_WOOD_10Nm+-2</th>\n",
       "      <td>80</td>\n",
       "    </tr>\n",
       "    <tr>\n",
       "      <th>Embocar Profiles 30Nm ISC</th>\n",
       "      <td>77</td>\n",
       "    </tr>\n",
       "    <tr>\n",
       "      <th>Slides 22Nm TX40 ISC</th>\n",
       "      <td>6</td>\n",
       "    </tr>\n",
       "    <tr>\n",
       "      <th>Torque 35Nm</th>\n",
       "      <td>4</td>\n",
       "    </tr>\n",
       "    <tr>\n",
       "      <th>Inner carrier 22Nm HEX8 ISC</th>\n",
       "      <td>1</td>\n",
       "    </tr>\n",
       "  </tbody>\n",
       "</table>\n",
       "<p>61 rows × 1 columns</p>\n",
       "</div>"
      ],
      "text/plain": [
       "                                         Resultbin\n",
       "Pset_name                                         \n",
       "Sliders 22Nm_4x65-4_ISC                      19342\n",
       "Backrest_40Nm                                10887\n",
       "Seat frame assy_35Nm_2x59-2_ISC              10709\n",
       "Bearing inclination cap_22Nm_2x59-1_ISC      10022\n",
       "Inner carrier_22Nm_2x59-3_ISC                 9927\n",
       "...                                            ...\n",
       "Cushion slides_WOOD_10Nm+-2                     80\n",
       "Embocar Profiles 30Nm ISC                       77\n",
       "Slides 22Nm TX40 ISC                             6\n",
       "Torque 35Nm                                      4\n",
       "Inner carrier 22Nm HEX8 ISC                      1\n",
       "\n",
       "[61 rows x 1 columns]"
      ]
     },
     "execution_count": 103,
     "metadata": {},
     "output_type": "execute_result"
    }
   ],
   "source": [
    "\n",
    "df_NANs=dfX[['Pset_name','Identifier1','Identifier3','Resultbin']]\n",
    "df_NANs.loc[df_NANs['Identifier1'].isnull(),'value_is_NaN'] = 'Yes'\n",
    "df_NANs.loc[df_NANs['Identifier1'].notnull(), 'value_is_NaN'] = 'No'\n",
    "df_NANs = df_NANs[df_NANs[\"value_is_NaN\"].str.contains(\"Yes\",na=False)]\n",
    "df_NANs[['Pset_name','Resultbin']].groupby(by='Pset_name').count().sort_values(by='Resultbin',ascending=False)\n",
    "\n"
   ]
  },
  {
   "cell_type": "markdown",
   "metadata": {},
   "source": [
    "We are losing OK and NOK values from the NTS1 and NTS2 lines that do not store valueIdentifiers. In other words, the analysis will focus on the lines:\n",
    "1. ALter BAU\n",
    "2. Alter BUS\n",
    "3. Tapizado NTS1\n",
    "4. Tapizado NTS2\n",
    "5. NTS1 BAU\n",
    "We are going to proceed to eliminate the null results of the Df:"
   ]
  },
  {
   "cell_type": "code",
   "execution_count": 104,
   "metadata": {},
   "outputs": [
    {
     "name": "stdout",
     "output_type": "stream",
     "text": [
      "<class 'pandas.core.frame.DataFrame'>\n",
      "Int64Index: 168002 entries, 10 to 399996\n",
      "Data columns (total 10 columns):\n",
      " #   Column       Non-Null Count   Dtype  \n",
      "---  ------       --------------   -----  \n",
      " 0   Step_ID      168002 non-null  float64\n",
      " 1   Torque_min   168002 non-null  float64\n",
      " 2   Torque_max   168002 non-null  float64\n",
      " 3   Angle_min    168002 non-null  float64\n",
      " 4   Angle_max    168002 non-null  float64\n",
      " 5   Pset_name    168002 non-null  object \n",
      " 6   VIN          168002 non-null  object \n",
      " 7   Identifier1  168002 non-null  object \n",
      " 8   Identifier3  168002 non-null  object \n",
      " 9   Resultbin    168002 non-null  bool   \n",
      "dtypes: bool(1), float64(5), object(4)\n",
      "memory usage: 13.0+ MB\n"
     ]
    }
   ],
   "source": [
    "dfX=dfX.dropna()\n",
    "dfX = dfX[pd.to_numeric(dfX['Identifier3'],errors='coerce').notna()]\n",
    "dfX.info()"
   ]
  },
  {
   "cell_type": "markdown",
   "metadata": {},
   "source": [
    "We now observe that we have 168,002 non-null records with which we can build a model. let's see the percentage of total NOK tightening."
   ]
  },
  {
   "cell_type": "code",
   "execution_count": 105,
   "metadata": {},
   "outputs": [
    {
     "data": {
      "text/html": [
       "<div>\n",
       "<style scoped>\n",
       "    .dataframe tbody tr th:only-of-type {\n",
       "        vertical-align: middle;\n",
       "    }\n",
       "\n",
       "    .dataframe tbody tr th {\n",
       "        vertical-align: top;\n",
       "    }\n",
       "\n",
       "    .dataframe thead th {\n",
       "        text-align: right;\n",
       "    }\n",
       "</style>\n",
       "<table border=\"1\" class=\"dataframe\">\n",
       "  <thead>\n",
       "    <tr style=\"text-align: right;\">\n",
       "      <th></th>\n",
       "      <th>Step_ID</th>\n",
       "    </tr>\n",
       "    <tr>\n",
       "      <th>Resultbin</th>\n",
       "      <th></th>\n",
       "    </tr>\n",
       "  </thead>\n",
       "  <tbody>\n",
       "    <tr>\n",
       "      <th>False</th>\n",
       "      <td>9236</td>\n",
       "    </tr>\n",
       "    <tr>\n",
       "      <th>True</th>\n",
       "      <td>158766</td>\n",
       "    </tr>\n",
       "  </tbody>\n",
       "</table>\n",
       "</div>"
      ],
      "text/plain": [
       "           Step_ID\n",
       "Resultbin         \n",
       "False         9236\n",
       "True        158766"
      ]
     },
     "execution_count": 105,
     "metadata": {},
     "output_type": "execute_result"
    }
   ],
   "source": [
    "dfX[['Resultbin','Step_ID']].groupby(by='Resultbin').count()"
   ]
  },
  {
   "cell_type": "markdown",
   "metadata": {},
   "source": [
    "lets check again how many NOK against Ok torques we have in this dataset"
   ]
  },
  {
   "cell_type": "code",
   "execution_count": 107,
   "metadata": {},
   "outputs": [
    {
     "name": "stdout",
     "output_type": "stream",
     "text": [
      "NOK percentage: 5.70%\n"
     ]
    }
   ],
   "source": [
    "OKS = len(df[df[\"Resultbin\"]==True])\n",
    "NOKS=len(df[df[\"Resultbin\"]==False])\n",
    "result=NOKS/OKS\n",
    "print(\"NOK percentage: {:2.2%}\".format(result))"
   ]
  },
  {
   "cell_type": "markdown",
   "metadata": {},
   "source": [
    "% of NOKs has increased but not much"
   ]
  },
  {
   "cell_type": "code",
   "execution_count": 108,
   "metadata": {},
   "outputs": [
    {
     "data": {
      "image/png": "[encoded data removed]",
      "text/plain": [
       "<Figure size 864x720 with 1 Axes>"
      ]
     },
     "metadata": {
      "needs_background": "light"
     },
     "output_type": "display_data"
    }
   ],
   "source": [
    "dfX_plot=dfX[['Resultbin','Step_ID']].groupby(by='Resultbin').count()\n",
    "ax = dfX_plot.plot.bar(y='Step_ID',rot=0)"
   ]
  },
  {
   "cell_type": "code",
   "execution_count": 109,
   "metadata": {},
   "outputs": [],
   "source": [
    "train_labels = np.array(dfX.pop('Resultbin'))\n",
    "bool_train_labels = train_labels != 0"
   ]
  },
  {
   "cell_type": "markdown",
   "metadata": {},
   "source": [
    "Finally we will have the posibility of increas NOK values in our dataset by randomly removing 10% OK values from resultbin. lets see an example"
   ]
  },
  {
   "cell_type": "code",
   "execution_count": 113,
   "metadata": {},
   "outputs": [],
   "source": [
    "df_unbias = dfX.drop(dfX[dfX['Resultbin'] == True].sample(frac=.1, random_state=101).index)"
   ]
  },
  {
   "cell_type": "code",
   "execution_count": 115,
   "metadata": {},
   "outputs": [
    {
     "name": "stdout",
     "output_type": "stream",
     "text": [
      "NOK percentage: 7.18%\n"
     ]
    }
   ],
   "source": [
    "OKS = len(df_unbias[df_unbias[\"Resultbin\"]==True])\n",
    "NOKS=len(df_unbias[df_unbias[\"Resultbin\"]==False])\n",
    "result=NOKS/OKS\n",
    "print(\"NOK percentage: {:2.2%}\".format(result))\n",
    "\n"
   ]
  },
  {
   "cell_type": "markdown",
   "metadata": {},
   "source": [
    "We will be tuning this percentage during the model analisis to see if increasing or decreasing it will improve the predictions and metrics of the model"
   ]
  },
  {
   "cell_type": "markdown",
   "metadata": {},
   "source": [
    "### Preparation of the data set for treatment."
   ]
  },
  {
   "cell_type": "markdown",
   "metadata": {},
   "source": [
    "Now we see we have labeled values (identifiers, pset...). In order for our model to work we need to convert this labels to a numerical value.\n",
    "For that we will use label encoder from the sklearn library."
   ]
  },
  {
   "cell_type": "code",
   "execution_count": 111,
   "metadata": {},
   "outputs": [],
   "source": [
    "\n",
    "enc=LabelEncoder()\n",
    "dfX=df[['Torque_min','Torque_max','Angle_min','Angle_max','Pset_name',\t'Identifier1','Identifier3','Resultbin']].dropna()\n",
    "dfX = dfX.drop(dfX[dfX['Resultbin'] == True].sample(frac=.1, random_state=101).index)\n",
    "#Quito el 40 % de los resultados OK  de DFX\n",
    "\n",
    "dfX['Identifier3'] = df['Identifier3'].astype('string',copy=False)\n",
    "dfX['Pset_name_cat'] = enc.fit_transform(dfX['Pset_name'])\n",
    "dfX['Modelo'] = enc.fit_transform(dfX['Identifier1'])\n",
    "dfX[['Identifier3','Resultbin']].groupby(by=\"Identifier3\").count()\n",
    "dfX[dfX['Identifier3'].apply(lambda x: x.isnumeric())]\n",
    "dfX['Trabajador'] = enc.fit_transform(dfX['Identifier3'])\n"
   ]
  },
  {
   "cell_type": "code",
   "execution_count": 117,
   "metadata": {},
   "outputs": [
    {
     "data": {
      "text/html": [
       "<div>\n",
       "<style scoped>\n",
       "    .dataframe tbody tr th:only-of-type {\n",
       "        vertical-align: middle;\n",
       "    }\n",
       "\n",
       "    .dataframe tbody tr th {\n",
       "        vertical-align: top;\n",
       "    }\n",
       "\n",
       "    .dataframe thead th {\n",
       "        text-align: right;\n",
       "    }\n",
       "</style>\n",
       "<table border=\"1\" class=\"dataframe\">\n",
       "  <thead>\n",
       "    <tr style=\"text-align: right;\">\n",
       "      <th></th>\n",
       "      <th>Resultbin</th>\n",
       "    </tr>\n",
       "    <tr>\n",
       "      <th>Identifier3</th>\n",
       "      <th></th>\n",
       "    </tr>\n",
       "  </thead>\n",
       "  <tbody>\n",
       "    <tr>\n",
       "      <th>1234.0</th>\n",
       "      <td>2</td>\n",
       "    </tr>\n",
       "    <tr>\n",
       "      <th>1412.0</th>\n",
       "      <td>58</td>\n",
       "    </tr>\n",
       "    <tr>\n",
       "      <th>1505</th>\n",
       "      <td>28</td>\n",
       "    </tr>\n",
       "    <tr>\n",
       "      <th>1505.0</th>\n",
       "      <td>3242</td>\n",
       "    </tr>\n",
       "    <tr>\n",
       "      <th>2072.0</th>\n",
       "      <td>13</td>\n",
       "    </tr>\n",
       "    <tr>\n",
       "      <th>...</th>\n",
       "      <td>...</td>\n",
       "    </tr>\n",
       "    <tr>\n",
       "      <th>6000</th>\n",
       "      <td>178</td>\n",
       "    </tr>\n",
       "    <tr>\n",
       "      <th>6000.0</th>\n",
       "      <td>827</td>\n",
       "    </tr>\n",
       "    <tr>\n",
       "      <th>9385.0</th>\n",
       "      <td>3</td>\n",
       "    </tr>\n",
       "    <tr>\n",
       "      <th>9472.0</th>\n",
       "      <td>13</td>\n",
       "    </tr>\n",
       "    <tr>\n",
       "      <th>Y000</th>\n",
       "      <td>3</td>\n",
       "    </tr>\n",
       "  </tbody>\n",
       "</table>\n",
       "<p>115 rows × 1 columns</p>\n",
       "</div>"
      ],
      "text/plain": [
       "             Resultbin\n",
       "Identifier3           \n",
       "1234.0               2\n",
       "1412.0              58\n",
       "1505                28\n",
       "1505.0            3242\n",
       "2072.0              13\n",
       "...                ...\n",
       "6000               178\n",
       "6000.0             827\n",
       "9385.0               3\n",
       "9472.0              13\n",
       "Y000                 3\n",
       "\n",
       "[115 rows x 1 columns]"
      ]
     },
     "execution_count": 117,
     "metadata": {},
     "output_type": "execute_result"
    }
   ],
   "source": [
    "dfX[['Identifier3','Resultbin']].groupby(by=\"Identifier3\").count()"
   ]
  },
  {
   "cell_type": "markdown",
   "metadata": {},
   "source": [
    "Lets see the number of OK and NOK results we have => it will be usefull later to compare the predictions of the model with the real values."
   ]
  },
  {
   "cell_type": "code",
   "execution_count": 118,
   "metadata": {},
   "outputs": [
    {
     "data": {
      "text/html": [
       "<div>\n",
       "<style scoped>\n",
       "    .dataframe tbody tr th:only-of-type {\n",
       "        vertical-align: middle;\n",
       "    }\n",
       "\n",
       "    .dataframe tbody tr th {\n",
       "        vertical-align: top;\n",
       "    }\n",
       "\n",
       "    .dataframe thead th {\n",
       "        text-align: right;\n",
       "    }\n",
       "</style>\n",
       "<table border=\"1\" class=\"dataframe\">\n",
       "  <thead>\n",
       "    <tr style=\"text-align: right;\">\n",
       "      <th></th>\n",
       "      <th>Pset_name_cat</th>\n",
       "    </tr>\n",
       "    <tr>\n",
       "      <th>Resultbin</th>\n",
       "      <th></th>\n",
       "    </tr>\n",
       "  </thead>\n",
       "  <tbody>\n",
       "    <tr>\n",
       "      <th>False</th>\n",
       "      <td>9236</td>\n",
       "    </tr>\n",
       "    <tr>\n",
       "      <th>True</th>\n",
       "      <td>142907</td>\n",
       "    </tr>\n",
       "  </tbody>\n",
       "</table>\n",
       "</div>"
      ],
      "text/plain": [
       "           Pset_name_cat\n",
       "Resultbin               \n",
       "False               9236\n",
       "True              142907"
      ]
     },
     "execution_count": 118,
     "metadata": {},
     "output_type": "execute_result"
    }
   ],
   "source": [
    "dfX_gp=dfX[['Resultbin','Pset_name_cat']].groupby(by='Resultbin').count()\n",
    "dfX_gp"
   ]
  },
  {
   "cell_type": "code",
   "execution_count": 119,
   "metadata": {},
   "outputs": [
    {
     "name": "stdout",
     "output_type": "stream",
     "text": [
      "OKS[9236] and NOKS [142907]\n"
     ]
    }
   ],
   "source": [
    "OKS = dfX_gp.iloc[0].values\n",
    "NOKS = dfX_gp.iloc[1].values\n",
    "print(\"OKS\"+str(OKS)+\" and NOKS \"+str(NOKS))\n"
   ]
  },
  {
   "cell_type": "code",
   "execution_count": 120,
   "metadata": {},
   "outputs": [
    {
     "data": {
      "text/plain": [
       "array([15.47282373])"
      ]
     },
     "execution_count": 120,
     "metadata": {},
     "output_type": "execute_result"
    }
   ],
   "source": [
    "NOKS/OKS"
   ]
  },
  {
   "cell_type": "code",
   "execution_count": 121,
   "metadata": {},
   "outputs": [
    {
     "name": "stdout",
     "output_type": "stream",
     "text": [
      "<class 'pandas.core.frame.DataFrame'>\n",
      "Int64Index: 152143 entries, 10 to 399996\n",
      "Data columns (total 11 columns):\n",
      " #   Column         Non-Null Count   Dtype  \n",
      "---  ------         --------------   -----  \n",
      " 0   Torque_min     152143 non-null  float64\n",
      " 1   Torque_max     152143 non-null  float64\n",
      " 2   Angle_min      152143 non-null  float64\n",
      " 3   Angle_max      152143 non-null  float64\n",
      " 4   Pset_name      152143 non-null  object \n",
      " 5   Identifier1    152143 non-null  object \n",
      " 6   Identifier3    152143 non-null  string \n",
      " 7   Resultbin      152143 non-null  bool   \n",
      " 8   Pset_name_cat  152143 non-null  int32  \n",
      " 9   Modelo         152143 non-null  int32  \n",
      " 10  Trabajador     152143 non-null  int32  \n",
      "dtypes: bool(1), float64(4), int32(3), object(2), string(1)\n",
      "memory usage: 15.2+ MB\n"
     ]
    }
   ],
   "source": [
    "dfX.info()\n"
   ]
  },
  {
   "cell_type": "markdown",
   "metadata": {},
   "source": [
    "Ok, now we are going to leave the df with only the columns we are going to use in the model and we will start preparing our model."
   ]
  },
  {
   "cell_type": "code",
   "execution_count": 122,
   "metadata": {},
   "outputs": [
    {
     "name": "stdout",
     "output_type": "stream",
     "text": [
      "[1 1 1 ... 1 1 1] [[ 14.  18.   0. ...  70. 115.  38.]\n",
      " [ 30.  40.   0. ...  24. 115.  38.]\n",
      " [ 30.  40.   0. ...  36. 115.  38.]\n",
      " ...\n",
      " [ 30.  40.   0. ...  27.  41.  89.]\n",
      " [ 20.  24.   0. ...  21.  41.  42.]\n",
      " [ 20.  24.   0. ...  21.  41.  42.]]\n"
     ]
    }
   ],
   "source": [
    "dfX[\"Resultbin\"] = dfX[\"Resultbin\"].astype(int)\n",
    "y=np.array(dfX[\"Resultbin\"])\n",
    "dfX=dfX.drop(columns={'Resultbin','Pset_name','Identifier1','Identifier3'})\n",
    "X=dfX.values\n",
    "print(y, X)\n",
    "\n"
   ]
  },
  {
   "cell_type": "markdown",
   "metadata": {},
   "source": [
    "You can see on the cell up that we now have one array with the results and other one with the labels already encoded as numbers.\n",
    "Lets have an overview on the final data: the code below displays all the features an the correlation between them."
   ]
  },
  {
   "cell_type": "code",
   "execution_count": 125,
   "metadata": {},
   "outputs": [
    {
     "data": {
      "text/plain": [
       "<seaborn.axisgrid.PairGrid at 0x190062b9a90>"
      ]
     },
     "execution_count": 125,
     "metadata": {},
     "output_type": "execute_result"
    },
    {
     "data": {
      "image/png": "[encoded data removed]",
      "text/plain": [
       "<Figure size 1260x1260 with 56 Axes>"
      ]
     },
     "metadata": {
      "needs_background": "light"
     },
     "output_type": "display_data"
    }
   ],
   "source": [
    "import seaborn as sns\n",
    "sns.pairplot (dfX)"
   ]
  },
  {
   "cell_type": "markdown",
   "metadata": {},
   "source": [
    "### Building the model"
   ]
  },
  {
   "cell_type": "markdown",
   "metadata": {},
   "source": [
    "We are going to try to predict OK and NOK results with a neural network model. In other notebook I have already tried to use other ML learning models you can check it in my github repos.\n",
    "we have to import now all the packages necesaries to build the model (tensorflow, sklearn).\n",
    "We are also configuring the notebook to run the on the GPU."
   ]
  },
  {
   "cell_type": "code",
   "execution_count": 123,
   "metadata": {},
   "outputs": [
    {
     "name": "stdout",
     "output_type": "stream",
     "text": [
      "Num GPUs available: 1\n",
      "(152143,) (152143, 7)\n"
     ]
    }
   ],
   "source": [
    "from sklearn.model_selection import KFold\n",
    "from sklearn.preprocessing import MinMaxScaler\n",
    "import tensorflow as tf\n",
    "from tensorflow.keras.models import Sequential\n",
    "from tensorflow.keras.layers import Activation, Dense, Dropout\n",
    "from tensorflow.keras.optimizers import Adam\n",
    "from tensorflow.keras.metrics import categorical_crossentropy, BinaryCrossentropy\n",
    "from sklearn.utils import shuffle\n",
    "import warnings\n",
    "\n",
    "warnings.simplefilter(action='ignore', category=FutureWarning)\n",
    "\n",
    "physical_devices = tf.config.list_physical_devices('GPU')\n",
    "print(\"Num GPUs available:\", len(physical_devices))\n",
    "tf.config.experimental.set_memory_growth(physical_devices[0], True)\n",
    "\n",
    "label=np.array(y)\n",
    "sample=np.array(X)\n",
    "\n",
    "print(label.shape,sample.shape)\n",
    "\n"
   ]
  },
  {
   "cell_type": "markdown",
   "metadata": {},
   "source": [
    "Neural networks preform better when the input data is in a 0 to 1 range so we will use min-max-Scaler to scale our labels."
   ]
  },
  {
   "cell_type": "code",
   "execution_count": 124,
   "metadata": {},
   "outputs": [],
   "source": [
    "label,sample =shuffle(label,sample)\n",
    "scaler = MinMaxScaler(feature_range=(0,1))\n",
    "scaled_samples= scaler.fit_transform(sample) #fit transform does not accept 1D data so we reshape the scaled train samples to be 2D\n"
   ]
  },
  {
   "cell_type": "markdown",
   "metadata": {},
   "source": [
    "We now check the shape of our arrays X and y before an after scaling"
   ]
  },
  {
   "cell_type": "code",
   "execution_count": 126,
   "metadata": {},
   "outputs": [
    {
     "name": "stdout",
     "output_type": "stream",
     "text": [
      "[1 1 1 ... 1 1 1] [[ 14.  18.   0. ...  70. 115.  38.]\n",
      " [ 30.  40.   0. ...  24. 115.  38.]\n",
      " [ 30.  40.   0. ...  36. 115.  38.]\n",
      " ...\n",
      " [ 30.  40.   0. ...  27.  41.  89.]\n",
      " [ 20.  24.   0. ...  21.  41.  42.]\n",
      " [ 20.  24.   0. ...  21.  41.  42.]]\n",
      "(152143,) (152143, 7)\n"
     ]
    }
   ],
   "source": [
    "print(y, X)\n",
    "print(y.shape,X.shape)"
   ]
  },
  {
   "cell_type": "code",
   "execution_count": 127,
   "metadata": {},
   "outputs": [
    {
     "name": "stdout",
     "output_type": "stream",
     "text": [
      "[1 1 0 ... 1 1 0] [[0.475      0.4        0.         ... 0.92537313 0.14873418 0.70175439]\n",
      " [0.75       0.875      0.         ... 0.67164179 0.12025316 0.39473684]\n",
      " [0.5        0.475      0.00119048 ... 0.74626866 0.03164557 0.73684211]\n",
      " ...\n",
      " [0.5        0.475      0.         ... 0.79850746 0.31962025 0.85964912]\n",
      " [0.5        0.475      0.         ... 0.15671642 0.24050633 0.64035088]\n",
      " [0.45       0.425      0.         ... 0.98507463 0.2278481  0.39473684]]\n",
      "(152143,) (152143, 7)\n"
     ]
    }
   ],
   "source": [
    "print(label,scaled_samples)\n",
    "print(label.shape,scaled_samples.shape)"
   ]
  },
  {
   "cell_type": "code",
   "execution_count": null,
   "metadata": {},
   "outputs": [],
   "source": [
    "from sklearn.model_selection import train_test_split\n",
    "X_train, X_test, y_train, y_test = train_test_split(scaled_samples, label, test_size=0.1, random_state=42)\n"
   ]
  },
  {
   "cell_type": "code",
   "execution_count": null,
   "metadata": {},
   "outputs": [],
   "source": [
    "print(X_test.shape, X_train.shape)\n",
    "print(y_test.shape,y_train.shape)"
   ]
  },
  {
   "cell_type": "code",
   "execution_count": null,
   "metadata": {},
   "outputs": [],
   "source": [
    "METRICS = [\n",
    "      tf.keras.metrics.TruePositives(name='tp'),\n",
    "      tf.keras.metrics.FalsePositives(name='fp'),\n",
    "      tf.keras.metrics.TrueNegatives(name='tn'),\n",
    "      tf.keras.metrics.FalseNegatives(name='fn'), \n",
    "      tf.keras.metrics.BinaryAccuracy(name='accuracy'),\n",
    "      tf.keras.metrics.Precision(name='precision'),\n",
    "      tf.keras.metrics.Recall(name='recall'),\n",
    "      tf.keras.metrics.AUC(name='auc'),\n",
    "      tf.keras.metrics.AUC(name='prc', curve='PR'), # precision-recall curve\n",
    "]"
   ]
  },
  {
   "cell_type": "markdown",
   "metadata": {},
   "source": [
    "## Comprender métricas útiles\n",
    "\n",
    "Tenga en cuenta que hay algunas métricas definidas anteriormente que pueden ser calculadas por el modelo y que serán útiles al evaluar el desempeño.\n",
    "\n",
    "* Los falsos negativos y falsos positivos son muestras que fueron clasificadas incorrectamente.\n",
    "\n",
    "* Verdaderos negativos y positivos verdaderos son muestras que fueron clasificados correctamente.\n",
    "\n",
    "* La precisión es el porcentaje de ejemplos correctamente clasificada.\n",
    "\n",
    "* La precisión es el porcentaje de positivos predichos que se clasifican correctamente.\n",
    "\n",
    "* Recall es el porcentaje de positivos reales que fueron clasificados correctamente.\n",
    "\n",
    "* AUC se refiere al área bajo la curva de una curva característica de funcionamiento del receptor (ROC-AUC). Esta métrica es igual a la probabilidad de que un clasificador clasifique una muestra positiva aleatoria por encima de una muestra negativa aleatoria.\n",
    "\n",
    "* AUPRC se refiere al área bajo la curva de la curva de precisión de recordar. Esta métrica calcula pares de recuperación de precisión para diferentes umbrales de probabilidad."
   ]
  },
  {
   "cell_type": "markdown",
   "metadata": {},
   "source": [
    " # Tune model with keras tuner\n",
    " "
   ]
  },
  {
   "cell_type": "code",
   "execution_count": null,
   "metadata": {},
   "outputs": [],
   "source": [
    "import tensorflow as tf\n",
    "from tensorflow import keras\n",
    "import keras_tuner as kt"
   ]
  },
  {
   "cell_type": "code",
   "execution_count": null,
   "metadata": {},
   "outputs": [],
   "source": [
    "EPOCHS = 100\n",
    "BATCH_SIZE = 2048\n",
    "\n",
    "early_stopping = tf.keras.callbacks.EarlyStopping(\n",
    "    monitor='val_prc', \n",
    "    verbose=1,\n",
    "    patience=10,\n",
    "    mode='max',\n",
    "    restore_best_weights=True)"
   ]
  },
  {
   "cell_type": "code",
   "execution_count": null,
   "metadata": {},
   "outputs": [],
   "source": [
    "def make_model(metrics=METRICS,output_bias=None):\n",
    "    if output_bias is not None:\n",
    "        output_bias = tf.keras.initializers.Constant(output_bias)\n",
    "\n",
    "    model = Sequential([\n",
    "        Dense(units=16,input_shape=[len(dfX.keys())],activation='relu'),\n",
    "        Dense(units=32,activation='relu'),\n",
    "        Dense(units=32,activation='relu'),\n",
    "        Dropout(0.5),\n",
    "        Dense(units=2,activation='sigmoid',bias_initializer=output_bias)  # dos clases, par ok par nok.\n",
    "    ])\n",
    "\n",
    "    model.compile(optimizer=Adam(learning_rate=0.0001),loss='BinaryCrossentropy',metrics=metrics)\n",
    "    \n",
    "    # voy a cambiar el optimizer a ver si mejora \n",
    "    # from tensorflow.keras.optimizers import SGD\n",
    "    # from tensorflow.keras.metrics import categorical_crossentropy\n",
    "    # opt = SGD(learning_rate=0.01)\n",
    "    # model.compile(loss = \"sparse_categorical_crossentropy\", optimizer = opt, metrics= ['accuracy'])\n",
    "    \n",
    "    return model"
   ]
  },
  {
   "cell_type": "code",
   "execution_count": null,
   "metadata": {},
   "outputs": [],
   "source": [
    "def model_builder(hp):\n",
    "    model = tf.keras.Sequential()\n",
    "\n",
    "    # Tune the number of units in the first Dense layer\n",
    "    # Choose an optimal value between 32-512\n",
    "\n",
    "    hp_units = hp.Int('units', min_value=32, max_value=512, step=32)\n",
    "\n",
    "    model.add(tf.keras.layers.Dense(units=16, input_shape=[\n",
    "              len(dfX.keys())], activation='relu'))\n",
    "    model.add(tf.keras.layers.Dense(units=hp_units, activation='relu'))\n",
    "    # added one layer more\n",
    "    model.add(tf.keras.layers.Dense(units=hp_units, activation='relu'))\n",
    "    # changed to sigmoid => is equivalent to softmax for two outputs\n",
    "    model.add(tf.keras.layers.Dense(units=1, activation='sigmoid'))\n",
    "\n",
    "    # Tune the learning rate for the optimizer\n",
    "    # Choose an optimal value from 0.01, 0.001, or 0.0001\n",
    "    hp_learning_rate = hp.Choice('learning_rate', values=[1e-2, 1e-3, 1e-4])\n",
    "\n",
    "    model.compile(optimizer=tf.keras.optimizers.Adam(learning_rate=hp_learning_rate),\n",
    "                  loss=tf.keras.losses.SparseCategoricalCrossentropy(\n",
    "                      from_logits=True),\n",
    "                  metrics=['accuracy'])\n",
    "\n",
    "    return model\n"
   ]
  },
  {
   "cell_type": "markdown",
   "metadata": {},
   "source": [
    "Nuevo modelo conjuto hypertuneado y prebalanceado... lets see"
   ]
  },
  {
   "cell_type": "code",
   "execution_count": null,
   "metadata": {},
   "outputs": [],
   "source": [
    "def super_model(hp, metrics=METRICS,output_bias=None):\n",
    "    hp_units = hp.Int('units', min_value=32, max_value=512, step=32)\n",
    "    if output_bias is not None:\n",
    "        output_bias = tf.keras.initializers.Constant(output_bias)\n",
    "    model = tf.keras.Sequential()\n",
    "    model.add(tf.keras.layers.Dense(units=16, input_shape=[\n",
    "              len(dfX.keys())], activation='relu'))\n",
    "    model.add(tf.keras.layers.Dense(units=hp_units, activation='relu'))\n",
    "    # added one layer more\n",
    "    model.add(tf.keras.layers.Dense(units=hp_units, activation='relu'))\n",
    "    # changed to sigmoid => is equivalent to softmax for two outputs\n",
    "    model.add(tf.keras.layers.Dense(units=1, activation='sigmoid'))\n",
    "\n",
    "    # Tune the learning rate for the optimizer\n",
    "    # Choose an optimal value from 0.01, 0.001, or 0.0001\n",
    "    hp_learning_rate = hp.Choice('learning_rate', values=[1e-2, 1e-3, 1e-4])\n",
    "\n",
    "    model.compile(optimizer=tf.keras.optimizers.Adam(learning_rate=hp_learning_rate),\n",
    "                  loss='BinaryCrossentropy',\n",
    "                  metrics=metrics)\n",
    "    return model\n"
   ]
  },
  {
   "cell_type": "code",
   "execution_count": null,
   "metadata": {},
   "outputs": [],
   "source": [
    "tuner = kt.Hyperband(super_model,\n",
    "                     objective='val_accuracy',\n",
    "                     max_epochs=10,\n",
    "                     factor=3,\n",
    "                     directory='my_dir',\n",
    "                     project_name='intro_to_kt')"
   ]
  },
  {
   "cell_type": "code",
   "execution_count": null,
   "metadata": {},
   "outputs": [],
   "source": [
    "stop_early = tf.keras.callbacks.EarlyStopping(monitor='val_loss', patience=5)"
   ]
  },
  {
   "cell_type": "code",
   "execution_count": null,
   "metadata": {},
   "outputs": [],
   "source": [
    "tuner.search(X_train, y_train, epochs=50,batch_size=BATCH_SIZE , validation_split=0.2, callbacks=[stop_early])\n",
    "\n",
    "# Get the optimal hyperparameters\n",
    "best_hps=tuner.get_best_hyperparameters(num_trials=1)[0]\n",
    "\n",
    "print(f\"\"\"\n",
    "The hyperparameter search is complete. The optimal number of units in the first densely-connected\n",
    "layer is {best_hps.get('units')} and the optimal learning rate for the optimizer\n",
    "is {best_hps.get('learning_rate')}.\n",
    "\"\"\")"
   ]
  },
  {
   "cell_type": "code",
   "execution_count": null,
   "metadata": {},
   "outputs": [],
   "source": [
    "model=super_model(hp=best_hps)\n",
    "model.summary()"
   ]
  },
  {
   "cell_type": "code",
   "execution_count": null,
   "metadata": {},
   "outputs": [],
   "source": [
    "results = model.evaluate(X_train, y_train, batch_size=BATCH_SIZE, verbose=1)\n",
    "print(\"Loss: {:0.4f}\".format(results[0]))"
   ]
  },
  {
   "cell_type": "code",
   "execution_count": null,
   "metadata": {},
   "outputs": [],
   "source": [
    "results[1]"
   ]
  },
  {
   "cell_type": "code",
   "execution_count": null,
   "metadata": {},
   "outputs": [],
   "source": [
    "initial_bias=np.log([NOKS[0]/OKS[0]])\n",
    "initial_bias"
   ]
  },
  {
   "cell_type": "code",
   "execution_count": null,
   "metadata": {},
   "outputs": [],
   "source": [
    "model = super_model(hp=best_hps,output_bias=initial_bias)"
   ]
  },
  {
   "cell_type": "code",
   "execution_count": null,
   "metadata": {},
   "outputs": [],
   "source": [
    "results = model.evaluate(X_train, y_train, batch_size=BATCH_SIZE, verbose=2)\n",
    "print(\"Loss: {:0.4f}\".format(results[0]))"
   ]
  },
  {
   "cell_type": "markdown",
   "metadata": {},
   "source": [
    "Esto tampoco vale para un cagau. porque con categorical_crossentropy y una ultima capa con dos nodos me daba un valor tambien cercano incluso por debajo de 0.3 como se puede ver en el código comentado abajo:"
   ]
  },
  {
   "cell_type": "code",
   "execution_count": null,
   "metadata": {},
   "outputs": [],
   "source": [
    "# initial_bias=None\n",
    "# results = model.evaluate(X_train, y_train, batch_size=10, verbose=0)\n",
    "# print(\"Loss: {:0.4f}\".format(results[0]))"
   ]
  },
  {
   "cell_type": "markdown",
   "metadata": {},
   "source": [
    "Punto de control de los pesos iniciales"
   ]
  },
  {
   "cell_type": "code",
   "execution_count": null,
   "metadata": {},
   "outputs": [],
   "source": [
    "import tempfile\n",
    "import os\n",
    "\n",
    "initial_weights = os.path.join(tempfile.mkdtemp(), 'initial_weights')\n",
    "model.save_weights(initial_weights)"
   ]
  },
  {
   "cell_type": "markdown",
   "metadata": {},
   "source": [
    "## Train the model"
   ]
  },
  {
   "cell_type": "markdown",
   "metadata": {},
   "source": [
    "Vamos a realizar confirmar que el sesgo de pesos ayuda"
   ]
  },
  {
   "cell_type": "code",
   "execution_count": null,
   "metadata": {},
   "outputs": [],
   "source": [
    "model = super_model(hp=best_hps)\n",
    "model.load_weights(initial_weights)\n",
    "model.layers[-1].bias.assign([0.0])\n",
    "zero_bias_history = model.fit(\n",
    "    X_train,\n",
    "    y_train,\n",
    "    batch_size=2048,\n",
    "    epochs=20,\n",
    "    validation_split=0.1, \n",
    "    verbose=0)"
   ]
  },
  {
   "cell_type": "code",
   "execution_count": null,
   "metadata": {},
   "outputs": [],
   "source": [
    "model = super_model(hp=best_hps)\n",
    "model.load_weights(initial_weights)\n",
    "careful_bias_history = model.fit(\n",
    "    X_train,\n",
    "    y_train,\n",
    "    batch_size=2048,\n",
    "    epochs=20,\n",
    "    validation_split=0.1, \n",
    "    verbose=0)"
   ]
  },
  {
   "cell_type": "code",
   "execution_count": null,
   "metadata": {},
   "outputs": [],
   "source": [
    "import matplotlib as mpl\n",
    "\n",
    "mpl.rcParams['figure.figsize'] = (12, 10)\n",
    "colors = plt.rcParams['axes.prop_cycle'].by_key()['color']"
   ]
  },
  {
   "cell_type": "code",
   "execution_count": null,
   "metadata": {},
   "outputs": [],
   "source": [
    "def plot_loss(history, label, n):\n",
    "  # Use a log scale on y-axis to show the wide range of values.\n",
    "  plt.semilogy(history.epoch, history.history['loss'],\n",
    "               color=colors[n], label='Train ' + label)\n",
    "  plt.semilogy(history.epoch, history.history['val_loss'],\n",
    "               color=colors[n], label='Val ' + label,\n",
    "               linestyle=\"--\")\n",
    "  plt.xlabel('Epoch')\n",
    "  plt.ylabel('Loss')\n",
    "  plt.legend()"
   ]
  },
  {
   "cell_type": "code",
   "execution_count": null,
   "metadata": {},
   "outputs": [],
   "source": [
    "zero_bias_history.history"
   ]
  },
  {
   "cell_type": "code",
   "execution_count": null,
   "metadata": {},
   "outputs": [],
   "source": [
    "plot_loss(zero_bias_history, \"Zero Bias\", 0)\n",
    "plot_loss(careful_bias_history, \"Careful Bias\", 1)"
   ]
  },
  {
   "cell_type": "markdown",
   "metadata": {},
   "source": [
    "Entrenamiento a huevo para el modelo original"
   ]
  },
  {
   "cell_type": "code",
   "execution_count": null,
   "metadata": {},
   "outputs": [],
   "source": [
    "model = super_model(hp=best_hps)\n",
    "model.load_weights(initial_weights)\n",
    "baseline_history=model.fit(x=X_train,y=y_train, validation_split=0.1,batch_size=BATCH_SIZE,epochs=100,callbacks=[early_stopping] , verbose=1)\n",
    "\n"
   ]
  },
  {
   "cell_type": "markdown",
   "metadata": {},
   "source": [
    "Esto me va a decir cual es el best epoch, reentreno el modelo definiendo el best epoch."
   ]
  },
  {
   "cell_type": "code",
   "execution_count": null,
   "metadata": {},
   "outputs": [],
   "source": [
    "# Build the model with the optimal hyperparameters and train it on the data for 50 epochs\n",
    "\n",
    "model = tuner.hypermodel.build(best_hps)\n",
    "history = model.fit(X_train, y_train, epochs=50,batch_size=BATCH_SIZE, validation_split=0.2)\n",
    "\n",
    "val_acc_per_epoch = history.history['val_accuracy']\n",
    "best_epoch = val_acc_per_epoch.index(max(val_acc_per_epoch)) + 1\n",
    "print('Best epoch: %d' % (best_epoch,))"
   ]
  },
  {
   "cell_type": "code",
   "execution_count": null,
   "metadata": {},
   "outputs": [],
   "source": [
    "def plot_metrics(history):\n",
    "  metrics = ['loss', 'prc', 'precision', 'recall']\n",
    "  for n, metric in enumerate(metrics):\n",
    "    name = metric.replace(\"_\",\" \").capitalize()\n",
    "    plt.subplot(2,2,n+1)\n",
    "    plt.plot(history.epoch, history.history[metric], color=colors[0], label='Train')\n",
    "    plt.plot(history.epoch, history.history['val_'+metric],\n",
    "             color=colors[0], linestyle=\"--\", label='Val')\n",
    "    plt.xlabel('Epoch')\n",
    "    plt.ylabel(name)\n",
    "    if metric == 'loss':\n",
    "      plt.ylim([0, plt.ylim()[1]])\n",
    "    elif metric == 'auc':\n",
    "      plt.ylim([0.8,1])\n",
    "    else:\n",
    "      plt.ylim([0,1])\n",
    "\n",
    "    plt.legend()\n"
   ]
  },
  {
   "cell_type": "code",
   "execution_count": null,
   "metadata": {},
   "outputs": [],
   "source": [
    "plot_metrics(baseline_history)"
   ]
  },
  {
   "cell_type": "markdown",
   "metadata": {},
   "source": [
    "## Predictions and confusion matrix"
   ]
  },
  {
   "cell_type": "markdown",
   "metadata": {},
   "source": [
    "Calculate predictions"
   ]
  },
  {
   "cell_type": "markdown",
   "metadata": {},
   "source": [
    "### Predicciones del modelo con pesos y sesgo de partida"
   ]
  },
  {
   "cell_type": "code",
   "execution_count": null,
   "metadata": {},
   "outputs": [],
   "source": [
    "train_predictions_baseline = model.predict(X_train, batch_size=BATCH_SIZE)\n",
    "test_predictions_baseline = model.predict(X_test, batch_size=BATCH_SIZE)"
   ]
  },
  {
   "cell_type": "markdown",
   "metadata": {},
   "source": [
    "### Predicciones del modelo incial"
   ]
  },
  {
   "cell_type": "code",
   "execution_count": null,
   "metadata": {},
   "outputs": [],
   "source": [
    "precictions=model.predict(x=X_test.tolist(),batch_size=10,verbose=0)\n",
    "print(precictions)"
   ]
  },
  {
   "cell_type": "markdown",
   "metadata": {},
   "source": [
    "Plot confusion matrix"
   ]
  },
  {
   "cell_type": "code",
   "execution_count": null,
   "metadata": {},
   "outputs": [],
   "source": [
    "rounded_predictions=np.argmax(precictions,axis=-1)"
   ]
  },
  {
   "cell_type": "code",
   "execution_count": null,
   "metadata": {},
   "outputs": [],
   "source": [
    "\n",
    "import numpy as np\n",
    "import  itertools\n",
    "import matplotlib.pyplot as plt\n",
    "\n",
    "\n",
    "def plot_confusion_matrix(cm, classes,\n",
    "                        normalize=False,\n",
    "                        title='Confusion matrix',\n",
    "                        cmap=plt.cm.Blues):\n",
    "    \"\"\"\n",
    "    This function prints and plots the confusion matrix.\n",
    "    Normalization can be applied by setting `normalize=True`.\n",
    "    \"\"\"\n",
    "    plt.imshow(cm, interpolation='nearest', cmap=cmap)\n",
    "    plt.title(title)\n",
    "    plt.colorbar()\n",
    "    tick_marks = np.arange(len(classes))\n",
    "    plt.xticks(tick_marks, classes, rotation=45)\n",
    "    plt.yticks(tick_marks, classes)\n",
    "\n",
    "    if normalize:\n",
    "        cm = cm.astype('float') / cm.sum(axis=1)[:, np.newaxis]\n",
    "        print(\"Normalized confusion matrix\")\n",
    "    else:\n",
    "        print('Confusion matrix, without normalization')\n",
    "\n",
    "    print(cm)\n",
    "\n",
    "    thresh = cm.max() / 2.\n",
    "    for i, j in itertools.product(range(cm.shape[0]), range(cm.shape[1])):\n",
    "        plt.text(j, i, cm[i, j],\n",
    "            horizontalalignment=\"center\",\n",
    "            color=\"white\" if cm[i, j] > thresh else \"black\")\n",
    "\n",
    "    plt.tight_layout()\n",
    "    plt.ylabel('True label')\n",
    "    plt.xlabel('Predicted label')\n",
    "    \n"
   ]
  },
  {
   "cell_type": "code",
   "execution_count": null,
   "metadata": {},
   "outputs": [],
   "source": [
    "from sklearn.metrics import confusion_matrix"
   ]
  },
  {
   "cell_type": "markdown",
   "metadata": {},
   "source": [
    "Ploteo la confusion matrix para ver que tal ha aprendido mi modelo"
   ]
  },
  {
   "cell_type": "code",
   "execution_count": null,
   "metadata": {},
   "outputs": [],
   "source": [
    "cm_new = confusion_matrix(y_true=y_train,y_pred=train_predictions_baseline>0.5)\n",
    "cm_plot_labels=['no OK','OK']\n",
    "plot_confusion_matrix (cm_new,cm_plot_labels,title='Confusion matrix')\n",
    "plt.show()"
   ]
  },
  {
   "cell_type": "code",
   "execution_count": null,
   "metadata": {},
   "outputs": [],
   "source": [
    "print('NOK torques detected (True Negatives): ', cm_new[0][0])\n",
    "print('NOK torques Incorrectly Detected (False Positives): ', cm_new[0][1])\n",
    "print('OK torques Missed (False Negatives): ', cm_new[1][0])\n",
    "print('OK torques Detected (True Positives): ', cm_new[1][1])\n",
    "print('Total NOK torques: ', np.sum(cm_new[0]))"
   ]
  },
  {
   "cell_type": "markdown",
   "metadata": {},
   "source": [
    "# ROC"
   ]
  },
  {
   "cell_type": "code",
   "execution_count": null,
   "metadata": {},
   "outputs": [],
   "source": [
    "def plot_roc(name, labels, predictions, **kwargs):\n",
    "  fp, tp, _ = sklearn.metrics.roc_curve(labels, predictions)\n",
    "\n",
    "  plt.plot(100*fp, 100*tp, label=name, linewidth=2, **kwargs)\n",
    "  plt.xlabel('False positives [%]')\n",
    "  plt.ylabel('True positives [%]')\n",
    "  plt.xlim([-0.5,100])\n",
    "  plt.ylim([0,100.5])\n",
    "  plt.grid(True)\n",
    "  ax = plt.gca()\n",
    "  ax.set_aspect('equal')"
   ]
  },
  {
   "cell_type": "code",
   "execution_count": null,
   "metadata": {},
   "outputs": [],
   "source": [
    "plot_roc(\"Train Baseline\", y_train, train_predictions_baseline, color=colors[0])\n",
    "plot_roc(\"Test Baseline\", y_test, test_predictions_baseline, color=colors[0], linestyle='--')\n",
    "plt.legend(loc='lower right')"
   ]
  },
  {
   "cell_type": "markdown",
   "metadata": {},
   "source": [
    "##  Plot the AUPRC\n",
    "\n",
    "\n",
    "Now plot the AUPRC. Area under the interpolated precision-recall curve, obtained by plotting (recall, precision) points for different values of the classification threshold. Depending on how it's calculated, PR AUC may be equivalent to the average precision of the model."
   ]
  },
  {
   "cell_type": "code",
   "execution_count": null,
   "metadata": {},
   "outputs": [],
   "source": [
    "def plot_prc(name, labels, predictions, **kwargs):\n",
    "    precision, recall, _ = sklearn.metrics.precision_recall_curve(labels, predictions)\n",
    "\n",
    "    plt.plot(precision, recall, label=name, linewidth=2, **kwargs)\n",
    "    plt.xlabel('Recall')\n",
    "    plt.ylabel('Precision')\n",
    "    plt.xlim([0,1.1])\n",
    "    plt.ylim([0,1.1])\n",
    "    plt.grid(True)\n",
    "    ax = plt.gca()\n",
    "    ax.set_aspect('equal')"
   ]
  },
  {
   "cell_type": "code",
   "execution_count": null,
   "metadata": {},
   "outputs": [],
   "source": [
    "plot_prc(\"Train Baseline\", y_train, train_predictions_baseline, color=colors[0])\n",
    "plot_prc(\"Test Baseline\", y_test, test_predictions_baseline, color=colors[0], linestyle='--')\n",
    "plt.legend(loc='lower right')"
   ]
  },
  {
   "cell_type": "code",
   "execution_count": null,
   "metadata": {},
   "outputs": [],
   "source": [
    "# Scaling by total/2 helps keep the loss to a similar magnitude.\n",
    "# The sum of the weights of all examples stays the same.\n",
    "total=OKS[0]+NOKS[0]\n",
    "weight_for_0 = (1 / NOKS[0]) * (total / 2.0)\n",
    "weight_for_1 = (1 / OKS[0]) * (total / 2.0)\n",
    "\n",
    "class_weight = {0: weight_for_0, 1: weight_for_1}\n",
    "\n",
    "print('Weight for class 0: {:.2f}'.format(weight_for_0))\n",
    "print('Weight for class 1: {:.2f}'.format(weight_for_1))"
   ]
  },
  {
   "cell_type": "code",
   "execution_count": null,
   "metadata": {},
   "outputs": [],
   "source": [
    "weighted_model = super_model(hp=best_hps)\n",
    "weighted_model.load_weights(initial_weights)\n",
    "\n",
    "weighted_history = weighted_model.fit(\n",
    "    X_train,\n",
    "    y_train,\n",
    "    batch_size=BATCH_SIZE,\n",
    "    epochs=best_epoch,\n",
    "    callbacks=[early_stopping],\n",
    "    validation_split=0.2 ,\n",
    "    # The class weights go here\n",
    "    class_weight=class_weight)"
   ]
  },
  {
   "cell_type": "code",
   "execution_count": null,
   "metadata": {},
   "outputs": [],
   "source": [
    "plot_metrics(weighted_history)"
   ]
  },
  {
   "cell_type": "code",
   "execution_count": null,
   "metadata": {},
   "outputs": [],
   "source": [
    "train_predictions_weighted = weighted_model.predict(X_train, batch_size=BATCH_SIZE)\n",
    "test_predictions_weighted = weighted_model.predict(X_test, batch_size=BATCH_SIZE)"
   ]
  },
  {
   "cell_type": "code",
   "execution_count": null,
   "metadata": {},
   "outputs": [],
   "source": [
    "cm_new = confusion_matrix(y_true=y_test,y_pred=test_predictions_weighted>0.5)\n",
    "cm_plot_labels=['no OK','OK']\n",
    "plot_confusion_matrix (cm_new,cm_plot_labels,title='Confusion matrix')\n",
    "plt.show()"
   ]
  },
  {
   "cell_type": "markdown",
   "metadata": {},
   "source": [
    "## Plot ROC"
   ]
  },
  {
   "cell_type": "code",
   "execution_count": null,
   "metadata": {},
   "outputs": [],
   "source": [
    "plot_roc(\"Train Baseline\", y_train, train_predictions_baseline, color=colors[0])\n",
    "plot_roc(\"Test Baseline\", y_test, test_predictions_baseline, color=colors[0], linestyle='--')\n",
    "\n",
    "plot_roc(\"Train Weighted\", y_train, train_predictions_weighted, color=colors[1])\n",
    "plot_roc(\"Test Weighted\", y_test, test_predictions_weighted, color=colors[1], linestyle='--')\n",
    "\n",
    "\n",
    "plt.legend(loc='lower right')"
   ]
  },
  {
   "cell_type": "markdown",
   "metadata": {},
   "source": [
    "## Plot AUPRC"
   ]
  },
  {
   "cell_type": "code",
   "execution_count": null,
   "metadata": {},
   "outputs": [],
   "source": [
    "plot_prc(\"Train Baseline\", y_train, train_predictions_baseline, color=colors[0])\n",
    "plot_prc(\"Test Baseline\", y_test, test_predictions_baseline, color=colors[0], linestyle='--')\n",
    "\n",
    "plot_prc(\"Train Weighted\", y_train, train_predictions_weighted, color=colors[1])\n",
    "plot_prc(\"Test Weighted\", y_test, test_predictions_weighted, color=colors[1], linestyle='--')\n",
    "\n",
    "\n",
    "plt.legend(loc='lower right')"
   ]
  },
  {
   "cell_type": "markdown",
   "metadata": {},
   "source": [
    "# Oversampling"
   ]
  },
  {
   "cell_type": "markdown",
   "metadata": {},
   "source": [
    "## Oversample the minority class"
   ]
  },
  {
   "cell_type": "markdown",
   "metadata": {},
   "source": [
    "A related approach would be to resample the dataset by oversampling the minority class."
   ]
  },
  {
   "cell_type": "code",
   "execution_count": null,
   "metadata": {},
   "outputs": [],
   "source": []
  },
  {
   "cell_type": "code",
   "execution_count": null,
   "metadata": {},
   "outputs": [],
   "source": [
    "pos_features = X_train[bool_train_labels]\n",
    "neg_features = X_train[~bool_train_labels]\n",
    "\n",
    "pos_labels = y_train[bool_train_labels]\n",
    "neg_labels = y_train[~bool_train_labels]"
   ]
  },
  {
   "cell_type": "markdown",
   "metadata": {},
   "source": [
    "You can balance the dataset manually by choosing the right number of random indices from the positive examples using numpy:"
   ]
  },
  {
   "cell_type": "code",
   "execution_count": null,
   "metadata": {},
   "outputs": [],
   "source": [
    "ids = np.arange(len(pos_features))\n",
    "choices = np.random.choice(ids, len(neg_features))\n",
    "\n",
    "res_pos_features = pos_features[choices]\n",
    "res_pos_labels = pos_labels[choices]\n",
    "\n",
    "res_pos_features.shape"
   ]
  },
  {
   "cell_type": "markdown",
   "metadata": {},
   "source": [
    "Si el modelo había predicho todo a la perfección, esto sería una matriz diagonal donde los valores fuera de la diagonal principal, lo que indica predicciones incorrectas, sería cero. En este caso, la matriz muestra que tiene relativamente pocos falsos positivos"
   ]
  },
  {
   "cell_type": "markdown",
   "metadata": {},
   "source": [
    "Me pasa lo mismo que con el modelo de regresion lineal => hay que tratar los datos para incrementar el numero de resultados NOK porcentualmente sobre el total de datos."
   ]
  },
  {
   "cell_type": "markdown",
   "metadata": {},
   "source": [
    "### confusion matrix logistic regresion in TTM_Pamplona\n",
    "\n",
    "[   12,  2308]\n",
    "\n",
    "\n",
    "[    0, 39686]\n",
    "con todo el dataframe  Neural Network % nok predicted good = 0,005\n",
    "tras reducir el número de pares Ok un 40% me sale la siguiente cm: Neural Network % nok predicted good 0.027\n",
    "\n",
    "[   80  2905]\n",
    "\n",
    "\n",
    "[    0 52462]\n",
    "\n",
    "quitando el angulo minimo. Neural Network % nok predicted good: 0.017\n",
    "\n",
    "[   53  3039]\n",
    "\n",
    "\n",
    "[    0 52355]\n",
    "\n",
    "vamos a volver a añadir  los pares ok a ver que hace but still i am too far\n",
    "\n",
    "con el 60% de los pares ok quitados: Neural Network % nok predicted NOK: 0.016\n",
    "\n",
    "[   48  3026]\n",
    "\n",
    "\n",
    "[    0 52373]\n",
    "\n",
    "vuelvo a poner el angulo mímimo.\n"
   ]
  },
  {
   "cell_type": "code",
   "execution_count": null,
   "metadata": {},
   "outputs": [],
   "source": [
    "porcentaje_pares_LR=12/(12+2308)\n",
    "porcentaje_pares_NN=cm[0,0]/(cm[0,0]+cm[0,1])\n",
    "\n",
    "print(\"Logistic regresion % nok predicted as NOK: \"+str(round(porcentaje_pares_LR,3)))\n",
    "print(\"Neural Network % nok predicted NOK: \"+str(round(porcentaje_pares_NN,3)))"
   ]
  },
  {
   "cell_type": "markdown",
   "metadata": {},
   "source": [
    "1. **Use weight regularization.** It tries to keep weights low which very often leads to better generalization. Experiment with different regularization coefficients. Try 0.1, 0.01, 0.001 and see what impact they have on accuracy.\n",
    "\n",
    "\n",
    "2. **Corrupt your input** (e.g., randomly substitute some pixels with black or white). This way you remove information from your input and 'force' the network to pick up on important general features. Experiment with noising coefficients which determines how much of your input should be corrupted. Research shows that anything in the range of 15% - 45% works well.\n",
    "\n",
    "\n",
    "3. **Expand your training set.** Since you're dealing with images you can expand your set by rotating / scaling etc. your existing images (as suggested). You could also experiment with pre-processing your images (e.g., mapping them to black and white, grayscale etc. but the effectiveness of this technique will depend on your exact images and classes)\n",
    "\n",
    "\n",
    "4. **Pre-train your layers with denoising critera.** Here you pre-train each layer of your network individually before fine tuning the entire network. Pre-training 'forces' layers to pick up on important general features that are useful for reconstructing the input signal. Look into auto-encoders for example (they've been applied to image classification in the past).\n",
    "\n",
    "\n",
    "5. **Experiment with network architecture.** Your network might not have sufficient learning capacity. Experiment with different neuron types, number of layers, and number of hidden neurons. Make sure to try compressing architectures (less neurons than inputs) and sparse architectures (more neurons than inputs)."
   ]
  },
  {
   "cell_type": "markdown",
   "metadata": {},
   "source": [
    "1. reducir aun mas los ok => cuanto mas?\n",
    "\n",
    "2. meter mas layers => done\n",
    "\n",
    "3. cambiar de softmax a sigmoid => done\n",
    "\n",
    "4. tune hiper parameters => done\n",
    "\n",
    "5. Ampliar el dataset con más NOK results\n"
   ]
  },
  {
   "cell_type": "markdown",
   "metadata": {},
   "source": [
    "## Random forest clasifier"
   ]
  },
  {
   "cell_type": "code",
   "execution_count": null,
   "metadata": {},
   "outputs": [],
   "source": [
    "from sklearn.ensemble import RandomForestClassifier\n",
    "from sklearn.metrics import roc_auc_score\n",
    "from sklearn.metrics import accuracy_score"
   ]
  },
  {
   "cell_type": "code",
   "execution_count": null,
   "metadata": {},
   "outputs": [],
   "source": [
    "rf = RandomForestClassifier()\n",
    "rf.fit(X_train, y_train)"
   ]
  },
  {
   "cell_type": "markdown",
   "metadata": {},
   "source": [
    "predict:"
   ]
  },
  {
   "cell_type": "code",
   "execution_count": null,
   "metadata": {},
   "outputs": [],
   "source": [
    "prediction_rf = rf.predict(X_train)\n",
    "\n",
    "print( np.unique( prediction_rf ) )\n",
    "\n",
    "print( accuracy_score(y_train, prediction_rf) )\n",
    "\n",
    " \n",
    "\n",
    "prob_y_4 = rf.predict_proba(X_train)\n",
    "prob_y_4 = [p[1] for p in prob_y_4]\n",
    "print( roc_auc_score(y_train, prob_y_4) )\n"
   ]
  },
  {
   "cell_type": "markdown",
   "metadata": {},
   "source": [
    "parece que estamos en las mismas..."
   ]
  },
  {
   "cell_type": "code",
   "execution_count": null,
   "metadata": {},
   "outputs": [],
   "source": [
    "prediction_rf_test=rf.predict(X_test)\n",
    "cm_rf = confusion_matrix(y_true=y_test,y_pred=prediction_rf_test)\n",
    "cm_plot_labels_rf=['no OK','OK']\n",
    "plot_confusion_matrix (cm_rf,cm_plot_labels_rf,title='Confusion matrix Random forest clasifier')\n",
    "plt.show()"
   ]
  },
  {
   "cell_type": "code",
   "execution_count": null,
   "metadata": {},
   "outputs": [],
   "source": [
    "print(prediction_rf)"
   ]
  },
  {
   "cell_type": "code",
   "execution_count": null,
   "metadata": {},
   "outputs": [],
   "source": [
    "estimator = rf.estimators_[5]\n",
    "feature_names=[]\n",
    "for col in dfX.columns:\n",
    "    feature_names.append(col)\n",
    "\n",
    "from sklearn.tree import export_graphviz\n",
    "# Export as dot file\n",
    "export_graphviz(estimator, out_file='tree.dot', \n",
    "                feature_names = feature_names,\n",
    "                class_names = feature_names,\n",
    "                rounded = True, proportion = False, \n",
    "                precision = 2, filled = True)\n",
    "\n",
    "# Convert to png using system command (requires Graphviz)\n",
    "from subprocess import call\n",
    "call(['dot', '-Tpng', 'tree.dot', '-o', 'tree.png', '-Gdpi=600'],shell=False)\n",
    "\n",
    "# Find the image on src"
   ]
  }
 ],
 "metadata": {
  "interpreter": {
   "hash": "1275a05ae34f0c315803f9d1758b76ed30a4d7265e5e486823be65aff6a6df27"
  },
  "kernelspec": {
   "display_name": "Python 3.8.10 64-bit (windows store)",
   "name": "python3"
  },
  "language_info": {
   "codemirror_mode": {
    "name": "ipython",
    "version": 3
   },
   "file_extension": ".py",
   "mimetype": "text/x-python",
   "name": "python",
   "nbconvert_exporter": "python",
   "pygments_lexer": "ipython3",
   "version": "3.8.8"
  },
  "orig_nbformat": 4
 },
 "nbformat": 4,
 "nbformat_minor": 2
}
